{
  "nbformat": 4,
  "nbformat_minor": 0,
  "metadata": {
    "colab": {
      "provenance": [],
      "include_colab_link": true
    },
    "kernelspec": {
      "name": "python3",
      "display_name": "Python 3"
    },
    "language_info": {
      "name": "python"
    }
  },
  "cells": [
    {
      "cell_type": "markdown",
      "metadata": {
        "id": "view-in-github",
        "colab_type": "text"
      },
      "source": [
        "<a href=\"https://colab.research.google.com/github/elenagonzalezrebollo/AprendizajeAutomatico/blob/main/Practica3.ipynb\" target=\"_parent\"><img src=\"https://colab.research.google.com/assets/colab-badge.svg\" alt=\"Open In Colab\"/></a>"
      ]
    },
    {
      "cell_type": "code",
      "source": [
        "import pandas as pd\n",
        "import numpy as np\n",
        "import matplotlib.pyplot as plt\n",
        "%matplotlib inline\n"
      ],
      "metadata": {
        "id": "lcAKpTlrZKu2"
      },
      "execution_count": 59,
      "outputs": []
    },
    {
      "cell_type": "markdown",
      "source": [
        "https://www.kaggle.com/datasets/mohannapd/mobile-price-prediction"
      ],
      "metadata": {
        "id": "8BDFkWIYqOfy"
      }
    },
    {
      "cell_type": "code",
      "source": [
        "data = pd.read_csv('Cellphone.csv', encoding='latin-1')\n",
        "data.head()\n"
      ],
      "metadata": {
        "colab": {
          "base_uri": "https://localhost:8080/",
          "height": 206
        },
        "id": "x05nKWYMZNNX",
        "outputId": "96dd1faf-c331-4352-94c5-8b0154fbce7d"
      },
      "execution_count": 60,
      "outputs": [
        {
          "output_type": "execute_result",
          "data": {
            "text/plain": [
              "   Product_id  Price  Sale  weight  resoloution  ppi  cpu core  cpu freq  \\\n",
              "0         203   2357    10   135.0          5.2  424         8      1.35   \n",
              "1         880   1749    10   125.0          4.0  233         2      1.30   \n",
              "2          40   1916    10   110.0          4.7  312         4      1.20   \n",
              "3          99   1315    11   118.5          4.0  233         2      1.30   \n",
              "4         880   1749    11   125.0          4.0  233         2      1.30   \n",
              "\n",
              "   internal mem    ram  RearCam  Front_Cam  battery  thickness  \n",
              "0          16.0  3.000    13.00        8.0     2610        7.4  \n",
              "1           4.0  1.000     3.15        0.0     1700        9.9  \n",
              "2           8.0  1.500    13.00        5.0     2000        7.6  \n",
              "3           4.0  0.512     3.15        0.0     1400       11.0  \n",
              "4           4.0  1.000     3.15        0.0     1700        9.9  "
            ],
            "text/html": [
              "\n",
              "  <div id=\"df-8e225d36-c064-46e0-9624-1c5ee0f3fb6a\">\n",
              "    <div class=\"colab-df-container\">\n",
              "      <div>\n",
              "<style scoped>\n",
              "    .dataframe tbody tr th:only-of-type {\n",
              "        vertical-align: middle;\n",
              "    }\n",
              "\n",
              "    .dataframe tbody tr th {\n",
              "        vertical-align: top;\n",
              "    }\n",
              "\n",
              "    .dataframe thead th {\n",
              "        text-align: right;\n",
              "    }\n",
              "</style>\n",
              "<table border=\"1\" class=\"dataframe\">\n",
              "  <thead>\n",
              "    <tr style=\"text-align: right;\">\n",
              "      <th></th>\n",
              "      <th>Product_id</th>\n",
              "      <th>Price</th>\n",
              "      <th>Sale</th>\n",
              "      <th>weight</th>\n",
              "      <th>resoloution</th>\n",
              "      <th>ppi</th>\n",
              "      <th>cpu core</th>\n",
              "      <th>cpu freq</th>\n",
              "      <th>internal mem</th>\n",
              "      <th>ram</th>\n",
              "      <th>RearCam</th>\n",
              "      <th>Front_Cam</th>\n",
              "      <th>battery</th>\n",
              "      <th>thickness</th>\n",
              "    </tr>\n",
              "  </thead>\n",
              "  <tbody>\n",
              "    <tr>\n",
              "      <th>0</th>\n",
              "      <td>203</td>\n",
              "      <td>2357</td>\n",
              "      <td>10</td>\n",
              "      <td>135.0</td>\n",
              "      <td>5.2</td>\n",
              "      <td>424</td>\n",
              "      <td>8</td>\n",
              "      <td>1.35</td>\n",
              "      <td>16.0</td>\n",
              "      <td>3.000</td>\n",
              "      <td>13.00</td>\n",
              "      <td>8.0</td>\n",
              "      <td>2610</td>\n",
              "      <td>7.4</td>\n",
              "    </tr>\n",
              "    <tr>\n",
              "      <th>1</th>\n",
              "      <td>880</td>\n",
              "      <td>1749</td>\n",
              "      <td>10</td>\n",
              "      <td>125.0</td>\n",
              "      <td>4.0</td>\n",
              "      <td>233</td>\n",
              "      <td>2</td>\n",
              "      <td>1.30</td>\n",
              "      <td>4.0</td>\n",
              "      <td>1.000</td>\n",
              "      <td>3.15</td>\n",
              "      <td>0.0</td>\n",
              "      <td>1700</td>\n",
              "      <td>9.9</td>\n",
              "    </tr>\n",
              "    <tr>\n",
              "      <th>2</th>\n",
              "      <td>40</td>\n",
              "      <td>1916</td>\n",
              "      <td>10</td>\n",
              "      <td>110.0</td>\n",
              "      <td>4.7</td>\n",
              "      <td>312</td>\n",
              "      <td>4</td>\n",
              "      <td>1.20</td>\n",
              "      <td>8.0</td>\n",
              "      <td>1.500</td>\n",
              "      <td>13.00</td>\n",
              "      <td>5.0</td>\n",
              "      <td>2000</td>\n",
              "      <td>7.6</td>\n",
              "    </tr>\n",
              "    <tr>\n",
              "      <th>3</th>\n",
              "      <td>99</td>\n",
              "      <td>1315</td>\n",
              "      <td>11</td>\n",
              "      <td>118.5</td>\n",
              "      <td>4.0</td>\n",
              "      <td>233</td>\n",
              "      <td>2</td>\n",
              "      <td>1.30</td>\n",
              "      <td>4.0</td>\n",
              "      <td>0.512</td>\n",
              "      <td>3.15</td>\n",
              "      <td>0.0</td>\n",
              "      <td>1400</td>\n",
              "      <td>11.0</td>\n",
              "    </tr>\n",
              "    <tr>\n",
              "      <th>4</th>\n",
              "      <td>880</td>\n",
              "      <td>1749</td>\n",
              "      <td>11</td>\n",
              "      <td>125.0</td>\n",
              "      <td>4.0</td>\n",
              "      <td>233</td>\n",
              "      <td>2</td>\n",
              "      <td>1.30</td>\n",
              "      <td>4.0</td>\n",
              "      <td>1.000</td>\n",
              "      <td>3.15</td>\n",
              "      <td>0.0</td>\n",
              "      <td>1700</td>\n",
              "      <td>9.9</td>\n",
              "    </tr>\n",
              "  </tbody>\n",
              "</table>\n",
              "</div>\n",
              "      <button class=\"colab-df-convert\" onclick=\"convertToInteractive('df-8e225d36-c064-46e0-9624-1c5ee0f3fb6a')\"\n",
              "              title=\"Convert this dataframe to an interactive table.\"\n",
              "              style=\"display:none;\">\n",
              "        \n",
              "  <svg xmlns=\"http://www.w3.org/2000/svg\" height=\"24px\"viewBox=\"0 0 24 24\"\n",
              "       width=\"24px\">\n",
              "    <path d=\"M0 0h24v24H0V0z\" fill=\"none\"/>\n",
              "    <path d=\"M18.56 5.44l.94 2.06.94-2.06 2.06-.94-2.06-.94-.94-2.06-.94 2.06-2.06.94zm-11 1L8.5 8.5l.94-2.06 2.06-.94-2.06-.94L8.5 2.5l-.94 2.06-2.06.94zm10 10l.94 2.06.94-2.06 2.06-.94-2.06-.94-.94-2.06-.94 2.06-2.06.94z\"/><path d=\"M17.41 7.96l-1.37-1.37c-.4-.4-.92-.59-1.43-.59-.52 0-1.04.2-1.43.59L10.3 9.45l-7.72 7.72c-.78.78-.78 2.05 0 2.83L4 21.41c.39.39.9.59 1.41.59.51 0 1.02-.2 1.41-.59l7.78-7.78 2.81-2.81c.8-.78.8-2.07 0-2.86zM5.41 20L4 18.59l7.72-7.72 1.47 1.35L5.41 20z\"/>\n",
              "  </svg>\n",
              "      </button>\n",
              "      \n",
              "  <style>\n",
              "    .colab-df-container {\n",
              "      display:flex;\n",
              "      flex-wrap:wrap;\n",
              "      gap: 12px;\n",
              "    }\n",
              "\n",
              "    .colab-df-convert {\n",
              "      background-color: #E8F0FE;\n",
              "      border: none;\n",
              "      border-radius: 50%;\n",
              "      cursor: pointer;\n",
              "      display: none;\n",
              "      fill: #1967D2;\n",
              "      height: 32px;\n",
              "      padding: 0 0 0 0;\n",
              "      width: 32px;\n",
              "    }\n",
              "\n",
              "    .colab-df-convert:hover {\n",
              "      background-color: #E2EBFA;\n",
              "      box-shadow: 0px 1px 2px rgba(60, 64, 67, 0.3), 0px 1px 3px 1px rgba(60, 64, 67, 0.15);\n",
              "      fill: #174EA6;\n",
              "    }\n",
              "\n",
              "    [theme=dark] .colab-df-convert {\n",
              "      background-color: #3B4455;\n",
              "      fill: #D2E3FC;\n",
              "    }\n",
              "\n",
              "    [theme=dark] .colab-df-convert:hover {\n",
              "      background-color: #434B5C;\n",
              "      box-shadow: 0px 1px 3px 1px rgba(0, 0, 0, 0.15);\n",
              "      filter: drop-shadow(0px 1px 2px rgba(0, 0, 0, 0.3));\n",
              "      fill: #FFFFFF;\n",
              "    }\n",
              "  </style>\n",
              "\n",
              "      <script>\n",
              "        const buttonEl =\n",
              "          document.querySelector('#df-8e225d36-c064-46e0-9624-1c5ee0f3fb6a button.colab-df-convert');\n",
              "        buttonEl.style.display =\n",
              "          google.colab.kernel.accessAllowed ? 'block' : 'none';\n",
              "\n",
              "        async function convertToInteractive(key) {\n",
              "          const element = document.querySelector('#df-8e225d36-c064-46e0-9624-1c5ee0f3fb6a');\n",
              "          const dataTable =\n",
              "            await google.colab.kernel.invokeFunction('convertToInteractive',\n",
              "                                                     [key], {});\n",
              "          if (!dataTable) return;\n",
              "\n",
              "          const docLinkHtml = 'Like what you see? Visit the ' +\n",
              "            '<a target=\"_blank\" href=https://colab.research.google.com/notebooks/data_table.ipynb>data table notebook</a>'\n",
              "            + ' to learn more about interactive tables.';\n",
              "          element.innerHTML = '';\n",
              "          dataTable['output_type'] = 'display_data';\n",
              "          await google.colab.output.renderOutput(dataTable, element);\n",
              "          const docLink = document.createElement('div');\n",
              "          docLink.innerHTML = docLinkHtml;\n",
              "          element.appendChild(docLink);\n",
              "        }\n",
              "      </script>\n",
              "    </div>\n",
              "  </div>\n",
              "  "
            ]
          },
          "metadata": {},
          "execution_count": 60
        }
      ]
    },
    {
      "cell_type": "code",
      "source": [
        "data.columns"
      ],
      "metadata": {
        "colab": {
          "base_uri": "https://localhost:8080/"
        },
        "id": "_mHH10dkQdUn",
        "outputId": "c0718c04-9328-4f02-b9ec-e762e878d787"
      },
      "execution_count": 61,
      "outputs": [
        {
          "output_type": "execute_result",
          "data": {
            "text/plain": [
              "Index(['Product_id', 'Price', 'Sale', 'weight', 'resoloution', 'ppi',\n",
              "       'cpu core', 'cpu freq', 'internal mem', 'ram', 'RearCam', 'Front_Cam',\n",
              "       'battery', 'thickness'],\n",
              "      dtype='object')"
            ]
          },
          "metadata": {},
          "execution_count": 61
        }
      ]
    },
    {
      "cell_type": "code",
      "source": [
        "#data=data.drop(['index'], axis=1)\n"
      ],
      "metadata": {
        "id": "RNZV_2I5p402"
      },
      "execution_count": 62,
      "outputs": []
    },
    {
      "cell_type": "code",
      "source": [
        "data.shape"
      ],
      "metadata": {
        "colab": {
          "base_uri": "https://localhost:8080/"
        },
        "id": "g1KVTqwtrITa",
        "outputId": "8dd77f07-fe47-4329-dc38-8a0443bd9ed4"
      },
      "execution_count": 96,
      "outputs": [
        {
          "output_type": "execute_result",
          "data": {
            "text/plain": [
              "(161, 13)"
            ]
          },
          "metadata": {},
          "execution_count": 96
        }
      ]
    },
    {
      "cell_type": "code",
      "source": [
        "train_targets=data.Price[:120]\n",
        "test_targets=data.Price[121:]\n",
        "data=data.drop(['Price'], axis=1)\n",
        "train_data=data[:120]\n",
        "test_data=data[121:]\n",
        "\n",
        "\n",
        "#(train_data, train_targets), (test_data, test_targets) =  data"
      ],
      "metadata": {
        "id": "uQSf9SCDdlkO"
      },
      "execution_count": 63,
      "outputs": []
    },
    {
      "cell_type": "code",
      "source": [
        "train_data.shape"
      ],
      "metadata": {
        "colab": {
          "base_uri": "https://localhost:8080/"
        },
        "id": "Ihq6r5uOOW6n",
        "outputId": "58e9d4a1-a2e8-43db-b245-d2301c5884db"
      },
      "execution_count": 64,
      "outputs": [
        {
          "output_type": "execute_result",
          "data": {
            "text/plain": [
              "(120, 13)"
            ]
          },
          "metadata": {},
          "execution_count": 64
        }
      ]
    },
    {
      "cell_type": "code",
      "source": [
        "test_data.shape"
      ],
      "metadata": {
        "colab": {
          "base_uri": "https://localhost:8080/"
        },
        "id": "I-bVV-rSOaD0",
        "outputId": "6d5627b0-bf6e-4dbc-9a8d-a185a2adb11f"
      },
      "execution_count": 65,
      "outputs": [
        {
          "output_type": "execute_result",
          "data": {
            "text/plain": [
              "(40, 13)"
            ]
          },
          "metadata": {},
          "execution_count": 65
        }
      ]
    },
    {
      "cell_type": "code",
      "source": [
        "train_targets.shape"
      ],
      "metadata": {
        "colab": {
          "base_uri": "https://localhost:8080/"
        },
        "id": "PgibHgHhOagB",
        "outputId": "0c799e10-8d08-4374-fe54-0cfb8efc61fa"
      },
      "execution_count": 66,
      "outputs": [
        {
          "output_type": "execute_result",
          "data": {
            "text/plain": [
              "(120,)"
            ]
          },
          "metadata": {},
          "execution_count": 66
        }
      ]
    },
    {
      "cell_type": "code",
      "source": [
        "test_targets.shape"
      ],
      "metadata": {
        "colab": {
          "base_uri": "https://localhost:8080/"
        },
        "id": "TwcoEhr0OaxP",
        "outputId": "3c4f542b-afbc-4923-c2d3-5a69d94d60ad"
      },
      "execution_count": 67,
      "outputs": [
        {
          "output_type": "execute_result",
          "data": {
            "text/plain": [
              "(40,)"
            ]
          },
          "metadata": {},
          "execution_count": 67
        }
      ]
    },
    {
      "cell_type": "code",
      "source": [
        "train_data[:1]"
      ],
      "metadata": {
        "id": "xTZMuiqfYW2N",
        "colab": {
          "base_uri": "https://localhost:8080/",
          "height": 81
        },
        "outputId": "ceb45f9c-2c5c-467f-957f-9734290b469d"
      },
      "execution_count": 68,
      "outputs": [
        {
          "output_type": "execute_result",
          "data": {
            "text/plain": [
              "   Product_id  Sale  weight  resoloution  ppi  cpu core  cpu freq  \\\n",
              "0         203    10   135.0          5.2  424         8      1.35   \n",
              "\n",
              "   internal mem  ram  RearCam  Front_Cam  battery  thickness  \n",
              "0          16.0  3.0     13.0        8.0     2610        7.4  "
            ],
            "text/html": [
              "\n",
              "  <div id=\"df-c102d0a6-858b-4b17-8d7b-b17750e372b0\">\n",
              "    <div class=\"colab-df-container\">\n",
              "      <div>\n",
              "<style scoped>\n",
              "    .dataframe tbody tr th:only-of-type {\n",
              "        vertical-align: middle;\n",
              "    }\n",
              "\n",
              "    .dataframe tbody tr th {\n",
              "        vertical-align: top;\n",
              "    }\n",
              "\n",
              "    .dataframe thead th {\n",
              "        text-align: right;\n",
              "    }\n",
              "</style>\n",
              "<table border=\"1\" class=\"dataframe\">\n",
              "  <thead>\n",
              "    <tr style=\"text-align: right;\">\n",
              "      <th></th>\n",
              "      <th>Product_id</th>\n",
              "      <th>Sale</th>\n",
              "      <th>weight</th>\n",
              "      <th>resoloution</th>\n",
              "      <th>ppi</th>\n",
              "      <th>cpu core</th>\n",
              "      <th>cpu freq</th>\n",
              "      <th>internal mem</th>\n",
              "      <th>ram</th>\n",
              "      <th>RearCam</th>\n",
              "      <th>Front_Cam</th>\n",
              "      <th>battery</th>\n",
              "      <th>thickness</th>\n",
              "    </tr>\n",
              "  </thead>\n",
              "  <tbody>\n",
              "    <tr>\n",
              "      <th>0</th>\n",
              "      <td>203</td>\n",
              "      <td>10</td>\n",
              "      <td>135.0</td>\n",
              "      <td>5.2</td>\n",
              "      <td>424</td>\n",
              "      <td>8</td>\n",
              "      <td>1.35</td>\n",
              "      <td>16.0</td>\n",
              "      <td>3.0</td>\n",
              "      <td>13.0</td>\n",
              "      <td>8.0</td>\n",
              "      <td>2610</td>\n",
              "      <td>7.4</td>\n",
              "    </tr>\n",
              "  </tbody>\n",
              "</table>\n",
              "</div>\n",
              "      <button class=\"colab-df-convert\" onclick=\"convertToInteractive('df-c102d0a6-858b-4b17-8d7b-b17750e372b0')\"\n",
              "              title=\"Convert this dataframe to an interactive table.\"\n",
              "              style=\"display:none;\">\n",
              "        \n",
              "  <svg xmlns=\"http://www.w3.org/2000/svg\" height=\"24px\"viewBox=\"0 0 24 24\"\n",
              "       width=\"24px\">\n",
              "    <path d=\"M0 0h24v24H0V0z\" fill=\"none\"/>\n",
              "    <path d=\"M18.56 5.44l.94 2.06.94-2.06 2.06-.94-2.06-.94-.94-2.06-.94 2.06-2.06.94zm-11 1L8.5 8.5l.94-2.06 2.06-.94-2.06-.94L8.5 2.5l-.94 2.06-2.06.94zm10 10l.94 2.06.94-2.06 2.06-.94-2.06-.94-.94-2.06-.94 2.06-2.06.94z\"/><path d=\"M17.41 7.96l-1.37-1.37c-.4-.4-.92-.59-1.43-.59-.52 0-1.04.2-1.43.59L10.3 9.45l-7.72 7.72c-.78.78-.78 2.05 0 2.83L4 21.41c.39.39.9.59 1.41.59.51 0 1.02-.2 1.41-.59l7.78-7.78 2.81-2.81c.8-.78.8-2.07 0-2.86zM5.41 20L4 18.59l7.72-7.72 1.47 1.35L5.41 20z\"/>\n",
              "  </svg>\n",
              "      </button>\n",
              "      \n",
              "  <style>\n",
              "    .colab-df-container {\n",
              "      display:flex;\n",
              "      flex-wrap:wrap;\n",
              "      gap: 12px;\n",
              "    }\n",
              "\n",
              "    .colab-df-convert {\n",
              "      background-color: #E8F0FE;\n",
              "      border: none;\n",
              "      border-radius: 50%;\n",
              "      cursor: pointer;\n",
              "      display: none;\n",
              "      fill: #1967D2;\n",
              "      height: 32px;\n",
              "      padding: 0 0 0 0;\n",
              "      width: 32px;\n",
              "    }\n",
              "\n",
              "    .colab-df-convert:hover {\n",
              "      background-color: #E2EBFA;\n",
              "      box-shadow: 0px 1px 2px rgba(60, 64, 67, 0.3), 0px 1px 3px 1px rgba(60, 64, 67, 0.15);\n",
              "      fill: #174EA6;\n",
              "    }\n",
              "\n",
              "    [theme=dark] .colab-df-convert {\n",
              "      background-color: #3B4455;\n",
              "      fill: #D2E3FC;\n",
              "    }\n",
              "\n",
              "    [theme=dark] .colab-df-convert:hover {\n",
              "      background-color: #434B5C;\n",
              "      box-shadow: 0px 1px 3px 1px rgba(0, 0, 0, 0.15);\n",
              "      filter: drop-shadow(0px 1px 2px rgba(0, 0, 0, 0.3));\n",
              "      fill: #FFFFFF;\n",
              "    }\n",
              "  </style>\n",
              "\n",
              "      <script>\n",
              "        const buttonEl =\n",
              "          document.querySelector('#df-c102d0a6-858b-4b17-8d7b-b17750e372b0 button.colab-df-convert');\n",
              "        buttonEl.style.display =\n",
              "          google.colab.kernel.accessAllowed ? 'block' : 'none';\n",
              "\n",
              "        async function convertToInteractive(key) {\n",
              "          const element = document.querySelector('#df-c102d0a6-858b-4b17-8d7b-b17750e372b0');\n",
              "          const dataTable =\n",
              "            await google.colab.kernel.invokeFunction('convertToInteractive',\n",
              "                                                     [key], {});\n",
              "          if (!dataTable) return;\n",
              "\n",
              "          const docLinkHtml = 'Like what you see? Visit the ' +\n",
              "            '<a target=\"_blank\" href=https://colab.research.google.com/notebooks/data_table.ipynb>data table notebook</a>'\n",
              "            + ' to learn more about interactive tables.';\n",
              "          element.innerHTML = '';\n",
              "          dataTable['output_type'] = 'display_data';\n",
              "          await google.colab.output.renderOutput(dataTable, element);\n",
              "          const docLink = document.createElement('div');\n",
              "          docLink.innerHTML = docLinkHtml;\n",
              "          element.appendChild(docLink);\n",
              "        }\n",
              "      </script>\n",
              "    </div>\n",
              "  </div>\n",
              "  "
            ]
          },
          "metadata": {},
          "execution_count": 68
        }
      ]
    },
    {
      "cell_type": "code",
      "source": [
        "# Los 3959 precios medios de los datos de test en miles de $\n",
        "#test_targets"
      ],
      "metadata": {
        "id": "tHtVTNtBdB31"
      },
      "execution_count": 69,
      "outputs": []
    },
    {
      "cell_type": "code",
      "source": [
        "# 1. Separamos los datos de entrenamiento con los datos de test\n",
        "#train_data = train_data[:3000]\n",
        "#test_data = train_data[3001:]\n",
        "#partial_train_targets = train_targets[:3000]\n",
        "#partial_eval_train_targets = train_targets[3001:]"
      ],
      "metadata": {
        "id": "hBczOshsUNnB"
      },
      "execution_count": 70,
      "outputs": []
    },
    {
      "cell_type": "code",
      "source": [
        "# Normalizamos basándonos en las características\n",
        "##############################################\n",
        "# Calculamos la media del primer eje de los datos de entrenamiento\n",
        "mean = train_data.mean(axis=0)\n",
        "print(\"##### Media de las 13 características de los datos de entrenamiento ##### \")\n",
        "print(mean)\n",
        "# A los datos de entrenamiento le restamos la media\n",
        "train_data -= mean\n",
        "\n",
        "# Calculamos la desviación estandar del primer eje de los datos de entrenamiento\n",
        "std = train_data.std(axis=0)\n",
        "print(\"##### Desviación estandar de las 13 características de los datos de entrenamiento ##### \")\n",
        "print(std)\n",
        "# A los datos de entrenamiento los dividimos por la desviación estándar\n",
        "train_data /= std\n",
        "#print(\"##### Datos de entrenamiento normalizados para la primera casa ##### \")\n",
        "#print(train_data[0])\n",
        "\n",
        "# ¡¡IMPORTANTE!!: USAMOS LA MEDIA Y LA DESVIACIÓN ESTANDAR DE LOS DATOS DE \n",
        "# ENTRENAMIENTO PARA NORMALIZAR EL SET DE DATOS DE LOS DATOS DE TEST \n",
        "test_data -= mean\n",
        "test_data /= std\n",
        "#print(\"##### Datos de test normalizados (de la primera casa) con la media y la desviación estándar de los datos de entrenamiento ##### \")\n",
        "#print(test_data[0])"
      ],
      "metadata": {
        "colab": {
          "base_uri": "https://localhost:8080/"
        },
        "id": "Vm0wC3sVOnKA",
        "outputId": "415f763e-cc15-49d6-80c1-67d9bb07ee75"
      },
      "execution_count": 71,
      "outputs": [
        {
          "output_type": "stream",
          "name": "stdout",
          "text": [
            "##### Media de las 13 características de los datos de entrenamiento ##### \n",
            "Product_id       624.408333\n",
            "Sale              98.366667\n",
            "weight           164.838333\n",
            "resoloution        5.214667\n",
            "ppi              326.816667\n",
            "cpu core           4.883333\n",
            "cpu freq           1.506300\n",
            "internal mem      20.166733\n",
            "ram                2.034700\n",
            "RearCam           10.007500\n",
            "Front_Cam          4.043333\n",
            "battery         2707.833333\n",
            "thickness          8.714167\n",
            "dtype: float64\n",
            "##### Desviación estandar de las 13 características de los datos de entrenamiento ##### \n",
            "Product_id       409.719529\n",
            "Sale              95.154446\n",
            "weight            73.077443\n",
            "resoloution        1.279919\n",
            "ppi              119.483059\n",
            "cpu core           2.355695\n",
            "cpu freq           0.540996\n",
            "internal mem      21.021866\n",
            "ram                1.397276\n",
            "RearCam            5.792699\n",
            "Front_Cam          3.808388\n",
            "battery         1078.070899\n",
            "thickness          1.746992\n",
            "dtype: float64\n"
          ]
        }
      ]
    },
    {
      "cell_type": "code",
      "source": [
        "train_data.shape[1]"
      ],
      "metadata": {
        "colab": {
          "base_uri": "https://localhost:8080/"
        },
        "id": "K2mhPnZoY9xC",
        "outputId": "9c5d3890-979d-41e4-a0af-a2ed36ed60d3"
      },
      "execution_count": 72,
      "outputs": [
        {
          "output_type": "execute_result",
          "data": {
            "text/plain": [
              "13"
            ]
          },
          "metadata": {},
          "execution_count": 72
        }
      ]
    },
    {
      "cell_type": "code",
      "source": [
        "import tensorflow as tf\n",
        "from keras import models\n",
        "from keras import layers\n",
        "\n",
        "def build_model():\n",
        "    # Porque necesitaremos instanciar el mismo modelo \n",
        "    # múltiples veces, usamos una función para construirlo\n",
        "    model = models.Sequential()\n",
        "    model.add(layers.Dense(90, activation='relu',\n",
        "                           input_shape=(train_data.shape[1],)))\n",
        "    model.add(layers.Dense(90, activation='relu'))\n",
        "    model.add(layers.Dense(1))\n",
        "    # MSE: Mean Squared Error\n",
        "    # MAE: Mean Absolute Error\n",
        "    model.compile(optimizer='rmsprop', loss='mse', \n",
        "                  metrics=[tf.keras.metrics.MeanAbsoluteError()]) # metrics = ['mae']\n",
        "    return model"
      ],
      "metadata": {
        "id": "1Ko1B4Q3ZC_d"
      },
      "execution_count": 112,
      "outputs": []
    },
    {
      "cell_type": "code",
      "source": [
        "# 2. Hacer aquí las particiones de los datos de entrenamiento\n",
        "partial_train_data = train_data[:80]\n",
        "partial_eval_train_data = train_data[81:]\n",
        "partial_train_targets = train_targets[:80]\n",
        "partial_eval_train_targets = train_targets[81:]"
      ],
      "metadata": {
        "id": "019PQQ2MZmNd"
      },
      "execution_count": 113,
      "outputs": []
    },
    {
      "cell_type": "code",
      "source": [
        "# 2. Entrenar el modelo con 25 épocas y un batch_size=1\n",
        "mymodel = build_model()"
      ],
      "metadata": {
        "id": "znQpv5fCZOOf"
      },
      "execution_count": 114,
      "outputs": []
    },
    {
      "cell_type": "code",
      "source": [
        "history = mymodel.fit(partial_train_data, partial_train_targets,\n",
        "            validation_data=(partial_eval_train_data, partial_eval_train_targets),\n",
        "                        epochs=25, batch_size=1)"
      ],
      "metadata": {
        "colab": {
          "base_uri": "https://localhost:8080/"
        },
        "id": "-UAUOTQJZQte",
        "outputId": "6f8770e3-fbbf-4065-d1d3-be70615f99ba"
      },
      "execution_count": 115,
      "outputs": [
        {
          "output_type": "stream",
          "name": "stdout",
          "text": [
            "Epoch 1/25\n",
            "80/80 [==============================] - 1s 4ms/step - loss: 5268492.0000 - mean_absolute_error: 2222.0166 - val_loss: 4867192.0000 - val_mean_absolute_error: 2031.9447\n",
            "Epoch 2/25\n",
            "80/80 [==============================] - 0s 3ms/step - loss: 5173893.5000 - mean_absolute_error: 2202.1270 - val_loss: 4752126.0000 - val_mean_absolute_error: 2004.2394\n",
            "Epoch 3/25\n",
            "80/80 [==============================] - 0s 3ms/step - loss: 4948673.0000 - mean_absolute_error: 2152.6389 - val_loss: 4531498.0000 - val_mean_absolute_error: 1950.4656\n",
            "Epoch 4/25\n",
            "80/80 [==============================] - 0s 3ms/step - loss: 4528128.5000 - mean_absolute_error: 2059.3921 - val_loss: 4183090.0000 - val_mean_absolute_error: 1863.6344\n",
            "Epoch 5/25\n",
            "80/80 [==============================] - 0s 3ms/step - loss: 3872118.7500 - mean_absolute_error: 1903.7992 - val_loss: 3696011.5000 - val_mean_absolute_error: 1732.7319\n",
            "Epoch 6/25\n",
            "80/80 [==============================] - 0s 3ms/step - loss: 3027145.5000 - mean_absolute_error: 1682.2924 - val_loss: 3103131.7500 - val_mean_absolute_error: 1561.2784\n",
            "Epoch 7/25\n",
            "80/80 [==============================] - 0s 2ms/step - loss: 2034451.6250 - mean_absolute_error: 1371.5977 - val_loss: 2449912.2500 - val_mean_absolute_error: 1413.6600\n",
            "Epoch 8/25\n",
            "80/80 [==============================] - 0s 3ms/step - loss: 1080740.7500 - mean_absolute_error: 982.0013 - val_loss: 1866325.7500 - val_mean_absolute_error: 1257.2858\n",
            "Epoch 9/25\n",
            "80/80 [==============================] - 0s 3ms/step - loss: 412747.4688 - mean_absolute_error: 551.3434 - val_loss: 1544281.6250 - val_mean_absolute_error: 1118.1719\n",
            "Epoch 10/25\n",
            "80/80 [==============================] - 0s 3ms/step - loss: 187149.9062 - mean_absolute_error: 353.2910 - val_loss: 1479898.5000 - val_mean_absolute_error: 1089.1877\n",
            "Epoch 11/25\n",
            "80/80 [==============================] - 0s 3ms/step - loss: 152473.1719 - mean_absolute_error: 325.2827 - val_loss: 1477154.8750 - val_mean_absolute_error: 1081.2736\n",
            "Epoch 12/25\n",
            "80/80 [==============================] - 0s 3ms/step - loss: 135880.3906 - mean_absolute_error: 306.8115 - val_loss: 1444076.1250 - val_mean_absolute_error: 1065.1737\n",
            "Epoch 13/25\n",
            "80/80 [==============================] - 0s 3ms/step - loss: 123783.4141 - mean_absolute_error: 291.1830 - val_loss: 1421120.2500 - val_mean_absolute_error: 1054.0823\n",
            "Epoch 14/25\n",
            "80/80 [==============================] - 0s 3ms/step - loss: 112006.8984 - mean_absolute_error: 279.1681 - val_loss: 1363708.0000 - val_mean_absolute_error: 1032.3723\n",
            "Epoch 15/25\n",
            "80/80 [==============================] - 0s 2ms/step - loss: 105979.5234 - mean_absolute_error: 268.9058 - val_loss: 1364773.3750 - val_mean_absolute_error: 1032.5432\n",
            "Epoch 16/25\n",
            "80/80 [==============================] - 0s 3ms/step - loss: 99995.0938 - mean_absolute_error: 267.6138 - val_loss: 1349028.8750 - val_mean_absolute_error: 1023.8245\n",
            "Epoch 17/25\n",
            "80/80 [==============================] - 0s 3ms/step - loss: 94035.9531 - mean_absolute_error: 259.7824 - val_loss: 1333357.6250 - val_mean_absolute_error: 1019.3054\n",
            "Epoch 18/25\n",
            "80/80 [==============================] - 0s 3ms/step - loss: 89902.4219 - mean_absolute_error: 252.8056 - val_loss: 1283673.3750 - val_mean_absolute_error: 998.3316\n",
            "Epoch 19/25\n",
            "80/80 [==============================] - 0s 3ms/step - loss: 85905.0156 - mean_absolute_error: 245.5589 - val_loss: 1231040.0000 - val_mean_absolute_error: 981.4755\n",
            "Epoch 20/25\n",
            "80/80 [==============================] - 0s 3ms/step - loss: 82024.2344 - mean_absolute_error: 243.7971 - val_loss: 1206625.3750 - val_mean_absolute_error: 970.0456\n",
            "Epoch 21/25\n",
            "80/80 [==============================] - 0s 2ms/step - loss: 78089.5547 - mean_absolute_error: 240.1046 - val_loss: 1195291.1250 - val_mean_absolute_error: 963.7468\n",
            "Epoch 22/25\n",
            "80/80 [==============================] - 0s 3ms/step - loss: 74145.5859 - mean_absolute_error: 231.9114 - val_loss: 1199097.0000 - val_mean_absolute_error: 963.8573\n",
            "Epoch 23/25\n",
            "80/80 [==============================] - 0s 3ms/step - loss: 70939.6406 - mean_absolute_error: 228.4711 - val_loss: 1159645.6250 - val_mean_absolute_error: 951.1439\n",
            "Epoch 24/25\n",
            "80/80 [==============================] - 0s 3ms/step - loss: 67267.7031 - mean_absolute_error: 220.9543 - val_loss: 1135580.1250 - val_mean_absolute_error: 940.7817\n",
            "Epoch 25/25\n",
            "80/80 [==============================] - 0s 2ms/step - loss: 65985.1875 - mean_absolute_error: 218.3317 - val_loss: 1116316.1250 - val_mean_absolute_error: 933.1879\n"
          ]
        }
      ]
    },
    {
      "cell_type": "code",
      "source": [
        "mae_history = history.history['val_mean_absolute_error']\n",
        "accuracy= np.mean(mae_history)\n",
        "accuracy"
      ],
      "metadata": {
        "id": "i_mRL-sMd8_C",
        "colab": {
          "base_uri": "https://localhost:8080/"
        },
        "outputId": "bc2fdc46-61d3-4176-8944-6a3dc3288537"
      },
      "execution_count": 116,
      "outputs": [
        {
          "output_type": "execute_result",
          "data": {
            "text/plain": [
              "1241.3497998046876"
            ]
          },
          "metadata": {},
          "execution_count": 116
        }
      ]
    },
    {
      "cell_type": "code",
      "source": [
        "mse_history = history.history['val_loss']"
      ],
      "metadata": {
        "id": "TghrxcY-ek0B"
      },
      "execution_count": 117,
      "outputs": []
    },
    {
      "cell_type": "code",
      "source": [
        "# 3. Confrontar en una gráfica de épocas en el eje de abcisas contra pérdida (MSE) en\n",
        "# el eje de ordenadas\n",
        "import matplotlib.pyplot as plt\n",
        "\n",
        "plt.plot(range(1, len(mse_history) + 1), mse_history)\n",
        "plt.xlabel('Epochs')\n",
        "plt.ylabel('Validación MSE')\n",
        "plt.show()"
      ],
      "metadata": {
        "id": "gcfWuM20hopF",
        "colab": {
          "base_uri": "https://localhost:8080/",
          "height": 290
        },
        "outputId": "2329dba7-4be3-4dfb-f014-a001ca033482"
      },
      "execution_count": 118,
      "outputs": [
        {
          "output_type": "display_data",
          "data": {
            "text/plain": [
              "<Figure size 432x288 with 1 Axes>"
            ],
            "image/png": "[encoded data removed]"
          },
          "metadata": {
            "needs_background": "light"
          }
        }
      ]
    },
    {
      "cell_type": "code",
      "source": [
        "import matplotlib.pyplot as plt\n",
        "\n",
        "loss = history.history['loss']\n",
        "val_loss = history.history['val_loss']\n",
        "\n",
        "epochs = range(1, len(loss) + 1)\n",
        "\n",
        "plt.plot(epochs, loss, 'bo', label='Pérdida del entreno')\n",
        "plt.plot(epochs, val_loss, 'b', label='Pérdida de la validación')\n",
        "plt.title('Perdidas del entreno y la validación')\n",
        "plt.xlabel('Épocas')\n",
        "plt.ylabel('Pérdida')\n",
        "plt.legend()\n",
        "\n",
        "plt.show()"
      ],
      "metadata": {
        "id": "DNuqDK1Zhq1X",
        "colab": {
          "base_uri": "https://localhost:8080/",
          "height": 297
        },
        "outputId": "f402c0d9-b324-4e40-83a6-827857e6bb9f"
      },
      "execution_count": 119,
      "outputs": [
        {
          "output_type": "display_data",
          "data": {
            "text/plain": [
              "<Figure size 432x288 with 1 Axes>"
            ],
            "image/png": "[encoded data removed]"
          },
          "metadata": {
            "needs_background": "light"
          }
        }
      ]
    },
    {
      "cell_type": "code",
      "source": [
        "# 4. Confrontar en una gráfica de épocas en el eje de abcisas contra la métrica de \n",
        "# error absoluto medio (MAE) \n",
        "import matplotlib.pyplot as plt\n",
        "\n",
        "plt.plot(range(1, len(mae_history) + 1), mae_history)\n",
        "plt.xlabel('Epochs')\n",
        "plt.ylabel('Validación MAE')\n",
        "plt.show()"
      ],
      "metadata": {
        "id": "mClz2sAGhsra",
        "colab": {
          "base_uri": "https://localhost:8080/",
          "height": 279
        },
        "outputId": "4a8dd220-664f-4edc-a530-7ea380734aee"
      },
      "execution_count": 120,
      "outputs": [
        {
          "output_type": "display_data",
          "data": {
            "text/plain": [
              "<Figure size 432x288 with 1 Axes>"
            ],
            "image/png": "[encoded data removed]"
          },
          "metadata": {
            "needs_background": "light"
          }
        }
      ]
    },
    {
      "cell_type": "code",
      "source": [
        "import matplotlib.pyplot as plt\n",
        "\n",
        "loss = history.history['mean_absolute_error']\n",
        "val_loss = history.history['val_mean_absolute_error']\n",
        "\n",
        "epochs = range(1, len(loss) + 1)\n",
        "\n",
        "plt.plot(epochs, loss, 'bo', label='Pérdida del entreno')\n",
        "plt.plot(epochs, val_loss, 'b', label='Pérdida de la validación')\n",
        "plt.title('Perdidas del entreno y la validación')\n",
        "plt.xlabel('Épocas')\n",
        "plt.ylabel('Pérdida')\n",
        "plt.legend()\n",
        "\n",
        "plt.show()"
      ],
      "metadata": {
        "id": "njh5NgIDhutt",
        "colab": {
          "base_uri": "https://localhost:8080/",
          "height": 297
        },
        "outputId": "e686910e-c45c-4c06-9515-12ce63af813c"
      },
      "execution_count": 121,
      "outputs": [
        {
          "output_type": "display_data",
          "data": {
            "text/plain": [
              "<Figure size 432x288 with 1 Axes>"
            ],
            "image/png": "[encoded data removed]"
          },
          "metadata": {
            "needs_background": "light"
          }
        }
      ]
    },
    {
      "cell_type": "code",
      "source": [
        "# 5. Entrenar de nuevo el modelo el número de épocas adecuado para evitar overfitting\n",
        "mymodel2 = build_model()\n",
        "history2 = mymodel2.fit(partial_train_data, partial_train_targets,\n",
        "            validation_data=(partial_eval_train_data, partial_eval_train_targets),\n",
        "                        epochs=8, batch_size=1)"
      ],
      "metadata": {
        "id": "jfLmuPaUhwhV",
        "colab": {
          "base_uri": "https://localhost:8080/"
        },
        "outputId": "131207c7-b4b4-4c69-cca2-6e4a7a6ae09c"
      },
      "execution_count": 122,
      "outputs": [
        {
          "output_type": "stream",
          "name": "stdout",
          "text": [
            "Epoch 1/8\n",
            "80/80 [==============================] - 1s 5ms/step - loss: 5259708.5000 - mean_absolute_error: 2220.1196 - val_loss: 4849044.5000 - val_mean_absolute_error: 2028.0587\n",
            "Epoch 2/8\n",
            "80/80 [==============================] - 0s 3ms/step - loss: 5134907.5000 - mean_absolute_error: 2193.1599 - val_loss: 4700260.5000 - val_mean_absolute_error: 1992.6885\n",
            "Epoch 3/8\n",
            "80/80 [==============================] - 0s 3ms/step - loss: 4835417.0000 - mean_absolute_error: 2127.0054 - val_loss: 4422100.5000 - val_mean_absolute_error: 1925.1488\n",
            "Epoch 4/8\n",
            "80/80 [==============================] - 0s 3ms/step - loss: 4302024.0000 - mean_absolute_error: 2004.8894 - val_loss: 3998449.7500 - val_mean_absolute_error: 1816.5513\n",
            "Epoch 5/8\n",
            "80/80 [==============================] - 0s 3ms/step - loss: 3537451.2500 - mean_absolute_error: 1812.3992 - val_loss: 3432808.0000 - val_mean_absolute_error: 1658.7424\n",
            "Epoch 6/8\n",
            "80/80 [==============================] - 0s 3ms/step - loss: 2517146.5000 - mean_absolute_error: 1524.2424 - val_loss: 2744037.2500 - val_mean_absolute_error: 1468.6565\n",
            "Epoch 7/8\n",
            "80/80 [==============================] - 0s 3ms/step - loss: 1429968.7500 - mean_absolute_error: 1134.7053 - val_loss: 2048565.3750 - val_mean_absolute_error: 1307.8246\n",
            "Epoch 8/8\n",
            "80/80 [==============================] - 0s 3ms/step - loss: 559155.7500 - mean_absolute_error: 677.7529 - val_loss: 1524668.2500 - val_mean_absolute_error: 1123.5754\n"
          ]
        }
      ]
    },
    {
      "cell_type": "code",
      "source": [
        "mae_history2 = history2.history['val_mean_absolute_error']\n",
        "mse_history2 = history2.history['val_loss']\n",
        "\n",
        "import matplotlib.pyplot as plt\n",
        "\n",
        "plt.plot(range(1, len(mse_history2) + 1), mse_history2)\n",
        "plt.xlabel('Epochs')\n",
        "plt.ylabel('Validación MSE')\n",
        "plt.show()"
      ],
      "metadata": {
        "id": "gU22Ja5mh0T9",
        "colab": {
          "base_uri": "https://localhost:8080/",
          "height": 290
        },
        "outputId": "331738e6-d00c-4848-b46a-604d805038d6"
      },
      "execution_count": 123,
      "outputs": [
        {
          "output_type": "display_data",
          "data": {
            "text/plain": [
              "<Figure size 432x288 with 1 Axes>"
            ],
            "image/png": "[encoded data removed]"
          },
          "metadata": {
            "needs_background": "light"
          }
        }
      ]
    },
    {
      "cell_type": "code",
      "source": [
        "import matplotlib.pyplot as plt\n",
        "\n",
        "loss = history2.history['loss']\n",
        "val_loss = history2.history['val_loss']\n",
        "\n",
        "epochs = range(1, len(loss) + 1)\n",
        "\n",
        "plt.plot(epochs, loss, 'bo', label='Pérdida del entreno')\n",
        "plt.plot(epochs, val_loss, 'b', label='Pérdida de la validación')\n",
        "plt.title('Perdidas del entreno y la validación')\n",
        "plt.xlabel('Épocas')\n",
        "plt.ylabel('Pérdida')\n",
        "plt.legend()\n",
        "\n",
        "plt.show()"
      ],
      "metadata": {
        "id": "fndDkin2zg-2",
        "outputId": "c3df6def-6e90-49e3-ed5e-756524b9077e",
        "colab": {
          "base_uri": "https://localhost:8080/",
          "height": 297
        }
      },
      "execution_count": 124,
      "outputs": [
        {
          "output_type": "display_data",
          "data": {
            "text/plain": [
              "<Figure size 432x288 with 1 Axes>"
            ],
            "image/png": "[encoded data removed]"
          },
          "metadata": {
            "needs_background": "light"
          }
        }
      ]
    },
    {
      "cell_type": "code",
      "source": [
        "\n",
        "import matplotlib.pyplot as plt\n",
        "\n",
        "plt.plot(range(1, len(mae_history2) + 1), mae_history2)\n",
        "plt.xlabel('Epochs')\n",
        "plt.ylabel('Validación MAE')\n",
        "plt.show()"
      ],
      "metadata": {
        "colab": {
          "base_uri": "https://localhost:8080/",
          "height": 279
        },
        "id": "T7EKvl0ozS_z",
        "outputId": "8b8766c2-324a-455d-d9ce-c1f5fd240de1"
      },
      "execution_count": 125,
      "outputs": [
        {
          "output_type": "display_data",
          "data": {
            "text/plain": [
              "<Figure size 432x288 with 1 Axes>"
            ],
            "image/png": "[encoded data removed]"
          },
          "metadata": {
            "needs_background": "light"
          }
        }
      ]
    },
    {
      "cell_type": "code",
      "source": [
        "import matplotlib.pyplot as plt\n",
        "\n",
        "loss = history2.history['mean_absolute_error']\n",
        "val_loss = history2.history['val_mean_absolute_error']\n",
        "\n",
        "epochs = range(1, len(loss) + 1)\n",
        "\n",
        "plt.plot(epochs, loss, 'bo', label='Pérdida del entreno')\n",
        "plt.plot(epochs, val_loss, 'b', label='Pérdida de la validación')\n",
        "plt.title('Perdidas del entreno y la validación')\n",
        "plt.xlabel('Épocas')\n",
        "plt.ylabel('Pérdida')\n",
        "plt.legend()\n",
        "\n",
        "plt.show()"
      ],
      "metadata": {
        "id": "r3YsiMvFzrEM",
        "outputId": "1e2ca788-a192-4d97-9d1a-93d106570303",
        "colab": {
          "base_uri": "https://localhost:8080/",
          "height": 297
        }
      },
      "execution_count": 126,
      "outputs": [
        {
          "output_type": "display_data",
          "data": {
            "text/plain": [
              "<Figure size 432x288 with 1 Axes>"
            ],
            "image/png": "[encoded data removed]"
          },
          "metadata": {
            "needs_background": "light"
          }
        }
      ]
    }
  ]
}