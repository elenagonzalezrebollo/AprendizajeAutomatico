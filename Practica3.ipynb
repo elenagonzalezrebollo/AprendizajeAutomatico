{
  "nbformat": 4,
  "nbformat_minor": 0,
  "metadata": {
    "colab": {
      "provenance": [],
      "include_colab_link": true
    },
    "kernelspec": {
      "name": "python3",
      "display_name": "Python 3"
    },
    "language_info": {
      "name": "python"
    }
  },
  "cells": [
    {
      "cell_type": "markdown",
      "metadata": {
        "id": "view-in-github",
        "colab_type": "text"
      },
      "source": [
        "<a href=\"https://colab.research.google.com/github/elenagonzalezrebollo/AprendizajeAutomatico/blob/main/Practica3.ipynb\" target=\"_parent\"><img src=\"https://colab.research.google.com/assets/colab-badge.svg\" alt=\"Open In Colab\"/></a>"
      ]
    },
    {
      "cell_type": "code",
      "source": [
        "import pandas as pd\n",
        "import numpy as np\n",
        "import matplotlib.pyplot as plt\n",
        "%matplotlib inline\n"
      ],
      "metadata": {
        "id": "lcAKpTlrZKu2"
      },
      "execution_count": 95,
      "outputs": []
    },
    {
      "cell_type": "markdown",
      "source": [
        "https://www.kaggle.com/datasets/igmoncan/hoteles-en-valencia?resource=download&select=valenciahoteles.csv"
      ],
      "metadata": {
        "id": "8BDFkWIYqOfy"
      }
    },
    {
      "cell_type": "code",
      "source": [
        "data = pd.read_csv('valenciahoteles.csv', encoding='latin-1')\n",
        "data=data.drop(['Nombre', 'Distrito', 'Fecha', 'Dirección', 'CP', 'lat', 'long'], axis=1)\n",
        "data.head()\n"
      ],
      "metadata": {
        "colab": {
          "base_uri": "https://localhost:8080/",
          "height": 206
        },
        "id": "x05nKWYMZNNX",
        "outputId": "6a89803a-1ac2-41d0-ceb6-4042a4049c2f"
      },
      "execution_count": 96,
      "outputs": [
        {
          "output_type": "execute_result",
          "data": {
            "text/plain": [
              "   Valoración  Número de comentarios  Precio\n",
              "0         7.9                    767    38.0\n",
              "1         8.0                    206    37.0\n",
              "2         7.4                   1458    27.5\n",
              "3         8.8                   1009    79.0\n",
              "4         8.1                   3441    84.0"
            ],
            "text/html": [
              "\n",
              "  <div id=\"df-359f3709-e467-4733-b85b-997aee01c03e\">\n",
              "    <div class=\"colab-df-container\">\n",
              "      <div>\n",
              "<style scoped>\n",
              "    .dataframe tbody tr th:only-of-type {\n",
              "        vertical-align: middle;\n",
              "    }\n",
              "\n",
              "    .dataframe tbody tr th {\n",
              "        vertical-align: top;\n",
              "    }\n",
              "\n",
              "    .dataframe thead th {\n",
              "        text-align: right;\n",
              "    }\n",
              "</style>\n",
              "<table border=\"1\" class=\"dataframe\">\n",
              "  <thead>\n",
              "    <tr style=\"text-align: right;\">\n",
              "      <th></th>\n",
              "      <th>Valoración</th>\n",
              "      <th>Número de comentarios</th>\n",
              "      <th>Precio</th>\n",
              "    </tr>\n",
              "  </thead>\n",
              "  <tbody>\n",
              "    <tr>\n",
              "      <th>0</th>\n",
              "      <td>7.9</td>\n",
              "      <td>767</td>\n",
              "      <td>38.0</td>\n",
              "    </tr>\n",
              "    <tr>\n",
              "      <th>1</th>\n",
              "      <td>8.0</td>\n",
              "      <td>206</td>\n",
              "      <td>37.0</td>\n",
              "    </tr>\n",
              "    <tr>\n",
              "      <th>2</th>\n",
              "      <td>7.4</td>\n",
              "      <td>1458</td>\n",
              "      <td>27.5</td>\n",
              "    </tr>\n",
              "    <tr>\n",
              "      <th>3</th>\n",
              "      <td>8.8</td>\n",
              "      <td>1009</td>\n",
              "      <td>79.0</td>\n",
              "    </tr>\n",
              "    <tr>\n",
              "      <th>4</th>\n",
              "      <td>8.1</td>\n",
              "      <td>3441</td>\n",
              "      <td>84.0</td>\n",
              "    </tr>\n",
              "  </tbody>\n",
              "</table>\n",
              "</div>\n",
              "      <button class=\"colab-df-convert\" onclick=\"convertToInteractive('df-359f3709-e467-4733-b85b-997aee01c03e')\"\n",
              "              title=\"Convert this dataframe to an interactive table.\"\n",
              "              style=\"display:none;\">\n",
              "        \n",
              "  <svg xmlns=\"http://www.w3.org/2000/svg\" height=\"24px\"viewBox=\"0 0 24 24\"\n",
              "       width=\"24px\">\n",
              "    <path d=\"M0 0h24v24H0V0z\" fill=\"none\"/>\n",
              "    <path d=\"M18.56 5.44l.94 2.06.94-2.06 2.06-.94-2.06-.94-.94-2.06-.94 2.06-2.06.94zm-11 1L8.5 8.5l.94-2.06 2.06-.94-2.06-.94L8.5 2.5l-.94 2.06-2.06.94zm10 10l.94 2.06.94-2.06 2.06-.94-2.06-.94-.94-2.06-.94 2.06-2.06.94z\"/><path d=\"M17.41 7.96l-1.37-1.37c-.4-.4-.92-.59-1.43-.59-.52 0-1.04.2-1.43.59L10.3 9.45l-7.72 7.72c-.78.78-.78 2.05 0 2.83L4 21.41c.39.39.9.59 1.41.59.51 0 1.02-.2 1.41-.59l7.78-7.78 2.81-2.81c.8-.78.8-2.07 0-2.86zM5.41 20L4 18.59l7.72-7.72 1.47 1.35L5.41 20z\"/>\n",
              "  </svg>\n",
              "      </button>\n",
              "      \n",
              "  <style>\n",
              "    .colab-df-container {\n",
              "      display:flex;\n",
              "      flex-wrap:wrap;\n",
              "      gap: 12px;\n",
              "    }\n",
              "\n",
              "    .colab-df-convert {\n",
              "      background-color: #E8F0FE;\n",
              "      border: none;\n",
              "      border-radius: 50%;\n",
              "      cursor: pointer;\n",
              "      display: none;\n",
              "      fill: #1967D2;\n",
              "      height: 32px;\n",
              "      padding: 0 0 0 0;\n",
              "      width: 32px;\n",
              "    }\n",
              "\n",
              "    .colab-df-convert:hover {\n",
              "      background-color: #E2EBFA;\n",
              "      box-shadow: 0px 1px 2px rgba(60, 64, 67, 0.3), 0px 1px 3px 1px rgba(60, 64, 67, 0.15);\n",
              "      fill: #174EA6;\n",
              "    }\n",
              "\n",
              "    [theme=dark] .colab-df-convert {\n",
              "      background-color: #3B4455;\n",
              "      fill: #D2E3FC;\n",
              "    }\n",
              "\n",
              "    [theme=dark] .colab-df-convert:hover {\n",
              "      background-color: #434B5C;\n",
              "      box-shadow: 0px 1px 3px 1px rgba(0, 0, 0, 0.15);\n",
              "      filter: drop-shadow(0px 1px 2px rgba(0, 0, 0, 0.3));\n",
              "      fill: #FFFFFF;\n",
              "    }\n",
              "  </style>\n",
              "\n",
              "      <script>\n",
              "        const buttonEl =\n",
              "          document.querySelector('#df-359f3709-e467-4733-b85b-997aee01c03e button.colab-df-convert');\n",
              "        buttonEl.style.display =\n",
              "          google.colab.kernel.accessAllowed ? 'block' : 'none';\n",
              "\n",
              "        async function convertToInteractive(key) {\n",
              "          const element = document.querySelector('#df-359f3709-e467-4733-b85b-997aee01c03e');\n",
              "          const dataTable =\n",
              "            await google.colab.kernel.invokeFunction('convertToInteractive',\n",
              "                                                     [key], {});\n",
              "          if (!dataTable) return;\n",
              "\n",
              "          const docLinkHtml = 'Like what you see? Visit the ' +\n",
              "            '<a target=\"_blank\" href=https://colab.research.google.com/notebooks/data_table.ipynb>data table notebook</a>'\n",
              "            + ' to learn more about interactive tables.';\n",
              "          element.innerHTML = '';\n",
              "          dataTable['output_type'] = 'display_data';\n",
              "          await google.colab.output.renderOutput(dataTable, element);\n",
              "          const docLink = document.createElement('div');\n",
              "          docLink.innerHTML = docLinkHtml;\n",
              "          element.appendChild(docLink);\n",
              "        }\n",
              "      </script>\n",
              "    </div>\n",
              "  </div>\n",
              "  "
            ]
          },
          "metadata": {},
          "execution_count": 96
        }
      ]
    },
    {
      "cell_type": "code",
      "source": [
        "data.columns"
      ],
      "metadata": {
        "id": "_mHH10dkQdUn",
        "outputId": "a862345f-0953-4d00-ed79-d931c104aae6",
        "colab": {
          "base_uri": "https://localhost:8080/"
        }
      },
      "execution_count": 97,
      "outputs": [
        {
          "output_type": "execute_result",
          "data": {
            "text/plain": [
              "Index(['Valoración', 'Número de comentarios', 'Precio'], dtype='object')"
            ]
          },
          "metadata": {},
          "execution_count": 97
        }
      ]
    },
    {
      "cell_type": "code",
      "source": [
        "train_targets=data.Valoración\n",
        "test_targets=data.Valoración\n",
        "data=data.drop(['Valoración'], axis=1)\n",
        "train_data=data\n",
        "test_data=data\n",
        "\n",
        "\n",
        "#(train_data, train_targets), (test_data, test_targets) =  data"
      ],
      "metadata": {
        "id": "uQSf9SCDdlkO"
      },
      "execution_count": 98,
      "outputs": []
    },
    {
      "cell_type": "code",
      "source": [
        "train_data.shape"
      ],
      "metadata": {
        "colab": {
          "base_uri": "https://localhost:8080/"
        },
        "id": "Ihq6r5uOOW6n",
        "outputId": "a8b902f0-eae7-43f2-fae6-159cdcf61155"
      },
      "execution_count": 99,
      "outputs": [
        {
          "output_type": "execute_result",
          "data": {
            "text/plain": [
              "(3959, 2)"
            ]
          },
          "metadata": {},
          "execution_count": 99
        }
      ]
    },
    {
      "cell_type": "code",
      "source": [
        "test_data.shape"
      ],
      "metadata": {
        "colab": {
          "base_uri": "https://localhost:8080/"
        },
        "id": "I-bVV-rSOaD0",
        "outputId": "0fe71a8f-1d71-4627-dd6a-e349fb44fc76"
      },
      "execution_count": 100,
      "outputs": [
        {
          "output_type": "execute_result",
          "data": {
            "text/plain": [
              "(3959, 2)"
            ]
          },
          "metadata": {},
          "execution_count": 100
        }
      ]
    },
    {
      "cell_type": "code",
      "source": [
        "train_targets.shape"
      ],
      "metadata": {
        "colab": {
          "base_uri": "https://localhost:8080/"
        },
        "id": "PgibHgHhOagB",
        "outputId": "a7f80da8-cdc3-43d7-b3a1-0070342d7fe7"
      },
      "execution_count": 101,
      "outputs": [
        {
          "output_type": "execute_result",
          "data": {
            "text/plain": [
              "(3959,)"
            ]
          },
          "metadata": {},
          "execution_count": 101
        }
      ]
    },
    {
      "cell_type": "code",
      "source": [
        "test_targets.shape"
      ],
      "metadata": {
        "colab": {
          "base_uri": "https://localhost:8080/"
        },
        "id": "TwcoEhr0OaxP",
        "outputId": "d41954c4-5c98-4368-be9c-6349d1eb88a9"
      },
      "execution_count": 102,
      "outputs": [
        {
          "output_type": "execute_result",
          "data": {
            "text/plain": [
              "(3959,)"
            ]
          },
          "metadata": {},
          "execution_count": 102
        }
      ]
    },
    {
      "cell_type": "code",
      "source": [
        "#train_data[3450]"
      ],
      "metadata": {
        "id": "xTZMuiqfYW2N"
      },
      "execution_count": null,
      "outputs": []
    },
    {
      "cell_type": "code",
      "source": [
        "# Los 3959 precios medios de los datos de test en miles de $\n",
        "#test_targets"
      ],
      "metadata": {
        "id": "tHtVTNtBdB31"
      },
      "execution_count": null,
      "outputs": []
    },
    {
      "cell_type": "code",
      "source": [
        "# 1. Separamos los datos de entrenamiento con los datos de test\n",
        "#train_data = train_data[:3000]\n",
        "#test_data = train_data[3001:]\n",
        "#partial_train_targets = train_targets[:3000]\n",
        "#partial_eval_train_targets = train_targets[3001:]"
      ],
      "metadata": {
        "id": "hBczOshsUNnB"
      },
      "execution_count": 88,
      "outputs": []
    },
    {
      "cell_type": "code",
      "source": [
        "# Normalizamos basándonos en las características\n",
        "##############################################\n",
        "# Calculamos la media del primer eje de los datos de entrenamiento\n",
        "mean = train_data.mean(axis=0)\n",
        "print(\"##### Media de las 13 características de los datos de entrenamiento ##### \")\n",
        "print(mean)\n",
        "# A los datos de entrenamiento le restamos la media\n",
        "train_data -= mean\n",
        "\n",
        "# Calculamos la desviación estandar del primer eje de los datos de entrenamiento\n",
        "std = train_data.std(axis=0)\n",
        "print(\"##### Desviación estandar de las 13 características de los datos de entrenamiento ##### \")\n",
        "print(std)\n",
        "# A los datos de entrenamiento los dividimos por la desviación estándar\n",
        "train_data /= std\n",
        "#print(\"##### Datos de entrenamiento normalizados para la primera casa ##### \")\n",
        "#print(train_data[0])\n",
        "\n",
        "# ¡¡IMPORTANTE!!: USAMOS LA MEDIA Y LA DESVIACIÓN ESTANDAR DE LOS DATOS DE \n",
        "# ENTRENAMIENTO PARA NORMALIZAR EL SET DE DATOS DE LOS DATOS DE TEST \n",
        "test_data -= mean\n",
        "test_data /= std\n",
        "#print(\"##### Datos de test normalizados (de la primera casa) con la media y la desviación estándar de los datos de entrenamiento ##### \")\n",
        "#print(test_data[0])"
      ],
      "metadata": {
        "colab": {
          "base_uri": "https://localhost:8080/"
        },
        "id": "Vm0wC3sVOnKA",
        "outputId": "f057e705-ab44-4e30-be6d-3894c78048ef"
      },
      "execution_count": 103,
      "outputs": [
        {
          "output_type": "stream",
          "name": "stdout",
          "text": [
            "##### Media de las 13 características de los datos de entrenamiento ##### \n",
            "Número de comentarios    2193.210154\n",
            "Precio                    140.196262\n",
            "dtype: float64\n",
            "##### Desviación estandar de las 13 características de los datos de entrenamiento ##### \n",
            "Número de comentarios    2021.854114\n",
            "Precio                     84.133629\n",
            "dtype: float64\n"
          ]
        }
      ]
    },
    {
      "cell_type": "code",
      "source": [
        "train_data.shape[1]"
      ],
      "metadata": {
        "colab": {
          "base_uri": "https://localhost:8080/"
        },
        "id": "K2mhPnZoY9xC",
        "outputId": "8ca38beb-fa22-4af7-a54f-8c4d878268f8"
      },
      "execution_count": 104,
      "outputs": [
        {
          "output_type": "execute_result",
          "data": {
            "text/plain": [
              "2"
            ]
          },
          "metadata": {},
          "execution_count": 104
        }
      ]
    },
    {
      "cell_type": "code",
      "source": [
        "import tensorflow as tf\n",
        "from keras import models\n",
        "from keras import layers\n",
        "\n",
        "def build_model():\n",
        "    # Porque necesitaremos instanciar el mismo modelo \n",
        "    # múltiples veces, usamos una función para construirlo\n",
        "    model = models.Sequential()\n",
        "    model.add(layers.Dense(64, activation='relu',\n",
        "                           input_shape=(train_data.shape[1],)))\n",
        "    model.add(layers.Dense(64, activation='relu'))\n",
        "    model.add(layers.Dense(1))\n",
        "    # MSE: Mean Squared Error\n",
        "    # MAE: Mean Absolute Error\n",
        "    model.compile(optimizer='rmsprop', loss='mse', \n",
        "                  metrics=[tf.keras.metrics.MeanAbsoluteError()]) # metrics = ['mae']\n",
        "    return model"
      ],
      "metadata": {
        "id": "1Ko1B4Q3ZC_d"
      },
      "execution_count": 105,
      "outputs": []
    },
    {
      "cell_type": "code",
      "source": [
        "# 2. Hacer aquí las particiones de los datos de entrenamiento\n",
        "partial_train_data = train_data[:2500]\n",
        "partial_eval_train_data = train_data[2501:]\n",
        "partial_train_targets = train_targets[:2500]\n",
        "partial_eval_train_targets = train_targets[2501:]"
      ],
      "metadata": {
        "id": "019PQQ2MZmNd"
      },
      "execution_count": 106,
      "outputs": []
    },
    {
      "cell_type": "code",
      "source": [
        "# 2. Entrenar el modelo con 25 épocas y un batch_size=1\n",
        "mymodel = build_model()"
      ],
      "metadata": {
        "id": "znQpv5fCZOOf"
      },
      "execution_count": 107,
      "outputs": []
    },
    {
      "cell_type": "code",
      "source": [
        "history = mymodel.fit(partial_train_data, partial_train_targets,\n",
        "            validation_data=(partial_eval_train_data, partial_eval_train_targets),\n",
        "                        epochs=25, batch_size=1)"
      ],
      "metadata": {
        "colab": {
          "base_uri": "https://localhost:8080/"
        },
        "id": "-UAUOTQJZQte",
        "outputId": "7872f96d-45c8-4b91-a96b-a1fdc6a95125"
      },
      "execution_count": 108,
      "outputs": [
        {
          "output_type": "stream",
          "name": "stdout",
          "text": [
            "Epoch 1/25\n",
            "2500/2500 [==============================] - 5s 2ms/step - loss: 1.3391 - mean_absolute_error: 0.6417 - val_loss: 0.6169 - val_mean_absolute_error: 0.6530\n",
            "Epoch 2/25\n",
            "2500/2500 [==============================] - 4s 2ms/step - loss: 0.4331 - mean_absolute_error: 0.4991 - val_loss: 0.4814 - val_mean_absolute_error: 0.5533\n",
            "Epoch 3/25\n",
            "2500/2500 [==============================] - 4s 2ms/step - loss: 0.4318 - mean_absolute_error: 0.4994 - val_loss: 0.4073 - val_mean_absolute_error: 0.4845\n",
            "Epoch 4/25\n",
            "2500/2500 [==============================] - 4s 2ms/step - loss: 0.4355 - mean_absolute_error: 0.5026 - val_loss: 0.4086 - val_mean_absolute_error: 0.4787\n",
            "Epoch 5/25\n",
            "2500/2500 [==============================] - 4s 2ms/step - loss: 0.4342 - mean_absolute_error: 0.4998 - val_loss: 0.4455 - val_mean_absolute_error: 0.5245\n",
            "Epoch 6/25\n",
            "2500/2500 [==============================] - 4s 1ms/step - loss: 0.4345 - mean_absolute_error: 0.4994 - val_loss: 0.4476 - val_mean_absolute_error: 0.4929\n",
            "Epoch 7/25\n",
            "2500/2500 [==============================] - 6s 2ms/step - loss: 0.4303 - mean_absolute_error: 0.4964 - val_loss: 0.4111 - val_mean_absolute_error: 0.4925\n",
            "Epoch 8/25\n",
            "2500/2500 [==============================] - 6s 2ms/step - loss: 0.4280 - mean_absolute_error: 0.4997 - val_loss: 0.6158 - val_mean_absolute_error: 0.6535\n",
            "Epoch 9/25\n",
            "2500/2500 [==============================] - 6s 2ms/step - loss: 0.4275 - mean_absolute_error: 0.4997 - val_loss: 0.4183 - val_mean_absolute_error: 0.4805\n",
            "Epoch 10/25\n",
            "2500/2500 [==============================] - 5s 2ms/step - loss: 0.4302 - mean_absolute_error: 0.4987 - val_loss: 0.4106 - val_mean_absolute_error: 0.4926\n",
            "Epoch 11/25\n",
            "2500/2500 [==============================] - 4s 2ms/step - loss: 0.4255 - mean_absolute_error: 0.4923 - val_loss: 0.4062 - val_mean_absolute_error: 0.4765\n",
            "Epoch 12/25\n",
            "2500/2500 [==============================] - 4s 2ms/step - loss: 0.4235 - mean_absolute_error: 0.4907 - val_loss: 0.4072 - val_mean_absolute_error: 0.4888\n",
            "Epoch 13/25\n",
            "2500/2500 [==============================] - 4s 2ms/step - loss: 0.4229 - mean_absolute_error: 0.4969 - val_loss: 0.4489 - val_mean_absolute_error: 0.4927\n",
            "Epoch 14/25\n",
            "2500/2500 [==============================] - 4s 1ms/step - loss: 0.4240 - mean_absolute_error: 0.4983 - val_loss: 0.4081 - val_mean_absolute_error: 0.4905\n",
            "Epoch 15/25\n",
            "2500/2500 [==============================] - 4s 1ms/step - loss: 0.4186 - mean_absolute_error: 0.4910 - val_loss: 0.4757 - val_mean_absolute_error: 0.5039\n",
            "Epoch 16/25\n",
            "2500/2500 [==============================] - 4s 1ms/step - loss: 0.4177 - mean_absolute_error: 0.4908 - val_loss: 0.4050 - val_mean_absolute_error: 0.4750\n",
            "Epoch 17/25\n",
            "2500/2500 [==============================] - 4s 2ms/step - loss: 0.4232 - mean_absolute_error: 0.4951 - val_loss: 0.4069 - val_mean_absolute_error: 0.4895\n",
            "Epoch 18/25\n",
            "2500/2500 [==============================] - 4s 1ms/step - loss: 0.4196 - mean_absolute_error: 0.4900 - val_loss: 0.4061 - val_mean_absolute_error: 0.4745\n",
            "Epoch 19/25\n",
            "2500/2500 [==============================] - 4s 2ms/step - loss: 0.4208 - mean_absolute_error: 0.4915 - val_loss: 0.4134 - val_mean_absolute_error: 0.4772\n",
            "Epoch 20/25\n",
            "2500/2500 [==============================] - 4s 1ms/step - loss: 0.4182 - mean_absolute_error: 0.4886 - val_loss: 0.4324 - val_mean_absolute_error: 0.5150\n",
            "Epoch 21/25\n",
            "2500/2500 [==============================] - 4s 2ms/step - loss: 0.4151 - mean_absolute_error: 0.4910 - val_loss: 0.5253 - val_mean_absolute_error: 0.5290\n",
            "Epoch 22/25\n",
            "2500/2500 [==============================] - 4s 1ms/step - loss: 0.4178 - mean_absolute_error: 0.4884 - val_loss: 0.4418 - val_mean_absolute_error: 0.5223\n",
            "Epoch 23/25\n",
            "2500/2500 [==============================] - 4s 2ms/step - loss: 0.4141 - mean_absolute_error: 0.4885 - val_loss: 0.4077 - val_mean_absolute_error: 0.4744\n",
            "Epoch 24/25\n",
            "2500/2500 [==============================] - 4s 2ms/step - loss: 0.4134 - mean_absolute_error: 0.4880 - val_loss: 0.3994 - val_mean_absolute_error: 0.4782\n",
            "Epoch 25/25\n",
            "2500/2500 [==============================] - 4s 2ms/step - loss: 0.4130 - mean_absolute_error: 0.4889 - val_loss: 0.4134 - val_mean_absolute_error: 0.4765\n"
          ]
        }
      ]
    },
    {
      "cell_type": "code",
      "source": [
        "mae_history = history.history['val_mean_absolute_error']"
      ],
      "metadata": {
        "id": "i_mRL-sMd8_C"
      },
      "execution_count": 109,
      "outputs": []
    },
    {
      "cell_type": "code",
      "source": [
        "mse_history = history.history['val_loss']"
      ],
      "metadata": {
        "id": "TghrxcY-ek0B"
      },
      "execution_count": 110,
      "outputs": []
    },
    {
      "cell_type": "code",
      "source": [
        "# 3. Confrontar en una gráfica de épocas en el eje de abcisas contra pérdida (MSE) en\n",
        "# el eje de ordenadas\n",
        "import matplotlib.pyplot as plt\n",
        "\n",
        "plt.plot(range(1, len(mse_history) + 1), mse_history)\n",
        "plt.xlabel('Epochs')\n",
        "plt.ylabel('Validación MSE')\n",
        "plt.show()"
      ],
      "metadata": {
        "id": "gcfWuM20hopF",
        "outputId": "76fb9232-c375-4740-a65e-44aaa7b0c800",
        "colab": {
          "base_uri": "https://localhost:8080/",
          "height": 279
        }
      },
      "execution_count": 111,
      "outputs": [
        {
          "output_type": "display_data",
          "data": {
            "text/plain": [
              "<Figure size 432x288 with 1 Axes>"
            ],
            "image/png": "[encoded data removed]"
          },
          "metadata": {
            "needs_background": "light"
          }
        }
      ]
    },
    {
      "cell_type": "code",
      "source": [
        "import matplotlib.pyplot as plt\n",
        "\n",
        "loss = history.history['loss']\n",
        "val_loss = history.history['val_loss']\n",
        "\n",
        "epochs = range(1, len(loss) + 1)\n",
        "\n",
        "plt.plot(epochs, loss, 'bo', label='Pérdida del entreno')\n",
        "plt.plot(epochs, val_loss, 'b', label='Pérdida de la validación')\n",
        "plt.title('Perdidas del entreno y la validación')\n",
        "plt.xlabel('Épocas')\n",
        "plt.ylabel('Pérdida')\n",
        "plt.legend()\n",
        "\n",
        "plt.show()"
      ],
      "metadata": {
        "id": "DNuqDK1Zhq1X",
        "outputId": "ebb797a4-241f-452c-bc84-22959782d82b",
        "colab": {
          "base_uri": "https://localhost:8080/",
          "height": 297
        }
      },
      "execution_count": 112,
      "outputs": [
        {
          "output_type": "display_data",
          "data": {
            "text/plain": [
              "<Figure size 432x288 with 1 Axes>"
            ],
            "image/png": "[encoded data removed]"
          },
          "metadata": {
            "needs_background": "light"
          }
        }
      ]
    },
    {
      "cell_type": "code",
      "source": [
        "# 4. Confrontar en una gráfica de épocas en el eje de abcisas contra la métrica de \n",
        "# error absoluto medio (MAE) \n",
        "import matplotlib.pyplot as plt\n",
        "\n",
        "plt.plot(range(1, len(mae_history) + 1), mae_history)\n",
        "plt.xlabel('Epochs')\n",
        "plt.ylabel('Validación MAE')\n",
        "plt.show()"
      ],
      "metadata": {
        "id": "mClz2sAGhsra",
        "outputId": "3ad11f5e-9bf9-4b5c-ae28-a0e10e1948e4",
        "colab": {
          "base_uri": "https://localhost:8080/",
          "height": 279
        }
      },
      "execution_count": 113,
      "outputs": [
        {
          "output_type": "display_data",
          "data": {
            "text/plain": [
              "<Figure size 432x288 with 1 Axes>"
            ],
            "image/png": "[encoded data removed]"
          },
          "metadata": {
            "needs_background": "light"
          }
        }
      ]
    },
    {
      "cell_type": "code",
      "source": [
        "import matplotlib.pyplot as plt\n",
        "\n",
        "loss = history.history['mean_absolute_error']\n",
        "val_loss = history.history['val_mean_absolute_error']\n",
        "\n",
        "epochs = range(1, len(loss) + 1)\n",
        "\n",
        "plt.plot(epochs, loss, 'bo', label='Pérdida del entreno')\n",
        "plt.plot(epochs, val_loss, 'b', label='Pérdida de la validación')\n",
        "plt.title('Perdidas del entreno y la validación')\n",
        "plt.xlabel('Épocas')\n",
        "plt.ylabel('Pérdida')\n",
        "plt.legend()\n",
        "\n",
        "plt.show()"
      ],
      "metadata": {
        "id": "njh5NgIDhutt",
        "outputId": "a4a26e05-736a-4fe0-c0b8-d7352f9f7e29",
        "colab": {
          "base_uri": "https://localhost:8080/",
          "height": 297
        }
      },
      "execution_count": 114,
      "outputs": [
        {
          "output_type": "display_data",
          "data": {
            "text/plain": [
              "<Figure size 432x288 with 1 Axes>"
            ],
            "image/png": "[encoded data removed]"
          },
          "metadata": {
            "needs_background": "light"
          }
        }
      ]
    },
    {
      "cell_type": "code",
      "source": [
        "# 5. Entrenar de nuevo el modelo el número de épocas adecuado para evitar overfitting\n",
        "mymodel2 = build_model()\n",
        "history2 = mymodel2.fit(partial_train_data, partial_train_targets,\n",
        "            validation_data=(partial_eval_train_data, partial_eval_train_targets),\n",
        "                        epochs=5, batch_size=1)"
      ],
      "metadata": {
        "id": "jfLmuPaUhwhV",
        "outputId": "0652f596-9349-498f-ac5f-3335f0a26544",
        "colab": {
          "base_uri": "https://localhost:8080/"
        }
      },
      "execution_count": 117,
      "outputs": [
        {
          "output_type": "stream",
          "name": "stdout",
          "text": [
            "Epoch 1/5\n",
            "2500/2500 [==============================] - 5s 2ms/step - loss: 1.6588 - mean_absolute_error: 0.6846 - val_loss: 0.5411 - val_mean_absolute_error: 0.5388\n",
            "Epoch 2/5\n",
            "2500/2500 [==============================] - 4s 2ms/step - loss: 0.4300 - mean_absolute_error: 0.4975 - val_loss: 0.4548 - val_mean_absolute_error: 0.4972\n",
            "Epoch 3/5\n",
            "2500/2500 [==============================] - 4s 2ms/step - loss: 0.4251 - mean_absolute_error: 0.4952 - val_loss: 0.4562 - val_mean_absolute_error: 0.5324\n",
            "Epoch 4/5\n",
            "2500/2500 [==============================] - 4s 2ms/step - loss: 0.4281 - mean_absolute_error: 0.4975 - val_loss: 0.4076 - val_mean_absolute_error: 0.4796\n",
            "Epoch 5/5\n",
            "2500/2500 [==============================] - 4s 2ms/step - loss: 0.4233 - mean_absolute_error: 0.4947 - val_loss: 0.4089 - val_mean_absolute_error: 0.4884\n"
          ]
        }
      ]
    },
    {
      "cell_type": "code",
      "source": [
        "mae_history2 = history2.history['val_mean_absolute_error']\n",
        "mse_history2 = history2.history['val_loss']\n",
        "\n",
        "import matplotlib.pyplot as plt\n",
        "\n",
        "plt.plot(range(1, len(mse_history2) + 1), mse_history2)\n",
        "plt.xlabel('Epochs')\n",
        "plt.ylabel('Validación MSE')\n",
        "plt.show()\n",
        "\n",
        "import matplotlib.pyplot as plt\n",
        "\n",
        "plt.plot(range(1, len(mae_history2) + 1), mae_history2)\n",
        "plt.xlabel('Epochs')\n",
        "plt.ylabel('Validación MAE')\n",
        "plt.show()"
      ],
      "metadata": {
        "id": "gU22Ja5mh0T9",
        "outputId": "eebd6460-060a-4257-ecfd-42c30d84295a",
        "colab": {
          "base_uri": "https://localhost:8080/",
          "height": 541
        }
      },
      "execution_count": 118,
      "outputs": [
        {
          "output_type": "display_data",
          "data": {
            "text/plain": [
              "<Figure size 432x288 with 1 Axes>"
            ],
            "image/png": "[encoded data removed]"
          },
          "metadata": {
            "needs_background": "light"
          }
        },
        {
          "output_type": "display_data",
          "data": {
            "text/plain": [
              "<Figure size 432x288 with 1 Axes>"
            ],
            "image/png": "[encoded data removed]"
          },
          "metadata": {
            "needs_background": "light"
          }
        }
      ]
    }
  ]
}