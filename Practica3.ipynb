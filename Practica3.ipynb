{
  "nbformat": 4,
  "nbformat_minor": 0,
  "metadata": {
    "colab": {
      "provenance": [],
      "include_colab_link": true
    },
    "kernelspec": {
      "name": "python3",
      "display_name": "Python 3"
    },
    "language_info": {
      "name": "python"
    }
  },
  "cells": [
    {
      "cell_type": "markdown",
      "metadata": {
        "id": "view-in-github",
        "colab_type": "text"
      },
      "source": [
        "<a href=\"https://colab.research.google.com/github/elenagonzalezrebollo/AprendizajeAutomatico/blob/main/Practica3.ipynb\" target=\"_parent\"><img src=\"https://colab.research.google.com/assets/colab-badge.svg\" alt=\"Open In Colab\"/></a>"
      ]
    },
    {
      "cell_type": "code",
      "source": [
        "import pandas as pd\n",
        "import numpy as np\n",
        "import matplotlib.pyplot as plt\n",
        "%matplotlib inline\n"
      ],
      "metadata": {
        "id": "lcAKpTlrZKu2"
      },
      "execution_count": 6,
      "outputs": []
    },
    {
      "cell_type": "markdown",
      "source": [
        "https://www.kaggle.com/datasets/mohannapd/mobile-price-prediction"
      ],
      "metadata": {
        "id": "8BDFkWIYqOfy"
      }
    },
    {
      "cell_type": "code",
      "source": [
        "data = pd.read_csv('Cellphone.csv', encoding='latin-1')\n",
        "data.head()\n"
      ],
      "metadata": {
        "colab": {
          "base_uri": "https://localhost:8080/",
          "height": 206
        },
        "id": "x05nKWYMZNNX",
        "outputId": "85fb79e7-b828-41bb-95db-cf30fb09e132"
      },
      "execution_count": 8,
      "outputs": [
        {
          "output_type": "execute_result",
          "data": {
            "text/plain": [
              "   Product_id  Price  Sale  weight  resoloution  ppi  cpu core  cpu freq  \\\n",
              "0         203   2357    10   135.0          5.2  424         8      1.35   \n",
              "1         880   1749    10   125.0          4.0  233         2      1.30   \n",
              "2          40   1916    10   110.0          4.7  312         4      1.20   \n",
              "3          99   1315    11   118.5          4.0  233         2      1.30   \n",
              "4         880   1749    11   125.0          4.0  233         2      1.30   \n",
              "\n",
              "   internal mem    ram  RearCam  Front_Cam  battery  thickness  \n",
              "0          16.0  3.000    13.00        8.0     2610        7.4  \n",
              "1           4.0  1.000     3.15        0.0     1700        9.9  \n",
              "2           8.0  1.500    13.00        5.0     2000        7.6  \n",
              "3           4.0  0.512     3.15        0.0     1400       11.0  \n",
              "4           4.0  1.000     3.15        0.0     1700        9.9  "
            ],
            "text/html": [
              "\n",
              "  <div id=\"df-1bf8b81c-c1a2-4b0e-8938-370f638176d3\">\n",
              "    <div class=\"colab-df-container\">\n",
              "      <div>\n",
              "<style scoped>\n",
              "    .dataframe tbody tr th:only-of-type {\n",
              "        vertical-align: middle;\n",
              "    }\n",
              "\n",
              "    .dataframe tbody tr th {\n",
              "        vertical-align: top;\n",
              "    }\n",
              "\n",
              "    .dataframe thead th {\n",
              "        text-align: right;\n",
              "    }\n",
              "</style>\n",
              "<table border=\"1\" class=\"dataframe\">\n",
              "  <thead>\n",
              "    <tr style=\"text-align: right;\">\n",
              "      <th></th>\n",
              "      <th>Product_id</th>\n",
              "      <th>Price</th>\n",
              "      <th>Sale</th>\n",
              "      <th>weight</th>\n",
              "      <th>resoloution</th>\n",
              "      <th>ppi</th>\n",
              "      <th>cpu core</th>\n",
              "      <th>cpu freq</th>\n",
              "      <th>internal mem</th>\n",
              "      <th>ram</th>\n",
              "      <th>RearCam</th>\n",
              "      <th>Front_Cam</th>\n",
              "      <th>battery</th>\n",
              "      <th>thickness</th>\n",
              "    </tr>\n",
              "  </thead>\n",
              "  <tbody>\n",
              "    <tr>\n",
              "      <th>0</th>\n",
              "      <td>203</td>\n",
              "      <td>2357</td>\n",
              "      <td>10</td>\n",
              "      <td>135.0</td>\n",
              "      <td>5.2</td>\n",
              "      <td>424</td>\n",
              "      <td>8</td>\n",
              "      <td>1.35</td>\n",
              "      <td>16.0</td>\n",
              "      <td>3.000</td>\n",
              "      <td>13.00</td>\n",
              "      <td>8.0</td>\n",
              "      <td>2610</td>\n",
              "      <td>7.4</td>\n",
              "    </tr>\n",
              "    <tr>\n",
              "      <th>1</th>\n",
              "      <td>880</td>\n",
              "      <td>1749</td>\n",
              "      <td>10</td>\n",
              "      <td>125.0</td>\n",
              "      <td>4.0</td>\n",
              "      <td>233</td>\n",
              "      <td>2</td>\n",
              "      <td>1.30</td>\n",
              "      <td>4.0</td>\n",
              "      <td>1.000</td>\n",
              "      <td>3.15</td>\n",
              "      <td>0.0</td>\n",
              "      <td>1700</td>\n",
              "      <td>9.9</td>\n",
              "    </tr>\n",
              "    <tr>\n",
              "      <th>2</th>\n",
              "      <td>40</td>\n",
              "      <td>1916</td>\n",
              "      <td>10</td>\n",
              "      <td>110.0</td>\n",
              "      <td>4.7</td>\n",
              "      <td>312</td>\n",
              "      <td>4</td>\n",
              "      <td>1.20</td>\n",
              "      <td>8.0</td>\n",
              "      <td>1.500</td>\n",
              "      <td>13.00</td>\n",
              "      <td>5.0</td>\n",
              "      <td>2000</td>\n",
              "      <td>7.6</td>\n",
              "    </tr>\n",
              "    <tr>\n",
              "      <th>3</th>\n",
              "      <td>99</td>\n",
              "      <td>1315</td>\n",
              "      <td>11</td>\n",
              "      <td>118.5</td>\n",
              "      <td>4.0</td>\n",
              "      <td>233</td>\n",
              "      <td>2</td>\n",
              "      <td>1.30</td>\n",
              "      <td>4.0</td>\n",
              "      <td>0.512</td>\n",
              "      <td>3.15</td>\n",
              "      <td>0.0</td>\n",
              "      <td>1400</td>\n",
              "      <td>11.0</td>\n",
              "    </tr>\n",
              "    <tr>\n",
              "      <th>4</th>\n",
              "      <td>880</td>\n",
              "      <td>1749</td>\n",
              "      <td>11</td>\n",
              "      <td>125.0</td>\n",
              "      <td>4.0</td>\n",
              "      <td>233</td>\n",
              "      <td>2</td>\n",
              "      <td>1.30</td>\n",
              "      <td>4.0</td>\n",
              "      <td>1.000</td>\n",
              "      <td>3.15</td>\n",
              "      <td>0.0</td>\n",
              "      <td>1700</td>\n",
              "      <td>9.9</td>\n",
              "    </tr>\n",
              "  </tbody>\n",
              "</table>\n",
              "</div>\n",
              "      <button class=\"colab-df-convert\" onclick=\"convertToInteractive('df-1bf8b81c-c1a2-4b0e-8938-370f638176d3')\"\n",
              "              title=\"Convert this dataframe to an interactive table.\"\n",
              "              style=\"display:none;\">\n",
              "        \n",
              "  <svg xmlns=\"http://www.w3.org/2000/svg\" height=\"24px\"viewBox=\"0 0 24 24\"\n",
              "       width=\"24px\">\n",
              "    <path d=\"M0 0h24v24H0V0z\" fill=\"none\"/>\n",
              "    <path d=\"M18.56 5.44l.94 2.06.94-2.06 2.06-.94-2.06-.94-.94-2.06-.94 2.06-2.06.94zm-11 1L8.5 8.5l.94-2.06 2.06-.94-2.06-.94L8.5 2.5l-.94 2.06-2.06.94zm10 10l.94 2.06.94-2.06 2.06-.94-2.06-.94-.94-2.06-.94 2.06-2.06.94z\"/><path d=\"M17.41 7.96l-1.37-1.37c-.4-.4-.92-.59-1.43-.59-.52 0-1.04.2-1.43.59L10.3 9.45l-7.72 7.72c-.78.78-.78 2.05 0 2.83L4 21.41c.39.39.9.59 1.41.59.51 0 1.02-.2 1.41-.59l7.78-7.78 2.81-2.81c.8-.78.8-2.07 0-2.86zM5.41 20L4 18.59l7.72-7.72 1.47 1.35L5.41 20z\"/>\n",
              "  </svg>\n",
              "      </button>\n",
              "      \n",
              "  <style>\n",
              "    .colab-df-container {\n",
              "      display:flex;\n",
              "      flex-wrap:wrap;\n",
              "      gap: 12px;\n",
              "    }\n",
              "\n",
              "    .colab-df-convert {\n",
              "      background-color: #E8F0FE;\n",
              "      border: none;\n",
              "      border-radius: 50%;\n",
              "      cursor: pointer;\n",
              "      display: none;\n",
              "      fill: #1967D2;\n",
              "      height: 32px;\n",
              "      padding: 0 0 0 0;\n",
              "      width: 32px;\n",
              "    }\n",
              "\n",
              "    .colab-df-convert:hover {\n",
              "      background-color: #E2EBFA;\n",
              "      box-shadow: 0px 1px 2px rgba(60, 64, 67, 0.3), 0px 1px 3px 1px rgba(60, 64, 67, 0.15);\n",
              "      fill: #174EA6;\n",
              "    }\n",
              "\n",
              "    [theme=dark] .colab-df-convert {\n",
              "      background-color: #3B4455;\n",
              "      fill: #D2E3FC;\n",
              "    }\n",
              "\n",
              "    [theme=dark] .colab-df-convert:hover {\n",
              "      background-color: #434B5C;\n",
              "      box-shadow: 0px 1px 3px 1px rgba(0, 0, 0, 0.15);\n",
              "      filter: drop-shadow(0px 1px 2px rgba(0, 0, 0, 0.3));\n",
              "      fill: #FFFFFF;\n",
              "    }\n",
              "  </style>\n",
              "\n",
              "      <script>\n",
              "        const buttonEl =\n",
              "          document.querySelector('#df-1bf8b81c-c1a2-4b0e-8938-370f638176d3 button.colab-df-convert');\n",
              "        buttonEl.style.display =\n",
              "          google.colab.kernel.accessAllowed ? 'block' : 'none';\n",
              "\n",
              "        async function convertToInteractive(key) {\n",
              "          const element = document.querySelector('#df-1bf8b81c-c1a2-4b0e-8938-370f638176d3');\n",
              "          const dataTable =\n",
              "            await google.colab.kernel.invokeFunction('convertToInteractive',\n",
              "                                                     [key], {});\n",
              "          if (!dataTable) return;\n",
              "\n",
              "          const docLinkHtml = 'Like what you see? Visit the ' +\n",
              "            '<a target=\"_blank\" href=https://colab.research.google.com/notebooks/data_table.ipynb>data table notebook</a>'\n",
              "            + ' to learn more about interactive tables.';\n",
              "          element.innerHTML = '';\n",
              "          dataTable['output_type'] = 'display_data';\n",
              "          await google.colab.output.renderOutput(dataTable, element);\n",
              "          const docLink = document.createElement('div');\n",
              "          docLink.innerHTML = docLinkHtml;\n",
              "          element.appendChild(docLink);\n",
              "        }\n",
              "      </script>\n",
              "    </div>\n",
              "  </div>\n",
              "  "
            ]
          },
          "metadata": {},
          "execution_count": 8
        }
      ]
    },
    {
      "cell_type": "code",
      "source": [
        "data.columns"
      ],
      "metadata": {
        "colab": {
          "base_uri": "https://localhost:8080/"
        },
        "id": "_mHH10dkQdUn",
        "outputId": "bdcbaad5-1fb7-49fa-d7f7-9e43634dbe78"
      },
      "execution_count": 9,
      "outputs": [
        {
          "output_type": "execute_result",
          "data": {
            "text/plain": [
              "Index(['Product_id', 'Price', 'Sale', 'weight', 'resoloution', 'ppi',\n",
              "       'cpu core', 'cpu freq', 'internal mem', 'ram', 'RearCam', 'Front_Cam',\n",
              "       'battery', 'thickness'],\n",
              "      dtype='object')"
            ]
          },
          "metadata": {},
          "execution_count": 9
        }
      ]
    },
    {
      "cell_type": "code",
      "source": [
        "#data=data.drop(['index'], axis=1)\n"
      ],
      "metadata": {
        "id": "RNZV_2I5p402"
      },
      "execution_count": 10,
      "outputs": []
    },
    {
      "cell_type": "code",
      "source": [],
      "metadata": {
        "id": "g1KVTqwtrITa"
      },
      "execution_count": null,
      "outputs": []
    },
    {
      "cell_type": "code",
      "source": [
        "train_targets=data.Price[:120]\n",
        "test_targets=data.Price[121:]\n",
        "data=data.drop(['Price'], axis=1)\n",
        "train_data=data[:120]\n",
        "test_data=data[121:]\n",
        "\n",
        "\n",
        "#(train_data, train_targets), (test_data, test_targets) =  data"
      ],
      "metadata": {
        "id": "uQSf9SCDdlkO"
      },
      "execution_count": 11,
      "outputs": []
    },
    {
      "cell_type": "code",
      "source": [
        "train_data.shape"
      ],
      "metadata": {
        "colab": {
          "base_uri": "https://localhost:8080/"
        },
        "id": "Ihq6r5uOOW6n",
        "outputId": "6c9b8623-5f64-4f1f-9e7e-d0fae694e495"
      },
      "execution_count": 12,
      "outputs": [
        {
          "output_type": "execute_result",
          "data": {
            "text/plain": [
              "(120, 13)"
            ]
          },
          "metadata": {},
          "execution_count": 12
        }
      ]
    },
    {
      "cell_type": "code",
      "source": [
        "test_data.shape"
      ],
      "metadata": {
        "colab": {
          "base_uri": "https://localhost:8080/"
        },
        "id": "I-bVV-rSOaD0",
        "outputId": "5641111b-523b-4553-95c2-bbc0f3693ff6"
      },
      "execution_count": 13,
      "outputs": [
        {
          "output_type": "execute_result",
          "data": {
            "text/plain": [
              "(40, 13)"
            ]
          },
          "metadata": {},
          "execution_count": 13
        }
      ]
    },
    {
      "cell_type": "code",
      "source": [
        "train_targets.shape"
      ],
      "metadata": {
        "colab": {
          "base_uri": "https://localhost:8080/"
        },
        "id": "PgibHgHhOagB",
        "outputId": "9f49c475-46c6-44ac-c5f6-24163f4c4855"
      },
      "execution_count": 14,
      "outputs": [
        {
          "output_type": "execute_result",
          "data": {
            "text/plain": [
              "(120,)"
            ]
          },
          "metadata": {},
          "execution_count": 14
        }
      ]
    },
    {
      "cell_type": "code",
      "source": [
        "test_targets.shape"
      ],
      "metadata": {
        "colab": {
          "base_uri": "https://localhost:8080/"
        },
        "id": "TwcoEhr0OaxP",
        "outputId": "f70da673-ed14-47ec-ecd7-858a869e49a9"
      },
      "execution_count": 15,
      "outputs": [
        {
          "output_type": "execute_result",
          "data": {
            "text/plain": [
              "(40,)"
            ]
          },
          "metadata": {},
          "execution_count": 15
        }
      ]
    },
    {
      "cell_type": "code",
      "source": [
        "train_data[:1]"
      ],
      "metadata": {
        "id": "xTZMuiqfYW2N",
        "colab": {
          "base_uri": "https://localhost:8080/",
          "height": 81
        },
        "outputId": "c8b7caf5-b3ab-476e-d98a-e6d244634e5d"
      },
      "execution_count": 16,
      "outputs": [
        {
          "output_type": "execute_result",
          "data": {
            "text/plain": [
              "   Product_id  Sale  weight  resoloution  ppi  cpu core  cpu freq  \\\n",
              "0         203    10   135.0          5.2  424         8      1.35   \n",
              "\n",
              "   internal mem  ram  RearCam  Front_Cam  battery  thickness  \n",
              "0          16.0  3.0     13.0        8.0     2610        7.4  "
            ],
            "text/html": [
              "\n",
              "  <div id=\"df-98d1550e-8949-40d7-b7a9-2fc599bad965\">\n",
              "    <div class=\"colab-df-container\">\n",
              "      <div>\n",
              "<style scoped>\n",
              "    .dataframe tbody tr th:only-of-type {\n",
              "        vertical-align: middle;\n",
              "    }\n",
              "\n",
              "    .dataframe tbody tr th {\n",
              "        vertical-align: top;\n",
              "    }\n",
              "\n",
              "    .dataframe thead th {\n",
              "        text-align: right;\n",
              "    }\n",
              "</style>\n",
              "<table border=\"1\" class=\"dataframe\">\n",
              "  <thead>\n",
              "    <tr style=\"text-align: right;\">\n",
              "      <th></th>\n",
              "      <th>Product_id</th>\n",
              "      <th>Sale</th>\n",
              "      <th>weight</th>\n",
              "      <th>resoloution</th>\n",
              "      <th>ppi</th>\n",
              "      <th>cpu core</th>\n",
              "      <th>cpu freq</th>\n",
              "      <th>internal mem</th>\n",
              "      <th>ram</th>\n",
              "      <th>RearCam</th>\n",
              "      <th>Front_Cam</th>\n",
              "      <th>battery</th>\n",
              "      <th>thickness</th>\n",
              "    </tr>\n",
              "  </thead>\n",
              "  <tbody>\n",
              "    <tr>\n",
              "      <th>0</th>\n",
              "      <td>203</td>\n",
              "      <td>10</td>\n",
              "      <td>135.0</td>\n",
              "      <td>5.2</td>\n",
              "      <td>424</td>\n",
              "      <td>8</td>\n",
              "      <td>1.35</td>\n",
              "      <td>16.0</td>\n",
              "      <td>3.0</td>\n",
              "      <td>13.0</td>\n",
              "      <td>8.0</td>\n",
              "      <td>2610</td>\n",
              "      <td>7.4</td>\n",
              "    </tr>\n",
              "  </tbody>\n",
              "</table>\n",
              "</div>\n",
              "      <button class=\"colab-df-convert\" onclick=\"convertToInteractive('df-98d1550e-8949-40d7-b7a9-2fc599bad965')\"\n",
              "              title=\"Convert this dataframe to an interactive table.\"\n",
              "              style=\"display:none;\">\n",
              "        \n",
              "  <svg xmlns=\"http://www.w3.org/2000/svg\" height=\"24px\"viewBox=\"0 0 24 24\"\n",
              "       width=\"24px\">\n",
              "    <path d=\"M0 0h24v24H0V0z\" fill=\"none\"/>\n",
              "    <path d=\"M18.56 5.44l.94 2.06.94-2.06 2.06-.94-2.06-.94-.94-2.06-.94 2.06-2.06.94zm-11 1L8.5 8.5l.94-2.06 2.06-.94-2.06-.94L8.5 2.5l-.94 2.06-2.06.94zm10 10l.94 2.06.94-2.06 2.06-.94-2.06-.94-.94-2.06-.94 2.06-2.06.94z\"/><path d=\"M17.41 7.96l-1.37-1.37c-.4-.4-.92-.59-1.43-.59-.52 0-1.04.2-1.43.59L10.3 9.45l-7.72 7.72c-.78.78-.78 2.05 0 2.83L4 21.41c.39.39.9.59 1.41.59.51 0 1.02-.2 1.41-.59l7.78-7.78 2.81-2.81c.8-.78.8-2.07 0-2.86zM5.41 20L4 18.59l7.72-7.72 1.47 1.35L5.41 20z\"/>\n",
              "  </svg>\n",
              "      </button>\n",
              "      \n",
              "  <style>\n",
              "    .colab-df-container {\n",
              "      display:flex;\n",
              "      flex-wrap:wrap;\n",
              "      gap: 12px;\n",
              "    }\n",
              "\n",
              "    .colab-df-convert {\n",
              "      background-color: #E8F0FE;\n",
              "      border: none;\n",
              "      border-radius: 50%;\n",
              "      cursor: pointer;\n",
              "      display: none;\n",
              "      fill: #1967D2;\n",
              "      height: 32px;\n",
              "      padding: 0 0 0 0;\n",
              "      width: 32px;\n",
              "    }\n",
              "\n",
              "    .colab-df-convert:hover {\n",
              "      background-color: #E2EBFA;\n",
              "      box-shadow: 0px 1px 2px rgba(60, 64, 67, 0.3), 0px 1px 3px 1px rgba(60, 64, 67, 0.15);\n",
              "      fill: #174EA6;\n",
              "    }\n",
              "\n",
              "    [theme=dark] .colab-df-convert {\n",
              "      background-color: #3B4455;\n",
              "      fill: #D2E3FC;\n",
              "    }\n",
              "\n",
              "    [theme=dark] .colab-df-convert:hover {\n",
              "      background-color: #434B5C;\n",
              "      box-shadow: 0px 1px 3px 1px rgba(0, 0, 0, 0.15);\n",
              "      filter: drop-shadow(0px 1px 2px rgba(0, 0, 0, 0.3));\n",
              "      fill: #FFFFFF;\n",
              "    }\n",
              "  </style>\n",
              "\n",
              "      <script>\n",
              "        const buttonEl =\n",
              "          document.querySelector('#df-98d1550e-8949-40d7-b7a9-2fc599bad965 button.colab-df-convert');\n",
              "        buttonEl.style.display =\n",
              "          google.colab.kernel.accessAllowed ? 'block' : 'none';\n",
              "\n",
              "        async function convertToInteractive(key) {\n",
              "          const element = document.querySelector('#df-98d1550e-8949-40d7-b7a9-2fc599bad965');\n",
              "          const dataTable =\n",
              "            await google.colab.kernel.invokeFunction('convertToInteractive',\n",
              "                                                     [key], {});\n",
              "          if (!dataTable) return;\n",
              "\n",
              "          const docLinkHtml = 'Like what you see? Visit the ' +\n",
              "            '<a target=\"_blank\" href=https://colab.research.google.com/notebooks/data_table.ipynb>data table notebook</a>'\n",
              "            + ' to learn more about interactive tables.';\n",
              "          element.innerHTML = '';\n",
              "          dataTable['output_type'] = 'display_data';\n",
              "          await google.colab.output.renderOutput(dataTable, element);\n",
              "          const docLink = document.createElement('div');\n",
              "          docLink.innerHTML = docLinkHtml;\n",
              "          element.appendChild(docLink);\n",
              "        }\n",
              "      </script>\n",
              "    </div>\n",
              "  </div>\n",
              "  "
            ]
          },
          "metadata": {},
          "execution_count": 16
        }
      ]
    },
    {
      "cell_type": "code",
      "source": [
        "# Los 3959 precios medios de los datos de test en miles de $\n",
        "#test_targets"
      ],
      "metadata": {
        "id": "tHtVTNtBdB31"
      },
      "execution_count": null,
      "outputs": []
    },
    {
      "cell_type": "code",
      "source": [
        "# 1. Separamos los datos de entrenamiento con los datos de test\n",
        "#train_data = train_data[:3000]\n",
        "#test_data = train_data[3001:]\n",
        "#partial_train_targets = train_targets[:3000]\n",
        "#partial_eval_train_targets = train_targets[3001:]"
      ],
      "metadata": {
        "id": "hBczOshsUNnB"
      },
      "execution_count": 88,
      "outputs": []
    },
    {
      "cell_type": "code",
      "source": [
        "# Normalizamos basándonos en las características\n",
        "##############################################\n",
        "# Calculamos la media del primer eje de los datos de entrenamiento\n",
        "mean = train_data.mean(axis=0)\n",
        "print(\"##### Media de las 13 características de los datos de entrenamiento ##### \")\n",
        "print(mean)\n",
        "# A los datos de entrenamiento le restamos la media\n",
        "train_data -= mean\n",
        "\n",
        "# Calculamos la desviación estandar del primer eje de los datos de entrenamiento\n",
        "std = train_data.std(axis=0)\n",
        "print(\"##### Desviación estandar de las 13 características de los datos de entrenamiento ##### \")\n",
        "print(std)\n",
        "# A los datos de entrenamiento los dividimos por la desviación estándar\n",
        "train_data /= std\n",
        "#print(\"##### Datos de entrenamiento normalizados para la primera casa ##### \")\n",
        "#print(train_data[0])\n",
        "\n",
        "# ¡¡IMPORTANTE!!: USAMOS LA MEDIA Y LA DESVIACIÓN ESTANDAR DE LOS DATOS DE \n",
        "# ENTRENAMIENTO PARA NORMALIZAR EL SET DE DATOS DE LOS DATOS DE TEST \n",
        "test_data -= mean\n",
        "test_data /= std\n",
        "#print(\"##### Datos de test normalizados (de la primera casa) con la media y la desviación estándar de los datos de entrenamiento ##### \")\n",
        "#print(test_data[0])"
      ],
      "metadata": {
        "colab": {
          "base_uri": "https://localhost:8080/"
        },
        "id": "Vm0wC3sVOnKA",
        "outputId": "7e93ff7a-a5b9-4e1b-aee3-5c6046823475"
      },
      "execution_count": 17,
      "outputs": [
        {
          "output_type": "stream",
          "name": "stdout",
          "text": [
            "##### Media de las 13 características de los datos de entrenamiento ##### \n",
            "Product_id       624.408333\n",
            "Sale              98.366667\n",
            "weight           164.838333\n",
            "resoloution        5.214667\n",
            "ppi              326.816667\n",
            "cpu core           4.883333\n",
            "cpu freq           1.506300\n",
            "internal mem      20.166733\n",
            "ram                2.034700\n",
            "RearCam           10.007500\n",
            "Front_Cam          4.043333\n",
            "battery         2707.833333\n",
            "thickness          8.714167\n",
            "dtype: float64\n",
            "##### Desviación estandar de las 13 características de los datos de entrenamiento ##### \n",
            "Product_id       409.719529\n",
            "Sale              95.154446\n",
            "weight            73.077443\n",
            "resoloution        1.279919\n",
            "ppi              119.483059\n",
            "cpu core           2.355695\n",
            "cpu freq           0.540996\n",
            "internal mem      21.021866\n",
            "ram                1.397276\n",
            "RearCam            5.792699\n",
            "Front_Cam          3.808388\n",
            "battery         1078.070899\n",
            "thickness          1.746992\n",
            "dtype: float64\n"
          ]
        }
      ]
    },
    {
      "cell_type": "code",
      "source": [
        "train_data.shape[1]"
      ],
      "metadata": {
        "colab": {
          "base_uri": "https://localhost:8080/"
        },
        "id": "K2mhPnZoY9xC",
        "outputId": "3b4bb72b-47b8-4fbe-c54f-9fb0986288c2"
      },
      "execution_count": 18,
      "outputs": [
        {
          "output_type": "execute_result",
          "data": {
            "text/plain": [
              "13"
            ]
          },
          "metadata": {},
          "execution_count": 18
        }
      ]
    },
    {
      "cell_type": "code",
      "source": [
        "import tensorflow as tf\n",
        "from keras import models\n",
        "from keras import layers\n",
        "\n",
        "def build_model():\n",
        "    # Porque necesitaremos instanciar el mismo modelo \n",
        "    # múltiples veces, usamos una función para construirlo\n",
        "    model = models.Sequential()\n",
        "    model.add(layers.Dense(64, activation='relu',\n",
        "                           input_shape=(train_data.shape[1],)))\n",
        "    model.add(layers.Dense(64, activation='relu'))\n",
        "    model.add(layers.Dense(1))\n",
        "    # MSE: Mean Squared Error\n",
        "    # MAE: Mean Absolute Error\n",
        "    model.compile(optimizer='rmsprop', loss='mse', \n",
        "                  metrics=[tf.keras.metrics.MeanAbsoluteError()]) # metrics = ['mae']\n",
        "    return model"
      ],
      "metadata": {
        "id": "1Ko1B4Q3ZC_d"
      },
      "execution_count": 19,
      "outputs": []
    },
    {
      "cell_type": "code",
      "source": [
        "# 2. Hacer aquí las particiones de los datos de entrenamiento\n",
        "partial_train_data = train_data[:80]\n",
        "partial_eval_train_data = train_data[81:]\n",
        "partial_train_targets = train_targets[:80]\n",
        "partial_eval_train_targets = train_targets[81:]"
      ],
      "metadata": {
        "id": "019PQQ2MZmNd"
      },
      "execution_count": 20,
      "outputs": []
    },
    {
      "cell_type": "code",
      "source": [
        "# 2. Entrenar el modelo con 25 épocas y un batch_size=1\n",
        "mymodel = build_model()"
      ],
      "metadata": {
        "id": "znQpv5fCZOOf"
      },
      "execution_count": 22,
      "outputs": []
    },
    {
      "cell_type": "code",
      "source": [
        "history = mymodel.fit(partial_train_data, partial_train_targets,\n",
        "            validation_data=(partial_eval_train_data, partial_eval_train_targets),\n",
        "                        epochs=25, batch_size=1)"
      ],
      "metadata": {
        "colab": {
          "base_uri": "https://localhost:8080/"
        },
        "id": "-UAUOTQJZQte",
        "outputId": "43f7d976-cdc0-4e16-9467-1632bc24e450"
      },
      "execution_count": 23,
      "outputs": [
        {
          "output_type": "stream",
          "name": "stdout",
          "text": [
            "Epoch 1/25\n",
            "80/80 [==============================] - 1s 9ms/step - loss: 5276967.5000 - mean_absolute_error: 2223.8191 - val_loss: 4887157.0000 - val_mean_absolute_error: 2036.3909\n",
            "Epoch 2/25\n",
            "80/80 [==============================] - 0s 6ms/step - loss: 5239170.0000 - mean_absolute_error: 2215.5000 - val_loss: 4839439.5000 - val_mean_absolute_error: 2024.0381\n",
            "Epoch 3/25\n",
            "80/80 [==============================] - 1s 7ms/step - loss: 5151106.0000 - mean_absolute_error: 2195.9988 - val_loss: 4748369.5000 - val_mean_absolute_error: 2000.8630\n",
            "Epoch 4/25\n",
            "80/80 [==============================] - 0s 3ms/step - loss: 4982103.5000 - mean_absolute_error: 2158.7405 - val_loss: 4598131.5000 - val_mean_absolute_error: 1962.5591\n",
            "Epoch 5/25\n",
            "80/80 [==============================] - 0s 3ms/step - loss: 4706332.5000 - mean_absolute_error: 2097.7256 - val_loss: 4376897.0000 - val_mean_absolute_error: 1904.8982\n",
            "Epoch 6/25\n",
            "80/80 [==============================] - 0s 3ms/step - loss: 4333626.0000 - mean_absolute_error: 2008.8525 - val_loss: 4088118.2500 - val_mean_absolute_error: 1826.8746\n",
            "Epoch 7/25\n",
            "80/80 [==============================] - 0s 3ms/step - loss: 3823866.5000 - mean_absolute_error: 1885.2041 - val_loss: 3724638.0000 - val_mean_absolute_error: 1723.4701\n",
            "Epoch 8/25\n",
            "80/80 [==============================] - 0s 3ms/step - loss: 3195643.0000 - mean_absolute_error: 1718.9041 - val_loss: 3299478.5000 - val_mean_absolute_error: 1595.1224\n",
            "Epoch 9/25\n",
            "80/80 [==============================] - 0s 3ms/step - loss: 2472723.7500 - mean_absolute_error: 1509.1039 - val_loss: 2828372.0000 - val_mean_absolute_error: 1494.3954\n",
            "Epoch 10/25\n",
            "80/80 [==============================] - 0s 3ms/step - loss: 1741985.6250 - mean_absolute_error: 1250.0398 - val_loss: 2367854.0000 - val_mean_absolute_error: 1395.4523\n",
            "Epoch 11/25\n",
            "80/80 [==============================] - 0s 3ms/step - loss: 1043015.1875 - mean_absolute_error: 947.3838 - val_loss: 1946468.1250 - val_mean_absolute_error: 1276.8174\n",
            "Epoch 12/25\n",
            "80/80 [==============================] - 0s 3ms/step - loss: 502771.7500 - mean_absolute_error: 624.3776 - val_loss: 1640249.8750 - val_mean_absolute_error: 1152.3956\n",
            "Epoch 13/25\n",
            "80/80 [==============================] - 0s 3ms/step - loss: 233163.7500 - mean_absolute_error: 402.3844 - val_loss: 1501919.1250 - val_mean_absolute_error: 1089.7626\n",
            "Epoch 14/25\n",
            "80/80 [==============================] - 0s 3ms/step - loss: 169867.3750 - mean_absolute_error: 343.5435 - val_loss: 1475331.5000 - val_mean_absolute_error: 1077.5609\n",
            "Epoch 15/25\n",
            "80/80 [==============================] - 0s 2ms/step - loss: 151768.3281 - mean_absolute_error: 329.0263 - val_loss: 1460475.8750 - val_mean_absolute_error: 1066.2169\n",
            "Epoch 16/25\n",
            "80/80 [==============================] - 0s 3ms/step - loss: 136817.0469 - mean_absolute_error: 312.3737 - val_loss: 1445568.2500 - val_mean_absolute_error: 1056.7012\n",
            "Epoch 17/25\n",
            "80/80 [==============================] - 0s 3ms/step - loss: 127263.7891 - mean_absolute_error: 302.2982 - val_loss: 1432149.0000 - val_mean_absolute_error: 1052.8757\n",
            "Epoch 18/25\n",
            "80/80 [==============================] - 0s 2ms/step - loss: 118753.6094 - mean_absolute_error: 292.8530 - val_loss: 1417340.2500 - val_mean_absolute_error: 1050.1619\n",
            "Epoch 19/25\n",
            "80/80 [==============================] - 0s 2ms/step - loss: 111981.4844 - mean_absolute_error: 285.5728 - val_loss: 1389146.6250 - val_mean_absolute_error: 1038.2927\n",
            "Epoch 20/25\n",
            "80/80 [==============================] - 0s 2ms/step - loss: 105790.2344 - mean_absolute_error: 275.7384 - val_loss: 1357244.2500 - val_mean_absolute_error: 1025.4230\n",
            "Epoch 21/25\n",
            "80/80 [==============================] - 0s 3ms/step - loss: 101798.9844 - mean_absolute_error: 271.1299 - val_loss: 1340156.5000 - val_mean_absolute_error: 1020.6407\n",
            "Epoch 22/25\n",
            "80/80 [==============================] - 0s 3ms/step - loss: 96978.6562 - mean_absolute_error: 266.9084 - val_loss: 1320514.8750 - val_mean_absolute_error: 1013.2654\n",
            "Epoch 23/25\n",
            "80/80 [==============================] - 0s 3ms/step - loss: 93127.8906 - mean_absolute_error: 261.4789 - val_loss: 1302577.2500 - val_mean_absolute_error: 1006.3948\n",
            "Epoch 24/25\n",
            "80/80 [==============================] - 0s 3ms/step - loss: 89210.4219 - mean_absolute_error: 256.5194 - val_loss: 1286560.7500 - val_mean_absolute_error: 998.7261\n",
            "Epoch 25/25\n",
            "80/80 [==============================] - 0s 2ms/step - loss: 87059.6406 - mean_absolute_error: 250.6187 - val_loss: 1276952.5000 - val_mean_absolute_error: 996.8050\n"
          ]
        }
      ]
    },
    {
      "cell_type": "code",
      "source": [
        "mae_history = history.history['val_mean_absolute_error']"
      ],
      "metadata": {
        "id": "i_mRL-sMd8_C"
      },
      "execution_count": 24,
      "outputs": []
    },
    {
      "cell_type": "code",
      "source": [
        "mse_history = history.history['val_loss']"
      ],
      "metadata": {
        "id": "TghrxcY-ek0B"
      },
      "execution_count": 28,
      "outputs": []
    },
    {
      "cell_type": "code",
      "source": [
        "# 3. Confrontar en una gráfica de épocas en el eje de abcisas contra pérdida (MSE) en\n",
        "# el eje de ordenadas\n",
        "import matplotlib.pyplot as plt\n",
        "\n",
        "plt.plot(range(1, len(mse_history) + 1), mse_history)\n",
        "plt.xlabel('Epochs')\n",
        "plt.ylabel('Validación MSE')\n",
        "plt.show()"
      ],
      "metadata": {
        "id": "gcfWuM20hopF",
        "colab": {
          "base_uri": "https://localhost:8080/",
          "height": 290
        },
        "outputId": "dec1cbda-ea02-4f46-e458-dcd1a9673cdb"
      },
      "execution_count": 29,
      "outputs": [
        {
          "output_type": "display_data",
          "data": {
            "text/plain": [
              "<Figure size 432x288 with 1 Axes>"
            ],
            "image/png": "[encoded data removed]"
          },
          "metadata": {
            "needs_background": "light"
          }
        }
      ]
    },
    {
      "cell_type": "code",
      "source": [
        "import matplotlib.pyplot as plt\n",
        "\n",
        "loss = history.history['loss']\n",
        "val_loss = history.history['val_loss']\n",
        "\n",
        "epochs = range(1, len(loss) + 1)\n",
        "\n",
        "plt.plot(epochs, loss, 'bo', label='Pérdida del entreno')\n",
        "plt.plot(epochs, val_loss, 'b', label='Pérdida de la validación')\n",
        "plt.title('Perdidas del entreno y la validación')\n",
        "plt.xlabel('Épocas')\n",
        "plt.ylabel('Pérdida')\n",
        "plt.legend()\n",
        "\n",
        "plt.show()"
      ],
      "metadata": {
        "id": "DNuqDK1Zhq1X",
        "colab": {
          "base_uri": "https://localhost:8080/",
          "height": 297
        },
        "outputId": "9244d745-5c2b-45c7-8f3d-12a1a4dac963"
      },
      "execution_count": 30,
      "outputs": [
        {
          "output_type": "display_data",
          "data": {
            "text/plain": [
              "<Figure size 432x288 with 1 Axes>"
            ],
            "image/png": "[encoded data removed]"
          },
          "metadata": {
            "needs_background": "light"
          }
        }
      ]
    },
    {
      "cell_type": "code",
      "source": [
        "# 4. Confrontar en una gráfica de épocas en el eje de abcisas contra la métrica de \n",
        "# error absoluto medio (MAE) \n",
        "import matplotlib.pyplot as plt\n",
        "\n",
        "plt.plot(range(1, len(mae_history) + 1), mae_history)\n",
        "plt.xlabel('Epochs')\n",
        "plt.ylabel('Validación MAE')\n",
        "plt.show()"
      ],
      "metadata": {
        "id": "mClz2sAGhsra",
        "colab": {
          "base_uri": "https://localhost:8080/",
          "height": 279
        },
        "outputId": "3795b20a-248d-405a-a815-ae56d3302966"
      },
      "execution_count": 31,
      "outputs": [
        {
          "output_type": "display_data",
          "data": {
            "text/plain": [
              "<Figure size 432x288 with 1 Axes>"
            ],
            "image/png": "[encoded data removed]"
          },
          "metadata": {
            "needs_background": "light"
          }
        }
      ]
    },
    {
      "cell_type": "code",
      "source": [
        "import matplotlib.pyplot as plt\n",
        "\n",
        "loss = history.history['mean_absolute_error']\n",
        "val_loss = history.history['val_mean_absolute_error']\n",
        "\n",
        "epochs = range(1, len(loss) + 1)\n",
        "\n",
        "plt.plot(epochs, loss, 'bo', label='Pérdida del entreno')\n",
        "plt.plot(epochs, val_loss, 'b', label='Pérdida de la validación')\n",
        "plt.title('Perdidas del entreno y la validación')\n",
        "plt.xlabel('Épocas')\n",
        "plt.ylabel('Pérdida')\n",
        "plt.legend()\n",
        "\n",
        "plt.show()"
      ],
      "metadata": {
        "id": "njh5NgIDhutt",
        "colab": {
          "base_uri": "https://localhost:8080/",
          "height": 297
        },
        "outputId": "0f4e4601-f59e-46ed-dd59-7b3e61618b36"
      },
      "execution_count": 32,
      "outputs": [
        {
          "output_type": "display_data",
          "data": {
            "text/plain": [
              "<Figure size 432x288 with 1 Axes>"
            ],
            "image/png": "[encoded data removed]"
          },
          "metadata": {
            "needs_background": "light"
          }
        }
      ]
    },
    {
      "cell_type": "code",
      "source": [
        "# 5. Entrenar de nuevo el modelo el número de épocas adecuado para evitar overfitting\n",
        "mymodel2 = build_model()\n",
        "history2 = mymodel2.fit(partial_train_data, partial_train_targets,\n",
        "            validation_data=(partial_eval_train_data, partial_eval_train_targets),\n",
        "                        epochs=5, batch_size=1)"
      ],
      "metadata": {
        "id": "jfLmuPaUhwhV",
        "colab": {
          "base_uri": "https://localhost:8080/"
        },
        "outputId": "9fe9395e-e420-4674-82e3-54836975c957"
      },
      "execution_count": 33,
      "outputs": [
        {
          "output_type": "stream",
          "name": "stdout",
          "text": [
            "Epoch 1/5\n",
            "80/80 [==============================] - 1s 4ms/step - loss: 5273997.0000 - mean_absolute_error: 2223.2725 - val_loss: 4883052.0000 - val_mean_absolute_error: 2035.6348\n",
            "Epoch 2/5\n",
            "80/80 [==============================] - 0s 3ms/step - loss: 5220543.5000 - mean_absolute_error: 2211.7078 - val_loss: 4818277.5000 - val_mean_absolute_error: 2019.6749\n",
            "Epoch 3/5\n",
            "80/80 [==============================] - 0s 3ms/step - loss: 5096563.5000 - mean_absolute_error: 2184.6729 - val_loss: 4699395.0000 - val_mean_absolute_error: 1990.3051\n",
            "Epoch 4/5\n",
            "80/80 [==============================] - 0s 3ms/step - loss: 4869924.0000 - mean_absolute_error: 2134.0225 - val_loss: 4509494.5000 - val_mean_absolute_error: 1942.9125\n",
            "Epoch 5/5\n",
            "80/80 [==============================] - 0s 3ms/step - loss: 4503059.0000 - mean_absolute_error: 2051.3472 - val_loss: 4226424.5000 - val_mean_absolute_error: 1871.7822\n"
          ]
        }
      ]
    },
    {
      "cell_type": "code",
      "source": [
        "mae_history2 = history2.history['val_mean_absolute_error']\n",
        "mse_history2 = history2.history['val_loss']\n",
        "\n",
        "import matplotlib.pyplot as plt\n",
        "\n",
        "plt.plot(range(1, len(mse_history2) + 1), mse_history2)\n",
        "plt.xlabel('Epochs')\n",
        "plt.ylabel('Validación MSE')\n",
        "plt.show()\n",
        "\n",
        "import matplotlib.pyplot as plt\n",
        "\n",
        "plt.plot(range(1, len(mae_history2) + 1), mae_history2)\n",
        "plt.xlabel('Epochs')\n",
        "plt.ylabel('Validación MAE')\n",
        "plt.show()"
      ],
      "metadata": {
        "id": "gU22Ja5mh0T9",
        "colab": {
          "base_uri": "https://localhost:8080/",
          "height": 552
        },
        "outputId": "cc349e15-30f6-4181-f9e5-8ce5db40d011"
      },
      "execution_count": 34,
      "outputs": [
        {
          "output_type": "display_data",
          "data": {
            "text/plain": [
              "<Figure size 432x288 with 1 Axes>"
            ],
            "image/png": "[encoded data removed]"
          },
          "metadata": {
            "needs_background": "light"
          }
        },
        {
          "output_type": "display_data",
          "data": {
            "text/plain": [
              "<Figure size 432x288 with 1 Axes>"
            ],
            "image/png": "[encoded data removed]"
          },
          "metadata": {
            "needs_background": "light"
          }
        }
      ]
    }
  ]
}