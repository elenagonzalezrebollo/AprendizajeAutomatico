{
  "nbformat": 4,
  "nbformat_minor": 0,
  "metadata": {
    "kernelspec": {
      "display_name": "Python 3",
      "language": "python",
      "name": "python3"
    },
    "language_info": {
      "codemirror_mode": {
        "name": "ipython",
        "version": 3
      },
      "file_extension": ".py",
      "mimetype": "text/x-python",
      "name": "python",
      "nbconvert_exporter": "python",
      "pygments_lexer": "ipython3",
      "version": "3.8.5"
    },
    "colab": {
      "provenance": [],
      "include_colab_link": true
    },
    "accelerator": "GPU",
    "gpuClass": "standard"
  },
  "cells": [
    {
      "cell_type": "markdown",
      "metadata": {
        "id": "view-in-github",
        "colab_type": "text"
      },
      "source": [
        "<a href=\"https://colab.research.google.com/github/elenagonzalezrebollo/AprendizajeAutomatico/blob/main/Ejercicio_Regularizadores.ipynb\" target=\"_parent\"><img src=\"https://colab.research.google.com/assets/colab-badge.svg\" alt=\"Open In Colab\"/></a>"
      ]
    },
    {
      "cell_type": "markdown",
      "metadata": {
        "id": "Ejg7Msp7rbkk"
      },
      "source": [
        "# Ejercicio con regularizadores"
      ]
    },
    {
      "cell_type": "code",
      "source": [
        "%tensorflow_version 2.x\n",
        "import tensorflow as tf\n",
        "from tensorflow import keras\n",
        "print(tf.keras.__version__)\n",
        "print(\"GPU Available:\", tf.config.list_physical_devices('GPU'))\n",
        "print(tf.__version__)\n",
        "from keras.datasets import mnist\n",
        "from keras import models\n",
        "from keras import layers\n",
        "import numpy as np\n",
        "from keras.datasets import fashion_mnist \n",
        "import matplotlib.pyplot as plt\n",
        "from keras import regularizers"
      ],
      "metadata": {
        "id": "BSivef1i532C",
        "colab": {
          "base_uri": "https://localhost:8080/"
        },
        "outputId": "43ed2347-fdfd-4f29-c8ec-d4c9710c2a3c"
      },
      "execution_count": 1,
      "outputs": [
        {
          "output_type": "stream",
          "name": "stdout",
          "text": [
            "Colab only includes TensorFlow 2.x; %tensorflow_version has no effect.\n",
            "2.9.0\n",
            "GPU Available: [PhysicalDevice(name='/physical_device:GPU:0', device_type='GPU')]\n",
            "2.9.2\n"
          ]
        }
      ]
    },
    {
      "cell_type": "code",
      "source": [
        "(train_images, train_labels), (test_images, test_labels) = mnist.load_data()# Descarga los datos de MNIST\n"
      ],
      "metadata": {
        "id": "3t3R6gU9-wUy",
        "colab": {
          "base_uri": "https://localhost:8080/"
        },
        "outputId": "f6f5cebe-62d6-414a-8d37-18ae8cbb1828"
      },
      "execution_count": 2,
      "outputs": [
        {
          "output_type": "stream",
          "name": "stdout",
          "text": [
            "Downloading data from https://storage.googleapis.com/tensorflow/tf-keras-datasets/mnist.npz\n",
            "11490434/11490434 [==============================] - 0s 0us/step\n"
          ]
        }
      ]
    },
    {
      "cell_type": "code",
      "source": [
        "# Prepara con reshape y normaliza las imágenes tanto de entrenamiento como de test\n",
        "train_images = train_images.reshape((60000, 28* 28))\n",
        "train_images = train_images.astype('float32') / 255\n",
        "\n",
        "test_images = test_images.reshape((10000, 28* 28))\n",
        "test_images = test_images.astype('float32') / 255"
      ],
      "metadata": {
        "id": "H6n5NeSz0U1d"
      },
      "execution_count": 3,
      "outputs": []
    },
    {
      "cell_type": "code",
      "source": [
        "# Crear un subconjunto de imágenes de entrenamiento que llamaré\n",
        "# validation_images, para hacer las validaciones, con las 10000 últimas imágenes \n",
        "# del set de datos de entrenamiento (train_images) (obviamente, lo mismo con las\n",
        "# etiquetas correspondientes -> validation_labels). Deja preparadas las 50K \n",
        "# primeras imágenes y etiquetas para entrenamiento (train_images y train_labels)\n",
        "validation_images = train_images[50000:]\n",
        "validation_labels = train_labels[50000:]\n",
        "\n",
        "train_images = train_images[:49999]\n",
        "train_labels = train_labels[:49999]\n",
        "\n"
      ],
      "metadata": {
        "id": "NKoZGyap0XAj"
      },
      "execution_count": 4,
      "outputs": []
    },
    {
      "cell_type": "code",
      "source": [
        "def crea_modelo(regularizador):\n",
        "  # Define una función que recibe un número del 0 al 4 que creará:\n",
        "  # un modelo secuencial con una capa de entrada densa de 512 neuronas\n",
        "  # con activación relu y la capa de salida que le corresponda según el problema\n",
        "  # Ahora, en función del número del regularizador:\n",
        "  # Si es 0, no mete ningún regularizador\n",
        "  # Si es 1, mete un regularizador de tipo l1 y valor 0.001\n",
        "  # Si es 2, mete un regularizador de tipo l2 y valor 0.001\n",
        "  # Si es 3, mete un regularizador de tipo l1_l2 y valor 0.001 para ambos\n",
        "  # Si es 4, mete un Dropout del 50% después de la primera capa densa\n",
        "  # Si es distinto que estos valores, escribe el error y retorna\n",
        "  # Al final, esta función pinta el summary del modelo y retorna el modelo creado\n",
        "  modelo = models.Sequential()\n",
        "  if regularizador == 0:\n",
        "    modelo.add(layers.Dense(512, activation='relu',input_shape=(28*28,)))\n",
        "  elif regularizador == 1:\n",
        "    modelo.add(layers.Dense(512, kernel_regularizer=regularizers.l1(0.001) , activation='relu',input_shape=(28*28,)))\n",
        "  elif regularizador == 2:\n",
        "    modelo.add(layers.Dense(512, kernel_regularizer=regularizers.l2(0.001) , activation='relu',input_shape=(28*28,)))\n",
        "  elif regularizador == 3:\n",
        "    modelo.add(layers.Dense(512, kernel_regularizer=regularizers.l1_l2(l1=0.001, l2=0.001) , activation='relu',input_shape=(28*28,)))\n",
        "  elif regularizador == 4:\n",
        "    modelo.add(layers.Dense(512, activation='relu',input_shape=(28*28,)))\n",
        "    modelo.add(layers.Dropout(0.5))\n",
        "  else:\n",
        "    print(\"ERROR. No se ha introducido un regulador correcto.\")\n",
        "\n",
        "\n",
        "  modelo.add(layers.Dense(10, name = 'CapaSalida', activation = 'softmax'))\n",
        "  modelo.summary()\n",
        "  return modelo\n",
        "\n"
      ],
      "metadata": {
        "id": "6JnVLVfsAfkh"
      },
      "execution_count": 5,
      "outputs": []
    },
    {
      "cell_type": "code",
      "source": [
        "def compila_modelo(modelo): \n",
        "  # Define una función que recibe un modelo, lo compila con un optimizador\n",
        "  # 'rmsprop', con una función de pérdida 'sparse_categorical_crossentropy' y\n",
        "  # una métrica de precisión. La función retorna el modelo\n",
        "  modelo.compile(optimizer='rmsprop', loss='sparse_categorical_crossentropy', \n",
        "                 metrics=['accuracy']) \n",
        "  return modelo"
      ],
      "metadata": {
        "id": "qKyJ8KOT0aFt"
      },
      "execution_count": 6,
      "outputs": []
    },
    {
      "cell_type": "code",
      "source": [
        "def entrena_modelo(modelo):\n",
        "  # Define una función que entrena el modelo que se le pasa por parámetro,\n",
        "  # con las imágenes y etiquetas de entrenamiento, con 30 iteraciones y 128\n",
        "  # de tamaño de minilote y con el validation_data creado más arriba.\n",
        "  # Esta función devuelve un history\n",
        "  history = modelo.fit(train_images, train_labels,\n",
        "                        epochs=30, batch_size=128,\n",
        "                        validation_data=(validation_images, validation_labels))\n",
        "\n",
        "  return history"
      ],
      "metadata": {
        "id": "_yQ7SpOt0cBp"
      },
      "execution_count": 7,
      "outputs": []
    },
    {
      "cell_type": "code",
      "source": [
        "def pinta_perdida_entrenamiento_validacion(historia):\n",
        "  history_dict = historia.history\n",
        "  acc = historia.history['accuracy']\n",
        "  val_acc = historia.history['val_accuracy']\n",
        "  loss = historia.history['loss']\n",
        "  val_loss = historia.history['val_loss']\n",
        "  epochs = range(1, len(acc) + 1)\n",
        "  # \"bo\" es para \"punto azun\"\n",
        "  plt.plot(epochs, loss, 'bo', label='Pérdida de Entrenamiento')\n",
        "  # \"b\" es para \"linea continua azul\"\n",
        "  plt.plot(epochs, val_loss, 'b', label='Pérdida de Validación')\n",
        "  plt.title('Pérdida de Entrenamiento y Validación')\n",
        "  plt.xlabel('Epochs')\n",
        "  plt.ylabel('Loss')\n",
        "  plt.legend()\n",
        "  plt.show()"
      ],
      "metadata": {
        "id": "bJrRNc4WwPN2"
      },
      "execution_count": 8,
      "outputs": []
    },
    {
      "cell_type": "code",
      "source": [
        "def pinta_precision_entrenamiento_validacion(historia):\n",
        "  history_dict = historia.history\n",
        "  acc = historia.history['accuracy']\n",
        "  val_acc = historia.history['val_accuracy']\n",
        "  loss = historia.history['loss']\n",
        "  val_loss = historia.history['val_loss']\n",
        "  plt.clf()   # Limpia la figura\n",
        "  acc_values = history_dict['accuracy']\n",
        "  val_acc_values = history_dict['val_accuracy']\n",
        "  epochs = range(1, len(acc) + 1)\n",
        "  plt.plot(epochs, acc, 'bo', label='Precisión de Entrenamiento')\n",
        "  plt.plot(epochs, val_acc, 'b', label='Precisión de Validación')\n",
        "  plt.title('Precisión de Entrenamiento y Valización')\n",
        "  plt.xlabel('Epochs')\n",
        "  plt.ylabel('Loss')\n",
        "  plt.legend()\n",
        "  plt.show()"
      ],
      "metadata": {
        "id": "Mafxp6D3wYQx"
      },
      "execution_count": 9,
      "outputs": []
    },
    {
      "cell_type": "markdown",
      "source": [
        "## Una vez definidas todas las funciones anteriores, ejecuta las siguientes llamadas a dichas funciones y deduce que está pasando y, para este contexto, que es lo que mejor está funcionando"
      ],
      "metadata": {
        "id": "6nnQYysYA3_T"
      }
    },
    {
      "cell_type": "markdown",
      "source": [
        "### Caso 0, sin regularizadores"
      ],
      "metadata": {
        "id": "OrGwDgaFBax4"
      }
    },
    {
      "cell_type": "code",
      "source": [
        "network0 = crea_modelo(0)"
      ],
      "metadata": {
        "id": "uXvhlXg79Zi9",
        "colab": {
          "base_uri": "https://localhost:8080/"
        },
        "outputId": "9bc38acb-8f47-4ebc-9f20-f4a565e731cd"
      },
      "execution_count": 10,
      "outputs": [
        {
          "output_type": "stream",
          "name": "stdout",
          "text": [
            "Model: \"sequential\"\n",
            "_________________________________________________________________\n",
            " Layer (type)                Output Shape              Param #   \n",
            "=================================================================\n",
            " dense (Dense)               (None, 512)               401920    \n",
            "                                                                 \n",
            " CapaSalida (Dense)          (None, 10)                5130      \n",
            "                                                                 \n",
            "=================================================================\n",
            "Total params: 407,050\n",
            "Trainable params: 407,050\n",
            "Non-trainable params: 0\n",
            "_________________________________________________________________\n"
          ]
        }
      ]
    },
    {
      "cell_type": "code",
      "source": [
        "network0 = compila_modelo(network0)"
      ],
      "metadata": {
        "id": "Ff0HC3NR9ez8"
      },
      "execution_count": 11,
      "outputs": []
    },
    {
      "cell_type": "code",
      "source": [
        "historia0 = entrena_modelo(network0)"
      ],
      "metadata": {
        "id": "x9zQDOlw9g6V",
        "colab": {
          "base_uri": "https://localhost:8080/"
        },
        "outputId": "1fa673d6-d6b1-4fb2-c07e-224ddc6bace4"
      },
      "execution_count": 12,
      "outputs": [
        {
          "output_type": "stream",
          "name": "stdout",
          "text": [
            "Epoch 1/30\n",
            "391/391 [==============================] - 4s 4ms/step - loss: 0.2846 - accuracy: 0.9174 - val_loss: 0.1500 - val_accuracy: 0.9575\n",
            "Epoch 2/30\n",
            "391/391 [==============================] - 1s 3ms/step - loss: 0.1168 - accuracy: 0.9658 - val_loss: 0.1074 - val_accuracy: 0.9673\n",
            "Epoch 3/30\n",
            "391/391 [==============================] - 1s 3ms/step - loss: 0.0773 - accuracy: 0.9771 - val_loss: 0.1035 - val_accuracy: 0.9689\n",
            "Epoch 4/30\n",
            "391/391 [==============================] - 1s 4ms/step - loss: 0.0552 - accuracy: 0.9831 - val_loss: 0.0778 - val_accuracy: 0.9767\n",
            "Epoch 5/30\n",
            "391/391 [==============================] - 1s 4ms/step - loss: 0.0409 - accuracy: 0.9877 - val_loss: 0.0800 - val_accuracy: 0.9776\n",
            "Epoch 6/30\n",
            "391/391 [==============================] - 1s 3ms/step - loss: 0.0316 - accuracy: 0.9906 - val_loss: 0.0779 - val_accuracy: 0.9772\n",
            "Epoch 7/30\n",
            "391/391 [==============================] - 1s 4ms/step - loss: 0.0234 - accuracy: 0.9932 - val_loss: 0.0774 - val_accuracy: 0.9793\n",
            "Epoch 8/30\n",
            "391/391 [==============================] - 1s 4ms/step - loss: 0.0180 - accuracy: 0.9949 - val_loss: 0.0763 - val_accuracy: 0.9803\n",
            "Epoch 9/30\n",
            "391/391 [==============================] - 1s 4ms/step - loss: 0.0139 - accuracy: 0.9960 - val_loss: 0.0800 - val_accuracy: 0.9798\n",
            "Epoch 10/30\n",
            "391/391 [==============================] - 1s 4ms/step - loss: 0.0104 - accuracy: 0.9971 - val_loss: 0.1041 - val_accuracy: 0.9751\n",
            "Epoch 11/30\n",
            "391/391 [==============================] - 1s 3ms/step - loss: 0.0081 - accuracy: 0.9976 - val_loss: 0.0887 - val_accuracy: 0.9816\n",
            "Epoch 12/30\n",
            "391/391 [==============================] - 1s 3ms/step - loss: 0.0060 - accuracy: 0.9983 - val_loss: 0.0845 - val_accuracy: 0.9820\n",
            "Epoch 13/30\n",
            "391/391 [==============================] - 1s 4ms/step - loss: 0.0051 - accuracy: 0.9987 - val_loss: 0.0874 - val_accuracy: 0.9812\n",
            "Epoch 14/30\n",
            "391/391 [==============================] - 1s 3ms/step - loss: 0.0035 - accuracy: 0.9991 - val_loss: 0.0915 - val_accuracy: 0.9821\n",
            "Epoch 15/30\n",
            "391/391 [==============================] - 1s 3ms/step - loss: 0.0029 - accuracy: 0.9992 - val_loss: 0.0969 - val_accuracy: 0.9819\n",
            "Epoch 16/30\n",
            "391/391 [==============================] - 1s 4ms/step - loss: 0.0023 - accuracy: 0.9994 - val_loss: 0.1083 - val_accuracy: 0.9795\n",
            "Epoch 17/30\n",
            "391/391 [==============================] - 1s 3ms/step - loss: 0.0017 - accuracy: 0.9996 - val_loss: 0.0969 - val_accuracy: 0.9829\n",
            "Epoch 18/30\n",
            "391/391 [==============================] - 1s 3ms/step - loss: 0.0015 - accuracy: 0.9996 - val_loss: 0.1072 - val_accuracy: 0.9814\n",
            "Epoch 19/30\n",
            "391/391 [==============================] - 1s 3ms/step - loss: 0.0012 - accuracy: 0.9997 - val_loss: 0.1057 - val_accuracy: 0.9813\n",
            "Epoch 20/30\n",
            "391/391 [==============================] - 1s 4ms/step - loss: 8.8600e-04 - accuracy: 0.9998 - val_loss: 0.1190 - val_accuracy: 0.9810\n",
            "Epoch 21/30\n",
            "391/391 [==============================] - 1s 3ms/step - loss: 8.5602e-04 - accuracy: 0.9998 - val_loss: 0.1212 - val_accuracy: 0.9812\n",
            "Epoch 22/30\n",
            "391/391 [==============================] - 1s 4ms/step - loss: 5.1161e-04 - accuracy: 0.9999 - val_loss: 0.1242 - val_accuracy: 0.9822\n",
            "Epoch 23/30\n",
            "391/391 [==============================] - 1s 3ms/step - loss: 4.5817e-04 - accuracy: 0.9999 - val_loss: 0.1189 - val_accuracy: 0.9824\n",
            "Epoch 24/30\n",
            "391/391 [==============================] - 1s 3ms/step - loss: 2.9878e-04 - accuracy: 0.9999 - val_loss: 0.1268 - val_accuracy: 0.9816\n",
            "Epoch 25/30\n",
            "391/391 [==============================] - 2s 5ms/step - loss: 3.7879e-04 - accuracy: 0.9999 - val_loss: 0.1414 - val_accuracy: 0.9794\n",
            "Epoch 26/30\n",
            "391/391 [==============================] - 2s 4ms/step - loss: 2.6462e-04 - accuracy: 0.9999 - val_loss: 0.1358 - val_accuracy: 0.9813\n",
            "Epoch 27/30\n",
            "391/391 [==============================] - 2s 4ms/step - loss: 2.0984e-04 - accuracy: 0.9999 - val_loss: 0.1394 - val_accuracy: 0.9821\n",
            "Epoch 28/30\n",
            "391/391 [==============================] - 2s 5ms/step - loss: 2.4685e-04 - accuracy: 0.9999 - val_loss: 0.1352 - val_accuracy: 0.9824\n",
            "Epoch 29/30\n",
            "391/391 [==============================] - 1s 3ms/step - loss: 1.0207e-04 - accuracy: 1.0000 - val_loss: 0.1410 - val_accuracy: 0.9828\n",
            "Epoch 30/30\n",
            "391/391 [==============================] - 1s 4ms/step - loss: 1.8573e-04 - accuracy: 0.9999 - val_loss: 0.1461 - val_accuracy: 0.9820\n"
          ]
        }
      ]
    },
    {
      "cell_type": "code",
      "source": [
        "pinta_perdida_entrenamiento_validacion(historia0)"
      ],
      "metadata": {
        "id": "OvhDZvS8-0mG",
        "colab": {
          "base_uri": "https://localhost:8080/",
          "height": 295
        },
        "outputId": "f5fea48d-245b-43c5-c904-e09c06d72f6a"
      },
      "execution_count": 13,
      "outputs": [
        {
          "output_type": "display_data",
          "data": {
            "text/plain": [
              "<Figure size 432x288 with 1 Axes>"
            ],
            "image/png": "[encoded data removed]"
          },
          "metadata": {
            "needs_background": "light"
          }
        }
      ]
    },
    {
      "cell_type": "code",
      "source": [
        "pinta_precision_entrenamiento_validacion(historia0)"
      ],
      "metadata": {
        "id": "UuiL2CCH_fGN",
        "colab": {
          "base_uri": "https://localhost:8080/",
          "height": 295
        },
        "outputId": "3272b480-3c69-49ef-990b-253abde10a2c"
      },
      "execution_count": 14,
      "outputs": [
        {
          "output_type": "display_data",
          "data": {
            "text/plain": [
              "<Figure size 432x288 with 1 Axes>"
            ],
            "image/png": "[encoded data removed]"
          },
          "metadata": {
            "needs_background": "light"
          }
        }
      ]
    },
    {
      "cell_type": "markdown",
      "source": [
        "### Caso 1: Con regularizador l1"
      ],
      "metadata": {
        "id": "pw6iBGO5Bg8J"
      }
    },
    {
      "cell_type": "code",
      "source": [
        "network1 = crea_modelo(1)"
      ],
      "metadata": {
        "id": "D6JPtw5zCz-1",
        "colab": {
          "base_uri": "https://localhost:8080/"
        },
        "outputId": "f599ed71-5b4b-4da8-9f56-206b0ef1a069"
      },
      "execution_count": 15,
      "outputs": [
        {
          "output_type": "stream",
          "name": "stdout",
          "text": [
            "Model: \"sequential_1\"\n",
            "_________________________________________________________________\n",
            " Layer (type)                Output Shape              Param #   \n",
            "=================================================================\n",
            " dense_1 (Dense)             (None, 512)               401920    \n",
            "                                                                 \n",
            " CapaSalida (Dense)          (None, 10)                5130      \n",
            "                                                                 \n",
            "=================================================================\n",
            "Total params: 407,050\n",
            "Trainable params: 407,050\n",
            "Non-trainable params: 0\n",
            "_________________________________________________________________\n"
          ]
        }
      ]
    },
    {
      "cell_type": "code",
      "source": [
        "network1 = compila_modelo(network1)"
      ],
      "metadata": {
        "id": "zL3Gp7wvFRq3"
      },
      "execution_count": 16,
      "outputs": []
    },
    {
      "cell_type": "code",
      "source": [
        "historia1 = entrena_modelo(network1)"
      ],
      "metadata": {
        "id": "G2FG1Z4xFW72",
        "colab": {
          "base_uri": "https://localhost:8080/"
        },
        "outputId": "83280124-2c0a-4c45-96f1-ba714fa7c752"
      },
      "execution_count": 17,
      "outputs": [
        {
          "output_type": "stream",
          "name": "stdout",
          "text": [
            "Epoch 1/30\n",
            "391/391 [==============================] - 2s 4ms/step - loss: 2.1305 - accuracy: 0.8439 - val_loss: 1.0304 - val_accuracy: 0.8786\n",
            "Epoch 2/30\n",
            "391/391 [==============================] - 1s 3ms/step - loss: 0.9694 - accuracy: 0.8784 - val_loss: 0.8365 - val_accuracy: 0.9165\n",
            "Epoch 3/30\n",
            "391/391 [==============================] - 1s 3ms/step - loss: 0.8465 - accuracy: 0.9004 - val_loss: 0.8730 - val_accuracy: 0.8824\n",
            "Epoch 4/30\n",
            "391/391 [==============================] - 1s 4ms/step - loss: 0.7676 - accuracy: 0.9138 - val_loss: 0.7797 - val_accuracy: 0.9033\n",
            "Epoch 5/30\n",
            "391/391 [==============================] - 1s 3ms/step - loss: 0.7159 - accuracy: 0.9228 - val_loss: 0.6631 - val_accuracy: 0.9387\n",
            "Epoch 6/30\n",
            "391/391 [==============================] - 1s 3ms/step - loss: 0.6791 - accuracy: 0.9285 - val_loss: 0.6472 - val_accuracy: 0.9396\n",
            "Epoch 7/30\n",
            "391/391 [==============================] - 1s 3ms/step - loss: 0.6514 - accuracy: 0.9334 - val_loss: 0.6243 - val_accuracy: 0.9407\n",
            "Epoch 8/30\n",
            "391/391 [==============================] - 1s 4ms/step - loss: 0.6298 - accuracy: 0.9361 - val_loss: 0.6213 - val_accuracy: 0.9389\n",
            "Epoch 9/30\n",
            "391/391 [==============================] - 1s 3ms/step - loss: 0.6123 - accuracy: 0.9385 - val_loss: 0.5778 - val_accuracy: 0.9472\n",
            "Epoch 10/30\n",
            "391/391 [==============================] - 2s 4ms/step - loss: 0.5963 - accuracy: 0.9426 - val_loss: 0.5568 - val_accuracy: 0.9549\n",
            "Epoch 11/30\n",
            "391/391 [==============================] - 2s 4ms/step - loss: 0.5841 - accuracy: 0.9429 - val_loss: 0.5485 - val_accuracy: 0.9522\n",
            "Epoch 12/30\n",
            "391/391 [==============================] - 2s 4ms/step - loss: 0.5737 - accuracy: 0.9452 - val_loss: 0.5422 - val_accuracy: 0.9526\n",
            "Epoch 13/30\n",
            "391/391 [==============================] - 2s 4ms/step - loss: 0.5633 - accuracy: 0.9464 - val_loss: 0.5483 - val_accuracy: 0.9492\n",
            "Epoch 14/30\n",
            "391/391 [==============================] - 1s 3ms/step - loss: 0.5550 - accuracy: 0.9480 - val_loss: 0.5399 - val_accuracy: 0.9548\n",
            "Epoch 15/30\n",
            "391/391 [==============================] - 1s 3ms/step - loss: 0.5477 - accuracy: 0.9493 - val_loss: 0.5296 - val_accuracy: 0.9556\n",
            "Epoch 16/30\n",
            "391/391 [==============================] - 1s 4ms/step - loss: 0.5389 - accuracy: 0.9496 - val_loss: 0.5220 - val_accuracy: 0.9561\n",
            "Epoch 17/30\n",
            "391/391 [==============================] - 1s 3ms/step - loss: 0.5328 - accuracy: 0.9506 - val_loss: 0.5376 - val_accuracy: 0.9487\n",
            "Epoch 18/30\n",
            "391/391 [==============================] - 1s 3ms/step - loss: 0.5260 - accuracy: 0.9526 - val_loss: 0.5195 - val_accuracy: 0.9547\n",
            "Epoch 19/30\n",
            "391/391 [==============================] - 2s 4ms/step - loss: 0.5210 - accuracy: 0.9539 - val_loss: 0.5267 - val_accuracy: 0.9525\n",
            "Epoch 20/30\n",
            "391/391 [==============================] - 2s 4ms/step - loss: 0.5165 - accuracy: 0.9533 - val_loss: 0.5124 - val_accuracy: 0.9578\n",
            "Epoch 21/30\n",
            "391/391 [==============================] - 1s 4ms/step - loss: 0.5118 - accuracy: 0.9545 - val_loss: 0.4979 - val_accuracy: 0.9608\n",
            "Epoch 22/30\n",
            "391/391 [==============================] - 1s 4ms/step - loss: 0.5081 - accuracy: 0.9550 - val_loss: 0.4999 - val_accuracy: 0.9609\n",
            "Epoch 23/30\n",
            "391/391 [==============================] - 1s 4ms/step - loss: 0.5029 - accuracy: 0.9562 - val_loss: 0.5212 - val_accuracy: 0.9504\n",
            "Epoch 24/30\n",
            "391/391 [==============================] - 1s 3ms/step - loss: 0.4991 - accuracy: 0.9578 - val_loss: 0.5186 - val_accuracy: 0.9524\n",
            "Epoch 25/30\n",
            "391/391 [==============================] - 1s 4ms/step - loss: 0.4972 - accuracy: 0.9571 - val_loss: 0.4961 - val_accuracy: 0.9592\n",
            "Epoch 26/30\n",
            "391/391 [==============================] - 1s 4ms/step - loss: 0.4951 - accuracy: 0.9569 - val_loss: 0.4890 - val_accuracy: 0.9610\n",
            "Epoch 27/30\n",
            "391/391 [==============================] - 1s 4ms/step - loss: 0.4910 - accuracy: 0.9579 - val_loss: 0.4898 - val_accuracy: 0.9605\n",
            "Epoch 28/30\n",
            "391/391 [==============================] - 1s 3ms/step - loss: 0.4889 - accuracy: 0.9585 - val_loss: 0.4723 - val_accuracy: 0.9638\n",
            "Epoch 29/30\n",
            "391/391 [==============================] - 1s 4ms/step - loss: 0.4858 - accuracy: 0.9591 - val_loss: 0.4757 - val_accuracy: 0.9632\n",
            "Epoch 30/30\n",
            "391/391 [==============================] - 1s 3ms/step - loss: 0.4828 - accuracy: 0.9596 - val_loss: 0.4822 - val_accuracy: 0.9563\n"
          ]
        }
      ]
    },
    {
      "cell_type": "code",
      "source": [
        "pinta_perdida_entrenamiento_validacion(historia1)"
      ],
      "metadata": {
        "id": "Vyv3yFtiFitw",
        "colab": {
          "base_uri": "https://localhost:8080/",
          "height": 295
        },
        "outputId": "2ea5f32d-bb44-4c79-ad64-c4b118c3c13e"
      },
      "execution_count": 18,
      "outputs": [
        {
          "output_type": "display_data",
          "data": {
            "text/plain": [
              "<Figure size 432x288 with 1 Axes>"
            ],
            "image/png": "[encoded data removed]"
          },
          "metadata": {
            "needs_background": "light"
          }
        }
      ]
    },
    {
      "cell_type": "code",
      "source": [
        "pinta_precision_entrenamiento_validacion(historia1)"
      ],
      "metadata": {
        "id": "pVUerJsqFo7K",
        "colab": {
          "base_uri": "https://localhost:8080/",
          "height": 295
        },
        "outputId": "8e90f841-645a-4556-94d3-432622beebd2"
      },
      "execution_count": 19,
      "outputs": [
        {
          "output_type": "display_data",
          "data": {
            "text/plain": [
              "<Figure size 432x288 with 1 Axes>"
            ],
            "image/png": "[encoded data removed]"
          },
          "metadata": {
            "needs_background": "light"
          }
        }
      ]
    },
    {
      "cell_type": "markdown",
      "source": [
        "### Caso 2: Con regularizador l2"
      ],
      "metadata": {
        "id": "hklwKNlMBzya"
      }
    },
    {
      "cell_type": "code",
      "source": [
        "network2 = crea_modelo(2)"
      ],
      "metadata": {
        "id": "tjIs0FziG5Ja",
        "colab": {
          "base_uri": "https://localhost:8080/"
        },
        "outputId": "51d98119-9958-476d-debd-740524578ea6"
      },
      "execution_count": 20,
      "outputs": [
        {
          "output_type": "stream",
          "name": "stdout",
          "text": [
            "Model: \"sequential_2\"\n",
            "_________________________________________________________________\n",
            " Layer (type)                Output Shape              Param #   \n",
            "=================================================================\n",
            " dense_2 (Dense)             (None, 512)               401920    \n",
            "                                                                 \n",
            " CapaSalida (Dense)          (None, 10)                5130      \n",
            "                                                                 \n",
            "=================================================================\n",
            "Total params: 407,050\n",
            "Trainable params: 407,050\n",
            "Non-trainable params: 0\n",
            "_________________________________________________________________\n"
          ]
        }
      ]
    },
    {
      "cell_type": "code",
      "source": [
        "network2 = compila_modelo(network2)"
      ],
      "metadata": {
        "id": "UCdA0K_qyTUq"
      },
      "execution_count": 21,
      "outputs": []
    },
    {
      "cell_type": "code",
      "source": [
        "historia2 = entrena_modelo(network2)"
      ],
      "metadata": {
        "id": "WSuomx5oybpu",
        "colab": {
          "base_uri": "https://localhost:8080/"
        },
        "outputId": "666d6264-4e9a-4eff-f00e-e5385ccb96ef"
      },
      "execution_count": 22,
      "outputs": [
        {
          "output_type": "stream",
          "name": "stdout",
          "text": [
            "Epoch 1/30\n",
            "391/391 [==============================] - 2s 5ms/step - loss: 0.5259 - accuracy: 0.9128 - val_loss: 0.3320 - val_accuracy: 0.9427\n",
            "Epoch 2/30\n",
            "391/391 [==============================] - 2s 5ms/step - loss: 0.2646 - accuracy: 0.9539 - val_loss: 0.2226 - val_accuracy: 0.9633\n",
            "Epoch 3/30\n",
            "391/391 [==============================] - 2s 4ms/step - loss: 0.2110 - accuracy: 0.9629 - val_loss: 0.1966 - val_accuracy: 0.9648\n",
            "Epoch 4/30\n",
            "391/391 [==============================] - 2s 4ms/step - loss: 0.1862 - accuracy: 0.9675 - val_loss: 0.1777 - val_accuracy: 0.9677\n",
            "Epoch 5/30\n",
            "391/391 [==============================] - 2s 5ms/step - loss: 0.1738 - accuracy: 0.9692 - val_loss: 0.1770 - val_accuracy: 0.9686\n",
            "Epoch 6/30\n",
            "391/391 [==============================] - 2s 4ms/step - loss: 0.1640 - accuracy: 0.9708 - val_loss: 0.1556 - val_accuracy: 0.9733\n",
            "Epoch 7/30\n",
            "391/391 [==============================] - 2s 4ms/step - loss: 0.1582 - accuracy: 0.9721 - val_loss: 0.1551 - val_accuracy: 0.9742\n",
            "Epoch 8/30\n",
            "391/391 [==============================] - 2s 5ms/step - loss: 0.1521 - accuracy: 0.9736 - val_loss: 0.2194 - val_accuracy: 0.9505\n",
            "Epoch 9/30\n",
            "391/391 [==============================] - 2s 4ms/step - loss: 0.1489 - accuracy: 0.9743 - val_loss: 0.1597 - val_accuracy: 0.9721\n",
            "Epoch 10/30\n",
            "391/391 [==============================] - 2s 5ms/step - loss: 0.1433 - accuracy: 0.9757 - val_loss: 0.1617 - val_accuracy: 0.9728\n",
            "Epoch 11/30\n",
            "391/391 [==============================] - 1s 3ms/step - loss: 0.1420 - accuracy: 0.9757 - val_loss: 0.1593 - val_accuracy: 0.9717\n",
            "Epoch 12/30\n",
            "391/391 [==============================] - 3s 6ms/step - loss: 0.1358 - accuracy: 0.9769 - val_loss: 0.1678 - val_accuracy: 0.9685\n",
            "Epoch 13/30\n",
            "391/391 [==============================] - 3s 7ms/step - loss: 0.1350 - accuracy: 0.9773 - val_loss: 0.1727 - val_accuracy: 0.9663\n",
            "Epoch 14/30\n",
            "391/391 [==============================] - 1s 4ms/step - loss: 0.1307 - accuracy: 0.9781 - val_loss: 0.1583 - val_accuracy: 0.9690\n",
            "Epoch 15/30\n",
            "391/391 [==============================] - 1s 3ms/step - loss: 0.1312 - accuracy: 0.9773 - val_loss: 0.1484 - val_accuracy: 0.9726\n",
            "Epoch 16/30\n",
            "391/391 [==============================] - 1s 3ms/step - loss: 0.1276 - accuracy: 0.9785 - val_loss: 0.1688 - val_accuracy: 0.9658\n",
            "Epoch 17/30\n",
            "391/391 [==============================] - 1s 4ms/step - loss: 0.1255 - accuracy: 0.9790 - val_loss: 0.1681 - val_accuracy: 0.9682\n",
            "Epoch 18/30\n",
            "391/391 [==============================] - 1s 3ms/step - loss: 0.1239 - accuracy: 0.9795 - val_loss: 0.1701 - val_accuracy: 0.9690\n",
            "Epoch 19/30\n",
            "391/391 [==============================] - 2s 4ms/step - loss: 0.1224 - accuracy: 0.9795 - val_loss: 0.1440 - val_accuracy: 0.9741\n",
            "Epoch 20/30\n",
            "391/391 [==============================] - 2s 4ms/step - loss: 0.1208 - accuracy: 0.9799 - val_loss: 0.1425 - val_accuracy: 0.9760\n",
            "Epoch 21/30\n",
            "391/391 [==============================] - 2s 4ms/step - loss: 0.1187 - accuracy: 0.9801 - val_loss: 0.1523 - val_accuracy: 0.9705\n",
            "Epoch 22/30\n",
            "391/391 [==============================] - 2s 4ms/step - loss: 0.1186 - accuracy: 0.9798 - val_loss: 0.1375 - val_accuracy: 0.9743\n",
            "Epoch 23/30\n",
            "391/391 [==============================] - 2s 4ms/step - loss: 0.1161 - accuracy: 0.9799 - val_loss: 0.1426 - val_accuracy: 0.9759\n",
            "Epoch 24/30\n",
            "391/391 [==============================] - 2s 4ms/step - loss: 0.1144 - accuracy: 0.9811 - val_loss: 0.1415 - val_accuracy: 0.9749\n",
            "Epoch 25/30\n",
            "391/391 [==============================] - 2s 4ms/step - loss: 0.1137 - accuracy: 0.9804 - val_loss: 0.1667 - val_accuracy: 0.9663\n",
            "Epoch 26/30\n",
            "391/391 [==============================] - 2s 4ms/step - loss: 0.1136 - accuracy: 0.9813 - val_loss: 0.1281 - val_accuracy: 0.9793\n",
            "Epoch 27/30\n",
            "391/391 [==============================] - 1s 4ms/step - loss: 0.1119 - accuracy: 0.9817 - val_loss: 0.1297 - val_accuracy: 0.9765\n",
            "Epoch 28/30\n",
            "391/391 [==============================] - 1s 4ms/step - loss: 0.1109 - accuracy: 0.9809 - val_loss: 0.1598 - val_accuracy: 0.9683\n",
            "Epoch 29/30\n",
            "391/391 [==============================] - 1s 3ms/step - loss: 0.1075 - accuracy: 0.9824 - val_loss: 0.1384 - val_accuracy: 0.9761\n",
            "Epoch 30/30\n",
            "391/391 [==============================] - 1s 3ms/step - loss: 0.1090 - accuracy: 0.9815 - val_loss: 0.1453 - val_accuracy: 0.9743\n"
          ]
        }
      ]
    },
    {
      "cell_type": "code",
      "source": [
        "pinta_perdida_entrenamiento_validacion(historia2)"
      ],
      "metadata": {
        "id": "aXXzm8tpyj6X",
        "colab": {
          "base_uri": "https://localhost:8080/",
          "height": 295
        },
        "outputId": "80f865b4-0f3f-43ec-d452-d34a05a66b85"
      },
      "execution_count": 23,
      "outputs": [
        {
          "output_type": "display_data",
          "data": {
            "text/plain": [
              "<Figure size 432x288 with 1 Axes>"
            ],
            "image/png": "[encoded data removed]"
          },
          "metadata": {
            "needs_background": "light"
          }
        }
      ]
    },
    {
      "cell_type": "code",
      "source": [
        "pinta_precision_entrenamiento_validacion(historia2)"
      ],
      "metadata": {
        "id": "CLTsg5LTypH9",
        "colab": {
          "base_uri": "https://localhost:8080/",
          "height": 295
        },
        "outputId": "9c0dfb10-bd23-4f50-adfa-c46ff775e79c"
      },
      "execution_count": 24,
      "outputs": [
        {
          "output_type": "display_data",
          "data": {
            "text/plain": [
              "<Figure size 432x288 with 1 Axes>"
            ],
            "image/png": "[encoded data removed]"
          },
          "metadata": {
            "needs_background": "light"
          }
        }
      ]
    },
    {
      "cell_type": "markdown",
      "source": [
        "### Caso 3: Con regularizador l1_l2"
      ],
      "metadata": {
        "id": "692oWz8oB82n"
      }
    },
    {
      "cell_type": "code",
      "source": [
        "network3 = crea_modelo(3)"
      ],
      "metadata": {
        "id": "5fdxkjoKzFcu",
        "colab": {
          "base_uri": "https://localhost:8080/"
        },
        "outputId": "3bd4895b-6e4e-4727-939a-b70ad44572b2"
      },
      "execution_count": 25,
      "outputs": [
        {
          "output_type": "stream",
          "name": "stdout",
          "text": [
            "Model: \"sequential_3\"\n",
            "_________________________________________________________________\n",
            " Layer (type)                Output Shape              Param #   \n",
            "=================================================================\n",
            " dense_3 (Dense)             (None, 512)               401920    \n",
            "                                                                 \n",
            " CapaSalida (Dense)          (None, 10)                5130      \n",
            "                                                                 \n",
            "=================================================================\n",
            "Total params: 407,050\n",
            "Trainable params: 407,050\n",
            "Non-trainable params: 0\n",
            "_________________________________________________________________\n"
          ]
        }
      ]
    },
    {
      "cell_type": "code",
      "source": [
        "network3 = compila_modelo(network3)"
      ],
      "metadata": {
        "id": "VJzs9A2yzPhx"
      },
      "execution_count": 26,
      "outputs": []
    },
    {
      "cell_type": "code",
      "source": [
        "historia3 = entrena_modelo(network3)"
      ],
      "metadata": {
        "id": "1JCUbcCQzY6E",
        "colab": {
          "base_uri": "https://localhost:8080/"
        },
        "outputId": "636c3170-642c-4d42-9d57-e8a8ce8127a4"
      },
      "execution_count": 27,
      "outputs": [
        {
          "output_type": "stream",
          "name": "stdout",
          "text": [
            "Epoch 1/30\n",
            "391/391 [==============================] - 2s 4ms/step - loss: 2.1543 - accuracy: 0.8447 - val_loss: 0.9977 - val_accuracy: 0.8940\n",
            "Epoch 2/30\n",
            "391/391 [==============================] - 2s 4ms/step - loss: 0.9755 - accuracy: 0.8794 - val_loss: 0.8791 - val_accuracy: 0.9052\n",
            "Epoch 3/30\n",
            "391/391 [==============================] - 2s 4ms/step - loss: 0.8531 - accuracy: 0.8998 - val_loss: 0.8338 - val_accuracy: 0.8944\n",
            "Epoch 4/30\n",
            "391/391 [==============================] - 2s 4ms/step - loss: 0.7774 - accuracy: 0.9137 - val_loss: 0.7373 - val_accuracy: 0.9272\n",
            "Epoch 5/30\n",
            "391/391 [==============================] - 2s 4ms/step - loss: 0.7298 - accuracy: 0.9214 - val_loss: 0.7039 - val_accuracy: 0.9251\n",
            "Epoch 6/30\n",
            "391/391 [==============================] - 1s 4ms/step - loss: 0.6931 - accuracy: 0.9283 - val_loss: 0.6483 - val_accuracy: 0.9396\n",
            "Epoch 7/30\n",
            "391/391 [==============================] - 2s 4ms/step - loss: 0.6635 - accuracy: 0.9331 - val_loss: 0.6413 - val_accuracy: 0.9395\n",
            "Epoch 8/30\n",
            "391/391 [==============================] - 2s 4ms/step - loss: 0.6415 - accuracy: 0.9361 - val_loss: 0.6133 - val_accuracy: 0.9469\n",
            "Epoch 9/30\n",
            "391/391 [==============================] - 2s 4ms/step - loss: 0.6223 - accuracy: 0.9396 - val_loss: 0.5962 - val_accuracy: 0.9488\n",
            "Epoch 10/30\n",
            "391/391 [==============================] - 1s 4ms/step - loss: 0.6055 - accuracy: 0.9431 - val_loss: 0.5747 - val_accuracy: 0.9513\n",
            "Epoch 11/30\n",
            "391/391 [==============================] - 1s 4ms/step - loss: 0.5919 - accuracy: 0.9462 - val_loss: 0.5631 - val_accuracy: 0.9538\n",
            "Epoch 12/30\n",
            "391/391 [==============================] - 2s 4ms/step - loss: 0.5792 - accuracy: 0.9472 - val_loss: 0.5586 - val_accuracy: 0.9528\n",
            "Epoch 13/30\n",
            "391/391 [==============================] - 2s 4ms/step - loss: 0.5679 - accuracy: 0.9494 - val_loss: 0.5693 - val_accuracy: 0.9494\n",
            "Epoch 14/30\n",
            "391/391 [==============================] - 2s 4ms/step - loss: 0.5618 - accuracy: 0.9497 - val_loss: 0.5836 - val_accuracy: 0.9386\n",
            "Epoch 15/30\n",
            "391/391 [==============================] - 2s 4ms/step - loss: 0.5528 - accuracy: 0.9530 - val_loss: 0.5340 - val_accuracy: 0.9560\n",
            "Epoch 16/30\n",
            "391/391 [==============================] - 2s 4ms/step - loss: 0.5490 - accuracy: 0.9512 - val_loss: 0.5485 - val_accuracy: 0.9544\n",
            "Epoch 17/30\n",
            "391/391 [==============================] - 1s 4ms/step - loss: 0.5435 - accuracy: 0.9513 - val_loss: 0.5337 - val_accuracy: 0.9571\n",
            "Epoch 18/30\n",
            "391/391 [==============================] - 3s 6ms/step - loss: 0.5356 - accuracy: 0.9544 - val_loss: 0.5575 - val_accuracy: 0.9494\n",
            "Epoch 19/30\n",
            "391/391 [==============================] - 2s 4ms/step - loss: 0.5318 - accuracy: 0.9537 - val_loss: 0.5109 - val_accuracy: 0.9628\n",
            "Epoch 20/30\n",
            "391/391 [==============================] - 1s 3ms/step - loss: 0.5253 - accuracy: 0.9547 - val_loss: 0.5421 - val_accuracy: 0.9507\n",
            "Epoch 21/30\n",
            "391/391 [==============================] - 1s 3ms/step - loss: 0.5225 - accuracy: 0.9557 - val_loss: 0.4997 - val_accuracy: 0.9633\n",
            "Epoch 22/30\n",
            "391/391 [==============================] - 1s 3ms/step - loss: 0.5201 - accuracy: 0.9557 - val_loss: 0.5094 - val_accuracy: 0.9603\n",
            "Epoch 23/30\n",
            "391/391 [==============================] - 1s 3ms/step - loss: 0.5149 - accuracy: 0.9564 - val_loss: 0.5337 - val_accuracy: 0.9486\n",
            "Epoch 24/30\n",
            "391/391 [==============================] - 1s 4ms/step - loss: 0.5117 - accuracy: 0.9562 - val_loss: 0.5183 - val_accuracy: 0.9595\n",
            "Epoch 25/30\n",
            "391/391 [==============================] - 1s 3ms/step - loss: 0.5088 - accuracy: 0.9567 - val_loss: 0.4827 - val_accuracy: 0.9651\n",
            "Epoch 26/30\n",
            "391/391 [==============================] - 2s 6ms/step - loss: 0.5065 - accuracy: 0.9580 - val_loss: 0.4836 - val_accuracy: 0.9658\n",
            "Epoch 27/30\n",
            "391/391 [==============================] - 2s 6ms/step - loss: 0.5039 - accuracy: 0.9579 - val_loss: 0.4948 - val_accuracy: 0.9614\n",
            "Epoch 28/30\n",
            "391/391 [==============================] - 2s 4ms/step - loss: 0.5022 - accuracy: 0.9579 - val_loss: 0.4988 - val_accuracy: 0.9600\n",
            "Epoch 29/30\n",
            "391/391 [==============================] - 2s 4ms/step - loss: 0.4989 - accuracy: 0.9583 - val_loss: 0.5513 - val_accuracy: 0.9384\n",
            "Epoch 30/30\n",
            "391/391 [==============================] - 1s 4ms/step - loss: 0.4963 - accuracy: 0.9590 - val_loss: 0.5065 - val_accuracy: 0.9572\n"
          ]
        }
      ]
    },
    {
      "cell_type": "code",
      "source": [
        "pinta_perdida_entrenamiento_validacion(historia3)"
      ],
      "metadata": {
        "id": "I8XzPVtyze8y",
        "colab": {
          "base_uri": "https://localhost:8080/",
          "height": 295
        },
        "outputId": "bd2dc1b8-c61b-4383-e1ec-c70e33646442"
      },
      "execution_count": 28,
      "outputs": [
        {
          "output_type": "display_data",
          "data": {
            "text/plain": [
              "<Figure size 432x288 with 1 Axes>"
            ],
            "image/png": "[encoded data removed]"
          },
          "metadata": {
            "needs_background": "light"
          }
        }
      ]
    },
    {
      "cell_type": "code",
      "source": [
        "pinta_precision_entrenamiento_validacion(historia3)"
      ],
      "metadata": {
        "id": "nKk7AmM8zi3A",
        "colab": {
          "base_uri": "https://localhost:8080/",
          "height": 295
        },
        "outputId": "c191d1a9-9186-4b35-b913-768a050aa040"
      },
      "execution_count": 29,
      "outputs": [
        {
          "output_type": "display_data",
          "data": {
            "text/plain": [
              "<Figure size 432x288 with 1 Axes>"
            ],
            "image/png": "[encoded data removed]"
          },
          "metadata": {
            "needs_background": "light"
          }
        }
      ]
    },
    {
      "cell_type": "markdown",
      "source": [
        "### Caso 4: Con Droput"
      ],
      "metadata": {
        "id": "OPVcbgcXCFRL"
      }
    },
    {
      "cell_type": "code",
      "source": [
        "network4 = crea_modelo(4)"
      ],
      "metadata": {
        "id": "5MVbUNX11Pgr",
        "colab": {
          "base_uri": "https://localhost:8080/"
        },
        "outputId": "c629b39d-de91-46c7-88e2-9f06ac452bc2"
      },
      "execution_count": 30,
      "outputs": [
        {
          "output_type": "stream",
          "name": "stdout",
          "text": [
            "Model: \"sequential_4\"\n",
            "_________________________________________________________________\n",
            " Layer (type)                Output Shape              Param #   \n",
            "=================================================================\n",
            " dense_4 (Dense)             (None, 512)               401920    \n",
            "                                                                 \n",
            " dropout (Dropout)           (None, 512)               0         \n",
            "                                                                 \n",
            " CapaSalida (Dense)          (None, 10)                5130      \n",
            "                                                                 \n",
            "=================================================================\n",
            "Total params: 407,050\n",
            "Trainable params: 407,050\n",
            "Non-trainable params: 0\n",
            "_________________________________________________________________\n"
          ]
        }
      ]
    },
    {
      "cell_type": "code",
      "source": [
        "network4 = compila_modelo(network4)"
      ],
      "metadata": {
        "id": "pT-13IKI1UpW"
      },
      "execution_count": 31,
      "outputs": []
    },
    {
      "cell_type": "code",
      "source": [
        "historia4 = entrena_modelo(network4)"
      ],
      "metadata": {
        "id": "kNWidx1S1aCH",
        "colab": {
          "base_uri": "https://localhost:8080/"
        },
        "outputId": "a8adf00f-477c-421b-e7fe-49d237f14382"
      },
      "execution_count": 32,
      "outputs": [
        {
          "output_type": "stream",
          "name": "stdout",
          "text": [
            "Epoch 1/30\n",
            "391/391 [==============================] - 2s 5ms/step - loss: 0.3428 - accuracy: 0.8999 - val_loss: 0.1587 - val_accuracy: 0.9547\n",
            "Epoch 2/30\n",
            "391/391 [==============================] - 2s 5ms/step - loss: 0.1663 - accuracy: 0.9506 - val_loss: 0.1150 - val_accuracy: 0.9671\n",
            "Epoch 3/30\n",
            "391/391 [==============================] - 1s 4ms/step - loss: 0.1264 - accuracy: 0.9620 - val_loss: 0.0975 - val_accuracy: 0.9718\n",
            "Epoch 4/30\n",
            "391/391 [==============================] - 2s 4ms/step - loss: 0.1038 - accuracy: 0.9697 - val_loss: 0.0905 - val_accuracy: 0.9748\n",
            "Epoch 5/30\n",
            "391/391 [==============================] - 1s 4ms/step - loss: 0.0926 - accuracy: 0.9723 - val_loss: 0.0890 - val_accuracy: 0.9755\n",
            "Epoch 6/30\n",
            "391/391 [==============================] - 2s 4ms/step - loss: 0.0806 - accuracy: 0.9758 - val_loss: 0.0822 - val_accuracy: 0.9771\n",
            "Epoch 7/30\n",
            "391/391 [==============================] - 1s 3ms/step - loss: 0.0747 - accuracy: 0.9775 - val_loss: 0.0815 - val_accuracy: 0.9776\n",
            "Epoch 8/30\n",
            "391/391 [==============================] - 1s 4ms/step - loss: 0.0686 - accuracy: 0.9796 - val_loss: 0.0761 - val_accuracy: 0.9801\n",
            "Epoch 9/30\n",
            "391/391 [==============================] - 1s 4ms/step - loss: 0.0621 - accuracy: 0.9806 - val_loss: 0.0820 - val_accuracy: 0.9786\n",
            "Epoch 10/30\n",
            "391/391 [==============================] - 1s 3ms/step - loss: 0.0575 - accuracy: 0.9823 - val_loss: 0.0801 - val_accuracy: 0.9792\n",
            "Epoch 11/30\n",
            "391/391 [==============================] - 1s 3ms/step - loss: 0.0529 - accuracy: 0.9836 - val_loss: 0.0817 - val_accuracy: 0.9794\n",
            "Epoch 12/30\n",
            "391/391 [==============================] - 1s 4ms/step - loss: 0.0510 - accuracy: 0.9846 - val_loss: 0.0791 - val_accuracy: 0.9791\n",
            "Epoch 13/30\n",
            "391/391 [==============================] - 1s 4ms/step - loss: 0.0488 - accuracy: 0.9853 - val_loss: 0.0805 - val_accuracy: 0.9786\n",
            "Epoch 14/30\n",
            "391/391 [==============================] - 2s 4ms/step - loss: 0.0469 - accuracy: 0.9856 - val_loss: 0.0769 - val_accuracy: 0.9809\n",
            "Epoch 15/30\n",
            "391/391 [==============================] - 1s 4ms/step - loss: 0.0449 - accuracy: 0.9868 - val_loss: 0.0787 - val_accuracy: 0.9807\n",
            "Epoch 16/30\n",
            "391/391 [==============================] - 1s 4ms/step - loss: 0.0435 - accuracy: 0.9870 - val_loss: 0.0748 - val_accuracy: 0.9816\n",
            "Epoch 17/30\n",
            "391/391 [==============================] - 1s 4ms/step - loss: 0.0413 - accuracy: 0.9876 - val_loss: 0.0777 - val_accuracy: 0.9821\n",
            "Epoch 18/30\n",
            "391/391 [==============================] - 2s 4ms/step - loss: 0.0359 - accuracy: 0.9886 - val_loss: 0.0846 - val_accuracy: 0.9808\n",
            "Epoch 19/30\n",
            "391/391 [==============================] - 2s 4ms/step - loss: 0.0359 - accuracy: 0.9895 - val_loss: 0.0807 - val_accuracy: 0.9818\n",
            "Epoch 20/30\n",
            "391/391 [==============================] - 2s 5ms/step - loss: 0.0342 - accuracy: 0.9900 - val_loss: 0.0818 - val_accuracy: 0.9821\n",
            "Epoch 21/30\n",
            "391/391 [==============================] - 1s 4ms/step - loss: 0.0323 - accuracy: 0.9904 - val_loss: 0.0898 - val_accuracy: 0.9814\n",
            "Epoch 22/30\n",
            "391/391 [==============================] - 2s 4ms/step - loss: 0.0351 - accuracy: 0.9896 - val_loss: 0.0851 - val_accuracy: 0.9826\n",
            "Epoch 23/30\n",
            "391/391 [==============================] - 2s 4ms/step - loss: 0.0307 - accuracy: 0.9905 - val_loss: 0.0859 - val_accuracy: 0.9826\n",
            "Epoch 24/30\n",
            "391/391 [==============================] - 2s 6ms/step - loss: 0.0312 - accuracy: 0.9904 - val_loss: 0.0924 - val_accuracy: 0.9818\n",
            "Epoch 25/30\n",
            "391/391 [==============================] - 1s 3ms/step - loss: 0.0307 - accuracy: 0.9911 - val_loss: 0.0902 - val_accuracy: 0.9811\n",
            "Epoch 26/30\n",
            "391/391 [==============================] - 1s 3ms/step - loss: 0.0282 - accuracy: 0.9917 - val_loss: 0.0879 - val_accuracy: 0.9829\n",
            "Epoch 27/30\n",
            "391/391 [==============================] - 1s 3ms/step - loss: 0.0267 - accuracy: 0.9913 - val_loss: 0.0871 - val_accuracy: 0.9838\n",
            "Epoch 28/30\n",
            "391/391 [==============================] - 2s 4ms/step - loss: 0.0279 - accuracy: 0.9912 - val_loss: 0.0951 - val_accuracy: 0.9818\n",
            "Epoch 29/30\n",
            "391/391 [==============================] - 2s 4ms/step - loss: 0.0254 - accuracy: 0.9916 - val_loss: 0.0871 - val_accuracy: 0.9838\n",
            "Epoch 30/30\n",
            "391/391 [==============================] - 1s 3ms/step - loss: 0.0269 - accuracy: 0.9917 - val_loss: 0.0926 - val_accuracy: 0.9838\n"
          ]
        }
      ]
    },
    {
      "cell_type": "code",
      "source": [
        "pinta_perdida_entrenamiento_validacion(historia4)"
      ],
      "metadata": {
        "id": "R9pI34Yr1gBO",
        "colab": {
          "base_uri": "https://localhost:8080/",
          "height": 295
        },
        "outputId": "84d41bc0-8fae-47d4-b49e-0745331bb2ea"
      },
      "execution_count": 33,
      "outputs": [
        {
          "output_type": "display_data",
          "data": {
            "text/plain": [
              "<Figure size 432x288 with 1 Axes>"
            ],
            "image/png": "[encoded data removed]"
          },
          "metadata": {
            "needs_background": "light"
          }
        }
      ]
    },
    {
      "cell_type": "code",
      "source": [
        "pinta_precision_entrenamiento_validacion(historia4)"
      ],
      "metadata": {
        "id": "EwEIEOKx1lQr",
        "colab": {
          "base_uri": "https://localhost:8080/",
          "height": 295
        },
        "outputId": "c3b5daf8-e19f-40ee-ce0c-8c4fefb4207a"
      },
      "execution_count": 34,
      "outputs": [
        {
          "output_type": "display_data",
          "data": {
            "text/plain": [
              "<Figure size 432x288 with 1 Axes>"
            ],
            "image/png": "[encoded data removed]"
          },
          "metadata": {
            "needs_background": "light"
          }
        }
      ]
    },
    {
      "cell_type": "markdown",
      "source": [
        "### Caso 5: Error de código de regularizador"
      ],
      "metadata": {
        "id": "e6rlKx2nCOgU"
      }
    },
    {
      "cell_type": "code",
      "source": [
        "network5 = crea_modelo(5)"
      ],
      "metadata": {
        "id": "SqGDm8VM1rwR",
        "outputId": "9ac81ac3-edbe-45cb-b5a8-8990eed50054",
        "colab": {
          "base_uri": "https://localhost:8080/",
          "height": 338
        }
      },
      "execution_count": 35,
      "outputs": [
        {
          "output_type": "stream",
          "name": "stdout",
          "text": [
            "ERROR. No se ha introducido un regulador correcto.\n"
          ]
        },
        {
          "output_type": "error",
          "ename": "ValueError",
          "evalue": "ignored",
          "traceback": [
            "\u001b[0;31m---------------------------------------------------------------------------\u001b[0m",
            "\u001b[0;31mValueError\u001b[0m                                Traceback (most recent call last)",
            "\u001b[0;32m<ipython-input-35-23863d6b79b8>\u001b[0m in \u001b[0;36m<module>\u001b[0;34m\u001b[0m\n\u001b[0;32m----> 1\u001b[0;31m \u001b[0mnetwork5\u001b[0m \u001b[0;34m=\u001b[0m \u001b[0mcrea_modelo\u001b[0m\u001b[0;34m(\u001b[0m\u001b[0;36m5\u001b[0m\u001b[0;34m)\u001b[0m\u001b[0;34m\u001b[0m\u001b[0;34m\u001b[0m\u001b[0m\n\u001b[0m",
            "\u001b[0;32m<ipython-input-5-5d220865f26d>\u001b[0m in \u001b[0;36mcrea_modelo\u001b[0;34m(regularizador)\u001b[0m\n\u001b[1;32m     28\u001b[0m \u001b[0;34m\u001b[0m\u001b[0m\n\u001b[1;32m     29\u001b[0m   \u001b[0mmodelo\u001b[0m\u001b[0;34m.\u001b[0m\u001b[0madd\u001b[0m\u001b[0;34m(\u001b[0m\u001b[0mlayers\u001b[0m\u001b[0;34m.\u001b[0m\u001b[0mDense\u001b[0m\u001b[0;34m(\u001b[0m\u001b[0;36m10\u001b[0m\u001b[0;34m,\u001b[0m \u001b[0mname\u001b[0m \u001b[0;34m=\u001b[0m \u001b[0;34m'CapaSalida'\u001b[0m\u001b[0;34m,\u001b[0m \u001b[0mactivation\u001b[0m \u001b[0;34m=\u001b[0m \u001b[0;34m'softmax'\u001b[0m\u001b[0;34m)\u001b[0m\u001b[0;34m)\u001b[0m\u001b[0;34m\u001b[0m\u001b[0;34m\u001b[0m\u001b[0m\n\u001b[0;32m---> 30\u001b[0;31m   \u001b[0mmodelo\u001b[0m\u001b[0;34m.\u001b[0m\u001b[0msummary\u001b[0m\u001b[0;34m(\u001b[0m\u001b[0;34m)\u001b[0m\u001b[0;34m\u001b[0m\u001b[0;34m\u001b[0m\u001b[0m\n\u001b[0m\u001b[1;32m     31\u001b[0m   \u001b[0;32mreturn\u001b[0m \u001b[0mmodelo\u001b[0m\u001b[0;34m\u001b[0m\u001b[0;34m\u001b[0m\u001b[0m\n\u001b[1;32m     32\u001b[0m \u001b[0;34m\u001b[0m\u001b[0m\n",
            "\u001b[0;32m/usr/local/lib/python3.7/dist-packages/keras/engine/training.py\u001b[0m in \u001b[0;36msummary\u001b[0;34m(self, line_length, positions, print_fn, expand_nested, show_trainable)\u001b[0m\n\u001b[1;32m   2868\u001b[0m     \u001b[0;32mif\u001b[0m \u001b[0;32mnot\u001b[0m \u001b[0mself\u001b[0m\u001b[0;34m.\u001b[0m\u001b[0mbuilt\u001b[0m\u001b[0;34m:\u001b[0m\u001b[0;34m\u001b[0m\u001b[0;34m\u001b[0m\u001b[0m\n\u001b[1;32m   2869\u001b[0m       raise ValueError(\n\u001b[0;32m-> 2870\u001b[0;31m           \u001b[0;34m'This model has not yet been built. '\u001b[0m\u001b[0;34m\u001b[0m\u001b[0;34m\u001b[0m\u001b[0m\n\u001b[0m\u001b[1;32m   2871\u001b[0m           \u001b[0;34m'Build the model first by calling `build()` or by calling '\u001b[0m\u001b[0;34m\u001b[0m\u001b[0;34m\u001b[0m\u001b[0m\n\u001b[1;32m   2872\u001b[0m           'the model on a batch of data.')\n",
            "\u001b[0;31mValueError\u001b[0m: This model has not yet been built. Build the model first by calling `build()` or by calling the model on a batch of data."
          ]
        }
      ]
    },
    {
      "cell_type": "markdown",
      "source": [
        "### CONCLUSIONES"
      ],
      "metadata": {
        "id": "IklUu29cCcVe"
      }
    },
    {
      "cell_type": "markdown",
      "source": [
        "El regulador sirve para evitar el sobreentrenamiento de nuestro modelo.\n",
        "\n",
        "- CASO 0: \n",
        "El caso sin regulador se sobreentrena a las pocas épocas (5 epochs) y se puede observar que en la gráfica de pérdida entrenamiento y validación hay mucha diferencia entre los datos de entrenamiento y los de test, y a su vez ocurre lo mismo en la gráfica de precisión de entrenamiento y validación. \n",
        "\n",
        "- CASO 1: \n",
        "El caso con regularizador l1 observamos que tiene una precision del 0.9563 , sin embargo tiene mucha pérdida 0.4822, por tanto concluimos que no es muy efectivo.\n",
        "- CASO 2: El caso con regularizador l2 observamos que tiene una precisión del 0.9743 y una pérdida mucho mas baja que la del regulador l1 exactamente de 0.1453. \n",
        "- CASO 3: El caso con regularizador l1_l2 observamos que tiene una precisión del 0.9572 y una pérdida mucho mas baja que la del regulador l1 exactamente de 0.5065, por tanto concluimos que no es muy efectivo. \n",
        "- CASO 4: El caso del DropOut observamos que tiene una precisión del 0.9838 y una pérdida de 0.0871.\n",
        "\n",
        "Finalmente concluyo que el caso más efectivo es el DropOut con la mayor precisión de todos y la menor pérdida. Y el regulador que mejor funciona en este modelo es el l2 por su baja pérdida."
      ],
      "metadata": {
        "id": "cB_OYjjaChzN"
      }
    }
  ]
}