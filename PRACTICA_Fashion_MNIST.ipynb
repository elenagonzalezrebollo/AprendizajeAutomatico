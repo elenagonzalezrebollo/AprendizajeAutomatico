{
  "nbformat": 4,
  "nbformat_minor": 0,
  "metadata": {
    "colab": {
      "provenance": [],
      "collapsed_sections": [
        "pzs-25Bvw50W",
        "IiqUjYKEl4G0",
        "l5GNinIhnd2a"
      ],
      "include_colab_link": true
    },
    "kernelspec": {
      "name": "python3",
      "display_name": "Python 3"
    },
    "language_info": {
      "name": "python"
    },
    "accelerator": "TPU",
    "gpuClass": "standard"
  },
  "cells": [
    {
      "cell_type": "markdown",
      "metadata": {
        "id": "view-in-github",
        "colab_type": "text"
      },
      "source": [
        "<a href=\"https://colab.research.google.com/github/elenagonzalezrebollo/AprendizajeAutomatico/blob/main/PRACTICA_Fashion_MNIST.ipynb\" target=\"_parent\"><img src=\"https://colab.research.google.com/assets/colab-badge.svg\" alt=\"Open In Colab\"/></a>"
      ]
    },
    {
      "cell_type": "markdown",
      "source": [
        "# AA_PRACTICA1_GRUPO_4\n",
        "\n",
        "Daniel Alonso\n",
        "\n",
        "Javier Arteaga\n",
        "\n",
        "Marina Garrido\n",
        "\n",
        "Elena González"
      ],
      "metadata": {
        "id": "E5GHvTYcZxIJ"
      }
    },
    {
      "cell_type": "markdown",
      "source": [
        "### Importar librerías"
      ],
      "metadata": {
        "id": "qHJD9Fh5qcuW"
      }
    },
    {
      "cell_type": "code",
      "execution_count": null,
      "metadata": {
        "id": "Kj0gniXK4uEd",
        "colab": {
          "base_uri": "https://localhost:8080/"
        },
        "outputId": "8128ce09-01f8-4610-86a5-0acb8307fa32"
      },
      "outputs": [
        {
          "output_type": "stream",
          "name": "stdout",
          "text": [
            "Colab only includes TensorFlow 2.x; %tensorflow_version has no effect.\n",
            "2.9.0\n",
            "GPU Available: []\n",
            "2.9.2\n"
          ]
        }
      ],
      "source": [
        "%tensorflow_version 2.x\n",
        "import tensorflow\n",
        "from tensorflow import keras\n",
        "from tensorflow.keras import layers\n",
        "import numpy as np\n",
        "print(tensorflow.keras.__version__)\n",
        "print('GPU Available:', tensorflow.config.list_physical_devices('GPU'))\n",
        "print(tensorflow.__version__)"
      ]
    },
    {
      "cell_type": "code",
      "source": [
        "from keras.datasets import fashion_mnist \n",
        "from keras.utils.np_utils import to_categorical\n",
        "from keras import models\n",
        "from keras import layers\n",
        "from keras import optimizers\n",
        "from keras import losses\n",
        "from keras import metrics\n",
        "import matplotlib.pyplot as plt\n",
        "from collections import Counter\n",
        "from sklearn.metrics import confusion_matrix\n",
        "import itertools\n",
        "import numpy as np"
      ],
      "metadata": {
        "id": "yCls260ob3Xo"
      },
      "execution_count": null,
      "outputs": []
    },
    {
      "cell_type": "markdown",
      "source": [
        "## Cargar los datos"
      ],
      "metadata": {
        "id": "AB--zOzNbD_i"
      }
    },
    {
      "cell_type": "markdown",
      "source": [
        "Cargar los datos de Fashion MNIST en Keras. \n",
        "\n",
        "Hay 60K imágenes para entrenar la red y 10K para evaluar la precisión de clasificación.\n"
      ],
      "metadata": {
        "id": "PtM5VECf5oDf"
      }
    },
    {
      "cell_type": "code",
      "source": [
        "(train_data, train_labels), (test_data, test_labels) = fashion_mnist.load_data()\n",
        "print('Imágenes de entrenamiento:', train_data.shape)\n",
        "print('Imágenes de test:', test_data.shape)"
      ],
      "metadata": {
        "id": "ceq8WM5X5pe2",
        "colab": {
          "base_uri": "https://localhost:8080/"
        },
        "outputId": "cd77a3f2-d711-42b3-f465-56268a32a63b"
      },
      "execution_count": null,
      "outputs": [
        {
          "output_type": "stream",
          "name": "stdout",
          "text": [
            "Downloading data from https://storage.googleapis.com/tensorflow/tf-keras-datasets/train-labels-idx1-ubyte.gz\n",
            "29515/29515 [==============================] - 0s 0us/step\n",
            "Downloading data from https://storage.googleapis.com/tensorflow/tf-keras-datasets/train-images-idx3-ubyte.gz\n",
            "26421880/26421880 [==============================] - 0s 0us/step\n",
            "Downloading data from https://storage.googleapis.com/tensorflow/tf-keras-datasets/t10k-labels-idx1-ubyte.gz\n",
            "5148/5148 [==============================] - 0s 0us/step\n",
            "Downloading data from https://storage.googleapis.com/tensorflow/tf-keras-datasets/t10k-images-idx3-ubyte.gz\n",
            "4422102/4422102 [==============================] - 0s 0us/step\n",
            "Imágenes de entrenamiento: (60000, 28, 28)\n",
            "Imágenes de test: (10000, 28, 28)\n"
          ]
        }
      ]
    },
    {
      "cell_type": "markdown",
      "source": [
        "Los datos tienen forma de 60K y 10K matrices (imágenes), respectivamente, de 28 filas x 28 columnas = 784 (píxeles).\n",
        "\n",
        "Se modifica la forma de los datos a 60K y 10K matrices, respectivamente, de matrices 28x28. Además, se normalizan los datos para facilitar que converja el entrenamiento, ya que el resultado se obtiene en porcentaje de probabilidad (valores entre 0 y 1)."
      ],
      "metadata": {
        "id": "oqUS89i0Rxqp"
      }
    },
    {
      "cell_type": "code",
      "source": [
        "train_data = train_data.reshape((60000, 28 * 28))\n",
        "train_data = train_data.astype('float32') / 255\n",
        "test_data = test_data.reshape((10000, 28 * 28))\n",
        "test_data = test_data.astype('float32') / 255\n",
        "print('Imágenes de entrenamiento:', train_data.shape)\n",
        "print('Imágenes de test:', test_data.shape)"
      ],
      "metadata": {
        "id": "9FhG-daMMP5f",
        "colab": {
          "base_uri": "https://localhost:8080/"
        },
        "outputId": "6bb3634d-c549-41f0-a47b-c235a9817db5"
      },
      "execution_count": null,
      "outputs": [
        {
          "output_type": "stream",
          "name": "stdout",
          "text": [
            "Imágenes de entrenamiento: (60000, 784)\n",
            "Imágenes de test: (10000, 784)\n"
          ]
        }
      ]
    },
    {
      "cell_type": "markdown",
      "source": [
        "Se codifican las etiquetas de las imágenes de forma que lo pueda procesar la red. Cada etiqueta se convierte en un vector de 10 elementos (número de categorías) en el que el único valor distinto de ```0``` es un ```1``` en la posición de la categoría a la que corresponde."
      ],
      "metadata": {
        "id": "7vPtSQP3MtM4"
      }
    },
    {
      "cell_type": "code",
      "source": [
        "train_labels = to_categorical(train_labels)\n",
        "test_labels = to_categorical(test_labels)"
      ],
      "metadata": {
        "id": "GW3NxRqYQQZ6"
      },
      "execution_count": null,
      "outputs": []
    },
    {
      "cell_type": "markdown",
      "source": [
        "Se seleccionan 10K imágenes de entrenamiento como datos de validación para poder estudiar la precisión de la red frente a nuevos datos."
      ],
      "metadata": {
        "id": "DJSeRVrjVPMa"
      }
    },
    {
      "cell_type": "code",
      "source": [
        "# Datos de validación\n",
        "val_data = train_data[:10000]\n",
        "val_labels = train_labels[:10000]\n",
        "\n",
        "# Datos de entrenamiento\n",
        "train_val_data = train_data[10000:]\n",
        "train_val_labels = train_labels[10000:]"
      ],
      "metadata": {
        "id": "VfrSdJ--VV-A"
      },
      "execution_count": null,
      "outputs": []
    },
    {
      "cell_type": "markdown",
      "source": [
        "## Caso 1"
      ],
      "metadata": {
        "id": "2xL3znkukYG3"
      }
    },
    {
      "cell_type": "markdown",
      "source": [
        "### Crear la red de neuronas"
      ],
      "metadata": {
        "id": "pfXNIXfvkYG3"
      }
    },
    {
      "cell_type": "markdown",
      "source": [
        "Se crea la red neuronal con una capa de entrada con 10 neuronas y función de activación ```relu```, y una capa de salida con función de activación ```softmax```."
      ],
      "metadata": {
        "id": "hd2FYxcMkYG3"
      }
    },
    {
      "cell_type": "code",
      "source": [
        "model = models.Sequential()\n",
        "model.add(layers.Dense(10, activation ='relu', name = 'Capa1', input_shape = (28*28,)))\n",
        "model.add(layers.Dense(10, name = 'CapaSalida1', activation = 'softmax'))"
      ],
      "metadata": {
        "id": "E2kugFRNkYG3"
      },
      "execution_count": null,
      "outputs": []
    },
    {
      "cell_type": "markdown",
      "source": [
        "### Explicar model.summary()\n"
      ],
      "metadata": {
        "id": "V12EvOyAkYG3"
      }
    },
    {
      "cell_type": "markdown",
      "source": [
        "El resumen del modelo indica el número de parámetros de salida de cada capa. Este número es igual al tamaño de los datos de entrada multiplicado por el número de neuronas, y sumando el número de umbrales de activación de la capa.\n",
        "\n",
        "\n",
        "En el caso de la primera capa: 7850 = 784 (tamaño de los datos) x 10 (número de neuronas) + 10 (número de umbrales de activación).\n",
        "\n",
        "En el caso de la segunda capa: 110 = 10 (tamaño de los datos) x 10 (número de neuronas) + 10 (número de umbrales de activación)."
      ],
      "metadata": {
        "id": "fTquOce_kYG3"
      }
    },
    {
      "cell_type": "code",
      "source": [
        "model.summary()"
      ],
      "metadata": {
        "colab": {
          "base_uri": "https://localhost:8080/"
        },
        "outputId": "67afdff3-5115-4ef0-dba7-0f91fd73a073",
        "id": "oKDb1F1ukYG4"
      },
      "execution_count": null,
      "outputs": [
        {
          "output_type": "stream",
          "name": "stdout",
          "text": [
            "Model: \"sequential\"\n",
            "_________________________________________________________________\n",
            " Layer (type)                Output Shape              Param #   \n",
            "=================================================================\n",
            " Capa1 (Dense)               (None, 10)                7850      \n",
            "                                                                 \n",
            " CapaSalida1 (Dense)         (None, 10)                110       \n",
            "                                                                 \n",
            "=================================================================\n",
            "Total params: 7,960\n",
            "Trainable params: 7,960\n",
            "Non-trainable params: 0\n",
            "_________________________________________________________________\n"
          ]
        }
      ]
    },
    {
      "cell_type": "markdown",
      "source": [
        "Se definen las funciones del optimizador, la pérdida y la métrica."
      ],
      "metadata": {
        "id": "l_mwrJn4kYG4"
      }
    },
    {
      "cell_type": "code",
      "source": [
        "model.compile(optimizer = 'sgd',\n",
        "              loss = 'categorical_crossentropy',\n",
        "              metrics = ['accuracy'])"
      ],
      "metadata": {
        "id": "tLaGWZxgkYG4"
      },
      "execution_count": null,
      "outputs": []
    },
    {
      "cell_type": "markdown",
      "source": [
        "### Entrenar la red"
      ],
      "metadata": {
        "id": "WnhOIJIskYG4"
      }
    },
    {
      "cell_type": "markdown",
      "source": [
        "Para entrenar la red se realizan ```5``` ciclos con lotes de ```128``` imágenes. Se compara con los datos de validación para controlar el sobreentrenamiento. "
      ],
      "metadata": {
        "id": "e2T7D3_JkYG4"
      }
    },
    {
      "cell_type": "code",
      "source": [
        "history = model.fit(train_val_data, train_val_labels,\n",
        "                    epochs = 5,\n",
        "                    batch_size = 128,\n",
        "                    validation_data = (val_data, val_labels))"
      ],
      "metadata": {
        "colab": {
          "base_uri": "https://localhost:8080/"
        },
        "outputId": "9e7b09fa-0afb-43a8-acff-bf8bd2c98576",
        "id": "NRSZiSZIkYG4"
      },
      "execution_count": null,
      "outputs": [
        {
          "output_type": "stream",
          "name": "stdout",
          "text": [
            "Epoch 1/5\n",
            "391/391 [==============================] - 4s 7ms/step - loss: 1.5731 - accuracy: 0.4716 - val_loss: 1.1830 - val_accuracy: 0.5854\n",
            "Epoch 2/5\n",
            "391/391 [==============================] - 3s 6ms/step - loss: 1.0300 - accuracy: 0.6491 - val_loss: 0.8835 - val_accuracy: 0.6988\n",
            "Epoch 3/5\n",
            "391/391 [==============================] - 2s 6ms/step - loss: 0.8024 - accuracy: 0.7266 - val_loss: 0.7462 - val_accuracy: 0.7440\n",
            "Epoch 4/5\n",
            "391/391 [==============================] - 2s 6ms/step - loss: 0.7049 - accuracy: 0.7545 - val_loss: 0.6800 - val_accuracy: 0.7642\n",
            "Epoch 5/5\n",
            "391/391 [==============================] - 2s 6ms/step - loss: 0.6504 - accuracy: 0.7744 - val_loss: 0.6356 - val_accuracy: 0.7817\n"
          ]
        }
      ]
    },
    {
      "cell_type": "markdown",
      "source": [
        "La pérdida indica el porcentaje de errores entre las etiquetas y las predicciones del modelo.\n",
        "\n",
        "La precisión indica el porcentaje de aciertos entre las predicciones y las etiquetas."
      ],
      "metadata": {
        "id": "zJ9bW9YKkYG4"
      }
    },
    {
      "cell_type": "code",
      "source": [
        "test_loss, test_acc = model.evaluate(test_data, test_labels)"
      ],
      "metadata": {
        "colab": {
          "base_uri": "https://localhost:8080/"
        },
        "outputId": "ec75100b-113d-40b8-8a9b-27ef41f5e736",
        "id": "KFffdFRxkYG4"
      },
      "execution_count": null,
      "outputs": [
        {
          "output_type": "stream",
          "name": "stdout",
          "text": [
            "313/313 [==============================] - 1s 4ms/step - loss: 0.6480 - accuracy: 0.7745\n"
          ]
        }
      ]
    },
    {
      "cell_type": "markdown",
      "source": [
        "### Predecir valores"
      ],
      "metadata": {
        "id": "r0wt2CTDkYG4"
      }
    },
    {
      "cell_type": "markdown",
      "source": [
        "Imprimir la matriz de confusión, que muestra los valores predichos frente a los reales."
      ],
      "metadata": {
        "id": "4MzquXO2kYG5"
      }
    },
    {
      "cell_type": "code",
      "source": [
        "# Note, this code is taken straight from the SKLEARN website, an nice way of \n",
        "# viewing confusion matrix.\n",
        "def plot_confusion_matrix(cm, classes,\n",
        "                          normalize = False,\n",
        "                          title = 'Confusion matrix',\n",
        "                          cmap = plt.cm.Blues):\n",
        "    '''\n",
        "    This function prints and plots the confusion matrix.\n",
        "    Normalization can be applied by setting `normalize = True`.\n",
        "    '''\n",
        "    plt.imshow(cm, interpolation = 'nearest', cmap = cmap)\n",
        "    plt.title(title)\n",
        "    plt.colorbar()\n",
        "    tick_marks = np.arange(len(classes))\n",
        "    plt.xticks(tick_marks, classes, rotation = 45)\n",
        "    plt.yticks(tick_marks, classes)\n",
        "\n",
        "    if normalize:\n",
        "        cm = cm.astype('float') / cm.sum(axis = 1)[:, np.newaxis]\n",
        "\n",
        "    thresh = cm.max() / 2.\n",
        "    for i, j in itertools.product(range(cm.shape[0]), range(cm.shape[1])):\n",
        "        plt.text(j, i, cm[i, j],\n",
        "                 horizontalalignment = 'center',\n",
        "                 color = 'white' if cm[i, j] > thresh else 'black')\n",
        "\n",
        "    plt.tight_layout()\n",
        "    plt.ylabel('Observación')\n",
        "    plt.xlabel('Predicción')"
      ],
      "metadata": {
        "id": "76b0Ovx5kYG5"
      },
      "execution_count": null,
      "outputs": []
    },
    {
      "cell_type": "code",
      "source": [
        "Y_pred = model.predict(test_data)\n",
        "print('Valores de predicción del modelo')\n",
        "# Convertir en predicciones de clases desde los vectores one-hot encoding \n",
        "Y_pred_classes = np.argmax(Y_pred, axis = 1) \n",
        "# Convertir en clases de observación desde los vectores one-hot encoding\n",
        "Y_true = np.argmax(test_labels, axis = 1) \n",
        "# Computar la matriz de confusión\n",
        "confusion_mtx = confusion_matrix(Y_true, Y_pred_classes) \n",
        "# Dibujar la matriz de confusión\n",
        "print('Matriz de confusión')\n",
        "plot_confusion_matrix(confusion_mtx, classes = range(10))"
      ],
      "metadata": {
        "colab": {
          "base_uri": "https://localhost:8080/",
          "height": 363
        },
        "outputId": "778888b7-526b-4fb4-bdca-44398d058401",
        "id": "feFxDVJVkYG5"
      },
      "execution_count": null,
      "outputs": [
        {
          "output_type": "stream",
          "name": "stdout",
          "text": [
            "313/313 [==============================] - 1s 4ms/step\n",
            "Valores de predicción del modelo\n",
            "Matriz de confusión\n"
          ]
        },
        {
          "output_type": "display_data",
          "data": {
            "text/plain": [
              "<Figure size 432x288 with 2 Axes>"
            ],
            "image/png": "[encoded data removed]"
          },
          "metadata": {
            "needs_background": "light"
          }
        }
      ]
    },
    {
      "cell_type": "markdown",
      "source": [
        "Se grafica el elemento 6 (```test_data[5]```) para comprobar las soluciones. "
      ],
      "metadata": {
        "id": "h5LFpB6vkYG5"
      }
    },
    {
      "cell_type": "code",
      "source": [
        "digit = test_data.reshape(10000,28, 28)[5]\n",
        "plt.imshow(digit, cmap = plt.cm.binary)\n",
        "plt.show()\n",
        "print(test_labels[5])"
      ],
      "metadata": {
        "colab": {
          "base_uri": "https://localhost:8080/",
          "height": 282
        },
        "outputId": "99ca1f21-3442-4fae-8325-caf13297fc6e",
        "id": "uwx9R-zAkYG5"
      },
      "execution_count": null,
      "outputs": [
        {
          "output_type": "display_data",
          "data": {
            "text/plain": [
              "<Figure size 432x288 with 1 Axes>"
            ],
            "image/png": "[encoded data removed]"
          },
          "metadata": {
            "needs_background": "light"
          }
        },
        {
          "output_type": "stream",
          "name": "stdout",
          "text": [
            "[0. 1. 0. 0. 0. 0. 0. 0. 0. 0.]\n"
          ]
        }
      ]
    },
    {
      "cell_type": "markdown",
      "source": [
        "La clase del elemento 6 es la clase 1 (pantalones)."
      ],
      "metadata": {
        "id": "rJWwgRTokYG5"
      }
    },
    {
      "cell_type": "code",
      "source": [
        "predictions = model.predict(test_data)\n",
        "print('Predicción del elemento 6: clase', np.argmax(predictions[5]))\n",
        "print(predictions[5])\n",
        "print('Suma de las predicciones del elemento 6:', np.sum(predictions[5]))"
      ],
      "metadata": {
        "colab": {
          "base_uri": "https://localhost:8080/"
        },
        "outputId": "98e96518-40ec-40f2-d1e0-900f8f74d4e0",
        "id": "uQqd3SDkkYG5"
      },
      "execution_count": null,
      "outputs": [
        {
          "output_type": "stream",
          "name": "stdout",
          "text": [
            "313/313 [==============================] - 1s 3ms/step\n",
            "Predicción del elemento 6: clase 1\n",
            "[4.2240750e-02 8.6673427e-01 7.6220073e-03 1.7143542e-02 2.8196139e-02\n",
            " 6.3707998e-06 3.7924878e-02 9.2717401e-06 3.1689080e-05 9.1052556e-05]\n",
            "Suma de las predicciones del elemento 6: 1.0\n"
          ]
        }
      ]
    },
    {
      "cell_type": "code",
      "source": [
        "def plot_image(i, predictions_array, true_label, img):\n",
        "  predictions_array, true_label, img = predictions_array, true_label[i], img[i]\n",
        "  plt.grid(False)\n",
        "  plt.xticks([])\n",
        "  plt.yticks([])\n",
        "\n",
        "  plt.imshow(img, cmap = plt.cm.binary)    \n",
        "\n",
        "  predicted_label = np.argmax(predictions_array)\n",
        "  if predicted_label.all() == true_label.all():\n",
        "    color = 'blue'\n",
        "  else:\n",
        "    color = 'red'\n",
        "\n",
        "  plt.xlabel('{} {:2.0f}% ({})'.format(predicted_label,\n",
        "                                100*np.max(predictions_array),\n",
        "                                true_label),\n",
        "                                color = color)\n",
        "\n",
        "def plot_value_array(i, predictions_array, true_label):\n",
        "  predictions_array, true_label = predictions_array, true_label[i]\n",
        "  plt.grid(False)\n",
        "  plt.xticks(range(10))\n",
        "  plt.yticks([])\n",
        "  thisplot = plt.bar(range(10), predictions_array, color = '#00FF00')\n",
        "  plt.ylim([0, 1])\n",
        "  predicted_label = np.argmax(predictions_array)\n",
        "\n",
        "  thisplot[predicted_label].set_color('red')\n",
        "  thisplot[np.argmax(true_label)].set_color('black')"
      ],
      "metadata": {
        "id": "w5Rev9XZkYG6"
      },
      "execution_count": null,
      "outputs": []
    },
    {
      "cell_type": "code",
      "source": [
        "plt.figure(figsize = (6,3))\n",
        "plt.subplot(1,2,1)\n",
        "plot_image(5, predictions[5], test_labels, test_data.reshape(10000,28,28))\n",
        "plt.subplot(1,2,2)\n",
        "plot_value_array(5, predictions[5],  test_labels)\n",
        "plt.show()"
      ],
      "metadata": {
        "colab": {
          "base_uri": "https://localhost:8080/",
          "height": 211
        },
        "outputId": "40e89ae4-afc1-41c8-a715-9716a23f4ff9",
        "id": "ywXOTTUUkYG6"
      },
      "execution_count": null,
      "outputs": [
        {
          "output_type": "display_data",
          "data": {
            "text/plain": [
              "<Figure size 432x216 with 2 Axes>"
            ],
            "image/png": "[encoded data removed]"
          },
          "metadata": {
            "needs_background": "light"
          }
        }
      ]
    },
    {
      "cell_type": "markdown",
      "source": [
        "## Caso 2"
      ],
      "metadata": {
        "id": "pzs-25Bvw50W"
      }
    },
    {
      "cell_type": "markdown",
      "source": [
        "### Crear la red de neuronas"
      ],
      "metadata": {
        "id": "LUwP7hgxLwg7"
      }
    },
    {
      "cell_type": "markdown",
      "source": [
        "Se crea la red neuronal con una capa de entrada con 10 neuronas y función de activación ```relu```, y una capa de salida con función de activación ```softmax```."
      ],
      "metadata": {
        "id": "yTEzceXEQs__"
      }
    },
    {
      "cell_type": "code",
      "source": [
        "model = models.Sequential()\n",
        "model.add(layers.Dense(10, activation ='relu', name = 'Capa2', input_shape = (28*28,)))\n",
        "model.add(layers.Dense(10, name = 'CapaSalida2', activation = 'softmax'))"
      ],
      "metadata": {
        "id": "6s4rp0iWSGE_"
      },
      "execution_count": null,
      "outputs": []
    },
    {
      "cell_type": "markdown",
      "source": [
        "### Explicar model.summary()\n"
      ],
      "metadata": {
        "id": "O7ykuaNzMnqg"
      }
    },
    {
      "cell_type": "markdown",
      "source": [
        "El resumen del modelo indica el número de parámetros de salida de cada capa. Este número es igual al tamaño de los datos de entrada multiplicado por el número de neuronas, y sumando el número de umbrales de activación de la capa.\n",
        "\n",
        "\n",
        "En el caso de la primera capa: 7850 = 784 (tamaño de los datos) x 10 (número de neuronas) + 10 (número de umbrales de activación).\n",
        "\n",
        "En el caso de la segunda capa: 110 = 10 (tamaño de los datos) x 10 (número de neuronas) + 10 (número de umbrales de activación)."
      ],
      "metadata": {
        "id": "UAxZHzXQTk9Y"
      }
    },
    {
      "cell_type": "code",
      "source": [
        "model.summary()"
      ],
      "metadata": {
        "colab": {
          "base_uri": "https://localhost:8080/"
        },
        "id": "jQlpbPf-Qdiv",
        "outputId": "b902a872-74c2-4f28-abb3-8a2a390a9bba"
      },
      "execution_count": null,
      "outputs": [
        {
          "output_type": "stream",
          "name": "stdout",
          "text": [
            "Model: \"sequential_1\"\n",
            "_________________________________________________________________\n",
            " Layer (type)                Output Shape              Param #   \n",
            "=================================================================\n",
            " Capa2 (Dense)               (None, 10)                7850      \n",
            "                                                                 \n",
            " CapaSalida2 (Dense)         (None, 10)                110       \n",
            "                                                                 \n",
            "=================================================================\n",
            "Total params: 7,960\n",
            "Trainable params: 7,960\n",
            "Non-trainable params: 0\n",
            "_________________________________________________________________\n"
          ]
        }
      ]
    },
    {
      "cell_type": "markdown",
      "source": [
        "Se definen las funciones del optimizador, la pérdida y la métrica."
      ],
      "metadata": {
        "id": "3y2UTZhbwCor"
      }
    },
    {
      "cell_type": "code",
      "source": [
        "model.compile(optimizer = 'rmsprop',\n",
        "              loss = 'categorical_crossentropy',\n",
        "              metrics = ['accuracy'])"
      ],
      "metadata": {
        "id": "uwIBFxNZVD5j"
      },
      "execution_count": null,
      "outputs": []
    },
    {
      "cell_type": "markdown",
      "source": [
        "### Entrenar la red"
      ],
      "metadata": {
        "id": "2oFAQom1VEdi"
      }
    },
    {
      "cell_type": "markdown",
      "source": [
        "Para entrenar la red se realizan ```5``` ciclos con lotes de ```128``` imágenes. Se compara con los datos de validación para controlar el sobreentrenamiento. "
      ],
      "metadata": {
        "id": "D2YuIwa0yGsR"
      }
    },
    {
      "cell_type": "code",
      "source": [
        "history = model.fit(train_val_data, train_val_labels,\n",
        "                    epochs = 5,\n",
        "                    batch_size = 128,\n",
        "                    validation_data = (val_data, val_labels))"
      ],
      "metadata": {
        "colab": {
          "base_uri": "https://localhost:8080/"
        },
        "id": "MepKtlWWQrt1",
        "outputId": "f11b2d2f-d879-4455-86fa-ef82bb6a2ee5"
      },
      "execution_count": null,
      "outputs": [
        {
          "output_type": "stream",
          "name": "stdout",
          "text": [
            "Epoch 1/5\n",
            "391/391 [==============================] - 2s 4ms/step - loss: 0.8093 - accuracy: 0.7337 - val_loss: 0.5595 - val_accuracy: 0.8088\n",
            "Epoch 2/5\n",
            "391/391 [==============================] - 1s 3ms/step - loss: 0.5278 - accuracy: 0.8158 - val_loss: 0.5406 - val_accuracy: 0.8122\n",
            "Epoch 3/5\n",
            "391/391 [==============================] - 1s 3ms/step - loss: 0.4838 - accuracy: 0.8321 - val_loss: 0.4780 - val_accuracy: 0.8342\n",
            "Epoch 4/5\n",
            "391/391 [==============================] - 1s 3ms/step - loss: 0.4595 - accuracy: 0.8395 - val_loss: 0.4738 - val_accuracy: 0.8353\n",
            "Epoch 5/5\n",
            "391/391 [==============================] - 1s 3ms/step - loss: 0.4446 - accuracy: 0.8445 - val_loss: 0.4459 - val_accuracy: 0.8458\n"
          ]
        }
      ]
    },
    {
      "cell_type": "markdown",
      "source": [
        "La pérdida indica el porcentaje de errores entre las etiquetas y las predicciones del modelo.\n",
        "\n",
        "La precisión indica el porcentaje de aciertos entre las predicciones y las etiquetas."
      ],
      "metadata": {
        "id": "xByMAIeTPqjV"
      }
    },
    {
      "cell_type": "code",
      "source": [
        "test_loss, test_acc = model.evaluate(test_data, test_labels)"
      ],
      "metadata": {
        "colab": {
          "base_uri": "https://localhost:8080/"
        },
        "id": "zwHoOjklPmsa",
        "outputId": "401a049a-5b72-40dd-d08f-3838ca9baad2"
      },
      "execution_count": null,
      "outputs": [
        {
          "output_type": "stream",
          "name": "stdout",
          "text": [
            "313/313 [==============================] - 1s 2ms/step - loss: 0.4678 - accuracy: 0.8344\n"
          ]
        }
      ]
    },
    {
      "cell_type": "markdown",
      "source": [
        "### Predecir valores"
      ],
      "metadata": {
        "id": "wRx8hZhLQo8m"
      }
    },
    {
      "cell_type": "markdown",
      "source": [
        "Imprimir la matriz de confusión, que muestra los valores predichos frente a los reales."
      ],
      "metadata": {
        "id": "jeSpdtd88cuS"
      }
    },
    {
      "cell_type": "code",
      "source": [
        "# Note, this code is taken straight from the SKLEARN website, an nice way of \n",
        "# viewing confusion matrix.\n",
        "def plot_confusion_matrix(cm, classes,\n",
        "                          normalize = False,\n",
        "                          title = 'Confusion matrix',\n",
        "                          cmap = plt.cm.Blues):\n",
        "    '''\n",
        "    This function prints and plots the confusion matrix.\n",
        "    Normalization can be applied by setting `normalize = True`.\n",
        "    '''\n",
        "    plt.imshow(cm, interpolation = 'nearest', cmap = cmap)\n",
        "    plt.title(title)\n",
        "    plt.colorbar()\n",
        "    tick_marks = np.arange(len(classes))\n",
        "    plt.xticks(tick_marks, classes, rotation = 45)\n",
        "    plt.yticks(tick_marks, classes)\n",
        "\n",
        "    if normalize:\n",
        "        cm = cm.astype('float') / cm.sum(axis = 1)[:, np.newaxis]\n",
        "\n",
        "    thresh = cm.max() / 2.\n",
        "    for i, j in itertools.product(range(cm.shape[0]), range(cm.shape[1])):\n",
        "        plt.text(j, i, cm[i, j],\n",
        "                 horizontalalignment = 'center',\n",
        "                 color = 'white' if cm[i, j] > thresh else 'black')\n",
        "\n",
        "    plt.tight_layout()\n",
        "    plt.ylabel('Observación')\n",
        "    plt.xlabel('Predicción')"
      ],
      "metadata": {
        "id": "ap-ozaX0llrR"
      },
      "execution_count": null,
      "outputs": []
    },
    {
      "cell_type": "code",
      "source": [
        "Y_pred = model.predict(test_data)\n",
        "print('Valores de predicción del modelo')\n",
        "# Convertir en predicciones de clases desde los vectores one-hot encoding \n",
        "Y_pred_classes = np.argmax(Y_pred, axis = 1) \n",
        "# Convertir en clases de observación desde los vectores one-hot encoding\n",
        "Y_true = np.argmax(test_labels, axis = 1) \n",
        "# Computar la matriz de confusión\n",
        "confusion_mtx = confusion_matrix(Y_true, Y_pred_classes) \n",
        "# Dibujar la matriz de confusión\n",
        "print('Matriz de confusión')\n",
        "plot_confusion_matrix(confusion_mtx, classes = range(10))"
      ],
      "metadata": {
        "id": "XshGwiutVsi9",
        "colab": {
          "base_uri": "https://localhost:8080/",
          "height": 363
        },
        "outputId": "f266afb2-478a-4db8-bf92-226d408ff451"
      },
      "execution_count": null,
      "outputs": [
        {
          "output_type": "stream",
          "name": "stdout",
          "text": [
            "313/313 [==============================] - 1s 1ms/step\n",
            "Valores de predicción del modelo\n",
            "Matriz de confusión\n"
          ]
        },
        {
          "output_type": "display_data",
          "data": {
            "text/plain": [
              "<Figure size 432x288 with 2 Axes>"
            ],
            "image/png": "[encoded data removed]"
          },
          "metadata": {
            "needs_background": "light"
          }
        }
      ]
    },
    {
      "cell_type": "markdown",
      "source": [
        "Se grafica el elemento 6 (```test_data[5]```) para comprobar las soluciones. "
      ],
      "metadata": {
        "id": "04i0fC4H8buV"
      }
    },
    {
      "cell_type": "code",
      "source": [
        "digit = test_data.reshape(10000,28, 28)[5]\n",
        "plt.imshow(digit, cmap = plt.cm.binary)\n",
        "plt.show()\n",
        "print(test_labels[5])"
      ],
      "metadata": {
        "id": "9BbG8Tn8c07E",
        "colab": {
          "base_uri": "https://localhost:8080/",
          "height": 282
        },
        "outputId": "630be8f2-2649-475f-9534-b07fcbd7b530"
      },
      "execution_count": null,
      "outputs": [
        {
          "output_type": "display_data",
          "data": {
            "text/plain": [
              "<Figure size 432x288 with 1 Axes>"
            ],
            "image/png": "[encoded data removed]"
          },
          "metadata": {
            "needs_background": "light"
          }
        },
        {
          "output_type": "stream",
          "name": "stdout",
          "text": [
            "[0. 1. 0. 0. 0. 0. 0. 0. 0. 0.]\n"
          ]
        }
      ]
    },
    {
      "cell_type": "markdown",
      "source": [
        "La clase del elemento 6 es la clase 1 (pantalones)."
      ],
      "metadata": {
        "id": "QAMvqbA3ZOlT"
      }
    },
    {
      "cell_type": "code",
      "source": [
        "predictions = model.predict(test_data)\n",
        "print('Predicción del elemento 6: clase', np.argmax(predictions[5]))\n",
        "print(predictions[5])\n",
        "print('Suma de las predicciones del elemento 6:', np.sum(predictions[5]))"
      ],
      "metadata": {
        "id": "FhoAWXL1c64n",
        "colab": {
          "base_uri": "https://localhost:8080/"
        },
        "outputId": "9b25157c-6519-4d6c-abe0-fc156486dfff"
      },
      "execution_count": null,
      "outputs": [
        {
          "output_type": "stream",
          "name": "stdout",
          "text": [
            "313/313 [==============================] - 0s 2ms/step\n",
            "Predicción del elemento 6: clase 1\n",
            "[4.2619740e-04 9.9659050e-01 1.2527588e-04 6.1680295e-04 2.2137205e-03\n",
            " 2.1933759e-10 8.1446879e-06 6.0685436e-11 1.9271978e-05 5.6923289e-11]\n",
            "Suma de las predicciones del elemento 6: 0.9999999\n"
          ]
        }
      ]
    },
    {
      "cell_type": "code",
      "source": [
        "def plot_image(i, predictions_array, true_label, img):\n",
        "  predictions_array, true_label, img = predictions_array, true_label[i], img[i]\n",
        "  plt.grid(False)\n",
        "  plt.xticks([])\n",
        "  plt.yticks([])\n",
        "\n",
        "  plt.imshow(img, cmap = plt.cm.binary)    \n",
        "\n",
        "  predicted_label = np.argmax(predictions_array)\n",
        "  if predicted_label.all() == true_label.all():\n",
        "    color = 'blue'\n",
        "  else:\n",
        "    color = 'red'\n",
        "\n",
        "  plt.xlabel('{} {:2.0f}% ({})'.format(predicted_label,\n",
        "                                100*np.max(predictions_array),\n",
        "                                true_label),\n",
        "                                color = color)\n",
        "\n",
        "def plot_value_array(i, predictions_array, true_label):\n",
        "  predictions_array, true_label = predictions_array, true_label[i]\n",
        "  plt.grid(False)\n",
        "  plt.xticks(range(10))\n",
        "  plt.yticks([])\n",
        "  thisplot = plt.bar(range(10), predictions_array, color = '#00FF00')\n",
        "  plt.ylim([0, 1])\n",
        "  predicted_label = np.argmax(predictions_array)\n",
        "\n",
        "  thisplot[predicted_label].set_color('red')\n",
        "  thisplot[np.argmax(true_label)].set_color('black')"
      ],
      "metadata": {
        "id": "QLoUnoqIdHbd"
      },
      "execution_count": null,
      "outputs": []
    },
    {
      "cell_type": "code",
      "source": [
        "plt.figure(figsize = (6,3))\n",
        "plt.subplot(1,2,1)\n",
        "plot_image(5, predictions[5], test_labels, test_data.reshape(10000,28,28))\n",
        "plt.subplot(1,2,2)\n",
        "plot_value_array(5, predictions[5],  test_labels)\n",
        "plt.show()"
      ],
      "metadata": {
        "id": "82gJvLq1_et8",
        "colab": {
          "base_uri": "https://localhost:8080/",
          "height": 211
        },
        "outputId": "f8249be3-4acf-4c32-e87e-3a32159c8ca7"
      },
      "execution_count": null,
      "outputs": [
        {
          "output_type": "display_data",
          "data": {
            "text/plain": [
              "<Figure size 432x216 with 2 Axes>"
            ],
            "image/png": "[encoded data removed]"
          },
          "metadata": {
            "needs_background": "light"
          }
        }
      ]
    },
    {
      "cell_type": "markdown",
      "source": [
        "## Caso 2.5"
      ],
      "metadata": {
        "id": "mYLCqAC3rKbZ"
      }
    },
    {
      "cell_type": "markdown",
      "source": [
        "### Crear la red de neuronas"
      ],
      "metadata": {
        "id": "MZlfbltzrKba"
      }
    },
    {
      "cell_type": "markdown",
      "source": [
        "Se crea la red neuronal con una capa de entrada con 10 neuronas y función de activación ```relu```, y una capa de salida con función de activación ```softmax```."
      ],
      "metadata": {
        "id": "m3rEuHQSrKbb"
      }
    },
    {
      "cell_type": "code",
      "source": [
        "model = models.Sequential()\n",
        "model.add(layers.Dense(10, activation ='relu', name = 'Capa2', input_shape = (28*28,)))\n",
        "model.add(layers.Dense(10, name = 'CapaSalida2', activation = 'softmax'))"
      ],
      "metadata": {
        "id": "pgakvJbnrKbb"
      },
      "execution_count": null,
      "outputs": []
    },
    {
      "cell_type": "markdown",
      "source": [
        "### Explicar model.summary()\n"
      ],
      "metadata": {
        "id": "myOSwUnWrKbc"
      }
    },
    {
      "cell_type": "markdown",
      "source": [
        "El resumen del modelo indica el número de parámetros de salida de cada capa. Este número es igual al tamaño de los datos de entrada multiplicado por el número de neuronas, y sumando el número de umbrales de activación de la capa.\n",
        "\n",
        "\n",
        "En el caso de la primera capa: 7850 = 784 (tamaño de los datos) x 10 (número de neuronas) + 10 (número de umbrales de activación).\n",
        "\n",
        "En el caso de la segunda capa: 110 = 10 (tamaño de los datos) x 10 (número de neuronas) + 10 (número de umbrales de activación)."
      ],
      "metadata": {
        "id": "UVmfqP4orKbc"
      }
    },
    {
      "cell_type": "code",
      "source": [
        "model.summary()"
      ],
      "metadata": {
        "colab": {
          "base_uri": "https://localhost:8080/"
        },
        "outputId": "86b2830d-5c83-4f8f-c576-d1fbe1987942",
        "id": "yZpkC9OvrKbc"
      },
      "execution_count": null,
      "outputs": [
        {
          "output_type": "stream",
          "name": "stdout",
          "text": [
            "Model: \"sequential_2\"\n",
            "_________________________________________________________________\n",
            " Layer (type)                Output Shape              Param #   \n",
            "=================================================================\n",
            " Capa2 (Dense)               (None, 10)                7850      \n",
            "                                                                 \n",
            " CapaSalida2 (Dense)         (None, 10)                110       \n",
            "                                                                 \n",
            "=================================================================\n",
            "Total params: 7,960\n",
            "Trainable params: 7,960\n",
            "Non-trainable params: 0\n",
            "_________________________________________________________________\n"
          ]
        }
      ]
    },
    {
      "cell_type": "markdown",
      "source": [
        "Se definen las funciones del optimizador, la pérdida y la métrica."
      ],
      "metadata": {
        "id": "h37sm_XVrKbd"
      }
    },
    {
      "cell_type": "code",
      "source": [
        "model.compile(optimizer = 'rmsprop',\n",
        "              loss = 'categorical_crossentropy',\n",
        "              metrics = ['accuracy'])"
      ],
      "metadata": {
        "id": "KENFu-InrKbd"
      },
      "execution_count": null,
      "outputs": []
    },
    {
      "cell_type": "markdown",
      "source": [
        "### Entrenar la red"
      ],
      "metadata": {
        "id": "WExv33SlrKbd"
      }
    },
    {
      "cell_type": "markdown",
      "source": [
        "Para entrenar la red se realizan ```5``` ciclos con lotes de ```128``` imágenes. Se compara con los datos de validación para controlar el sobreentrenamiento. "
      ],
      "metadata": {
        "id": "izEo9-gQrKbe"
      }
    },
    {
      "cell_type": "code",
      "source": [
        "history = model.fit(train_val_data, train_val_labels,\n",
        "                    epochs = 25,\n",
        "                    batch_size = 128,\n",
        "                    validation_data = (val_data, val_labels))"
      ],
      "metadata": {
        "colab": {
          "base_uri": "https://localhost:8080/"
        },
        "outputId": "24f47b1a-8375-4076-d895-027c84df8d76",
        "id": "8pH8i2xJrKbe"
      },
      "execution_count": null,
      "outputs": [
        {
          "output_type": "stream",
          "name": "stdout",
          "text": [
            "Epoch 1/25\n",
            "391/391 [==============================] - 2s 4ms/step - loss: 1.1543 - accuracy: 0.6240 - val_loss: 0.6952 - val_accuracy: 0.7693\n",
            "Epoch 2/25\n",
            "391/391 [==============================] - 1s 3ms/step - loss: 0.5872 - accuracy: 0.8043 - val_loss: 0.5454 - val_accuracy: 0.8168\n",
            "Epoch 3/25\n",
            "391/391 [==============================] - 2s 4ms/step - loss: 0.5004 - accuracy: 0.8305 - val_loss: 0.5096 - val_accuracy: 0.8282\n",
            "Epoch 4/25\n",
            "391/391 [==============================] - 2s 4ms/step - loss: 0.4640 - accuracy: 0.8420 - val_loss: 0.4608 - val_accuracy: 0.8439\n",
            "Epoch 5/25\n",
            "391/391 [==============================] - 1s 3ms/step - loss: 0.4431 - accuracy: 0.8478 - val_loss: 0.4459 - val_accuracy: 0.8507\n",
            "Epoch 6/25\n",
            "391/391 [==============================] - 1s 4ms/step - loss: 0.4279 - accuracy: 0.8533 - val_loss: 0.4646 - val_accuracy: 0.8403\n",
            "Epoch 7/25\n",
            "391/391 [==============================] - 1s 4ms/step - loss: 0.4167 - accuracy: 0.8569 - val_loss: 0.4391 - val_accuracy: 0.8489\n",
            "Epoch 8/25\n",
            "391/391 [==============================] - 1s 3ms/step - loss: 0.4070 - accuracy: 0.8592 - val_loss: 0.4576 - val_accuracy: 0.8414\n",
            "Epoch 9/25\n",
            "391/391 [==============================] - 2s 5ms/step - loss: 0.3997 - accuracy: 0.8617 - val_loss: 0.4200 - val_accuracy: 0.8573\n",
            "Epoch 10/25\n",
            "391/391 [==============================] - 3s 7ms/step - loss: 0.3920 - accuracy: 0.8646 - val_loss: 0.4171 - val_accuracy: 0.8556\n",
            "Epoch 11/25\n",
            "391/391 [==============================] - 3s 8ms/step - loss: 0.3870 - accuracy: 0.8658 - val_loss: 0.4090 - val_accuracy: 0.8601\n",
            "Epoch 12/25\n",
            "391/391 [==============================] - 2s 6ms/step - loss: 0.3806 - accuracy: 0.8678 - val_loss: 0.4115 - val_accuracy: 0.8585\n",
            "Epoch 13/25\n",
            "391/391 [==============================] - 3s 7ms/step - loss: 0.3771 - accuracy: 0.8680 - val_loss: 0.4042 - val_accuracy: 0.8630\n",
            "Epoch 14/25\n",
            "391/391 [==============================] - 2s 5ms/step - loss: 0.3727 - accuracy: 0.8697 - val_loss: 0.4314 - val_accuracy: 0.8520\n",
            "Epoch 15/25\n",
            "391/391 [==============================] - 1s 3ms/step - loss: 0.3696 - accuracy: 0.8700 - val_loss: 0.3997 - val_accuracy: 0.8594\n",
            "Epoch 16/25\n",
            "391/391 [==============================] - 1s 3ms/step - loss: 0.3653 - accuracy: 0.8714 - val_loss: 0.3969 - val_accuracy: 0.8624\n",
            "Epoch 17/25\n",
            "391/391 [==============================] - 1s 4ms/step - loss: 0.3624 - accuracy: 0.8734 - val_loss: 0.3999 - val_accuracy: 0.8647\n",
            "Epoch 18/25\n",
            "391/391 [==============================] - 1s 3ms/step - loss: 0.3602 - accuracy: 0.8734 - val_loss: 0.4028 - val_accuracy: 0.8627\n",
            "Epoch 19/25\n",
            "391/391 [==============================] - 2s 4ms/step - loss: 0.3571 - accuracy: 0.8754 - val_loss: 0.4171 - val_accuracy: 0.8546\n",
            "Epoch 20/25\n",
            "391/391 [==============================] - 1s 4ms/step - loss: 0.3554 - accuracy: 0.8756 - val_loss: 0.3939 - val_accuracy: 0.8638\n",
            "Epoch 21/25\n",
            "391/391 [==============================] - 1s 3ms/step - loss: 0.3532 - accuracy: 0.8756 - val_loss: 0.4023 - val_accuracy: 0.8597\n",
            "Epoch 22/25\n",
            "391/391 [==============================] - 1s 4ms/step - loss: 0.3511 - accuracy: 0.8760 - val_loss: 0.3961 - val_accuracy: 0.8603\n",
            "Epoch 23/25\n",
            "391/391 [==============================] - 1s 3ms/step - loss: 0.3493 - accuracy: 0.8762 - val_loss: 0.3904 - val_accuracy: 0.8644\n",
            "Epoch 24/25\n",
            "391/391 [==============================] - 1s 3ms/step - loss: 0.3472 - accuracy: 0.8777 - val_loss: 0.3935 - val_accuracy: 0.8655\n",
            "Epoch 25/25\n",
            "391/391 [==============================] - 1s 4ms/step - loss: 0.3455 - accuracy: 0.8782 - val_loss: 0.3962 - val_accuracy: 0.8624\n"
          ]
        }
      ]
    },
    {
      "cell_type": "markdown",
      "source": [
        "La pérdida indica el porcentaje de errores entre las etiquetas y las predicciones del modelo.\n",
        "\n",
        "La precisión indica el porcentaje de aciertos entre las predicciones y las etiquetas."
      ],
      "metadata": {
        "id": "CNaK1etArKbf"
      }
    },
    {
      "cell_type": "code",
      "source": [
        "test_loss, test_acc = model.evaluate(test_data, test_labels)"
      ],
      "metadata": {
        "colab": {
          "base_uri": "https://localhost:8080/"
        },
        "outputId": "b891f8e5-545c-4d75-b880-0acf943e5eed",
        "id": "AEKJDE1ArKbf"
      },
      "execution_count": null,
      "outputs": [
        {
          "output_type": "stream",
          "name": "stdout",
          "text": [
            "313/313 [==============================] - 1s 2ms/step - loss: 0.4204 - accuracy: 0.8541\n"
          ]
        }
      ]
    },
    {
      "cell_type": "markdown",
      "source": [
        "### Predecir valores"
      ],
      "metadata": {
        "id": "qSQtDu3HrKbf"
      }
    },
    {
      "cell_type": "markdown",
      "source": [
        "Imprimir la matriz de confusión, que muestra los valores predichos frente a los reales."
      ],
      "metadata": {
        "id": "syJQS7rnrKbg"
      }
    },
    {
      "cell_type": "code",
      "source": [
        "# Note, this code is taken straight from the SKLEARN website, an nice way of \n",
        "# viewing confusion matrix.\n",
        "def plot_confusion_matrix(cm, classes,\n",
        "                          normalize = False,\n",
        "                          title = 'Confusion matrix',\n",
        "                          cmap = plt.cm.Blues):\n",
        "    '''\n",
        "    This function prints and plots the confusion matrix.\n",
        "    Normalization can be applied by setting `normalize = True`.\n",
        "    '''\n",
        "    plt.imshow(cm, interpolation = 'nearest', cmap = cmap)\n",
        "    plt.title(title)\n",
        "    plt.colorbar()\n",
        "    tick_marks = np.arange(len(classes))\n",
        "    plt.xticks(tick_marks, classes, rotation = 45)\n",
        "    plt.yticks(tick_marks, classes)\n",
        "\n",
        "    if normalize:\n",
        "        cm = cm.astype('float') / cm.sum(axis = 1)[:, np.newaxis]\n",
        "\n",
        "    thresh = cm.max() / 2.\n",
        "    for i, j in itertools.product(range(cm.shape[0]), range(cm.shape[1])):\n",
        "        plt.text(j, i, cm[i, j],\n",
        "                 horizontalalignment = 'center',\n",
        "                 color = 'white' if cm[i, j] > thresh else 'black')\n",
        "\n",
        "    plt.tight_layout()\n",
        "    plt.ylabel('Observación')\n",
        "    plt.xlabel('Predicción')"
      ],
      "metadata": {
        "id": "1JtGWUtNrKbg"
      },
      "execution_count": null,
      "outputs": []
    },
    {
      "cell_type": "code",
      "source": [
        "Y_pred = model.predict(test_data)\n",
        "print('Valores de predicción del modelo')\n",
        "# Convertir en predicciones de clases desde los vectores one-hot encoding \n",
        "Y_pred_classes = np.argmax(Y_pred, axis = 1) \n",
        "# Convertir en clases de observación desde los vectores one-hot encoding\n",
        "Y_true = np.argmax(test_labels, axis = 1) \n",
        "# Computar la matriz de confusión\n",
        "confusion_mtx = confusion_matrix(Y_true, Y_pred_classes) \n",
        "# Dibujar la matriz de confusión\n",
        "print('Matriz de confusión')\n",
        "plot_confusion_matrix(confusion_mtx, classes = range(10))"
      ],
      "metadata": {
        "colab": {
          "base_uri": "https://localhost:8080/",
          "height": 363
        },
        "outputId": "1181a876-bd40-4dc6-9fd2-bf70b1e6e079",
        "id": "gkSvMpqZrKbg"
      },
      "execution_count": null,
      "outputs": [
        {
          "output_type": "stream",
          "name": "stdout",
          "text": [
            "313/313 [==============================] - 1s 3ms/step\n",
            "Valores de predicción del modelo\n",
            "Matriz de confusión\n"
          ]
        },
        {
          "output_type": "display_data",
          "data": {
            "text/plain": [
              "<Figure size 432x288 with 2 Axes>"
            ],
            "image/png": "[encoded data removed]"
          },
          "metadata": {
            "needs_background": "light"
          }
        }
      ]
    },
    {
      "cell_type": "markdown",
      "source": [
        "Se grafica el elemento 6 (```test_data[5]```) para comprobar las soluciones. "
      ],
      "metadata": {
        "id": "wyVJoZlwrKbh"
      }
    },
    {
      "cell_type": "code",
      "source": [
        "digit = test_data.reshape(10000,28, 28)[5]\n",
        "plt.imshow(digit, cmap = plt.cm.binary)\n",
        "plt.show()\n",
        "print(test_labels[5])"
      ],
      "metadata": {
        "colab": {
          "base_uri": "https://localhost:8080/",
          "height": 282
        },
        "outputId": "90d63402-fb2f-48c6-e25a-96311abff52d",
        "id": "kib4BvBXrKbh"
      },
      "execution_count": null,
      "outputs": [
        {
          "output_type": "display_data",
          "data": {
            "text/plain": [
              "<Figure size 432x288 with 1 Axes>"
            ],
            "image/png": "[encoded data removed]"
          },
          "metadata": {
            "needs_background": "light"
          }
        },
        {
          "output_type": "stream",
          "name": "stdout",
          "text": [
            "[0. 1. 0. 0. 0. 0. 0. 0. 0. 0.]\n"
          ]
        }
      ]
    },
    {
      "cell_type": "markdown",
      "source": [
        "La clase del elemento 6 es la clase 1 (pantalones)."
      ],
      "metadata": {
        "id": "XAQ1AWWHrKbi"
      }
    },
    {
      "cell_type": "code",
      "source": [
        "predictions = model.predict(test_data)\n",
        "print('Predicción del elemento 6: clase', np.argmax(predictions[5]))\n",
        "print(predictions[5])\n",
        "print('Suma de las predicciones del elemento 6:', np.sum(predictions[5]))"
      ],
      "metadata": {
        "colab": {
          "base_uri": "https://localhost:8080/"
        },
        "outputId": "28f7836d-fd3a-4d6d-e04e-ea19bcb2c2d5",
        "id": "FBIVo56OrKbi"
      },
      "execution_count": null,
      "outputs": [
        {
          "output_type": "stream",
          "name": "stdout",
          "text": [
            "313/313 [==============================] - 0s 2ms/step\n",
            "Predicción del elemento 6: clase 1\n",
            "[1.6654383e-03 9.9763191e-01 7.5369171e-06 1.2616589e-04 5.3588219e-04\n",
            " 6.0536637e-10 3.2981650e-05 3.2129508e-09 1.2920807e-08 3.4061138e-16]\n",
            "Suma de las predicciones del elemento 6: 0.9999999\n"
          ]
        }
      ]
    },
    {
      "cell_type": "code",
      "source": [
        "def plot_image(i, predictions_array, true_label, img):\n",
        "  predictions_array, true_label, img = predictions_array, true_label[i], img[i]\n",
        "  plt.grid(False)\n",
        "  plt.xticks([])\n",
        "  plt.yticks([])\n",
        "\n",
        "  plt.imshow(img, cmap = plt.cm.binary)    \n",
        "\n",
        "  predicted_label = np.argmax(predictions_array)\n",
        "  if predicted_label.all() == true_label.all():\n",
        "    color = 'blue'\n",
        "  else:\n",
        "    color = 'red'\n",
        "\n",
        "  plt.xlabel('{} {:2.0f}% ({})'.format(predicted_label,\n",
        "                                100*np.max(predictions_array),\n",
        "                                true_label),\n",
        "                                color = color)\n",
        "\n",
        "def plot_value_array(i, predictions_array, true_label):\n",
        "  predictions_array, true_label = predictions_array, true_label[i]\n",
        "  plt.grid(False)\n",
        "  plt.xticks(range(10))\n",
        "  plt.yticks([])\n",
        "  thisplot = plt.bar(range(10), predictions_array, color = '#00FF00')\n",
        "  plt.ylim([0, 1])\n",
        "  predicted_label = np.argmax(predictions_array)\n",
        "\n",
        "  thisplot[predicted_label].set_color('red')\n",
        "  thisplot[np.argmax(true_label)].set_color('black')"
      ],
      "metadata": {
        "id": "3B0qQ9WxrKbi"
      },
      "execution_count": null,
      "outputs": []
    },
    {
      "cell_type": "code",
      "source": [
        "plt.figure(figsize = (6,3))\n",
        "plt.subplot(1,2,1)\n",
        "plot_image(5, predictions[5], test_labels, test_data.reshape(10000,28,28))\n",
        "plt.subplot(1,2,2)\n",
        "plot_value_array(5, predictions[5],  test_labels)\n",
        "plt.show()"
      ],
      "metadata": {
        "colab": {
          "base_uri": "https://localhost:8080/",
          "height": 211
        },
        "outputId": "29858ab0-4816-4d55-afc7-7ac3a38ad2a7",
        "id": "3d4DxyPQrKbj"
      },
      "execution_count": null,
      "outputs": [
        {
          "output_type": "display_data",
          "data": {
            "text/plain": [
              "<Figure size 432x216 with 2 Axes>"
            ],
            "image/png": "[encoded data removed]"
          },
          "metadata": {
            "needs_background": "light"
          }
        }
      ]
    },
    {
      "cell_type": "markdown",
      "source": [
        "## Caso 3"
      ],
      "metadata": {
        "id": "IiqUjYKEl4G0"
      }
    },
    {
      "cell_type": "markdown",
      "source": [
        "### Crear la red de neuronas"
      ],
      "metadata": {
        "id": "g2tAAPrHl4G1"
      }
    },
    {
      "cell_type": "markdown",
      "source": [
        "Se crea la red neuronal con una capa de entrada con 10 neuronas y función de activación ```sigmoid```, y una capa de salida con función de activación ```softmax```."
      ],
      "metadata": {
        "id": "EdX8meU-l4G1"
      }
    },
    {
      "cell_type": "code",
      "source": [
        "model = models.Sequential()\n",
        "model.add(layers.Dense(10, activation ='sigmoid', name = 'Capa3', input_shape = (28*28,)))\n",
        "model.add(layers.Dense(10, name = 'CapaSalida3', activation = 'softmax'))"
      ],
      "metadata": {
        "id": "-bPneutFl4G1"
      },
      "execution_count": null,
      "outputs": []
    },
    {
      "cell_type": "markdown",
      "source": [
        "### Explicar model.summary()\n"
      ],
      "metadata": {
        "id": "0NmJbS4fl4G1"
      }
    },
    {
      "cell_type": "markdown",
      "source": [
        "El resumen del modelo indica el número de parámetros de salida de cada capa. Este número es igual al tamaño de los datos de entrada multiplicado por el número de neuronas, y sumando el número de umbrales de activación de la capa.\n",
        "\n",
        "\n",
        "En el caso de la primera capa: 7850 = 784 (tamaño de los datos) x 10 (número de neuronas) + 10 (número de umbrales de activación).\n",
        "\n",
        "En el caso de la segunda capa: 110 = 10 (tamaño de los datos) x 10 (número de neuronas) + 10 (número de umbrales de activación)."
      ],
      "metadata": {
        "id": "-FTX4egil4G1"
      }
    },
    {
      "cell_type": "code",
      "source": [
        "model.summary()"
      ],
      "metadata": {
        "colab": {
          "base_uri": "https://localhost:8080/"
        },
        "outputId": "4bda764e-35b5-4ec7-99d6-da976793db77",
        "id": "6_qB0a08l4G1"
      },
      "execution_count": null,
      "outputs": [
        {
          "output_type": "stream",
          "name": "stdout",
          "text": [
            "Model: \"sequential_3\"\n",
            "_________________________________________________________________\n",
            " Layer (type)                Output Shape              Param #   \n",
            "=================================================================\n",
            " Capa3 (Dense)               (None, 10)                7850      \n",
            "                                                                 \n",
            " CapaSalida3 (Dense)         (None, 10)                110       \n",
            "                                                                 \n",
            "=================================================================\n",
            "Total params: 7,960\n",
            "Trainable params: 7,960\n",
            "Non-trainable params: 0\n",
            "_________________________________________________________________\n"
          ]
        }
      ]
    },
    {
      "cell_type": "markdown",
      "source": [
        "Se definen las funciones del optimizador, la pérdida y la métrica."
      ],
      "metadata": {
        "id": "CEThyLqdl4G1"
      }
    },
    {
      "cell_type": "code",
      "source": [
        "model.compile(optimizer = 'sgd',\n",
        "              loss = 'categorical_crossentropy',\n",
        "              metrics = ['accuracy'])"
      ],
      "metadata": {
        "id": "NlWa9sPel4G1"
      },
      "execution_count": null,
      "outputs": []
    },
    {
      "cell_type": "markdown",
      "source": [
        "### Entrenar la red"
      ],
      "metadata": {
        "id": "thul5Sspl4G1"
      }
    },
    {
      "cell_type": "markdown",
      "source": [
        "Para entrenar la red se realizan ```5``` ciclos con lotes de ```128``` imágenes. Se compara con los datos de validación para controlar el sobreentrenamiento. "
      ],
      "metadata": {
        "id": "idPqmt4Wl4G1"
      }
    },
    {
      "cell_type": "code",
      "source": [
        "history = model.fit(train_val_data, train_val_labels,\n",
        "                    epochs = 5,\n",
        "                    batch_size = 128,\n",
        "                    validation_data = (val_data, val_labels))"
      ],
      "metadata": {
        "colab": {
          "base_uri": "https://localhost:8080/"
        },
        "outputId": "cb1fc26a-e9d8-488b-e7e0-5490d22cecc3",
        "id": "9Pd1VScol4G2"
      },
      "execution_count": null,
      "outputs": [
        {
          "output_type": "stream",
          "name": "stdout",
          "text": [
            "Epoch 1/5\n",
            "391/391 [==============================] - 2s 4ms/step - loss: 2.2292 - accuracy: 0.2240 - val_loss: 2.0532 - val_accuracy: 0.4210\n",
            "Epoch 2/5\n",
            "391/391 [==============================] - 1s 4ms/step - loss: 1.9199 - accuracy: 0.4958 - val_loss: 1.7960 - val_accuracy: 0.5637\n",
            "Epoch 3/5\n",
            "391/391 [==============================] - 2s 4ms/step - loss: 1.7080 - accuracy: 0.5842 - val_loss: 1.6193 - val_accuracy: 0.6046\n",
            "Epoch 4/5\n",
            "391/391 [==============================] - 2s 4ms/step - loss: 1.5541 - accuracy: 0.6106 - val_loss: 1.4854 - val_accuracy: 0.6237\n",
            "Epoch 5/5\n",
            "391/391 [==============================] - 1s 3ms/step - loss: 1.4358 - accuracy: 0.6281 - val_loss: 1.3809 - val_accuracy: 0.6375\n"
          ]
        }
      ]
    },
    {
      "cell_type": "markdown",
      "source": [
        "La pérdida indica el porcentaje de errores entre las etiquetas y las predicciones del modelo.\n",
        "\n",
        "La precisión indica el porcentaje de aciertos entre las predicciones y las etiquetas."
      ],
      "metadata": {
        "id": "AmvMmmwal4G2"
      }
    },
    {
      "cell_type": "code",
      "source": [
        "test_loss, test_acc = model.evaluate(test_data, test_labels)"
      ],
      "metadata": {
        "colab": {
          "base_uri": "https://localhost:8080/"
        },
        "outputId": "79b87a23-946e-4520-b3e7-f93914de0db2",
        "id": "57kpkxnKl4G2"
      },
      "execution_count": null,
      "outputs": [
        {
          "output_type": "stream",
          "name": "stdout",
          "text": [
            "313/313 [==============================] - 1s 2ms/step - loss: 1.3884 - accuracy: 0.6291\n"
          ]
        }
      ]
    },
    {
      "cell_type": "markdown",
      "source": [
        "### Predecir valores"
      ],
      "metadata": {
        "id": "URWllf3ll4G2"
      }
    },
    {
      "cell_type": "markdown",
      "source": [
        "Imprimir la matriz de confusión, que muestra los valores predichos frente a los reales."
      ],
      "metadata": {
        "id": "_OBRybhrl4G2"
      }
    },
    {
      "cell_type": "code",
      "source": [
        "# Note, this code is taken straight from the SKLEARN website, an nice way of \n",
        "# viewing confusion matrix.\n",
        "def plot_confusion_matrix(cm, classes,\n",
        "                          normalize = False,\n",
        "                          title = 'Confusion matrix',\n",
        "                          cmap = plt.cm.Blues):\n",
        "    '''\n",
        "    This function prints and plots the confusion matrix.\n",
        "    Normalization can be applied by setting `normalize = True`.\n",
        "    '''\n",
        "    plt.imshow(cm, interpolation = 'nearest', cmap = cmap)\n",
        "    plt.title(title)\n",
        "    plt.colorbar()\n",
        "    tick_marks = np.arange(len(classes))\n",
        "    plt.xticks(tick_marks, classes, rotation = 45)\n",
        "    plt.yticks(tick_marks, classes)\n",
        "\n",
        "    if normalize:\n",
        "        cm = cm.astype('float') / cm.sum(axis = 1)[:, np.newaxis]\n",
        "\n",
        "    thresh = cm.max() / 2.\n",
        "    for i, j in itertools.product(range(cm.shape[0]), range(cm.shape[1])):\n",
        "        plt.text(j, i, cm[i, j],\n",
        "                 horizontalalignment = 'center',\n",
        "                 color = 'white' if cm[i, j] > thresh else 'black')\n",
        "\n",
        "    plt.tight_layout()\n",
        "    plt.ylabel('Observación')\n",
        "    plt.xlabel('Predicción')"
      ],
      "metadata": {
        "id": "Iowk6cHEl4G2"
      },
      "execution_count": null,
      "outputs": []
    },
    {
      "cell_type": "code",
      "source": [
        "Y_pred = model.predict(test_data)\n",
        "print('Valores de predicción del modelo')\n",
        "# Convertir en predicciones de clases desde los vectores one-hot encoding \n",
        "Y_pred_classes = np.argmax(Y_pred, axis = 1) \n",
        "# Convertir en clases de observación desde los vectores one-hot encoding\n",
        "Y_true = np.argmax(test_labels, axis = 1) \n",
        "# Computar la matriz de confusión\n",
        "confusion_mtx = confusion_matrix(Y_true, Y_pred_classes) \n",
        "# Dibujar la matriz de confusión\n",
        "print('Matriz de confusión')\n",
        "plot_confusion_matrix(confusion_mtx, classes = range(10))"
      ],
      "metadata": {
        "colab": {
          "base_uri": "https://localhost:8080/",
          "height": 363
        },
        "outputId": "95f443f2-a091-4d48-e9d0-69c56ac7db73",
        "id": "smiumUGxl4G2"
      },
      "execution_count": null,
      "outputs": [
        {
          "output_type": "stream",
          "name": "stdout",
          "text": [
            "313/313 [==============================] - 1s 2ms/step\n",
            "Valores de predicción del modelo\n",
            "Matriz de confusión\n"
          ]
        },
        {
          "output_type": "display_data",
          "data": {
            "text/plain": [
              "<Figure size 432x288 with 2 Axes>"
            ],
            "image/png": "[encoded data removed]"
          },
          "metadata": {
            "needs_background": "light"
          }
        }
      ]
    },
    {
      "cell_type": "markdown",
      "source": [
        "Se grafica el elemento 6 (```test_data[5]```) para comprobar las soluciones. "
      ],
      "metadata": {
        "id": "ytD9o7lnl4G2"
      }
    },
    {
      "cell_type": "code",
      "source": [
        "digit = test_data.reshape(10000,28, 28)[5]\n",
        "plt.imshow(digit, cmap = plt.cm.binary)\n",
        "plt.show()\n",
        "print(test_labels[5])"
      ],
      "metadata": {
        "colab": {
          "base_uri": "https://localhost:8080/",
          "height": 282
        },
        "outputId": "85822e1f-c5b2-4cf1-a910-e4636bc3175c",
        "id": "68xLwYf2l4G2"
      },
      "execution_count": null,
      "outputs": [
        {
          "output_type": "display_data",
          "data": {
            "text/plain": [
              "<Figure size 432x288 with 1 Axes>"
            ],
            "image/png": "[encoded data removed]"
          },
          "metadata": {
            "needs_background": "light"
          }
        },
        {
          "output_type": "stream",
          "name": "stdout",
          "text": [
            "[0. 1. 0. 0. 0. 0. 0. 0. 0. 0.]\n"
          ]
        }
      ]
    },
    {
      "cell_type": "markdown",
      "source": [
        "La clase del elemento 6 es la clase 1 (pantalones)."
      ],
      "metadata": {
        "id": "VHJVmjX5l4G2"
      }
    },
    {
      "cell_type": "code",
      "source": [
        "predictions = model.predict(test_data)\n",
        "print('Predicción del elemento 6: clase', np.argmax(predictions[5]))\n",
        "print(predictions[5])\n",
        "print('Suma de las predicciones del elemento 6:', np.sum(predictions[5]))"
      ],
      "metadata": {
        "colab": {
          "base_uri": "https://localhost:8080/"
        },
        "outputId": "bc44c728-f5bf-4561-b5af-2e61d2fd2cb1",
        "id": "q8E7EoEsl4G2"
      },
      "execution_count": null,
      "outputs": [
        {
          "output_type": "stream",
          "name": "stdout",
          "text": [
            "313/313 [==============================] - 1s 2ms/step\n",
            "Predicción del elemento 6: clase 1\n",
            "[0.11737991 0.31842548 0.11152572 0.15281822 0.07760673 0.0335964\n",
            " 0.11043622 0.01980278 0.04337222 0.01503628]\n",
            "Suma de las predicciones del elemento 6: 0.99999994\n"
          ]
        }
      ]
    },
    {
      "cell_type": "code",
      "source": [
        "def plot_image(i, predictions_array, true_label, img):\n",
        "  predictions_array, true_label, img = predictions_array, true_label[i], img[i]\n",
        "  plt.grid(False)\n",
        "  plt.xticks([])\n",
        "  plt.yticks([])\n",
        "\n",
        "  plt.imshow(img, cmap = plt.cm.binary)    \n",
        "\n",
        "  predicted_label = np.argmax(predictions_array)\n",
        "  if predicted_label.all() == true_label.all():\n",
        "    color = 'blue'\n",
        "  else:\n",
        "    color = 'red'\n",
        "\n",
        "  plt.xlabel('{} {:2.0f}% ({})'.format(predicted_label,\n",
        "                                100*np.max(predictions_array),\n",
        "                                true_label),\n",
        "                                color = color)\n",
        "\n",
        "def plot_value_array(i, predictions_array, true_label):\n",
        "  predictions_array, true_label = predictions_array, true_label[i]\n",
        "  plt.grid(False)\n",
        "  plt.xticks(range(10))\n",
        "  plt.yticks([])\n",
        "  thisplot = plt.bar(range(10), predictions_array, color = '#00FF00')\n",
        "  plt.ylim([0, 1])\n",
        "  predicted_label = np.argmax(predictions_array)\n",
        "\n",
        "  thisplot[predicted_label].set_color('red')\n",
        "  thisplot[np.argmax(true_label)].set_color('black')"
      ],
      "metadata": {
        "id": "donQW3jdl4G3"
      },
      "execution_count": null,
      "outputs": []
    },
    {
      "cell_type": "code",
      "source": [
        "plt.figure(figsize = (6,3))\n",
        "plt.subplot(1,2,1)\n",
        "plot_image(5, predictions[5], test_labels, test_data.reshape(10000,28,28))\n",
        "plt.subplot(1,2,2)\n",
        "plot_value_array(5, predictions[5],  test_labels)\n",
        "plt.show()"
      ],
      "metadata": {
        "colab": {
          "base_uri": "https://localhost:8080/",
          "height": 211
        },
        "outputId": "fcdbc325-6194-4627-a699-c75e53cd4e09",
        "id": "PriRLEtYl4G3"
      },
      "execution_count": null,
      "outputs": [
        {
          "output_type": "display_data",
          "data": {
            "text/plain": [
              "<Figure size 432x216 with 2 Axes>"
            ],
            "image/png": "[encoded data removed]"
          },
          "metadata": {
            "needs_background": "light"
          }
        }
      ]
    },
    {
      "cell_type": "markdown",
      "source": [
        "## Caso 3.5"
      ],
      "metadata": {
        "id": "N7JYgzp1rd3G"
      }
    },
    {
      "cell_type": "markdown",
      "source": [
        "### Crear la red de neuronas"
      ],
      "metadata": {
        "id": "QK-V2H0Rrd3G"
      }
    },
    {
      "cell_type": "markdown",
      "source": [
        "Se crea la red neuronal con una capa de entrada con 10 neuronas y función de activación ```sigmoid```, y una capa de salida con función de activación ```softmax```."
      ],
      "metadata": {
        "id": "8dqCjBo5rd3H"
      }
    },
    {
      "cell_type": "code",
      "source": [
        "model = models.Sequential()\n",
        "model.add(layers.Dense(10, activation ='sigmoid', name = 'Capa3', input_shape = (28*28,)))\n",
        "model.add(layers.Dense(10, name = 'CapaSalida3', activation = 'softmax'))"
      ],
      "metadata": {
        "id": "C6cDwHcurd3H"
      },
      "execution_count": null,
      "outputs": []
    },
    {
      "cell_type": "markdown",
      "source": [
        "### Explicar model.summary()\n"
      ],
      "metadata": {
        "id": "NFLzryB3rd3I"
      }
    },
    {
      "cell_type": "markdown",
      "source": [
        "El resumen del modelo indica el número de parámetros de salida de cada capa. Este número es igual al tamaño de los datos de entrada multiplicado por el número de neuronas, y sumando el número de umbrales de activación de la capa.\n",
        "\n",
        "\n",
        "En el caso de la primera capa: 7850 = 784 (tamaño de los datos) x 10 (número de neuronas) + 10 (número de umbrales de activación).\n",
        "\n",
        "En el caso de la segunda capa: 110 = 10 (tamaño de los datos) x 10 (número de neuronas) + 10 (número de umbrales de activación)."
      ],
      "metadata": {
        "id": "WFxnmnlgrd3I"
      }
    },
    {
      "cell_type": "code",
      "source": [
        "model.summary()"
      ],
      "metadata": {
        "colab": {
          "base_uri": "https://localhost:8080/"
        },
        "outputId": "330b65a2-cee0-4459-93ab-8e783a0d8373",
        "id": "eEkK-CgVrd3I"
      },
      "execution_count": null,
      "outputs": [
        {
          "output_type": "stream",
          "name": "stdout",
          "text": [
            "Model: \"sequential_4\"\n",
            "_________________________________________________________________\n",
            " Layer (type)                Output Shape              Param #   \n",
            "=================================================================\n",
            " Capa3 (Dense)               (None, 10)                7850      \n",
            "                                                                 \n",
            " CapaSalida3 (Dense)         (None, 10)                110       \n",
            "                                                                 \n",
            "=================================================================\n",
            "Total params: 7,960\n",
            "Trainable params: 7,960\n",
            "Non-trainable params: 0\n",
            "_________________________________________________________________\n"
          ]
        }
      ]
    },
    {
      "cell_type": "markdown",
      "source": [
        "Se definen las funciones del optimizador, la pérdida y la métrica."
      ],
      "metadata": {
        "id": "TE6uPAGdrd3J"
      }
    },
    {
      "cell_type": "code",
      "source": [
        "model.compile(optimizer = 'adam',\n",
        "              loss = 'sparse_categorical_crossentropy',\n",
        "              metrics = ['accuracy'])"
      ],
      "metadata": {
        "id": "0x7r1BtUrd3J"
      },
      "execution_count": null,
      "outputs": []
    },
    {
      "cell_type": "markdown",
      "source": [
        "### Entrenar la red"
      ],
      "metadata": {
        "id": "r29ixCBzrd3J"
      }
    },
    {
      "cell_type": "markdown",
      "source": [
        "Para entrenar la red se realizan ```5``` ciclos con lotes de ```128``` imágenes. Se compara con los datos de validación para controlar el sobreentrenamiento. "
      ],
      "metadata": {
        "id": "LWuLgQZWrd3K"
      }
    },
    {
      "cell_type": "code",
      "source": [
        "history = model.fit(train_val_data, train_val_labels,\n",
        "                    epochs = 5,\n",
        "                    batch_size = 128,\n",
        "                    validation_data = (val_data, val_labels))"
      ],
      "metadata": {
        "colab": {
          "base_uri": "https://localhost:8080/",
          "height": 1000
        },
        "outputId": "1021b490-0712-4242-a2e0-6bd5330739ef",
        "id": "2otyXG0Prd3K"
      },
      "execution_count": null,
      "outputs": [
        {
          "output_type": "stream",
          "name": "stdout",
          "text": [
            "Epoch 1/5\n"
          ]
        },
        {
          "output_type": "error",
          "ename": "InvalidArgumentError",
          "evalue": "ignored",
          "traceback": [
            "\u001b[0;31m---------------------------------------------------------------------------\u001b[0m",
            "\u001b[0;31mInvalidArgumentError\u001b[0m                      Traceback (most recent call last)",
            "\u001b[0;32m<ipython-input-54-424dbdfbf3cb>\u001b[0m in \u001b[0;36m<module>\u001b[0;34m\u001b[0m\n\u001b[1;32m      2\u001b[0m                     \u001b[0mepochs\u001b[0m \u001b[0;34m=\u001b[0m \u001b[0;36m5\u001b[0m\u001b[0;34m,\u001b[0m\u001b[0;34m\u001b[0m\u001b[0;34m\u001b[0m\u001b[0m\n\u001b[1;32m      3\u001b[0m                     \u001b[0mbatch_size\u001b[0m \u001b[0;34m=\u001b[0m \u001b[0;36m128\u001b[0m\u001b[0;34m,\u001b[0m\u001b[0;34m\u001b[0m\u001b[0;34m\u001b[0m\u001b[0m\n\u001b[0;32m----> 4\u001b[0;31m                     validation_data = (val_data, val_labels))\n\u001b[0m",
            "\u001b[0;32m/usr/local/lib/python3.7/dist-packages/keras/utils/traceback_utils.py\u001b[0m in \u001b[0;36merror_handler\u001b[0;34m(*args, **kwargs)\u001b[0m\n\u001b[1;32m     65\u001b[0m     \u001b[0;32mexcept\u001b[0m \u001b[0mException\u001b[0m \u001b[0;32mas\u001b[0m \u001b[0me\u001b[0m\u001b[0;34m:\u001b[0m  \u001b[0;31m# pylint: disable=broad-except\u001b[0m\u001b[0;34m\u001b[0m\u001b[0;34m\u001b[0m\u001b[0m\n\u001b[1;32m     66\u001b[0m       \u001b[0mfiltered_tb\u001b[0m \u001b[0;34m=\u001b[0m \u001b[0m_process_traceback_frames\u001b[0m\u001b[0;34m(\u001b[0m\u001b[0me\u001b[0m\u001b[0;34m.\u001b[0m\u001b[0m__traceback__\u001b[0m\u001b[0;34m)\u001b[0m\u001b[0;34m\u001b[0m\u001b[0;34m\u001b[0m\u001b[0m\n\u001b[0;32m---> 67\u001b[0;31m       \u001b[0;32mraise\u001b[0m \u001b[0me\u001b[0m\u001b[0;34m.\u001b[0m\u001b[0mwith_traceback\u001b[0m\u001b[0;34m(\u001b[0m\u001b[0mfiltered_tb\u001b[0m\u001b[0;34m)\u001b[0m \u001b[0;32mfrom\u001b[0m \u001b[0;32mNone\u001b[0m\u001b[0;34m\u001b[0m\u001b[0;34m\u001b[0m\u001b[0m\n\u001b[0m\u001b[1;32m     68\u001b[0m     \u001b[0;32mfinally\u001b[0m\u001b[0;34m:\u001b[0m\u001b[0;34m\u001b[0m\u001b[0;34m\u001b[0m\u001b[0m\n\u001b[1;32m     69\u001b[0m       \u001b[0;32mdel\u001b[0m \u001b[0mfiltered_tb\u001b[0m\u001b[0;34m\u001b[0m\u001b[0;34m\u001b[0m\u001b[0m\n",
            "\u001b[0;32m/usr/local/lib/python3.7/dist-packages/tensorflow/python/eager/execute.py\u001b[0m in \u001b[0;36mquick_execute\u001b[0;34m(op_name, num_outputs, inputs, attrs, ctx, name)\u001b[0m\n\u001b[1;32m     53\u001b[0m     \u001b[0mctx\u001b[0m\u001b[0;34m.\u001b[0m\u001b[0mensure_initialized\u001b[0m\u001b[0;34m(\u001b[0m\u001b[0;34m)\u001b[0m\u001b[0;34m\u001b[0m\u001b[0;34m\u001b[0m\u001b[0m\n\u001b[1;32m     54\u001b[0m     tensors = pywrap_tfe.TFE_Py_Execute(ctx._handle, device_name, op_name,\n\u001b[0;32m---> 55\u001b[0;31m                                         inputs, attrs, num_outputs)\n\u001b[0m\u001b[1;32m     56\u001b[0m   \u001b[0;32mexcept\u001b[0m \u001b[0mcore\u001b[0m\u001b[0;34m.\u001b[0m\u001b[0m_NotOkStatusException\u001b[0m \u001b[0;32mas\u001b[0m \u001b[0me\u001b[0m\u001b[0;34m:\u001b[0m\u001b[0;34m\u001b[0m\u001b[0;34m\u001b[0m\u001b[0m\n\u001b[1;32m     57\u001b[0m     \u001b[0;32mif\u001b[0m \u001b[0mname\u001b[0m \u001b[0;32mis\u001b[0m \u001b[0;32mnot\u001b[0m \u001b[0;32mNone\u001b[0m\u001b[0;34m:\u001b[0m\u001b[0;34m\u001b[0m\u001b[0;34m\u001b[0m\u001b[0m\n",
            "\u001b[0;31mInvalidArgumentError\u001b[0m: Graph execution error:\n\nDetected at node 'sparse_categorical_crossentropy/SparseSoftmaxCrossEntropyWithLogits/SparseSoftmaxCrossEntropyWithLogits' defined at (most recent call last):\n    File \"/usr/lib/python3.7/runpy.py\", line 193, in _run_module_as_main\n      \"__main__\", mod_spec)\n    File \"/usr/lib/python3.7/runpy.py\", line 85, in _run_code\n      exec(code, run_globals)\n    File \"/usr/local/lib/python3.7/dist-packages/ipykernel_launcher.py\", line 16, in <module>\n      app.launch_new_instance()\n    File \"/usr/local/lib/python3.7/dist-packages/traitlets/config/application.py\", line 846, in launch_instance\n      app.start()\n    File \"/usr/local/lib/python3.7/dist-packages/ipykernel/kernelapp.py\", line 612, in start\n      self.io_loop.start()\n    File \"/usr/local/lib/python3.7/dist-packages/tornado/platform/asyncio.py\", line 149, in start\n      self.asyncio_loop.run_forever()\n    File \"/usr/lib/python3.7/asyncio/base_events.py\", line 541, in run_forever\n      self._run_once()\n    File \"/usr/lib/python3.7/asyncio/base_events.py\", line 1786, in _run_once\n      handle._run()\n    File \"/usr/lib/python3.7/asyncio/events.py\", line 88, in _run\n      self._context.run(self._callback, *self._args)\n    File \"/usr/local/lib/python3.7/dist-packages/tornado/ioloop.py\", line 690, in <lambda>\n      lambda f: self._run_callback(functools.partial(callback, future))\n    File \"/usr/local/lib/python3.7/dist-packages/tornado/ioloop.py\", line 743, in _run_callback\n      ret = callback()\n    File \"/usr/local/lib/python3.7/dist-packages/tornado/gen.py\", line 787, in inner\n      self.run()\n    File \"/usr/local/lib/python3.7/dist-packages/tornado/gen.py\", line 748, in run\n      yielded = self.gen.send(value)\n    File \"/usr/local/lib/python3.7/dist-packages/ipykernel/kernelbase.py\", line 381, in dispatch_queue\n      yield self.process_one()\n    File \"/usr/local/lib/python3.7/dist-packages/tornado/gen.py\", line 225, in wrapper\n      runner = Runner(result, future, yielded)\n    File \"/usr/local/lib/python3.7/dist-packages/tornado/gen.py\", line 714, in __init__\n      self.run()\n    File \"/usr/local/lib/python3.7/dist-packages/tornado/gen.py\", line 748, in run\n      yielded = self.gen.send(value)\n    File \"/usr/local/lib/python3.7/dist-packages/ipykernel/kernelbase.py\", line 365, in process_one\n      yield gen.maybe_future(dispatch(*args))\n    File \"/usr/local/lib/python3.7/dist-packages/tornado/gen.py\", line 209, in wrapper\n      yielded = next(result)\n    File \"/usr/local/lib/python3.7/dist-packages/ipykernel/kernelbase.py\", line 268, in dispatch_shell\n      yield gen.maybe_future(handler(stream, idents, msg))\n    File \"/usr/local/lib/python3.7/dist-packages/tornado/gen.py\", line 209, in wrapper\n      yielded = next(result)\n    File \"/usr/local/lib/python3.7/dist-packages/ipykernel/kernelbase.py\", line 545, in execute_request\n      user_expressions, allow_stdin,\n    File \"/usr/local/lib/python3.7/dist-packages/tornado/gen.py\", line 209, in wrapper\n      yielded = next(result)\n    File \"/usr/local/lib/python3.7/dist-packages/ipykernel/ipkernel.py\", line 306, in do_execute\n      res = shell.run_cell(code, store_history=store_history, silent=silent)\n    File \"/usr/local/lib/python3.7/dist-packages/ipykernel/zmqshell.py\", line 536, in run_cell\n      return super(ZMQInteractiveShell, self).run_cell(*args, **kwargs)\n    File \"/usr/local/lib/python3.7/dist-packages/IPython/core/interactiveshell.py\", line 2855, in run_cell\n      raw_cell, store_history, silent, shell_futures)\n    File \"/usr/local/lib/python3.7/dist-packages/IPython/core/interactiveshell.py\", line 2881, in _run_cell\n      return runner(coro)\n    File \"/usr/local/lib/python3.7/dist-packages/IPython/core/async_helpers.py\", line 68, in _pseudo_sync_runner\n      coro.send(None)\n    File \"/usr/local/lib/python3.7/dist-packages/IPython/core/interactiveshell.py\", line 3058, in run_cell_async\n      interactivity=interactivity, compiler=compiler, result=result)\n    File \"/usr/local/lib/python3.7/dist-packages/IPython/core/interactiveshell.py\", line 3249, in run_ast_nodes\n      if (await self.run_code(code, result,  async_=asy)):\n    File \"/usr/local/lib/python3.7/dist-packages/IPython/core/interactiveshell.py\", line 3326, in run_code\n      exec(code_obj, self.user_global_ns, self.user_ns)\n    File \"<ipython-input-54-424dbdfbf3cb>\", line 4, in <module>\n      validation_data = (val_data, val_labels))\n    File \"/usr/local/lib/python3.7/dist-packages/keras/utils/traceback_utils.py\", line 64, in error_handler\n      return fn(*args, **kwargs)\n    File \"/usr/local/lib/python3.7/dist-packages/keras/engine/training.py\", line 1409, in fit\n      tmp_logs = self.train_function(iterator)\n    File \"/usr/local/lib/python3.7/dist-packages/keras/engine/training.py\", line 1051, in train_function\n      return step_function(self, iterator)\n    File \"/usr/local/lib/python3.7/dist-packages/keras/engine/training.py\", line 1040, in step_function\n      outputs = model.distribute_strategy.run(run_step, args=(data,))\n    File \"/usr/local/lib/python3.7/dist-packages/keras/engine/training.py\", line 1030, in run_step\n      outputs = model.train_step(data)\n    File \"/usr/local/lib/python3.7/dist-packages/keras/engine/training.py\", line 890, in train_step\n      loss = self.compute_loss(x, y, y_pred, sample_weight)\n    File \"/usr/local/lib/python3.7/dist-packages/keras/engine/training.py\", line 949, in compute_loss\n      y, y_pred, sample_weight, regularization_losses=self.losses)\n    File \"/usr/local/lib/python3.7/dist-packages/keras/engine/compile_utils.py\", line 201, in __call__\n      loss_value = loss_obj(y_t, y_p, sample_weight=sw)\n    File \"/usr/local/lib/python3.7/dist-packages/keras/losses.py\", line 139, in __call__\n      losses = call_fn(y_true, y_pred)\n    File \"/usr/local/lib/python3.7/dist-packages/keras/losses.py\", line 243, in call\n      return ag_fn(y_true, y_pred, **self._fn_kwargs)\n    File \"/usr/local/lib/python3.7/dist-packages/keras/losses.py\", line 1861, in sparse_categorical_crossentropy\n      y_true, y_pred, from_logits=from_logits, axis=axis)\n    File \"/usr/local/lib/python3.7/dist-packages/keras/backend.py\", line 5239, in sparse_categorical_crossentropy\n      labels=target, logits=output)\nNode: 'sparse_categorical_crossentropy/SparseSoftmaxCrossEntropyWithLogits/SparseSoftmaxCrossEntropyWithLogits'\nlogits and labels must have the same first dimension, got logits shape [128,10] and labels shape [1280]\n\t [[{{node sparse_categorical_crossentropy/SparseSoftmaxCrossEntropyWithLogits/SparseSoftmaxCrossEntropyWithLogits}}]] [Op:__inference_train_function_105259]"
          ]
        }
      ]
    },
    {
      "cell_type": "markdown",
      "source": [
        "La pérdida indica el porcentaje de errores entre las etiquetas y las predicciones del modelo.\n",
        "\n",
        "La precisión indica el porcentaje de aciertos entre las predicciones y las etiquetas."
      ],
      "metadata": {
        "id": "DW-cUg6trd3K"
      }
    },
    {
      "cell_type": "code",
      "source": [
        "test_loss, test_acc = model.evaluate(test_data, test_labels)"
      ],
      "metadata": {
        "id": "rsUBHHr5rd3L"
      },
      "execution_count": null,
      "outputs": []
    },
    {
      "cell_type": "markdown",
      "source": [
        "### Predecir valores"
      ],
      "metadata": {
        "id": "bFdZ-N49rd3L"
      }
    },
    {
      "cell_type": "markdown",
      "source": [
        "Imprimir la matriz de confusión, que muestra los valores predichos frente a los reales."
      ],
      "metadata": {
        "id": "DSbIO9vLrd3L"
      }
    },
    {
      "cell_type": "code",
      "source": [
        "# Note, this code is taken straight from the SKLEARN website, an nice way of \n",
        "# viewing confusion matrix.\n",
        "def plot_confusion_matrix(cm, classes,\n",
        "                          normalize = False,\n",
        "                          title = 'Confusion matrix',\n",
        "                          cmap = plt.cm.Blues):\n",
        "    '''\n",
        "    This function prints and plots the confusion matrix.\n",
        "    Normalization can be applied by setting `normalize = True`.\n",
        "    '''\n",
        "    plt.imshow(cm, interpolation = 'nearest', cmap = cmap)\n",
        "    plt.title(title)\n",
        "    plt.colorbar()\n",
        "    tick_marks = np.arange(len(classes))\n",
        "    plt.xticks(tick_marks, classes, rotation = 45)\n",
        "    plt.yticks(tick_marks, classes)\n",
        "\n",
        "    if normalize:\n",
        "        cm = cm.astype('float') / cm.sum(axis = 1)[:, np.newaxis]\n",
        "\n",
        "    thresh = cm.max() / 2.\n",
        "    for i, j in itertools.product(range(cm.shape[0]), range(cm.shape[1])):\n",
        "        plt.text(j, i, cm[i, j],\n",
        "                 horizontalalignment = 'center',\n",
        "                 color = 'white' if cm[i, j] > thresh else 'black')\n",
        "\n",
        "    plt.tight_layout()\n",
        "    plt.ylabel('Observación')\n",
        "    plt.xlabel('Predicción')"
      ],
      "metadata": {
        "id": "Uha1SB_Frd3L"
      },
      "execution_count": null,
      "outputs": []
    },
    {
      "cell_type": "code",
      "source": [
        "Y_pred = model.predict(test_data)\n",
        "print('Valores de predicción del modelo')\n",
        "# Convertir en predicciones de clases desde los vectores one-hot encoding \n",
        "Y_pred_classes = np.argmax(Y_pred, axis = 1) \n",
        "# Convertir en clases de observación desde los vectores one-hot encoding\n",
        "Y_true = np.argmax(test_labels, axis = 1) \n",
        "# Computar la matriz de confusión\n",
        "confusion_mtx = confusion_matrix(Y_true, Y_pred_classes) \n",
        "# Dibujar la matriz de confusión\n",
        "print('Matriz de confusión')\n",
        "plot_confusion_matrix(confusion_mtx, classes = range(10))"
      ],
      "metadata": {
        "id": "Dvz0RQ4mrd3M"
      },
      "execution_count": null,
      "outputs": []
    },
    {
      "cell_type": "markdown",
      "source": [
        "Se grafica el elemento 6 (```test_data[5]```) para comprobar las soluciones. "
      ],
      "metadata": {
        "id": "bwAm3z1trd3M"
      }
    },
    {
      "cell_type": "code",
      "source": [
        "digit = test_data.reshape(10000,28, 28)[5]\n",
        "plt.imshow(digit, cmap = plt.cm.binary)\n",
        "plt.show()\n",
        "print(test_labels[5])"
      ],
      "metadata": {
        "id": "uA4P_aigrd3N"
      },
      "execution_count": null,
      "outputs": []
    },
    {
      "cell_type": "markdown",
      "source": [
        "La clase del elemento 6 es la clase 1 (pantalones)."
      ],
      "metadata": {
        "id": "lEv3tdyMrd3N"
      }
    },
    {
      "cell_type": "code",
      "source": [
        "predictions = model.predict(test_data)\n",
        "print('Predicción del elemento 6: clase', np.argmax(predictions[5]))\n",
        "print(predictions[5])\n",
        "print('Suma de las predicciones del elemento 6:', np.sum(predictions[5]))"
      ],
      "metadata": {
        "id": "MHflWlgOrd3N"
      },
      "execution_count": null,
      "outputs": []
    },
    {
      "cell_type": "code",
      "source": [
        "def plot_image(i, predictions_array, true_label, img):\n",
        "  predictions_array, true_label, img = predictions_array, true_label[i], img[i]\n",
        "  plt.grid(False)\n",
        "  plt.xticks([])\n",
        "  plt.yticks([])\n",
        "\n",
        "  plt.imshow(img, cmap = plt.cm.binary)    \n",
        "\n",
        "  predicted_label = np.argmax(predictions_array)\n",
        "  if predicted_label.all() == true_label.all():\n",
        "    color = 'blue'\n",
        "  else:\n",
        "    color = 'red'\n",
        "\n",
        "  plt.xlabel('{} {:2.0f}% ({})'.format(predicted_label,\n",
        "                                100*np.max(predictions_array),\n",
        "                                true_label),\n",
        "                                color = color)\n",
        "\n",
        "def plot_value_array(i, predictions_array, true_label):\n",
        "  predictions_array, true_label = predictions_array, true_label[i]\n",
        "  plt.grid(False)\n",
        "  plt.xticks(range(10))\n",
        "  plt.yticks([])\n",
        "  thisplot = plt.bar(range(10), predictions_array, color = '#00FF00')\n",
        "  plt.ylim([0, 1])\n",
        "  predicted_label = np.argmax(predictions_array)\n",
        "\n",
        "  thisplot[predicted_label].set_color('red')\n",
        "  thisplot[np.argmax(true_label)].set_color('black')"
      ],
      "metadata": {
        "id": "RbqtOApSrd3O"
      },
      "execution_count": null,
      "outputs": []
    },
    {
      "cell_type": "code",
      "source": [
        "plt.figure(figsize = (6,3))\n",
        "plt.subplot(1,2,1)\n",
        "plot_image(5, predictions[5], test_labels, test_data.reshape(10000,28,28))\n",
        "plt.subplot(1,2,2)\n",
        "plot_value_array(5, predictions[5],  test_labels)\n",
        "plt.show()"
      ],
      "metadata": {
        "id": "vAaiHM5ard3O"
      },
      "execution_count": null,
      "outputs": []
    },
    {
      "cell_type": "markdown",
      "source": [
        "## Caso 4"
      ],
      "metadata": {
        "id": "pG0RpOcQnL_Y"
      }
    },
    {
      "cell_type": "markdown",
      "source": [
        "### Crear la red de neuronas"
      ],
      "metadata": {
        "id": "qzKPBAMxnL_Y"
      }
    },
    {
      "cell_type": "markdown",
      "source": [
        "Se crea la red neuronal con una capa de entrada con 10 neuronas y función de activación ```sigmoid```, y una capa de salida con función de activación ```softmax```."
      ],
      "metadata": {
        "id": "pAroJtSYnL_Y"
      }
    },
    {
      "cell_type": "code",
      "source": [
        "model = models.Sequential()\n",
        "model.add(layers.Dense(10, activation ='sigmoid', name = 'Capa4', input_shape = (28*28,)))\n",
        "model.add(layers.Dense(10, name = 'CapaSalida4', activation = 'softmax'))"
      ],
      "metadata": {
        "id": "4LBCts9cnL_Y"
      },
      "execution_count": null,
      "outputs": []
    },
    {
      "cell_type": "markdown",
      "source": [
        "### Explicar model.summary()\n"
      ],
      "metadata": {
        "id": "bJGnvIcWnL_Y"
      }
    },
    {
      "cell_type": "markdown",
      "source": [
        "El resumen del modelo indica el número de parámetros de salida de cada capa. Este número es igual al tamaño de los datos de entrada multiplicado por el número de neuronas, y sumando el número de umbrales de activación de la capa.\n",
        "\n",
        "\n",
        "En el caso de la primera capa: 7850 = 784 (tamaño de los datos) x 10 (número de neuronas) + 10 (número de umbrales de activación).\n",
        "\n",
        "En el caso de la segunda capa: 110 = 10 (tamaño de los datos) x 10 (número de neuronas) + 10 (número de umbrales de activación)."
      ],
      "metadata": {
        "id": "_YaXFlUcnL_Z"
      }
    },
    {
      "cell_type": "code",
      "source": [
        "model.summary()"
      ],
      "metadata": {
        "id": "V3uzK2MmnL_Z"
      },
      "execution_count": null,
      "outputs": []
    },
    {
      "cell_type": "markdown",
      "source": [
        "Se definen las funciones del optimizador, la pérdida y la métrica."
      ],
      "metadata": {
        "id": "OnCHy0j4nL_Z"
      }
    },
    {
      "cell_type": "code",
      "source": [
        "model.compile(optimizer = 'rmsprop',\n",
        "              loss = 'categorical_crossentropy',\n",
        "              metrics = ['accuracy'])"
      ],
      "metadata": {
        "id": "8eC24vkgnL_a"
      },
      "execution_count": null,
      "outputs": []
    },
    {
      "cell_type": "markdown",
      "source": [
        "### Entrenar la red"
      ],
      "metadata": {
        "id": "V2ncKrWKnL_a"
      }
    },
    {
      "cell_type": "markdown",
      "source": [
        "Para entrenar la red se realizan ```5``` ciclos con lotes de ```128``` imágenes. Se compara con los datos de validación para controlar el sobreentrenamiento. "
      ],
      "metadata": {
        "id": "JhSrEon5nL_a"
      }
    },
    {
      "cell_type": "code",
      "source": [
        "history = model.fit(train_val_data, train_val_labels,\n",
        "                    epochs = 5,\n",
        "                    batch_size = 128,\n",
        "                    validation_data = (val_data, val_labels))"
      ],
      "metadata": {
        "id": "h9d66JO7nL_a"
      },
      "execution_count": null,
      "outputs": []
    },
    {
      "cell_type": "markdown",
      "source": [
        "La pérdida indica el porcentaje de errores entre las etiquetas y las predicciones del modelo.\n",
        "\n",
        "La precisión indica el porcentaje de aciertos entre las predicciones y las etiquetas."
      ],
      "metadata": {
        "id": "QdKSZ3jonL_a"
      }
    },
    {
      "cell_type": "code",
      "source": [
        "test_loss, test_acc = model.evaluate(test_data, test_labels)"
      ],
      "metadata": {
        "id": "FaoTK6dbnL_b"
      },
      "execution_count": null,
      "outputs": []
    },
    {
      "cell_type": "markdown",
      "source": [
        "### Predecir valores"
      ],
      "metadata": {
        "id": "sp6gTseInL_b"
      }
    },
    {
      "cell_type": "markdown",
      "source": [
        "Imprimir la matriz de confusión, que muestra los valores predichos frente a los reales."
      ],
      "metadata": {
        "id": "0Ngih3f_nL_b"
      }
    },
    {
      "cell_type": "code",
      "source": [
        "# Note, this code is taken straight from the SKLEARN website, an nice way of \n",
        "# viewing confusion matrix.\n",
        "def plot_confusion_matrix(cm, classes,\n",
        "                          normalize = False,\n",
        "                          title = 'Confusion matrix',\n",
        "                          cmap = plt.cm.Blues):\n",
        "    '''\n",
        "    This function prints and plots the confusion matrix.\n",
        "    Normalization can be applied by setting `normalize = True`.\n",
        "    '''\n",
        "    plt.imshow(cm, interpolation = 'nearest', cmap = cmap)\n",
        "    plt.title(title)\n",
        "    plt.colorbar()\n",
        "    tick_marks = np.arange(len(classes))\n",
        "    plt.xticks(tick_marks, classes, rotation = 45)\n",
        "    plt.yticks(tick_marks, classes)\n",
        "\n",
        "    if normalize:\n",
        "        cm = cm.astype('float') / cm.sum(axis = 1)[:, np.newaxis]\n",
        "\n",
        "    thresh = cm.max() / 2.\n",
        "    for i, j in itertools.product(range(cm.shape[0]), range(cm.shape[1])):\n",
        "        plt.text(j, i, cm[i, j],\n",
        "                 horizontalalignment = 'center',\n",
        "                 color = 'white' if cm[i, j] > thresh else 'black')\n",
        "\n",
        "    plt.tight_layout()\n",
        "    plt.ylabel('Observación')\n",
        "    plt.xlabel('Predicción')"
      ],
      "metadata": {
        "id": "F8HLRrwtnL_b"
      },
      "execution_count": null,
      "outputs": []
    },
    {
      "cell_type": "code",
      "source": [
        "Y_pred = model.predict(test_data)\n",
        "print('Valores de predicción del modelo')\n",
        "# Convertir en predicciones de clases desde los vectores one-hot encoding \n",
        "Y_pred_classes = np.argmax(Y_pred, axis = 1) \n",
        "# Convertir en clases de observación desde los vectores one-hot encoding\n",
        "Y_true = np.argmax(test_labels, axis = 1) \n",
        "# Computar la matriz de confusión\n",
        "confusion_mtx = confusion_matrix(Y_true, Y_pred_classes) \n",
        "# Dibujar la matriz de confusión\n",
        "print('Matriz de confusión')\n",
        "plot_confusion_matrix(confusion_mtx, classes = range(10))"
      ],
      "metadata": {
        "id": "EGygLIdsnL_b"
      },
      "execution_count": null,
      "outputs": []
    },
    {
      "cell_type": "markdown",
      "source": [
        "Se grafica el elemento 6 (```test_data[5]```) para comprobar las soluciones. "
      ],
      "metadata": {
        "id": "HU9RhG_xnL_b"
      }
    },
    {
      "cell_type": "code",
      "source": [
        "digit = test_data.reshape(10000,28, 28)[5]\n",
        "plt.imshow(digit, cmap = plt.cm.binary)\n",
        "plt.show()\n",
        "print(test_labels[5])"
      ],
      "metadata": {
        "id": "vOyRw8bXnL_b"
      },
      "execution_count": null,
      "outputs": []
    },
    {
      "cell_type": "markdown",
      "source": [
        "La clase del elemento 6 es la clase 1 (pantalones)."
      ],
      "metadata": {
        "id": "CvCPSI9bnL_b"
      }
    },
    {
      "cell_type": "code",
      "source": [
        "predictions = model.predict(test_data)\n",
        "print('Predicción del elemento 6: clase', np.argmax(predictions[5]))\n",
        "print(predictions[5])\n",
        "print('Suma de las predicciones del elemento 6:', np.sum(predictions[5]))"
      ],
      "metadata": {
        "id": "-9-stjJwnL_c"
      },
      "execution_count": null,
      "outputs": []
    },
    {
      "cell_type": "code",
      "source": [
        "def plot_image(i, predictions_array, true_label, img):\n",
        "  predictions_array, true_label, img = predictions_array, true_label[i], img[i]\n",
        "  plt.grid(False)\n",
        "  plt.xticks([])\n",
        "  plt.yticks([])\n",
        "\n",
        "  plt.imshow(img, cmap = plt.cm.binary)    \n",
        "\n",
        "  predicted_label = np.argmax(predictions_array)\n",
        "  if predicted_label.all() == true_label.all():\n",
        "    color = 'blue'\n",
        "  else:\n",
        "    color = 'red'\n",
        "\n",
        "  plt.xlabel('{} {:2.0f}% ({})'.format(predicted_label,\n",
        "                                100*np.max(predictions_array),\n",
        "                                true_label),\n",
        "                                color = color)\n",
        "\n",
        "def plot_value_array(i, predictions_array, true_label):\n",
        "  predictions_array, true_label = predictions_array, true_label[i]\n",
        "  plt.grid(False)\n",
        "  plt.xticks(range(10))\n",
        "  plt.yticks([])\n",
        "  thisplot = plt.bar(range(10), predictions_array, color = '#00FF00')\n",
        "  plt.ylim([0, 1])\n",
        "  predicted_label = np.argmax(predictions_array)\n",
        "\n",
        "  thisplot[predicted_label].set_color('red')\n",
        "  thisplot[np.argmax(true_label)].set_color('black')"
      ],
      "metadata": {
        "id": "46vLUQeEnL_c"
      },
      "execution_count": null,
      "outputs": []
    },
    {
      "cell_type": "code",
      "source": [
        "plt.figure(figsize = (6,3))\n",
        "plt.subplot(1,2,1)\n",
        "plot_image(5, predictions[5], test_labels, test_data.reshape(10000,28,28))\n",
        "plt.subplot(1,2,2)\n",
        "plot_value_array(5, predictions[5],  test_labels)\n",
        "plt.show()"
      ],
      "metadata": {
        "id": "hf_E71v6nL_c"
      },
      "execution_count": null,
      "outputs": []
    },
    {
      "cell_type": "markdown",
      "source": [
        "## Caso 5"
      ],
      "metadata": {
        "id": "Fby8RmBGnd2V"
      }
    },
    {
      "cell_type": "markdown",
      "source": [
        "### Crear la red de neuronas"
      ],
      "metadata": {
        "id": "CHNZmMSPnd2V"
      }
    },
    {
      "cell_type": "markdown",
      "source": [
        "Se crea la red neuronal con una capa de entrada con 512 neuronas y función de activación ```relu```, y una capa de salida con función de activación ```softmax```."
      ],
      "metadata": {
        "id": "l38MSK_mnd2W"
      }
    },
    {
      "cell_type": "code",
      "source": [
        "model = models.Sequential()\n",
        "model.add(layers.Dense(512, activation ='relu', name = 'Capa5', input_shape = (28*28,)))\n",
        "model.add(layers.Dense(10, name = 'CapaSalida5', activation = 'softmax'))"
      ],
      "metadata": {
        "id": "h1P-qXZRnd2W"
      },
      "execution_count": null,
      "outputs": []
    },
    {
      "cell_type": "markdown",
      "source": [
        "### Explicar model.summary()\n"
      ],
      "metadata": {
        "id": "yp-jURqhnd2W"
      }
    },
    {
      "cell_type": "markdown",
      "source": [
        "El resumen del modelo indica el número de parámetros de salida de cada capa. Este número es igual al tamaño de los datos de entrada multiplicado por el número de neuronas, y sumando el número de umbrales de activación de la capa.\n",
        "\n",
        "\n",
        "En el caso de la primera capa: 401920 = 784 (tamaño de los datos) x 512 (número de neuronas) + 512 (número de umbrales de activación).\n",
        "\n",
        "En el caso de la segunda capa: 262656 = 512 (tamaño de los datos) x 512 (número de neuronas) + 512 (número de umbrales de activación)."
      ],
      "metadata": {
        "id": "MviPbsMknd2W"
      }
    },
    {
      "cell_type": "code",
      "source": [
        "model.summary()"
      ],
      "metadata": {
        "id": "alncmfXPnd2W"
      },
      "execution_count": null,
      "outputs": []
    },
    {
      "cell_type": "markdown",
      "source": [
        "Se definen las funciones del optimizador, la pérdida y la métrica."
      ],
      "metadata": {
        "id": "pqPw06uRnd2W"
      }
    },
    {
      "cell_type": "code",
      "source": [
        "model.compile(optimizer = 'sgd',\n",
        "              loss = 'categorical_crossentropy',\n",
        "              metrics = ['accuracy'])"
      ],
      "metadata": {
        "id": "Rz-hhHlVnd2W"
      },
      "execution_count": null,
      "outputs": []
    },
    {
      "cell_type": "markdown",
      "source": [
        "### Entrenar la red"
      ],
      "metadata": {
        "id": "EqVks6j0nd2W"
      }
    },
    {
      "cell_type": "markdown",
      "source": [
        "Para entrenar la red se realizan ```5``` ciclos con lotes de ```128``` imágenes. Se compara con los datos de validación para controlar el sobreentrenamiento. "
      ],
      "metadata": {
        "id": "5CwoD-17nd2W"
      }
    },
    {
      "cell_type": "code",
      "source": [
        "history = model.fit(train_val_data, train_val_labels,\n",
        "                    epochs = 5,\n",
        "                    batch_size = 128,\n",
        "                    validation_data = (val_data, val_labels))"
      ],
      "metadata": {
        "id": "BSfT9_8Qnd2W"
      },
      "execution_count": null,
      "outputs": []
    },
    {
      "cell_type": "markdown",
      "source": [
        "La pérdida indica el porcentaje de errores entre las etiquetas y las predicciones del modelo.\n",
        "\n",
        "La precisión indica el porcentaje de aciertos entre las predicciones y las etiquetas."
      ],
      "metadata": {
        "id": "n9KBvCkgnd2X"
      }
    },
    {
      "cell_type": "code",
      "source": [
        "test_loss, test_acc = model.evaluate(test_data, test_labels)"
      ],
      "metadata": {
        "id": "mE2Kwm4gnd2X"
      },
      "execution_count": null,
      "outputs": []
    },
    {
      "cell_type": "markdown",
      "source": [
        "### Predecir valores"
      ],
      "metadata": {
        "id": "7ygO_7Uqnd2X"
      }
    },
    {
      "cell_type": "markdown",
      "source": [
        "Imprimir la matriz de confusión, que muestra los valores predichos frente a los reales."
      ],
      "metadata": {
        "id": "3NjWdk3Tnd2X"
      }
    },
    {
      "cell_type": "code",
      "source": [
        "# Note, this code is taken straight from the SKLEARN website, an nice way of \n",
        "# viewing confusion matrix.\n",
        "def plot_confusion_matrix(cm, classes,\n",
        "                          normalize = False,\n",
        "                          title = 'Confusion matrix',\n",
        "                          cmap = plt.cm.Blues):\n",
        "    '''\n",
        "    This function prints and plots the confusion matrix.\n",
        "    Normalization can be applied by setting `normalize = True`.\n",
        "    '''\n",
        "    plt.imshow(cm, interpolation = 'nearest', cmap = cmap)\n",
        "    plt.title(title)\n",
        "    plt.colorbar()\n",
        "    tick_marks = np.arange(len(classes))\n",
        "    plt.xticks(tick_marks, classes, rotation = 45)\n",
        "    plt.yticks(tick_marks, classes)\n",
        "\n",
        "    if normalize:\n",
        "        cm = cm.astype('float') / cm.sum(axis = 1)[:, np.newaxis]\n",
        "\n",
        "    thresh = cm.max() / 2.\n",
        "    for i, j in itertools.product(range(cm.shape[0]), range(cm.shape[1])):\n",
        "        plt.text(j, i, cm[i, j],\n",
        "                 horizontalalignment = 'center',\n",
        "                 color = 'white' if cm[i, j] > thresh else 'black')\n",
        "\n",
        "    plt.tight_layout()\n",
        "    plt.ylabel('Observación')\n",
        "    plt.xlabel('Predicción')"
      ],
      "metadata": {
        "id": "h_jCBg67nd2X"
      },
      "execution_count": null,
      "outputs": []
    },
    {
      "cell_type": "code",
      "source": [
        "Y_pred = model.predict(test_data)\n",
        "print('Valores de predicción del modelo')\n",
        "# Convertir en predicciones de clases desde los vectores one-hot encoding \n",
        "Y_pred_classes = np.argmax(Y_pred, axis = 1) \n",
        "# Convertir en clases de observación desde los vectores one-hot encoding\n",
        "Y_true = np.argmax(test_labels, axis = 1) \n",
        "# Computar la matriz de confusión\n",
        "confusion_mtx = confusion_matrix(Y_true, Y_pred_classes) \n",
        "# Dibujar la matriz de confusión\n",
        "print('Matriz de confusión')\n",
        "plot_confusion_matrix(confusion_mtx, classes = range(10))"
      ],
      "metadata": {
        "id": "IbG_zahlnd2X"
      },
      "execution_count": null,
      "outputs": []
    },
    {
      "cell_type": "markdown",
      "source": [
        "Se grafica el elemento 6 (```test_data[5]```) para comprobar las soluciones. "
      ],
      "metadata": {
        "id": "mhMLH4j0nd2X"
      }
    },
    {
      "cell_type": "code",
      "source": [
        "digit = test_data.reshape(10000,28, 28)[5]\n",
        "plt.imshow(digit, cmap = plt.cm.binary)\n",
        "plt.show()\n",
        "print(test_labels[5])"
      ],
      "metadata": {
        "id": "fpRo7Yvznd2X"
      },
      "execution_count": null,
      "outputs": []
    },
    {
      "cell_type": "markdown",
      "source": [
        "La clase del elemento 6 es la clase 1 (pantalones)."
      ],
      "metadata": {
        "id": "OZyW--iOnd2X"
      }
    },
    {
      "cell_type": "code",
      "source": [
        "predictions = model.predict(test_data)\n",
        "print('Predicción del elemento 6: clase', np.argmax(predictions[5]))\n",
        "print(predictions[5])\n",
        "print('Suma de las predicciones del elemento 6:', np.sum(predictions[5]))"
      ],
      "metadata": {
        "id": "RhNMXTtfnd2X"
      },
      "execution_count": null,
      "outputs": []
    },
    {
      "cell_type": "code",
      "source": [
        "def plot_image(i, predictions_array, true_label, img):\n",
        "  predictions_array, true_label, img = predictions_array, true_label[i], img[i]\n",
        "  plt.grid(False)\n",
        "  plt.xticks([])\n",
        "  plt.yticks([])\n",
        "\n",
        "  plt.imshow(img, cmap = plt.cm.binary)    \n",
        "\n",
        "  predicted_label = np.argmax(predictions_array)\n",
        "  if predicted_label.all() == true_label.all():\n",
        "    color = 'blue'\n",
        "  else:\n",
        "    color = 'red'\n",
        "\n",
        "  plt.xlabel('{} {:2.0f}% ({})'.format(predicted_label,\n",
        "                                100*np.max(predictions_array),\n",
        "                                true_label),\n",
        "                                color = color)\n",
        "\n",
        "def plot_value_array(i, predictions_array, true_label):\n",
        "  predictions_array, true_label = predictions_array, true_label[i]\n",
        "  plt.grid(False)\n",
        "  plt.xticks(range(10))\n",
        "  plt.yticks([])\n",
        "  thisplot = plt.bar(range(10), predictions_array, color = '#00FF00')\n",
        "  plt.ylim([0, 1])\n",
        "  predicted_label = np.argmax(predictions_array)\n",
        "\n",
        "  thisplot[predicted_label].set_color('red')\n",
        "  thisplot[np.argmax(true_label)].set_color('black')"
      ],
      "metadata": {
        "id": "Fvnolvvwnd2Y"
      },
      "execution_count": null,
      "outputs": []
    },
    {
      "cell_type": "code",
      "source": [
        "plt.figure(figsize = (6,3))\n",
        "plt.subplot(1,2,1)\n",
        "plot_image(5, predictions[5], test_labels, test_data.reshape(10000,28,28))\n",
        "plt.subplot(1,2,2)\n",
        "plot_value_array(5, predictions[5],  test_labels)\n",
        "plt.show()"
      ],
      "metadata": {
        "id": "Zxy4UEWUnd2Y"
      },
      "execution_count": null,
      "outputs": []
    },
    {
      "cell_type": "markdown",
      "source": [
        "## Caso 6"
      ],
      "metadata": {
        "id": "G3lUo6NFnd2Y"
      }
    },
    {
      "cell_type": "markdown",
      "source": [
        "### Crear la red de neuronas"
      ],
      "metadata": {
        "id": "X7dn455mnd2Y"
      }
    },
    {
      "cell_type": "markdown",
      "source": [
        "Se crea la red neuronal con una capa de entrada con 512 neuronas y función de activación ```relu```, y una capa de salida con función de activación ```softmax```."
      ],
      "metadata": {
        "id": "oyopFsfYnd2Y"
      }
    },
    {
      "cell_type": "code",
      "source": [
        "model = models.Sequential()\n",
        "model.add(layers.Dense(512, activation ='relu', name = 'Capa6', input_shape = (28*28,)))\n",
        "model.add(layers.Dense(10, name = 'CapaSalida6', activation = 'softmax'))"
      ],
      "metadata": {
        "id": "U6YXw4NOnd2Y"
      },
      "execution_count": null,
      "outputs": []
    },
    {
      "cell_type": "markdown",
      "source": [
        "### Explicar model.summary()\n"
      ],
      "metadata": {
        "id": "YQhduq72nd2Y"
      }
    },
    {
      "cell_type": "markdown",
      "source": [
        "El resumen del modelo indica el número de parámetros de salida de cada capa. Este número es igual al tamaño de los datos de entrada multiplicado por el número de neuronas, y sumando el número de umbrales de activación de la capa.\n",
        "\n",
        "\n",
        "En el caso de la primera capa: 401920 = 784 (tamaño de los datos) x 512 (número de neuronas) + 512 (número de umbrales de activación).\n",
        "\n",
        "En el caso de la segunda capa: 262656 = 512 (tamaño de los datos) x 512 (número de neuronas) + 512 (número de umbrales de activación)."
      ],
      "metadata": {
        "id": "-rLIUvZ6nd2Y"
      }
    },
    {
      "cell_type": "code",
      "source": [
        "model.summary()"
      ],
      "metadata": {
        "id": "-s1c9nGOnd2Y"
      },
      "execution_count": null,
      "outputs": []
    },
    {
      "cell_type": "markdown",
      "source": [
        "Se definen las funciones del optimizador, la pérdida y la métrica."
      ],
      "metadata": {
        "id": "IDS9n7w_nd2Y"
      }
    },
    {
      "cell_type": "code",
      "source": [
        "model.compile(optimizer = 'rmsprop',\n",
        "              loss = 'categorical_crossentropy',\n",
        "              metrics = ['accuracy'])"
      ],
      "metadata": {
        "id": "JNLHIygJnd2Y"
      },
      "execution_count": null,
      "outputs": []
    },
    {
      "cell_type": "markdown",
      "source": [
        "### Entrenar la red"
      ],
      "metadata": {
        "id": "lKWZ7mPDnd2Z"
      }
    },
    {
      "cell_type": "markdown",
      "source": [
        "Para entrenar la red se realizan ```5``` ciclos con lotes de ```128``` imágenes. Se compara con los datos de validación para controlar el sobreentrenamiento. "
      ],
      "metadata": {
        "id": "VmZbiPShnd2Z"
      }
    },
    {
      "cell_type": "code",
      "source": [
        "history = model.fit(train_val_data, train_val_labels,\n",
        "                    epochs = 5,\n",
        "                    batch_size = 128,\n",
        "                    validation_data = (val_data, val_labels))"
      ],
      "metadata": {
        "id": "LVVfhCk6nd2Z"
      },
      "execution_count": null,
      "outputs": []
    },
    {
      "cell_type": "markdown",
      "source": [
        "La pérdida indica el porcentaje de errores entre las etiquetas y las predicciones del modelo.\n",
        "\n",
        "La precisión indica el porcentaje de aciertos entre las predicciones y las etiquetas."
      ],
      "metadata": {
        "id": "itleesJ3nd2Z"
      }
    },
    {
      "cell_type": "code",
      "source": [
        "test_loss, test_acc = model.evaluate(test_data, test_labels)"
      ],
      "metadata": {
        "id": "beA62uXBnd2Z"
      },
      "execution_count": null,
      "outputs": []
    },
    {
      "cell_type": "markdown",
      "source": [
        "### Predecir valores"
      ],
      "metadata": {
        "id": "jNEZyTwand2Z"
      }
    },
    {
      "cell_type": "markdown",
      "source": [
        "Imprimir la matriz de confusión, que muestra los valores predichos frente a los reales."
      ],
      "metadata": {
        "id": "55HJcQ9Xnd2Z"
      }
    },
    {
      "cell_type": "code",
      "source": [
        "# Note, this code is taken straight from the SKLEARN website, an nice way of \n",
        "# viewing confusion matrix.\n",
        "def plot_confusion_matrix(cm, classes,\n",
        "                          normalize = False,\n",
        "                          title = 'Confusion matrix',\n",
        "                          cmap = plt.cm.Blues):\n",
        "    '''\n",
        "    This function prints and plots the confusion matrix.\n",
        "    Normalization can be applied by setting `normalize = True`.\n",
        "    '''\n",
        "    plt.imshow(cm, interpolation = 'nearest', cmap = cmap)\n",
        "    plt.title(title)\n",
        "    plt.colorbar()\n",
        "    tick_marks = np.arange(len(classes))\n",
        "    plt.xticks(tick_marks, classes, rotation = 45)\n",
        "    plt.yticks(tick_marks, classes)\n",
        "\n",
        "    if normalize:\n",
        "        cm = cm.astype('float') / cm.sum(axis = 1)[:, np.newaxis]\n",
        "\n",
        "    thresh = cm.max() / 2.\n",
        "    for i, j in itertools.product(range(cm.shape[0]), range(cm.shape[1])):\n",
        "        plt.text(j, i, cm[i, j],\n",
        "                 horizontalalignment = 'center',\n",
        "                 color = 'white' if cm[i, j] > thresh else 'black')\n",
        "\n",
        "    plt.tight_layout()\n",
        "    plt.ylabel('Observación')\n",
        "    plt.xlabel('Predicción')"
      ],
      "metadata": {
        "id": "CR-kxR90nd2Z"
      },
      "execution_count": null,
      "outputs": []
    },
    {
      "cell_type": "code",
      "source": [
        "Y_pred = model.predict(test_data)\n",
        "print('Valores de predicción del modelo')\n",
        "# Convertir en predicciones de clases desde los vectores one-hot encoding \n",
        "Y_pred_classes = np.argmax(Y_pred, axis = 1) \n",
        "# Convertir en clases de observación desde los vectores one-hot encoding\n",
        "Y_true = np.argmax(test_labels, axis = 1) \n",
        "# Computar la matriz de confusión\n",
        "confusion_mtx = confusion_matrix(Y_true, Y_pred_classes) \n",
        "# Dibujar la matriz de confusión\n",
        "print('Matriz de confusión')\n",
        "plot_confusion_matrix(confusion_mtx, classes = range(10))"
      ],
      "metadata": {
        "id": "b2kN3V_Xnd2Z"
      },
      "execution_count": null,
      "outputs": []
    },
    {
      "cell_type": "markdown",
      "source": [
        "Se grafica el elemento 6 (```test_data[5]```) para comprobar las soluciones. "
      ],
      "metadata": {
        "id": "a_ab78Ycnd2Z"
      }
    },
    {
      "cell_type": "code",
      "source": [
        "digit = test_data.reshape(10000,28, 28)[5]\n",
        "plt.imshow(digit, cmap = plt.cm.binary)\n",
        "plt.show()\n",
        "print(test_labels[5])"
      ],
      "metadata": {
        "id": "y-piBt2fnd2Z"
      },
      "execution_count": null,
      "outputs": []
    },
    {
      "cell_type": "markdown",
      "source": [
        "La clase del elemento 6 es la clase 1 (pantalones)."
      ],
      "metadata": {
        "id": "_iWtFzYZnd2a"
      }
    },
    {
      "cell_type": "code",
      "source": [
        "predictions = model.predict(test_data)\n",
        "print('Predicción del elemento 6: clase', np.argmax(predictions[5]))\n",
        "print(predictions[5])\n",
        "print('Suma de las predicciones del elemento 6:', np.sum(predictions[5]))"
      ],
      "metadata": {
        "id": "c9qSVRIand2a"
      },
      "execution_count": null,
      "outputs": []
    },
    {
      "cell_type": "code",
      "source": [
        "def plot_image(i, predictions_array, true_label, img):\n",
        "  predictions_array, true_label, img = predictions_array, true_label[i], img[i]\n",
        "  plt.grid(False)\n",
        "  plt.xticks([])\n",
        "  plt.yticks([])\n",
        "\n",
        "  plt.imshow(img, cmap = plt.cm.binary)    \n",
        "\n",
        "  predicted_label = np.argmax(predictions_array)\n",
        "  if predicted_label.all() == true_label.all():\n",
        "    color = 'blue'\n",
        "  else:\n",
        "    color = 'red'\n",
        "\n",
        "  plt.xlabel('{} {:2.0f}% ({})'.format(predicted_label,\n",
        "                                100*np.max(predictions_array),\n",
        "                                true_label),\n",
        "                                color = color)\n",
        "\n",
        "def plot_value_array(i, predictions_array, true_label):\n",
        "  predictions_array, true_label = predictions_array, true_label[i]\n",
        "  plt.grid(False)\n",
        "  plt.xticks(range(10))\n",
        "  plt.yticks([])\n",
        "  thisplot = plt.bar(range(10), predictions_array, color = '#00FF00')\n",
        "  plt.ylim([0, 1])\n",
        "  predicted_label = np.argmax(predictions_array)\n",
        "\n",
        "  thisplot[predicted_label].set_color('red')\n",
        "  thisplot[np.argmax(true_label)].set_color('black')"
      ],
      "metadata": {
        "id": "IFpr2G1Mnd2a"
      },
      "execution_count": null,
      "outputs": []
    },
    {
      "cell_type": "code",
      "source": [
        "plt.figure(figsize = (6,3))\n",
        "plt.subplot(1,2,1)\n",
        "plot_image(5, predictions[5], test_labels, test_data.reshape(10000,28,28))\n",
        "plt.subplot(1,2,2)\n",
        "plot_value_array(5, predictions[5],  test_labels)\n",
        "plt.show()"
      ],
      "metadata": {
        "id": "sHzHKQ3Lnd2a"
      },
      "execution_count": null,
      "outputs": []
    },
    {
      "cell_type": "markdown",
      "source": [
        "## Caso 7"
      ],
      "metadata": {
        "id": "l5GNinIhnd2a"
      }
    },
    {
      "cell_type": "markdown",
      "source": [
        "### Crear la red de neuronas"
      ],
      "metadata": {
        "id": "_dZ1tr-3nd2a"
      }
    },
    {
      "cell_type": "markdown",
      "source": [
        "Se crea la red neuronal con una capa de \n",
        "entrada con 512 neuronas y función de activación ```sigmoid```, y una capa de salida con función de activación ```softmax```."
      ],
      "metadata": {
        "id": "Kd8mMW02nd2a"
      }
    },
    {
      "cell_type": "code",
      "source": [
        "model = models.Sequential()\n",
        "model.add(layers.Dense(512, activation ='sigmoid', name = 'Capa7', input_shape = (28*28,)))\n",
        "model.add(layers.Dense(10, name = 'CapaSalida7', activation = 'softmax'))"
      ],
      "metadata": {
        "id": "M6A4OIP6nd2a"
      },
      "execution_count": null,
      "outputs": []
    },
    {
      "cell_type": "markdown",
      "source": [
        "### Explicar model.summary()\n"
      ],
      "metadata": {
        "id": "UbGycgtInd2a"
      }
    },
    {
      "cell_type": "markdown",
      "source": [
        "El resumen del modelo indica el número de parámetros de salida de cada capa. Este número es igual al tamaño de los datos de entrada multiplicado por el número de neuronas, y sumando el número de umbrales de activación de la capa.\n",
        "\n",
        "\n",
        "En el caso de la primera capa: 401920 = 784 (tamaño de los datos) x 512 (número de neuronas) + 512 (número de umbrales de activación).\n",
        "\n",
        "En el caso de la segunda capa: 262656 = 512 (tamaño de los datos) x 512 (número de neuronas) + 512 (número de umbrales de activación)."
      ],
      "metadata": {
        "id": "RDhQ1Hq6nd2a"
      }
    },
    {
      "cell_type": "code",
      "source": [
        "model.summary()"
      ],
      "metadata": {
        "id": "u3jY7Bbend2a"
      },
      "execution_count": null,
      "outputs": []
    },
    {
      "cell_type": "markdown",
      "source": [
        "Se definen las funciones del optimizador, la pérdida y la métrica."
      ],
      "metadata": {
        "id": "br4bFCCend2b"
      }
    },
    {
      "cell_type": "code",
      "source": [
        "model.compile(optimizer = 'sgd',\n",
        "              loss = 'categorical_crossentropy',\n",
        "              metrics = ['accuracy'])"
      ],
      "metadata": {
        "id": "qtp5sWA4nd2b"
      },
      "execution_count": null,
      "outputs": []
    },
    {
      "cell_type": "markdown",
      "source": [
        "### Entrenar la red"
      ],
      "metadata": {
        "id": "SLOrD3Mvnd2d"
      }
    },
    {
      "cell_type": "markdown",
      "source": [
        "Para entrenar la red se realizan ```5``` ciclos con lotes de ```128``` imágenes. Se compara con los datos de validación para controlar el sobreentrenamiento. "
      ],
      "metadata": {
        "id": "mr9jTFmInd2d"
      }
    },
    {
      "cell_type": "code",
      "source": [
        "history = model.fit(train_val_data, train_val_labels,\n",
        "                    epochs = 5,\n",
        "                    batch_size = 128,\n",
        "                    validation_data = (val_data, val_labels))"
      ],
      "metadata": {
        "id": "9Y_giitWnd2d"
      },
      "execution_count": null,
      "outputs": []
    },
    {
      "cell_type": "markdown",
      "source": [
        "La pérdida indica el porcentaje de errores entre las etiquetas y las predicciones del modelo.\n",
        "\n",
        "La precisión indica el porcentaje de aciertos entre las predicciones y las etiquetas."
      ],
      "metadata": {
        "id": "w8KEH-sund2d"
      }
    },
    {
      "cell_type": "code",
      "source": [
        "test_loss, test_acc = model.evaluate(test_data, test_labels)"
      ],
      "metadata": {
        "id": "LvSfrIgTnd2d"
      },
      "execution_count": null,
      "outputs": []
    },
    {
      "cell_type": "markdown",
      "source": [
        "### Predecir valores"
      ],
      "metadata": {
        "id": "JSrgwZEhnd2d"
      }
    },
    {
      "cell_type": "markdown",
      "source": [
        "Imprimir la matriz de confusión, que muestra los valores predichos frente a los reales."
      ],
      "metadata": {
        "id": "eLLLCUggnd2d"
      }
    },
    {
      "cell_type": "code",
      "source": [
        "# Note, this code is taken straight from the SKLEARN website, an nice way of \n",
        "# viewing confusion matrix.\n",
        "def plot_confusion_matrix(cm, classes,\n",
        "                          normalize = False,\n",
        "                          title = 'Confusion matrix',\n",
        "                          cmap = plt.cm.Blues):\n",
        "    '''\n",
        "    This function prints and plots the confusion matrix.\n",
        "    Normalization can be applied by setting `normalize = True`.\n",
        "    '''\n",
        "    plt.imshow(cm, interpolation = 'nearest', cmap = cmap)\n",
        "    plt.title(title)\n",
        "    plt.colorbar()\n",
        "    tick_marks = np.arange(len(classes))\n",
        "    plt.xticks(tick_marks, classes, rotation = 45)\n",
        "    plt.yticks(tick_marks, classes)\n",
        "\n",
        "    if normalize:\n",
        "        cm = cm.astype('float') / cm.sum(axis = 1)[:, np.newaxis]\n",
        "\n",
        "    thresh = cm.max() / 2.\n",
        "    for i, j in itertools.product(range(cm.shape[0]), range(cm.shape[1])):\n",
        "        plt.text(j, i, cm[i, j],\n",
        "                 horizontalalignment = 'center',\n",
        "                 color = 'white' if cm[i, j] > thresh else 'black')\n",
        "\n",
        "    plt.tight_layout()\n",
        "    plt.ylabel('Observación')\n",
        "    plt.xlabel('Predicción')"
      ],
      "metadata": {
        "id": "zUF16kY_nd2d"
      },
      "execution_count": null,
      "outputs": []
    },
    {
      "cell_type": "code",
      "source": [
        "Y_pred = model.predict(test_data)\n",
        "print('Valores de predicción del modelo')\n",
        "# Convertir en predicciones de clases desde los vectores one-hot encoding \n",
        "Y_pred_classes = np.argmax(Y_pred, axis = 1) \n",
        "# Convertir en clases de observación desde los vectores one-hot encoding\n",
        "Y_true = np.argmax(test_labels, axis = 1) \n",
        "# Computar la matriz de confusión\n",
        "confusion_mtx = confusion_matrix(Y_true, Y_pred_classes) \n",
        "# Dibujar la matriz de confusión\n",
        "print('Matriz de confusión')\n",
        "plot_confusion_matrix(confusion_mtx, classes = range(10))"
      ],
      "metadata": {
        "id": "6D3SCoqind2d"
      },
      "execution_count": null,
      "outputs": []
    },
    {
      "cell_type": "markdown",
      "source": [
        "Se grafica el elemento 6 (```test_data[5]```) para comprobar las soluciones. "
      ],
      "metadata": {
        "id": "wsZUHAEOnd2e"
      }
    },
    {
      "cell_type": "code",
      "source": [
        "digit = test_data.reshape(10000,28, 28)[5]\n",
        "plt.imshow(digit, cmap = plt.cm.binary)\n",
        "plt.show()\n",
        "print(test_labels[5])"
      ],
      "metadata": {
        "id": "vduaIFHxnd2e"
      },
      "execution_count": null,
      "outputs": []
    },
    {
      "cell_type": "markdown",
      "source": [
        "La clase del elemento 6 es la clase 1 (pantalones)."
      ],
      "metadata": {
        "id": "TxjXrHj3nd2e"
      }
    },
    {
      "cell_type": "code",
      "source": [
        "predictions = model.predict(test_data)\n",
        "print('Predicción del elemento 6: clase', np.argmax(predictions[5]))\n",
        "print(predictions[5])\n",
        "print('Suma de las predicciones del elemento 6:', np.sum(predictions[5]))"
      ],
      "metadata": {
        "id": "xRRBr0kmnd2e"
      },
      "execution_count": null,
      "outputs": []
    },
    {
      "cell_type": "code",
      "source": [
        "def plot_image(i, predictions_array, true_label, img):\n",
        "  predictions_array, true_label, img = predictions_array, true_label[i], img[i]\n",
        "  plt.grid(False)\n",
        "  plt.xticks([])\n",
        "  plt.yticks([])\n",
        "\n",
        "  plt.imshow(img, cmap = plt.cm.binary)    \n",
        "\n",
        "  predicted_label = np.argmax(predictions_array)\n",
        "  if predicted_label.all() == true_label.all():\n",
        "    color = 'blue'\n",
        "  else:\n",
        "    color = 'red'\n",
        "\n",
        "  plt.xlabel('{} {:2.0f}% ({})'.format(predicted_label,\n",
        "                                100*np.max(predictions_array),\n",
        "                                true_label),\n",
        "                                color = color)\n",
        "\n",
        "def plot_value_array(i, predictions_array, true_label):\n",
        "  predictions_array, true_label = predictions_array, true_label[i]\n",
        "  plt.grid(False)\n",
        "  plt.xticks(range(10))\n",
        "  plt.yticks([])\n",
        "  thisplot = plt.bar(range(10), predictions_array, color = '#00FF00')\n",
        "  plt.ylim([0, 1])\n",
        "  predicted_label = np.argmax(predictions_array)\n",
        "\n",
        "  thisplot[predicted_label].set_color('red')\n",
        "  thisplot[np.argmax(true_label)].set_color('black')"
      ],
      "metadata": {
        "id": "GZpRjWQhnd2e"
      },
      "execution_count": null,
      "outputs": []
    },
    {
      "cell_type": "code",
      "source": [
        "plt.figure(figsize = (6,3))\n",
        "plt.subplot(1,2,1)\n",
        "plot_image(5, predictions[5], test_labels, test_data.reshape(10000,28,28))\n",
        "plt.subplot(1,2,2)\n",
        "plot_value_array(5, predictions[5],  test_labels)\n",
        "plt.show()"
      ],
      "metadata": {
        "id": "CHDP1XAvnd2e"
      },
      "execution_count": null,
      "outputs": []
    },
    {
      "cell_type": "markdown",
      "source": [
        "## Caso 7.5"
      ],
      "metadata": {
        "id": "aySiC2fyrSZw"
      }
    },
    {
      "cell_type": "markdown",
      "source": [
        "### Crear la red de neuronas"
      ],
      "metadata": {
        "id": "XrPy96d5rSZx"
      }
    },
    {
      "cell_type": "markdown",
      "source": [
        "Se crea la red neuronal con una capa de \n",
        "entrada con 512 neuronas y función de activación ```sigmoid```, y una capa de salida con función de activación ```softmax```."
      ],
      "metadata": {
        "id": "N3PbHHwQrSZx"
      }
    },
    {
      "cell_type": "code",
      "source": [
        "model = models.Sequential()\n",
        "model.add(layers.Dense(512, activation ='sigmoid', name = 'Capa7', input_shape = (28*28,)))\n",
        "model.add(layers.Dense(10, name = 'CapaSalida7', activation = 'softmax'))"
      ],
      "metadata": {
        "id": "Op6OP_2QrSZx"
      },
      "execution_count": null,
      "outputs": []
    },
    {
      "cell_type": "markdown",
      "source": [
        "### Explicar model.summary()\n"
      ],
      "metadata": {
        "id": "qHjUm1LyrSZx"
      }
    },
    {
      "cell_type": "markdown",
      "source": [
        "El resumen del modelo indica el número de parámetros de salida de cada capa. Este número es igual al tamaño de los datos de entrada multiplicado por el número de neuronas, y sumando el número de umbrales de activación de la capa.\n",
        "\n",
        "\n",
        "En el caso de la primera capa: 401920 = 784 (tamaño de los datos) x 512 (número de neuronas) + 512 (número de umbrales de activación).\n",
        "\n",
        "En el caso de la segunda capa: 262656 = 512 (tamaño de los datos) x 512 (número de neuronas) + 512 (número de umbrales de activación)."
      ],
      "metadata": {
        "id": "i2fzTOHmrSZx"
      }
    },
    {
      "cell_type": "code",
      "source": [
        "model.summary()"
      ],
      "metadata": {
        "id": "LkL7pseyrSZy"
      },
      "execution_count": null,
      "outputs": []
    },
    {
      "cell_type": "markdown",
      "source": [
        "Se definen las funciones del optimizador, la pérdida y la métrica."
      ],
      "metadata": {
        "id": "aNFO8YwZrSZy"
      }
    },
    {
      "cell_type": "code",
      "source": [
        "model.compile(optimizer = 'sgd',\n",
        "              loss = 'categorical_crossentropy',\n",
        "              metrics = ['accuracy'])"
      ],
      "metadata": {
        "id": "HlHwlExZrSZy"
      },
      "execution_count": null,
      "outputs": []
    },
    {
      "cell_type": "markdown",
      "source": [
        "### Entrenar la red"
      ],
      "metadata": {
        "id": "8QNafZwhrSZy"
      }
    },
    {
      "cell_type": "markdown",
      "source": [
        "Para entrenar la red se realizan ```5``` ciclos con lotes de ```128``` imágenes. Se compara con los datos de validación para controlar el sobreentrenamiento. "
      ],
      "metadata": {
        "id": "qxca_mFtrSZy"
      }
    },
    {
      "cell_type": "code",
      "source": [
        "history = model.fit(train_val_data, train_val_labels,\n",
        "                    epochs = 25,\n",
        "                    batch_size = 128,\n",
        "                    validation_data = (val_data, val_labels))"
      ],
      "metadata": {
        "id": "gCgTPpHPrSZy"
      },
      "execution_count": null,
      "outputs": []
    },
    {
      "cell_type": "markdown",
      "source": [
        "La pérdida indica el porcentaje de errores entre las etiquetas y las predicciones del modelo.\n",
        "\n",
        "La precisión indica el porcentaje de aciertos entre las predicciones y las etiquetas."
      ],
      "metadata": {
        "id": "epQ6PWfirSZy"
      }
    },
    {
      "cell_type": "code",
      "source": [
        "test_loss, test_acc = model.evaluate(test_data, test_labels)"
      ],
      "metadata": {
        "id": "dpY3zvZwrSZz"
      },
      "execution_count": null,
      "outputs": []
    },
    {
      "cell_type": "markdown",
      "source": [
        "### Predecir valores"
      ],
      "metadata": {
        "id": "1ZARjkoqrSZz"
      }
    },
    {
      "cell_type": "markdown",
      "source": [
        "Imprimir la matriz de confusión, que muestra los valores predichos frente a los reales."
      ],
      "metadata": {
        "id": "BvcHg4ErrSZz"
      }
    },
    {
      "cell_type": "code",
      "source": [
        "# Note, this code is taken straight from the SKLEARN website, an nice way of \n",
        "# viewing confusion matrix.\n",
        "def plot_confusion_matrix(cm, classes,\n",
        "                          normalize = False,\n",
        "                          title = 'Confusion matrix',\n",
        "                          cmap = plt.cm.Blues):\n",
        "    '''\n",
        "    This function prints and plots the confusion matrix.\n",
        "    Normalization can be applied by setting `normalize = True`.\n",
        "    '''\n",
        "    plt.imshow(cm, interpolation = 'nearest', cmap = cmap)\n",
        "    plt.title(title)\n",
        "    plt.colorbar()\n",
        "    tick_marks = np.arange(len(classes))\n",
        "    plt.xticks(tick_marks, classes, rotation = 45)\n",
        "    plt.yticks(tick_marks, classes)\n",
        "\n",
        "    if normalize:\n",
        "        cm = cm.astype('float') / cm.sum(axis = 1)[:, np.newaxis]\n",
        "\n",
        "    thresh = cm.max() / 2.\n",
        "    for i, j in itertools.product(range(cm.shape[0]), range(cm.shape[1])):\n",
        "        plt.text(j, i, cm[i, j],\n",
        "                 horizontalalignment = 'center',\n",
        "                 color = 'white' if cm[i, j] > thresh else 'black')\n",
        "\n",
        "    plt.tight_layout()\n",
        "    plt.ylabel('Observación')\n",
        "    plt.xlabel('Predicción')"
      ],
      "metadata": {
        "id": "vu9XYDdurSZz"
      },
      "execution_count": null,
      "outputs": []
    },
    {
      "cell_type": "code",
      "source": [
        "Y_pred = model.predict(test_data)\n",
        "print('Valores de predicción del modelo')\n",
        "# Convertir en predicciones de clases desde los vectores one-hot encoding \n",
        "Y_pred_classes = np.argmax(Y_pred, axis = 1) \n",
        "# Convertir en clases de observación desde los vectores one-hot encoding\n",
        "Y_true = np.argmax(test_labels, axis = 1) \n",
        "# Computar la matriz de confusión\n",
        "confusion_mtx = confusion_matrix(Y_true, Y_pred_classes) \n",
        "# Dibujar la matriz de confusión\n",
        "print('Matriz de confusión')\n",
        "plot_confusion_matrix(confusion_mtx, classes = range(10))"
      ],
      "metadata": {
        "id": "6SXfWWibrSZz"
      },
      "execution_count": null,
      "outputs": []
    },
    {
      "cell_type": "markdown",
      "source": [
        "Se grafica el elemento 6 (```test_data[5]```) para comprobar las soluciones. "
      ],
      "metadata": {
        "id": "OlCm0q0KrSZz"
      }
    },
    {
      "cell_type": "code",
      "source": [
        "digit = test_data.reshape(10000,28, 28)[5]\n",
        "plt.imshow(digit, cmap = plt.cm.binary)\n",
        "plt.show()\n",
        "print(test_labels[5])"
      ],
      "metadata": {
        "id": "ds7qBYgBrSZz"
      },
      "execution_count": null,
      "outputs": []
    },
    {
      "cell_type": "markdown",
      "source": [
        "La clase del elemento 6 es la clase 1 (pantalones)."
      ],
      "metadata": {
        "id": "MBy-CwhVrSZ0"
      }
    },
    {
      "cell_type": "code",
      "source": [
        "predictions = model.predict(test_data)\n",
        "print('Predicción del elemento 6: clase', np.argmax(predictions[5]))\n",
        "print(predictions[5])\n",
        "print('Suma de las predicciones del elemento 6:', np.sum(predictions[5]))"
      ],
      "metadata": {
        "id": "zINTkEmCrSZ0"
      },
      "execution_count": null,
      "outputs": []
    },
    {
      "cell_type": "code",
      "source": [
        "def plot_image(i, predictions_array, true_label, img):\n",
        "  predictions_array, true_label, img = predictions_array, true_label[i], img[i]\n",
        "  plt.grid(False)\n",
        "  plt.xticks([])\n",
        "  plt.yticks([])\n",
        "\n",
        "  plt.imshow(img, cmap = plt.cm.binary)    \n",
        "\n",
        "  predicted_label = np.argmax(predictions_array)\n",
        "  if predicted_label.all() == true_label.all():\n",
        "    color = 'blue'\n",
        "  else:\n",
        "    color = 'red'\n",
        "\n",
        "  plt.xlabel('{} {:2.0f}% ({})'.format(predicted_label,\n",
        "                                100*np.max(predictions_array),\n",
        "                                true_label),\n",
        "                                color = color)\n",
        "\n",
        "def plot_value_array(i, predictions_array, true_label):\n",
        "  predictions_array, true_label = predictions_array, true_label[i]\n",
        "  plt.grid(False)\n",
        "  plt.xticks(range(10))\n",
        "  plt.yticks([])\n",
        "  thisplot = plt.bar(range(10), predictions_array, color = '#00FF00')\n",
        "  plt.ylim([0, 1])\n",
        "  predicted_label = np.argmax(predictions_array)\n",
        "\n",
        "  thisplot[predicted_label].set_color('red')\n",
        "  thisplot[np.argmax(true_label)].set_color('black')"
      ],
      "metadata": {
        "id": "KqT4u7_jrSZ0"
      },
      "execution_count": null,
      "outputs": []
    },
    {
      "cell_type": "code",
      "source": [
        "plt.figure(figsize = (6,3))\n",
        "plt.subplot(1,2,1)\n",
        "plot_image(5, predictions[5], test_labels, test_data.reshape(10000,28,28))\n",
        "plt.subplot(1,2,2)\n",
        "plot_value_array(5, predictions[5],  test_labels)\n",
        "plt.show()"
      ],
      "metadata": {
        "id": "ReDfVSMrrSZ0"
      },
      "execution_count": null,
      "outputs": []
    },
    {
      "cell_type": "markdown",
      "source": [
        "## Caso 8"
      ],
      "metadata": {
        "id": "Bhw1lF8And2e"
      }
    },
    {
      "cell_type": "markdown",
      "source": [
        "### Crear la red de neuronas"
      ],
      "metadata": {
        "id": "5e-tHDPHnd2e"
      }
    },
    {
      "cell_type": "markdown",
      "source": [
        "Se crea la red neuronal con una capa de entrada con 512 neuronas y función de activación ```sigmoid```, y una capa de salida con función de activación ```softmax```."
      ],
      "metadata": {
        "id": "Tz5qH7g-nd2e"
      }
    },
    {
      "cell_type": "code",
      "source": [
        "model = models.Sequential()\n",
        "model.add(layers.Dense(512, activation ='sigmoid', name = 'Capa8', input_shape = (28*28,)))\n",
        "model.add(layers.Dense(10, name = 'CapaSalida8', activation = 'softmax'))"
      ],
      "metadata": {
        "id": "sHE5QeQEnd2f"
      },
      "execution_count": null,
      "outputs": []
    },
    {
      "cell_type": "markdown",
      "source": [
        "### Explicar model.summary()\n"
      ],
      "metadata": {
        "id": "zPOSVYtNnd2f"
      }
    },
    {
      "cell_type": "markdown",
      "source": [
        "El resumen del modelo indica el número de parámetros de salida de cada capa. Este número es igual al tamaño de los datos de entrada multiplicado por el número de neuronas, y sumando el número de umbrales de activación de la capa.\n",
        "\n",
        "\n",
        "En el caso de la primera capa: 401920 = 784 (tamaño de los datos) x 512 (número de neuronas) + 512 (número de umbrales de activación).\n",
        "\n",
        "En el caso de la segunda capa: 262656 = 512 (tamaño de los datos) x 512 (número de neuronas) + 512 (número de umbrales de activación)."
      ],
      "metadata": {
        "id": "wYb5bK-Lnd2f"
      }
    },
    {
      "cell_type": "code",
      "source": [
        "model.summary()"
      ],
      "metadata": {
        "id": "SOyBZTzvnd2f"
      },
      "execution_count": null,
      "outputs": []
    },
    {
      "cell_type": "markdown",
      "source": [
        "Se definen las funciones del optimizador, la pérdida y la métrica."
      ],
      "metadata": {
        "id": "8aOOKQMsnd2f"
      }
    },
    {
      "cell_type": "code",
      "source": [
        "model.compile(optimizer = 'rmsprop',\n",
        "              loss = 'categorical_crossentropy',\n",
        "              metrics = ['accuracy'])"
      ],
      "metadata": {
        "id": "RmNUdhy4nd2f"
      },
      "execution_count": null,
      "outputs": []
    },
    {
      "cell_type": "markdown",
      "source": [
        "### Entrenar la red"
      ],
      "metadata": {
        "id": "OhPvgbLCnd2f"
      }
    },
    {
      "cell_type": "markdown",
      "source": [
        "Para entrenar la red se realizan ```5``` ciclos con lotes de ```128``` imágenes. Se compara con los datos de validación para controlar el sobreentrenamiento. "
      ],
      "metadata": {
        "id": "AgIMPiOdnd2f"
      }
    },
    {
      "cell_type": "code",
      "source": [
        "history = model.fit(train_val_data, train_val_labels,\n",
        "                    epochs = 5,\n",
        "                    batch_size = 128,\n",
        "                    validation_data = (val_data, val_labels))"
      ],
      "metadata": {
        "id": "JWlfDykcnd2f"
      },
      "execution_count": null,
      "outputs": []
    },
    {
      "cell_type": "markdown",
      "source": [
        "La pérdida indica el porcentaje de errores entre las etiquetas y las predicciones del modelo.\n",
        "\n",
        "La precisión indica el porcentaje de aciertos entre las predicciones y las etiquetas."
      ],
      "metadata": {
        "id": "-AkE1HWxnd2f"
      }
    },
    {
      "cell_type": "code",
      "source": [
        "test_loss, test_acc = model.evaluate(test_data, test_labels)"
      ],
      "metadata": {
        "id": "-92kjkjwnd2f"
      },
      "execution_count": null,
      "outputs": []
    },
    {
      "cell_type": "markdown",
      "source": [
        "### Predecir valores"
      ],
      "metadata": {
        "id": "iwUEfXINnd2g"
      }
    },
    {
      "cell_type": "markdown",
      "source": [
        "Imprimir la matriz de confusión, que muestra los valores predichos frente a los reales."
      ],
      "metadata": {
        "id": "DZSsk0eOnd2g"
      }
    },
    {
      "cell_type": "code",
      "source": [
        "# Note, this code is taken straight from the SKLEARN website, an nice way of \n",
        "# viewing confusion matrix.\n",
        "def plot_confusion_matrix(cm, classes,\n",
        "                          normalize = False,\n",
        "                          title = 'Confusion matrix',\n",
        "                          cmap = plt.cm.Blues):\n",
        "    '''\n",
        "    This function prints and plots the confusion matrix.\n",
        "    Normalization can be applied by setting `normalize = True`.\n",
        "    '''\n",
        "    plt.imshow(cm, interpolation = 'nearest', cmap = cmap)\n",
        "    plt.title(title)\n",
        "    plt.colorbar()\n",
        "    tick_marks = np.arange(len(classes))\n",
        "    plt.xticks(tick_marks, classes, rotation = 45)\n",
        "    plt.yticks(tick_marks, classes)\n",
        "\n",
        "    if normalize:\n",
        "        cm = cm.astype('float') / cm.sum(axis = 1)[:, np.newaxis]\n",
        "\n",
        "    thresh = cm.max() / 2.\n",
        "    for i, j in itertools.product(range(cm.shape[0]), range(cm.shape[1])):\n",
        "        plt.text(j, i, cm[i, j],\n",
        "                 horizontalalignment = 'center',\n",
        "                 color = 'white' if cm[i, j] > thresh else 'black')\n",
        "\n",
        "    plt.tight_layout()\n",
        "    plt.ylabel('Observación')\n",
        "    plt.xlabel('Predicción')"
      ],
      "metadata": {
        "id": "gSHAF0dsnd2g"
      },
      "execution_count": null,
      "outputs": []
    },
    {
      "cell_type": "code",
      "source": [
        "Y_pred = model.predict(test_data)\n",
        "print('Valores de predicción del modelo')\n",
        "# Convertir en predicciones de clases desde los vectores one-hot encoding \n",
        "Y_pred_classes = np.argmax(Y_pred, axis = 1) \n",
        "# Convertir en clases de observación desde los vectores one-hot encoding\n",
        "Y_true = np.argmax(test_labels, axis = 1) \n",
        "# Computar la matriz de confusión\n",
        "confusion_mtx = confusion_matrix(Y_true, Y_pred_classes) \n",
        "# Dibujar la matriz de confusión\n",
        "print('Matriz de confusión')\n",
        "plot_confusion_matrix(confusion_mtx, classes = range(10))"
      ],
      "metadata": {
        "id": "bO6Ll8gNnd2g"
      },
      "execution_count": null,
      "outputs": []
    },
    {
      "cell_type": "markdown",
      "source": [
        "Se grafica el elemento 6 (```test_data[5]```) para comprobar las soluciones. "
      ],
      "metadata": {
        "id": "2BxXnxM3nd2g"
      }
    },
    {
      "cell_type": "code",
      "source": [
        "digit = test_data.reshape(10000,28, 28)[5]\n",
        "plt.imshow(digit, cmap = plt.cm.binary)\n",
        "plt.show()\n",
        "print(test_labels[5])"
      ],
      "metadata": {
        "id": "VqJasvFind2g"
      },
      "execution_count": null,
      "outputs": []
    },
    {
      "cell_type": "markdown",
      "source": [
        "La clase del elemento 6 es la clase 1 (pantalones)."
      ],
      "metadata": {
        "id": "xf5zMsPsnd2g"
      }
    },
    {
      "cell_type": "code",
      "source": [
        "predictions = model.predict(test_data)\n",
        "print('Predicción del elemento 6: clase', np.argmax(predictions[5]))\n",
        "print(predictions[5])\n",
        "print('Suma de las predicciones del elemento 6:', np.sum(predictions[5]))"
      ],
      "metadata": {
        "id": "SR6O7nUZnd2g"
      },
      "execution_count": null,
      "outputs": []
    },
    {
      "cell_type": "code",
      "source": [
        "def plot_image(i, predictions_array, true_label, img):\n",
        "  predictions_array, true_label, img = predictions_array, true_label[i], img[i]\n",
        "  plt.grid(False)\n",
        "  plt.xticks([])\n",
        "  plt.yticks([])\n",
        "\n",
        "  plt.imshow(img, cmap = plt.cm.binary)    \n",
        "\n",
        "  predicted_label = np.argmax(predictions_array)\n",
        "  if predicted_label.all() == true_label.all():\n",
        "    color = 'blue'\n",
        "  else:\n",
        "    color = 'red'\n",
        "\n",
        "  plt.xlabel('{} {:2.0f}% ({})'.format(predicted_label,\n",
        "                                100*np.max(predictions_array),\n",
        "                                true_label),\n",
        "                                color = color)\n",
        "\n",
        "def plot_value_array(i, predictions_array, true_label):\n",
        "  predictions_array, true_label = predictions_array, true_label[i]\n",
        "  plt.grid(False)\n",
        "  plt.xticks(range(10))\n",
        "  plt.yticks([])\n",
        "  thisplot = plt.bar(range(10), predictions_array, color = '#00FF00')\n",
        "  plt.ylim([0, 1])\n",
        "  predicted_label = np.argmax(predictions_array)\n",
        "\n",
        "  thisplot[predicted_label].set_color('red')\n",
        "  thisplot[np.argmax(true_label)].set_color('black')"
      ],
      "metadata": {
        "id": "V-WgItlYnd2g"
      },
      "execution_count": null,
      "outputs": []
    },
    {
      "cell_type": "code",
      "source": [
        "plt.figure(figsize = (6,3))\n",
        "plt.subplot(1,2,1)\n",
        "plot_image(5, predictions[5], test_labels, test_data.reshape(10000,28,28))\n",
        "plt.subplot(1,2,2)\n",
        "plot_value_array(5, predictions[5],  test_labels)\n",
        "plt.show()"
      ],
      "metadata": {
        "id": "_hU9WOQfnd2g"
      },
      "execution_count": null,
      "outputs": []
    }
  ]
}