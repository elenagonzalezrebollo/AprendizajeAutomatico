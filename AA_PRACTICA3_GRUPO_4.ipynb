{
  "nbformat": 4,
  "nbformat_minor": 0,
  "metadata": {
    "colab": {
      "provenance": [],
      "include_colab_link": true
    },
    "kernelspec": {
      "name": "python3",
      "display_name": "Python 3"
    },
    "language_info": {
      "name": "python"
    }
  },
  "cells": [
    {
      "cell_type": "markdown",
      "metadata": {
        "id": "view-in-github",
        "colab_type": "text"
      },
      "source": [
        "<a href=\"https://colab.research.google.com/github/elenagonzalezrebollo/AprendizajeAutomatico/blob/main/AA_PRACTICA3_GRUPO_4.ipynb\" target=\"_parent\"><img src=\"https://colab.research.google.com/assets/colab-badge.svg\" alt=\"Open In Colab\"/></a>"
      ]
    },
    {
      "cell_type": "markdown",
      "source": [
        "# AA_PRACTICA3_GRUPO_4\n",
        "\n",
        "Daniel Alonso\n",
        "\n",
        "Javier Arteaga\n",
        "\n",
        "Marina Garrido\n",
        "\n",
        "Elena González"
      ],
      "metadata": {
        "id": "NAt_CleDyO_d"
      }
    },
    {
      "cell_type": "code",
      "source": [
        "import pandas as pd\n",
        "import numpy as np\n",
        "import matplotlib.pyplot as plt\n",
        "%matplotlib inline\n"
      ],
      "metadata": {
        "id": "lcAKpTlrZKu2"
      },
      "execution_count": 1,
      "outputs": []
    },
    {
      "cell_type": "markdown",
      "source": [
        "https://www.kaggle.com/datasets/fedesoriano/body-fat-prediction-dataset\n",
        "\n",
        "- Density determined from underwater weighing\n",
        "- Percent body fat from Siri's (1956) equation\n",
        "- Age (years)\n",
        "- Weight (lbs)\n",
        "- Height (inches)\n",
        "- Neck circumference (cm)\n",
        "- Chest circumference (cm)\n",
        "- Abdomen 2 circumference (cm)\n",
        "- Hip circumference (cm)\n",
        "- Thigh circumference (cm)\n",
        "- Knee circumference (cm)\n",
        "- Ankle circumference (cm)\n",
        "- Biceps (extended) circumference (cm)\n",
        "- Forearm circumference (cm)\n",
        "- Wrist circumference (cm)"
      ],
      "metadata": {
        "id": "8BDFkWIYqOfy"
      }
    },
    {
      "cell_type": "code",
      "source": [
        "data = pd.read_csv('bodyfat.csv', encoding='latin-1')\n",
        "data.head()\n"
      ],
      "metadata": {
        "colab": {
          "base_uri": "https://localhost:8080/",
          "height": 206
        },
        "id": "x05nKWYMZNNX",
        "outputId": "132e7ca9-60e3-48c4-b5a7-504050803626"
      },
      "execution_count": 2,
      "outputs": [
        {
          "output_type": "execute_result",
          "data": {
            "text/plain": [
              "   Density  BodyFat  Age  Weight  Height  Neck  Chest  Abdomen    Hip  Thigh  \\\n",
              "0   1.0708     12.3   23  154.25   67.75  36.2   93.1     85.2   94.5   59.0   \n",
              "1   1.0853      6.1   22  173.25   72.25  38.5   93.6     83.0   98.7   58.7   \n",
              "2   1.0414     25.3   22  154.00   66.25  34.0   95.8     87.9   99.2   59.6   \n",
              "3   1.0751     10.4   26  184.75   72.25  37.4  101.8     86.4  101.2   60.1   \n",
              "4   1.0340     28.7   24  184.25   71.25  34.4   97.3    100.0  101.9   63.2   \n",
              "\n",
              "   Knee  Ankle  Biceps  Forearm  Wrist  \n",
              "0  37.3   21.9    32.0     27.4   17.1  \n",
              "1  37.3   23.4    30.5     28.9   18.2  \n",
              "2  38.9   24.0    28.8     25.2   16.6  \n",
              "3  37.3   22.8    32.4     29.4   18.2  \n",
              "4  42.2   24.0    32.2     27.7   17.7  "
            ],
            "text/html": [
              "\n",
              "  <div id=\"df-fe4fc9b5-7440-46e6-9182-5b3a6a4a6f26\">\n",
              "    <div class=\"colab-df-container\">\n",
              "      <div>\n",
              "<style scoped>\n",
              "    .dataframe tbody tr th:only-of-type {\n",
              "        vertical-align: middle;\n",
              "    }\n",
              "\n",
              "    .dataframe tbody tr th {\n",
              "        vertical-align: top;\n",
              "    }\n",
              "\n",
              "    .dataframe thead th {\n",
              "        text-align: right;\n",
              "    }\n",
              "</style>\n",
              "<table border=\"1\" class=\"dataframe\">\n",
              "  <thead>\n",
              "    <tr style=\"text-align: right;\">\n",
              "      <th></th>\n",
              "      <th>Density</th>\n",
              "      <th>BodyFat</th>\n",
              "      <th>Age</th>\n",
              "      <th>Weight</th>\n",
              "      <th>Height</th>\n",
              "      <th>Neck</th>\n",
              "      <th>Chest</th>\n",
              "      <th>Abdomen</th>\n",
              "      <th>Hip</th>\n",
              "      <th>Thigh</th>\n",
              "      <th>Knee</th>\n",
              "      <th>Ankle</th>\n",
              "      <th>Biceps</th>\n",
              "      <th>Forearm</th>\n",
              "      <th>Wrist</th>\n",
              "    </tr>\n",
              "  </thead>\n",
              "  <tbody>\n",
              "    <tr>\n",
              "      <th>0</th>\n",
              "      <td>1.0708</td>\n",
              "      <td>12.3</td>\n",
              "      <td>23</td>\n",
              "      <td>154.25</td>\n",
              "      <td>67.75</td>\n",
              "      <td>36.2</td>\n",
              "      <td>93.1</td>\n",
              "      <td>85.2</td>\n",
              "      <td>94.5</td>\n",
              "      <td>59.0</td>\n",
              "      <td>37.3</td>\n",
              "      <td>21.9</td>\n",
              "      <td>32.0</td>\n",
              "      <td>27.4</td>\n",
              "      <td>17.1</td>\n",
              "    </tr>\n",
              "    <tr>\n",
              "      <th>1</th>\n",
              "      <td>1.0853</td>\n",
              "      <td>6.1</td>\n",
              "      <td>22</td>\n",
              "      <td>173.25</td>\n",
              "      <td>72.25</td>\n",
              "      <td>38.5</td>\n",
              "      <td>93.6</td>\n",
              "      <td>83.0</td>\n",
              "      <td>98.7</td>\n",
              "      <td>58.7</td>\n",
              "      <td>37.3</td>\n",
              "      <td>23.4</td>\n",
              "      <td>30.5</td>\n",
              "      <td>28.9</td>\n",
              "      <td>18.2</td>\n",
              "    </tr>\n",
              "    <tr>\n",
              "      <th>2</th>\n",
              "      <td>1.0414</td>\n",
              "      <td>25.3</td>\n",
              "      <td>22</td>\n",
              "      <td>154.00</td>\n",
              "      <td>66.25</td>\n",
              "      <td>34.0</td>\n",
              "      <td>95.8</td>\n",
              "      <td>87.9</td>\n",
              "      <td>99.2</td>\n",
              "      <td>59.6</td>\n",
              "      <td>38.9</td>\n",
              "      <td>24.0</td>\n",
              "      <td>28.8</td>\n",
              "      <td>25.2</td>\n",
              "      <td>16.6</td>\n",
              "    </tr>\n",
              "    <tr>\n",
              "      <th>3</th>\n",
              "      <td>1.0751</td>\n",
              "      <td>10.4</td>\n",
              "      <td>26</td>\n",
              "      <td>184.75</td>\n",
              "      <td>72.25</td>\n",
              "      <td>37.4</td>\n",
              "      <td>101.8</td>\n",
              "      <td>86.4</td>\n",
              "      <td>101.2</td>\n",
              "      <td>60.1</td>\n",
              "      <td>37.3</td>\n",
              "      <td>22.8</td>\n",
              "      <td>32.4</td>\n",
              "      <td>29.4</td>\n",
              "      <td>18.2</td>\n",
              "    </tr>\n",
              "    <tr>\n",
              "      <th>4</th>\n",
              "      <td>1.0340</td>\n",
              "      <td>28.7</td>\n",
              "      <td>24</td>\n",
              "      <td>184.25</td>\n",
              "      <td>71.25</td>\n",
              "      <td>34.4</td>\n",
              "      <td>97.3</td>\n",
              "      <td>100.0</td>\n",
              "      <td>101.9</td>\n",
              "      <td>63.2</td>\n",
              "      <td>42.2</td>\n",
              "      <td>24.0</td>\n",
              "      <td>32.2</td>\n",
              "      <td>27.7</td>\n",
              "      <td>17.7</td>\n",
              "    </tr>\n",
              "  </tbody>\n",
              "</table>\n",
              "</div>\n",
              "      <button class=\"colab-df-convert\" onclick=\"convertToInteractive('df-fe4fc9b5-7440-46e6-9182-5b3a6a4a6f26')\"\n",
              "              title=\"Convert this dataframe to an interactive table.\"\n",
              "              style=\"display:none;\">\n",
              "        \n",
              "  <svg xmlns=\"http://www.w3.org/2000/svg\" height=\"24px\"viewBox=\"0 0 24 24\"\n",
              "       width=\"24px\">\n",
              "    <path d=\"M0 0h24v24H0V0z\" fill=\"none\"/>\n",
              "    <path d=\"M18.56 5.44l.94 2.06.94-2.06 2.06-.94-2.06-.94-.94-2.06-.94 2.06-2.06.94zm-11 1L8.5 8.5l.94-2.06 2.06-.94-2.06-.94L8.5 2.5l-.94 2.06-2.06.94zm10 10l.94 2.06.94-2.06 2.06-.94-2.06-.94-.94-2.06-.94 2.06-2.06.94z\"/><path d=\"M17.41 7.96l-1.37-1.37c-.4-.4-.92-.59-1.43-.59-.52 0-1.04.2-1.43.59L10.3 9.45l-7.72 7.72c-.78.78-.78 2.05 0 2.83L4 21.41c.39.39.9.59 1.41.59.51 0 1.02-.2 1.41-.59l7.78-7.78 2.81-2.81c.8-.78.8-2.07 0-2.86zM5.41 20L4 18.59l7.72-7.72 1.47 1.35L5.41 20z\"/>\n",
              "  </svg>\n",
              "      </button>\n",
              "      \n",
              "  <style>\n",
              "    .colab-df-container {\n",
              "      display:flex;\n",
              "      flex-wrap:wrap;\n",
              "      gap: 12px;\n",
              "    }\n",
              "\n",
              "    .colab-df-convert {\n",
              "      background-color: #E8F0FE;\n",
              "      border: none;\n",
              "      border-radius: 50%;\n",
              "      cursor: pointer;\n",
              "      display: none;\n",
              "      fill: #1967D2;\n",
              "      height: 32px;\n",
              "      padding: 0 0 0 0;\n",
              "      width: 32px;\n",
              "    }\n",
              "\n",
              "    .colab-df-convert:hover {\n",
              "      background-color: #E2EBFA;\n",
              "      box-shadow: 0px 1px 2px rgba(60, 64, 67, 0.3), 0px 1px 3px 1px rgba(60, 64, 67, 0.15);\n",
              "      fill: #174EA6;\n",
              "    }\n",
              "\n",
              "    [theme=dark] .colab-df-convert {\n",
              "      background-color: #3B4455;\n",
              "      fill: #D2E3FC;\n",
              "    }\n",
              "\n",
              "    [theme=dark] .colab-df-convert:hover {\n",
              "      background-color: #434B5C;\n",
              "      box-shadow: 0px 1px 3px 1px rgba(0, 0, 0, 0.15);\n",
              "      filter: drop-shadow(0px 1px 2px rgba(0, 0, 0, 0.3));\n",
              "      fill: #FFFFFF;\n",
              "    }\n",
              "  </style>\n",
              "\n",
              "      <script>\n",
              "        const buttonEl =\n",
              "          document.querySelector('#df-fe4fc9b5-7440-46e6-9182-5b3a6a4a6f26 button.colab-df-convert');\n",
              "        buttonEl.style.display =\n",
              "          google.colab.kernel.accessAllowed ? 'block' : 'none';\n",
              "\n",
              "        async function convertToInteractive(key) {\n",
              "          const element = document.querySelector('#df-fe4fc9b5-7440-46e6-9182-5b3a6a4a6f26');\n",
              "          const dataTable =\n",
              "            await google.colab.kernel.invokeFunction('convertToInteractive',\n",
              "                                                     [key], {});\n",
              "          if (!dataTable) return;\n",
              "\n",
              "          const docLinkHtml = 'Like what you see? Visit the ' +\n",
              "            '<a target=\"_blank\" href=https://colab.research.google.com/notebooks/data_table.ipynb>data table notebook</a>'\n",
              "            + ' to learn more about interactive tables.';\n",
              "          element.innerHTML = '';\n",
              "          dataTable['output_type'] = 'display_data';\n",
              "          await google.colab.output.renderOutput(dataTable, element);\n",
              "          const docLink = document.createElement('div');\n",
              "          docLink.innerHTML = docLinkHtml;\n",
              "          element.appendChild(docLink);\n",
              "        }\n",
              "      </script>\n",
              "    </div>\n",
              "  </div>\n",
              "  "
            ]
          },
          "metadata": {},
          "execution_count": 2
        }
      ]
    },
    {
      "cell_type": "code",
      "source": [
        "data.columns"
      ],
      "metadata": {
        "colab": {
          "base_uri": "https://localhost:8080/"
        },
        "id": "_mHH10dkQdUn",
        "outputId": "ff16a8ab-814a-40ca-d7c8-d3e5d36b9e91"
      },
      "execution_count": 3,
      "outputs": [
        {
          "output_type": "execute_result",
          "data": {
            "text/plain": [
              "Index(['Density', 'BodyFat', 'Age', 'Weight', 'Height', 'Neck', 'Chest',\n",
              "       'Abdomen', 'Hip', 'Thigh', 'Knee', 'Ankle', 'Biceps', 'Forearm',\n",
              "       'Wrist'],\n",
              "      dtype='object')"
            ]
          },
          "metadata": {},
          "execution_count": 3
        }
      ]
    },
    {
      "cell_type": "code",
      "source": [
        "#data=data.drop(['Density'], axis=1)\n"
      ],
      "metadata": {
        "id": "RNZV_2I5p402"
      },
      "execution_count": 4,
      "outputs": []
    },
    {
      "cell_type": "code",
      "source": [
        "data.shape"
      ],
      "metadata": {
        "colab": {
          "base_uri": "https://localhost:8080/"
        },
        "id": "g1KVTqwtrITa",
        "outputId": "e1a3cd89-957b-475c-c08e-d0cbc3d3899a"
      },
      "execution_count": 5,
      "outputs": [
        {
          "output_type": "execute_result",
          "data": {
            "text/plain": [
              "(252, 15)"
            ]
          },
          "metadata": {},
          "execution_count": 5
        }
      ]
    },
    {
      "cell_type": "code",
      "source": [
        "train_targets=data.BodyFat[:189]\n",
        "test_targets=data.BodyFat[190:]\n",
        "data=data.drop(['BodyFat'], axis=1)\n",
        "train_data=data[:189]\n",
        "test_data=data[190:]\n",
        "\n",
        "\n",
        "#(train_data, train_targets), (test_data, test_targets) =  data"
      ],
      "metadata": {
        "id": "uQSf9SCDdlkO"
      },
      "execution_count": 6,
      "outputs": []
    },
    {
      "cell_type": "code",
      "source": [
        "train_data.shape"
      ],
      "metadata": {
        "colab": {
          "base_uri": "https://localhost:8080/"
        },
        "id": "Ihq6r5uOOW6n",
        "outputId": "d790bb67-cb25-4483-fb59-98d80df4f4d9"
      },
      "execution_count": 7,
      "outputs": [
        {
          "output_type": "execute_result",
          "data": {
            "text/plain": [
              "(189, 14)"
            ]
          },
          "metadata": {},
          "execution_count": 7
        }
      ]
    },
    {
      "cell_type": "code",
      "source": [
        "test_data.shape"
      ],
      "metadata": {
        "colab": {
          "base_uri": "https://localhost:8080/"
        },
        "id": "I-bVV-rSOaD0",
        "outputId": "1503db0f-88ac-4d69-a6fb-80a6bfdfd648"
      },
      "execution_count": 8,
      "outputs": [
        {
          "output_type": "execute_result",
          "data": {
            "text/plain": [
              "(62, 14)"
            ]
          },
          "metadata": {},
          "execution_count": 8
        }
      ]
    },
    {
      "cell_type": "code",
      "source": [
        "train_targets.shape"
      ],
      "metadata": {
        "colab": {
          "base_uri": "https://localhost:8080/"
        },
        "id": "PgibHgHhOagB",
        "outputId": "228827e1-e686-49ec-d00a-56576c6536a7"
      },
      "execution_count": 9,
      "outputs": [
        {
          "output_type": "execute_result",
          "data": {
            "text/plain": [
              "(189,)"
            ]
          },
          "metadata": {},
          "execution_count": 9
        }
      ]
    },
    {
      "cell_type": "code",
      "source": [
        "test_targets.shape"
      ],
      "metadata": {
        "colab": {
          "base_uri": "https://localhost:8080/"
        },
        "id": "TwcoEhr0OaxP",
        "outputId": "3463ad0d-16af-404c-ede1-a9aeb84a7f67"
      },
      "execution_count": 10,
      "outputs": [
        {
          "output_type": "execute_result",
          "data": {
            "text/plain": [
              "(62,)"
            ]
          },
          "metadata": {},
          "execution_count": 10
        }
      ]
    },
    {
      "cell_type": "code",
      "source": [
        "train_data[:1]"
      ],
      "metadata": {
        "id": "xTZMuiqfYW2N",
        "colab": {
          "base_uri": "https://localhost:8080/",
          "height": 81
        },
        "outputId": "af4de8e5-7b3f-4d00-f3e3-3fb88ef02fc6"
      },
      "execution_count": 11,
      "outputs": [
        {
          "output_type": "execute_result",
          "data": {
            "text/plain": [
              "   Density  Age  Weight  Height  Neck  Chest  Abdomen   Hip  Thigh  Knee  \\\n",
              "0   1.0708   23  154.25   67.75  36.2   93.1     85.2  94.5   59.0  37.3   \n",
              "\n",
              "   Ankle  Biceps  Forearm  Wrist  \n",
              "0   21.9    32.0     27.4   17.1  "
            ],
            "text/html": [
              "\n",
              "  <div id=\"df-ae4ec1dd-f864-4897-9b5e-bf3f99897b2a\">\n",
              "    <div class=\"colab-df-container\">\n",
              "      <div>\n",
              "<style scoped>\n",
              "    .dataframe tbody tr th:only-of-type {\n",
              "        vertical-align: middle;\n",
              "    }\n",
              "\n",
              "    .dataframe tbody tr th {\n",
              "        vertical-align: top;\n",
              "    }\n",
              "\n",
              "    .dataframe thead th {\n",
              "        text-align: right;\n",
              "    }\n",
              "</style>\n",
              "<table border=\"1\" class=\"dataframe\">\n",
              "  <thead>\n",
              "    <tr style=\"text-align: right;\">\n",
              "      <th></th>\n",
              "      <th>Density</th>\n",
              "      <th>Age</th>\n",
              "      <th>Weight</th>\n",
              "      <th>Height</th>\n",
              "      <th>Neck</th>\n",
              "      <th>Chest</th>\n",
              "      <th>Abdomen</th>\n",
              "      <th>Hip</th>\n",
              "      <th>Thigh</th>\n",
              "      <th>Knee</th>\n",
              "      <th>Ankle</th>\n",
              "      <th>Biceps</th>\n",
              "      <th>Forearm</th>\n",
              "      <th>Wrist</th>\n",
              "    </tr>\n",
              "  </thead>\n",
              "  <tbody>\n",
              "    <tr>\n",
              "      <th>0</th>\n",
              "      <td>1.0708</td>\n",
              "      <td>23</td>\n",
              "      <td>154.25</td>\n",
              "      <td>67.75</td>\n",
              "      <td>36.2</td>\n",
              "      <td>93.1</td>\n",
              "      <td>85.2</td>\n",
              "      <td>94.5</td>\n",
              "      <td>59.0</td>\n",
              "      <td>37.3</td>\n",
              "      <td>21.9</td>\n",
              "      <td>32.0</td>\n",
              "      <td>27.4</td>\n",
              "      <td>17.1</td>\n",
              "    </tr>\n",
              "  </tbody>\n",
              "</table>\n",
              "</div>\n",
              "      <button class=\"colab-df-convert\" onclick=\"convertToInteractive('df-ae4ec1dd-f864-4897-9b5e-bf3f99897b2a')\"\n",
              "              title=\"Convert this dataframe to an interactive table.\"\n",
              "              style=\"display:none;\">\n",
              "        \n",
              "  <svg xmlns=\"http://www.w3.org/2000/svg\" height=\"24px\"viewBox=\"0 0 24 24\"\n",
              "       width=\"24px\">\n",
              "    <path d=\"M0 0h24v24H0V0z\" fill=\"none\"/>\n",
              "    <path d=\"M18.56 5.44l.94 2.06.94-2.06 2.06-.94-2.06-.94-.94-2.06-.94 2.06-2.06.94zm-11 1L8.5 8.5l.94-2.06 2.06-.94-2.06-.94L8.5 2.5l-.94 2.06-2.06.94zm10 10l.94 2.06.94-2.06 2.06-.94-2.06-.94-.94-2.06-.94 2.06-2.06.94z\"/><path d=\"M17.41 7.96l-1.37-1.37c-.4-.4-.92-.59-1.43-.59-.52 0-1.04.2-1.43.59L10.3 9.45l-7.72 7.72c-.78.78-.78 2.05 0 2.83L4 21.41c.39.39.9.59 1.41.59.51 0 1.02-.2 1.41-.59l7.78-7.78 2.81-2.81c.8-.78.8-2.07 0-2.86zM5.41 20L4 18.59l7.72-7.72 1.47 1.35L5.41 20z\"/>\n",
              "  </svg>\n",
              "      </button>\n",
              "      \n",
              "  <style>\n",
              "    .colab-df-container {\n",
              "      display:flex;\n",
              "      flex-wrap:wrap;\n",
              "      gap: 12px;\n",
              "    }\n",
              "\n",
              "    .colab-df-convert {\n",
              "      background-color: #E8F0FE;\n",
              "      border: none;\n",
              "      border-radius: 50%;\n",
              "      cursor: pointer;\n",
              "      display: none;\n",
              "      fill: #1967D2;\n",
              "      height: 32px;\n",
              "      padding: 0 0 0 0;\n",
              "      width: 32px;\n",
              "    }\n",
              "\n",
              "    .colab-df-convert:hover {\n",
              "      background-color: #E2EBFA;\n",
              "      box-shadow: 0px 1px 2px rgba(60, 64, 67, 0.3), 0px 1px 3px 1px rgba(60, 64, 67, 0.15);\n",
              "      fill: #174EA6;\n",
              "    }\n",
              "\n",
              "    [theme=dark] .colab-df-convert {\n",
              "      background-color: #3B4455;\n",
              "      fill: #D2E3FC;\n",
              "    }\n",
              "\n",
              "    [theme=dark] .colab-df-convert:hover {\n",
              "      background-color: #434B5C;\n",
              "      box-shadow: 0px 1px 3px 1px rgba(0, 0, 0, 0.15);\n",
              "      filter: drop-shadow(0px 1px 2px rgba(0, 0, 0, 0.3));\n",
              "      fill: #FFFFFF;\n",
              "    }\n",
              "  </style>\n",
              "\n",
              "      <script>\n",
              "        const buttonEl =\n",
              "          document.querySelector('#df-ae4ec1dd-f864-4897-9b5e-bf3f99897b2a button.colab-df-convert');\n",
              "        buttonEl.style.display =\n",
              "          google.colab.kernel.accessAllowed ? 'block' : 'none';\n",
              "\n",
              "        async function convertToInteractive(key) {\n",
              "          const element = document.querySelector('#df-ae4ec1dd-f864-4897-9b5e-bf3f99897b2a');\n",
              "          const dataTable =\n",
              "            await google.colab.kernel.invokeFunction('convertToInteractive',\n",
              "                                                     [key], {});\n",
              "          if (!dataTable) return;\n",
              "\n",
              "          const docLinkHtml = 'Like what you see? Visit the ' +\n",
              "            '<a target=\"_blank\" href=https://colab.research.google.com/notebooks/data_table.ipynb>data table notebook</a>'\n",
              "            + ' to learn more about interactive tables.';\n",
              "          element.innerHTML = '';\n",
              "          dataTable['output_type'] = 'display_data';\n",
              "          await google.colab.output.renderOutput(dataTable, element);\n",
              "          const docLink = document.createElement('div');\n",
              "          docLink.innerHTML = docLinkHtml;\n",
              "          element.appendChild(docLink);\n",
              "        }\n",
              "      </script>\n",
              "    </div>\n",
              "  </div>\n",
              "  "
            ]
          },
          "metadata": {},
          "execution_count": 11
        }
      ]
    },
    {
      "cell_type": "code",
      "source": [
        "# Los 3959 precios medios de los datos de test en miles de $\n",
        "#test_targets"
      ],
      "metadata": {
        "id": "tHtVTNtBdB31"
      },
      "execution_count": 12,
      "outputs": []
    },
    {
      "cell_type": "code",
      "source": [
        "# 1. Separamos los datos de entrenamiento con los datos de test\n",
        "#train_data = train_data[:3000]\n",
        "#test_data = train_data[3001:]\n",
        "#partial_train_targets = train_targets[:3000]\n",
        "#partial_eval_train_targets = train_targets[3001:]"
      ],
      "metadata": {
        "id": "hBczOshsUNnB"
      },
      "execution_count": 13,
      "outputs": []
    },
    {
      "cell_type": "code",
      "source": [
        "# Normalizamos basándonos en las características\n",
        "##############################################\n",
        "# Calculamos la media del primer eje de los datos de entrenamiento\n",
        "mean = train_data.mean(axis=0)\n",
        "print(\"##### Media de las 13 características de los datos de entrenamiento ##### \")\n",
        "print(mean)\n",
        "# A los datos de entrenamiento le restamos la media\n",
        "train_data -= mean\n",
        "\n",
        "# Calculamos la desviación estandar del primer eje de los datos de entrenamiento\n",
        "std = train_data.std(axis=0)\n",
        "print(\"##### Desviación estandar de las 13 características de los datos de entrenamiento ##### \")\n",
        "print(std)\n",
        "# A los datos de entrenamiento los dividimos por la desviación estándar\n",
        "train_data /= std\n",
        "#print(\"##### Datos de entrenamiento normalizados para la primera casa ##### \")\n",
        "#print(train_data[0])\n",
        "\n",
        "# ¡¡IMPORTANTE!!: USAMOS LA MEDIA Y LA DESVIACIÓN ESTANDAR DE LOS DATOS DE \n",
        "# ENTRENAMIENTO PARA NORMALIZAR EL SET DE DATOS DE LOS DATOS DE TEST \n",
        "test_data -= mean\n",
        "test_data /= std\n",
        "#print(\"##### Datos de test normalizados (de la primera casa) con la media y la desviación estándar de los datos de entrenamiento ##### \")\n",
        "#print(test_data[0])"
      ],
      "metadata": {
        "colab": {
          "base_uri": "https://localhost:8080/"
        },
        "id": "Vm0wC3sVOnKA",
        "outputId": "8ebbfbf3-e14c-40c9-964c-e8758cb1ec5c"
      },
      "execution_count": 14,
      "outputs": [
        {
          "output_type": "stream",
          "name": "stdout",
          "text": [
            "##### Media de las 13 características de los datos de entrenamiento ##### \n",
            "Density      1.056924\n",
            "Age         41.888889\n",
            "Weight     178.469841\n",
            "Height      70.240741\n",
            "Neck        37.895767\n",
            "Chest      100.125926\n",
            "Abdomen     91.725397\n",
            "Hip         99.893122\n",
            "Thigh       59.613757\n",
            "Knee        38.515344\n",
            "Ankle       23.143915\n",
            "Biceps      32.289947\n",
            "Forearm     28.694709\n",
            "Wrist       18.173016\n",
            "dtype: float64\n",
            "##### Desviación estandar de las 13 características de los datos de entrenamiento ##### \n",
            "Density     0.018409\n",
            "Age        12.009453\n",
            "Weight     29.818886\n",
            "Height      3.966228\n",
            "Neck        2.492880\n",
            "Chest       8.167412\n",
            "Abdomen    10.598002\n",
            "Hip         7.353296\n",
            "Thigh       5.527727\n",
            "Knee        2.333641\n",
            "Ankle       1.793139\n",
            "Biceps      3.056377\n",
            "Forearm     2.015254\n",
            "Wrist       0.932773\n",
            "dtype: float64\n"
          ]
        }
      ]
    },
    {
      "cell_type": "code",
      "source": [
        "train_data.shape[1]"
      ],
      "metadata": {
        "colab": {
          "base_uri": "https://localhost:8080/"
        },
        "id": "K2mhPnZoY9xC",
        "outputId": "cc2367d8-b25c-4fb0-c6eb-b5122a41d12c"
      },
      "execution_count": 15,
      "outputs": [
        {
          "output_type": "execute_result",
          "data": {
            "text/plain": [
              "14"
            ]
          },
          "metadata": {},
          "execution_count": 15
        }
      ]
    },
    {
      "cell_type": "code",
      "source": [
        "import tensorflow as tf\n",
        "from keras import models\n",
        "from keras import layers\n",
        "\n",
        "def build_model():\n",
        "    # Porque necesitaremos instanciar el mismo modelo \n",
        "    # múltiples veces, usamos una función para construirlo\n",
        "    model = models.Sequential()\n",
        "    model.add(layers.Dense(90, activation='relu',\n",
        "                           input_shape=(train_data.shape[1],)))\n",
        "    model.add(layers.Dense(90, activation='relu'))\n",
        "    model.add(layers.Dense(1))\n",
        "    # MSE: Mean Squared Error\n",
        "    # MAE: Mean Absolute Error\n",
        "    model.compile(optimizer='rmsprop', loss='mse', \n",
        "                  metrics=[tf.keras.metrics.MeanAbsoluteError()]) # metrics = ['mae']\n",
        "    return model"
      ],
      "metadata": {
        "id": "1Ko1B4Q3ZC_d"
      },
      "execution_count": 16,
      "outputs": []
    },
    {
      "cell_type": "code",
      "source": [
        "# 2. Hacer aquí las particiones de los datos de entrenamiento\n",
        "partial_train_data = train_data[:141]\n",
        "partial_eval_train_data = train_data[142:]\n",
        "partial_train_targets = train_targets[:141]\n",
        "partial_eval_train_targets = train_targets[142:]"
      ],
      "metadata": {
        "id": "019PQQ2MZmNd"
      },
      "execution_count": 17,
      "outputs": []
    },
    {
      "cell_type": "code",
      "source": [
        "# 2. Entrenar el modelo con 25 épocas y un batch_size=1\n",
        "mymodel = build_model()"
      ],
      "metadata": {
        "id": "znQpv5fCZOOf"
      },
      "execution_count": 18,
      "outputs": []
    },
    {
      "cell_type": "code",
      "source": [
        "history = mymodel.fit(partial_train_data, partial_train_targets,\n",
        "            validation_data=(partial_eval_train_data, partial_eval_train_targets),\n",
        "                        epochs=100, batch_size=8)"
      ],
      "metadata": {
        "colab": {
          "base_uri": "https://localhost:8080/"
        },
        "id": "-UAUOTQJZQte",
        "outputId": "f5b02b3f-8082-4ce9-c498-b9cebc99e04b"
      },
      "execution_count": 19,
      "outputs": [
        {
          "output_type": "stream",
          "name": "stdout",
          "text": [
            "Epoch 1/100\n",
            "18/18 [==============================] - 3s 61ms/step - loss: 347.1997 - mean_absolute_error: 17.0760 - val_loss: 195.3971 - val_mean_absolute_error: 12.6727\n",
            "Epoch 2/100\n",
            "18/18 [==============================] - 0s 15ms/step - loss: 237.6599 - mean_absolute_error: 13.6130 - val_loss: 110.4506 - val_mean_absolute_error: 9.1652\n",
            "Epoch 3/100\n",
            "18/18 [==============================] - 0s 15ms/step - loss: 155.6261 - mean_absolute_error: 10.7643 - val_loss: 78.2049 - val_mean_absolute_error: 7.0477\n",
            "Epoch 4/100\n",
            "18/18 [==============================] - 0s 17ms/step - loss: 113.3449 - mean_absolute_error: 8.8507 - val_loss: 75.8031 - val_mean_absolute_error: 6.7610\n",
            "Epoch 5/100\n",
            "18/18 [==============================] - 0s 8ms/step - loss: 91.5363 - mean_absolute_error: 7.7766 - val_loss: 68.4451 - val_mean_absolute_error: 6.4754\n",
            "Epoch 6/100\n",
            "18/18 [==============================] - 0s 10ms/step - loss: 74.7086 - mean_absolute_error: 6.7374 - val_loss: 59.2292 - val_mean_absolute_error: 6.0487\n",
            "Epoch 7/100\n",
            "18/18 [==============================] - 0s 8ms/step - loss: 59.5800 - mean_absolute_error: 6.0767 - val_loss: 52.0849 - val_mean_absolute_error: 5.6993\n",
            "Epoch 8/100\n",
            "18/18 [==============================] - 0s 16ms/step - loss: 48.0728 - mean_absolute_error: 5.2833 - val_loss: 42.5679 - val_mean_absolute_error: 5.1848\n",
            "Epoch 9/100\n",
            "18/18 [==============================] - 0s 16ms/step - loss: 37.8298 - mean_absolute_error: 4.7403 - val_loss: 35.8745 - val_mean_absolute_error: 4.7786\n",
            "Epoch 10/100\n",
            "18/18 [==============================] - 0s 14ms/step - loss: 29.1228 - mean_absolute_error: 4.1675 - val_loss: 29.6576 - val_mean_absolute_error: 4.3995\n",
            "Epoch 11/100\n",
            "18/18 [==============================] - 0s 14ms/step - loss: 22.5615 - mean_absolute_error: 3.7180 - val_loss: 24.5731 - val_mean_absolute_error: 4.0496\n",
            "Epoch 12/100\n",
            "18/18 [==============================] - 0s 16ms/step - loss: 16.6225 - mean_absolute_error: 3.0712 - val_loss: 22.5033 - val_mean_absolute_error: 3.8633\n",
            "Epoch 13/100\n",
            "18/18 [==============================] - 0s 18ms/step - loss: 13.0318 - mean_absolute_error: 2.7957 - val_loss: 18.5398 - val_mean_absolute_error: 3.4836\n",
            "Epoch 14/100\n",
            "18/18 [==============================] - 0s 12ms/step - loss: 10.3966 - mean_absolute_error: 2.3972 - val_loss: 17.4021 - val_mean_absolute_error: 3.3582\n",
            "Epoch 15/100\n",
            "18/18 [==============================] - 0s 19ms/step - loss: 8.2822 - mean_absolute_error: 2.1616 - val_loss: 14.1138 - val_mean_absolute_error: 3.1650\n",
            "Epoch 16/100\n",
            "18/18 [==============================] - 0s 17ms/step - loss: 6.9814 - mean_absolute_error: 1.9879 - val_loss: 12.7446 - val_mean_absolute_error: 2.9410\n",
            "Epoch 17/100\n",
            "18/18 [==============================] - 0s 17ms/step - loss: 5.8320 - mean_absolute_error: 1.8221 - val_loss: 11.4327 - val_mean_absolute_error: 2.7917\n",
            "Epoch 18/100\n",
            "18/18 [==============================] - 0s 13ms/step - loss: 4.9335 - mean_absolute_error: 1.6928 - val_loss: 10.4990 - val_mean_absolute_error: 2.6337\n",
            "Epoch 19/100\n",
            "18/18 [==============================] - 0s 11ms/step - loss: 4.2410 - mean_absolute_error: 1.5959 - val_loss: 9.7729 - val_mean_absolute_error: 2.5195\n",
            "Epoch 20/100\n",
            "18/18 [==============================] - 0s 14ms/step - loss: 3.7757 - mean_absolute_error: 1.4501 - val_loss: 8.4870 - val_mean_absolute_error: 2.3245\n",
            "Epoch 21/100\n",
            "18/18 [==============================] - 0s 14ms/step - loss: 3.3268 - mean_absolute_error: 1.3709 - val_loss: 7.9375 - val_mean_absolute_error: 2.3288\n",
            "Epoch 22/100\n",
            "18/18 [==============================] - 0s 19ms/step - loss: 3.1161 - mean_absolute_error: 1.3258 - val_loss: 6.8265 - val_mean_absolute_error: 2.0924\n",
            "Epoch 23/100\n",
            "18/18 [==============================] - 0s 15ms/step - loss: 2.7217 - mean_absolute_error: 1.2290 - val_loss: 6.5676 - val_mean_absolute_error: 1.9871\n",
            "Epoch 24/100\n",
            "18/18 [==============================] - 0s 17ms/step - loss: 2.6158 - mean_absolute_error: 1.2145 - val_loss: 6.0312 - val_mean_absolute_error: 1.9772\n",
            "Epoch 25/100\n",
            "18/18 [==============================] - 0s 12ms/step - loss: 2.4213 - mean_absolute_error: 1.1537 - val_loss: 5.3105 - val_mean_absolute_error: 1.8670\n",
            "Epoch 26/100\n",
            "18/18 [==============================] - 0s 8ms/step - loss: 2.2248 - mean_absolute_error: 1.1022 - val_loss: 4.9556 - val_mean_absolute_error: 1.8271\n",
            "Epoch 27/100\n",
            "18/18 [==============================] - 0s 14ms/step - loss: 1.9439 - mean_absolute_error: 1.0628 - val_loss: 5.5353 - val_mean_absolute_error: 1.8363\n",
            "Epoch 28/100\n",
            "18/18 [==============================] - 0s 12ms/step - loss: 1.8289 - mean_absolute_error: 1.0083 - val_loss: 4.2859 - val_mean_absolute_error: 1.7314\n",
            "Epoch 29/100\n",
            "18/18 [==============================] - 0s 14ms/step - loss: 1.6337 - mean_absolute_error: 0.9679 - val_loss: 4.3495 - val_mean_absolute_error: 1.6729\n",
            "Epoch 30/100\n",
            "18/18 [==============================] - 0s 16ms/step - loss: 1.8515 - mean_absolute_error: 0.9870 - val_loss: 3.8585 - val_mean_absolute_error: 1.5628\n",
            "Epoch 31/100\n",
            "18/18 [==============================] - 0s 7ms/step - loss: 1.4774 - mean_absolute_error: 0.9117 - val_loss: 4.7231 - val_mean_absolute_error: 1.6764\n",
            "Epoch 32/100\n",
            "18/18 [==============================] - 0s 16ms/step - loss: 1.3774 - mean_absolute_error: 0.8440 - val_loss: 3.5395 - val_mean_absolute_error: 1.5714\n",
            "Epoch 33/100\n",
            "18/18 [==============================] - 0s 18ms/step - loss: 1.4382 - mean_absolute_error: 0.9184 - val_loss: 3.8079 - val_mean_absolute_error: 1.5375\n",
            "Epoch 34/100\n",
            "18/18 [==============================] - 0s 13ms/step - loss: 1.2176 - mean_absolute_error: 0.8395 - val_loss: 3.3392 - val_mean_absolute_error: 1.5056\n",
            "Epoch 35/100\n",
            "18/18 [==============================] - 0s 15ms/step - loss: 1.2506 - mean_absolute_error: 0.8557 - val_loss: 3.1682 - val_mean_absolute_error: 1.3949\n",
            "Epoch 36/100\n",
            "18/18 [==============================] - 0s 14ms/step - loss: 0.9911 - mean_absolute_error: 0.7333 - val_loss: 3.4252 - val_mean_absolute_error: 1.4035\n",
            "Epoch 37/100\n",
            "18/18 [==============================] - 0s 14ms/step - loss: 1.0782 - mean_absolute_error: 0.7438 - val_loss: 2.7498 - val_mean_absolute_error: 1.3829\n",
            "Epoch 38/100\n",
            "18/18 [==============================] - 0s 15ms/step - loss: 1.0595 - mean_absolute_error: 0.7515 - val_loss: 3.1591 - val_mean_absolute_error: 1.4764\n",
            "Epoch 39/100\n",
            "18/18 [==============================] - 0s 20ms/step - loss: 0.9179 - mean_absolute_error: 0.7059 - val_loss: 2.8237 - val_mean_absolute_error: 1.2691\n",
            "Epoch 40/100\n",
            "18/18 [==============================] - 0s 17ms/step - loss: 0.9542 - mean_absolute_error: 0.7046 - val_loss: 2.7296 - val_mean_absolute_error: 1.2980\n",
            "Epoch 41/100\n",
            "18/18 [==============================] - 0s 9ms/step - loss: 1.0048 - mean_absolute_error: 0.6782 - val_loss: 4.2947 - val_mean_absolute_error: 1.7117\n",
            "Epoch 42/100\n",
            "18/18 [==============================] - 0s 14ms/step - loss: 0.7437 - mean_absolute_error: 0.6326 - val_loss: 2.5757 - val_mean_absolute_error: 1.2264\n",
            "Epoch 43/100\n",
            "18/18 [==============================] - 0s 14ms/step - loss: 0.7933 - mean_absolute_error: 0.6236 - val_loss: 2.3275 - val_mean_absolute_error: 1.1925\n",
            "Epoch 44/100\n",
            "18/18 [==============================] - 0s 13ms/step - loss: 0.8087 - mean_absolute_error: 0.6374 - val_loss: 2.3320 - val_mean_absolute_error: 1.1963\n",
            "Epoch 45/100\n",
            "18/18 [==============================] - 0s 16ms/step - loss: 0.8350 - mean_absolute_error: 0.6704 - val_loss: 2.5764 - val_mean_absolute_error: 1.1889\n",
            "Epoch 46/100\n",
            "18/18 [==============================] - 0s 11ms/step - loss: 0.6645 - mean_absolute_error: 0.5912 - val_loss: 2.1603 - val_mean_absolute_error: 1.1617\n",
            "Epoch 47/100\n",
            "18/18 [==============================] - 0s 12ms/step - loss: 0.6660 - mean_absolute_error: 0.5734 - val_loss: 2.4520 - val_mean_absolute_error: 1.3792\n",
            "Epoch 48/100\n",
            "18/18 [==============================] - 0s 14ms/step - loss: 0.7985 - mean_absolute_error: 0.6245 - val_loss: 2.4560 - val_mean_absolute_error: 1.2636\n",
            "Epoch 49/100\n",
            "18/18 [==============================] - 0s 7ms/step - loss: 0.5872 - mean_absolute_error: 0.5427 - val_loss: 1.8870 - val_mean_absolute_error: 1.0875\n",
            "Epoch 50/100\n",
            "18/18 [==============================] - 0s 12ms/step - loss: 0.6674 - mean_absolute_error: 0.6093 - val_loss: 2.3804 - val_mean_absolute_error: 1.1541\n",
            "Epoch 51/100\n",
            "18/18 [==============================] - 0s 9ms/step - loss: 0.6821 - mean_absolute_error: 0.5563 - val_loss: 2.5504 - val_mean_absolute_error: 1.4234\n",
            "Epoch 52/100\n",
            "18/18 [==============================] - 0s 6ms/step - loss: 0.6223 - mean_absolute_error: 0.5757 - val_loss: 1.8459 - val_mean_absolute_error: 1.0742\n",
            "Epoch 53/100\n",
            "18/18 [==============================] - 0s 11ms/step - loss: 0.4816 - mean_absolute_error: 0.5061 - val_loss: 1.8201 - val_mean_absolute_error: 0.9730\n",
            "Epoch 54/100\n",
            "18/18 [==============================] - 0s 9ms/step - loss: 0.5723 - mean_absolute_error: 0.5435 - val_loss: 1.8515 - val_mean_absolute_error: 1.0195\n",
            "Epoch 55/100\n",
            "18/18 [==============================] - 0s 12ms/step - loss: 0.6706 - mean_absolute_error: 0.5460 - val_loss: 1.6816 - val_mean_absolute_error: 1.0263\n",
            "Epoch 56/100\n",
            "18/18 [==============================] - 0s 7ms/step - loss: 0.5636 - mean_absolute_error: 0.5011 - val_loss: 1.9292 - val_mean_absolute_error: 1.1444\n",
            "Epoch 57/100\n",
            "18/18 [==============================] - 0s 7ms/step - loss: 0.5982 - mean_absolute_error: 0.5146 - val_loss: 1.6810 - val_mean_absolute_error: 1.0256\n",
            "Epoch 58/100\n",
            "18/18 [==============================] - 0s 6ms/step - loss: 0.5019 - mean_absolute_error: 0.4657 - val_loss: 1.7910 - val_mean_absolute_error: 1.0182\n",
            "Epoch 59/100\n",
            "18/18 [==============================] - 0s 5ms/step - loss: 0.4753 - mean_absolute_error: 0.4579 - val_loss: 2.0160 - val_mean_absolute_error: 1.2532\n",
            "Epoch 60/100\n",
            "18/18 [==============================] - 0s 6ms/step - loss: 0.6045 - mean_absolute_error: 0.5515 - val_loss: 2.0951 - val_mean_absolute_error: 1.1337\n",
            "Epoch 61/100\n",
            "18/18 [==============================] - 0s 10ms/step - loss: 0.5139 - mean_absolute_error: 0.4763 - val_loss: 2.2114 - val_mean_absolute_error: 1.1715\n",
            "Epoch 62/100\n",
            "18/18 [==============================] - 0s 9ms/step - loss: 0.4402 - mean_absolute_error: 0.4549 - val_loss: 1.6089 - val_mean_absolute_error: 0.9905\n",
            "Epoch 63/100\n",
            "18/18 [==============================] - 0s 11ms/step - loss: 0.4323 - mean_absolute_error: 0.4809 - val_loss: 2.3387 - val_mean_absolute_error: 1.1610\n",
            "Epoch 64/100\n",
            "18/18 [==============================] - 0s 7ms/step - loss: 0.4525 - mean_absolute_error: 0.4700 - val_loss: 1.7988 - val_mean_absolute_error: 1.0839\n",
            "Epoch 65/100\n",
            "18/18 [==============================] - 0s 6ms/step - loss: 0.4561 - mean_absolute_error: 0.4803 - val_loss: 2.4005 - val_mean_absolute_error: 1.3601\n",
            "Epoch 66/100\n",
            "18/18 [==============================] - 0s 8ms/step - loss: 0.4687 - mean_absolute_error: 0.4743 - val_loss: 1.8564 - val_mean_absolute_error: 0.9871\n",
            "Epoch 67/100\n",
            "18/18 [==============================] - 0s 12ms/step - loss: 0.4908 - mean_absolute_error: 0.5015 - val_loss: 2.4612 - val_mean_absolute_error: 1.2557\n",
            "Epoch 68/100\n",
            "18/18 [==============================] - 0s 8ms/step - loss: 0.3973 - mean_absolute_error: 0.4101 - val_loss: 3.0194 - val_mean_absolute_error: 1.4131\n",
            "Epoch 69/100\n",
            "18/18 [==============================] - 0s 6ms/step - loss: 0.5043 - mean_absolute_error: 0.5034 - val_loss: 1.8970 - val_mean_absolute_error: 1.0442\n",
            "Epoch 70/100\n",
            "18/18 [==============================] - 0s 11ms/step - loss: 0.3980 - mean_absolute_error: 0.4372 - val_loss: 2.4133 - val_mean_absolute_error: 1.2069\n",
            "Epoch 71/100\n",
            "18/18 [==============================] - 0s 7ms/step - loss: 0.3558 - mean_absolute_error: 0.4210 - val_loss: 2.0003 - val_mean_absolute_error: 1.1913\n",
            "Epoch 72/100\n",
            "18/18 [==============================] - 0s 5ms/step - loss: 0.5291 - mean_absolute_error: 0.4535 - val_loss: 1.5705 - val_mean_absolute_error: 0.9575\n",
            "Epoch 73/100\n",
            "18/18 [==============================] - 0s 5ms/step - loss: 0.4579 - mean_absolute_error: 0.4472 - val_loss: 2.1405 - val_mean_absolute_error: 1.1678\n",
            "Epoch 74/100\n",
            "18/18 [==============================] - 0s 6ms/step - loss: 0.3675 - mean_absolute_error: 0.4070 - val_loss: 1.7180 - val_mean_absolute_error: 1.0522\n",
            "Epoch 75/100\n",
            "18/18 [==============================] - 0s 5ms/step - loss: 0.3297 - mean_absolute_error: 0.4105 - val_loss: 3.4983 - val_mean_absolute_error: 1.5362\n",
            "Epoch 76/100\n",
            "18/18 [==============================] - 0s 9ms/step - loss: 0.4161 - mean_absolute_error: 0.4385 - val_loss: 1.5697 - val_mean_absolute_error: 0.9865\n",
            "Epoch 77/100\n",
            "18/18 [==============================] - 0s 6ms/step - loss: 0.6451 - mean_absolute_error: 0.5420 - val_loss: 1.7519 - val_mean_absolute_error: 1.0402\n",
            "Epoch 78/100\n",
            "18/18 [==============================] - 0s 5ms/step - loss: 0.3069 - mean_absolute_error: 0.3673 - val_loss: 1.5920 - val_mean_absolute_error: 0.9065\n",
            "Epoch 79/100\n",
            "18/18 [==============================] - 0s 9ms/step - loss: 0.4170 - mean_absolute_error: 0.4139 - val_loss: 1.5773 - val_mean_absolute_error: 1.0580\n",
            "Epoch 80/100\n",
            "18/18 [==============================] - 0s 5ms/step - loss: 0.4534 - mean_absolute_error: 0.4527 - val_loss: 1.6310 - val_mean_absolute_error: 1.0863\n",
            "Epoch 81/100\n",
            "18/18 [==============================] - 0s 6ms/step - loss: 0.3414 - mean_absolute_error: 0.4198 - val_loss: 1.6350 - val_mean_absolute_error: 1.1154\n",
            "Epoch 82/100\n",
            "18/18 [==============================] - 0s 5ms/step - loss: 0.3802 - mean_absolute_error: 0.4388 - val_loss: 2.1168 - val_mean_absolute_error: 1.1086\n",
            "Epoch 83/100\n",
            "18/18 [==============================] - 0s 7ms/step - loss: 0.3201 - mean_absolute_error: 0.3695 - val_loss: 2.6104 - val_mean_absolute_error: 1.2870\n",
            "Epoch 84/100\n",
            "18/18 [==============================] - 0s 17ms/step - loss: 0.4612 - mean_absolute_error: 0.4720 - val_loss: 1.6130 - val_mean_absolute_error: 0.9561\n",
            "Epoch 85/100\n",
            "18/18 [==============================] - 0s 11ms/step - loss: 0.3073 - mean_absolute_error: 0.3564 - val_loss: 1.6922 - val_mean_absolute_error: 0.9459\n",
            "Epoch 86/100\n",
            "18/18 [==============================] - 0s 7ms/step - loss: 0.3662 - mean_absolute_error: 0.4406 - val_loss: 1.6765 - val_mean_absolute_error: 1.0142\n",
            "Epoch 87/100\n",
            "18/18 [==============================] - 0s 7ms/step - loss: 0.4550 - mean_absolute_error: 0.4242 - val_loss: 1.9164 - val_mean_absolute_error: 1.0628\n",
            "Epoch 88/100\n",
            "18/18 [==============================] - 0s 7ms/step - loss: 0.2725 - mean_absolute_error: 0.3473 - val_loss: 1.7699 - val_mean_absolute_error: 1.1359\n",
            "Epoch 89/100\n",
            "18/18 [==============================] - 0s 10ms/step - loss: 0.3969 - mean_absolute_error: 0.4143 - val_loss: 1.5061 - val_mean_absolute_error: 0.8880\n",
            "Epoch 90/100\n",
            "18/18 [==============================] - 0s 4ms/step - loss: 0.3272 - mean_absolute_error: 0.3954 - val_loss: 1.5981 - val_mean_absolute_error: 1.0036\n",
            "Epoch 91/100\n",
            "18/18 [==============================] - 0s 3ms/step - loss: 0.3613 - mean_absolute_error: 0.3936 - val_loss: 2.9629 - val_mean_absolute_error: 1.4024\n",
            "Epoch 92/100\n",
            "18/18 [==============================] - 0s 4ms/step - loss: 0.3760 - mean_absolute_error: 0.4490 - val_loss: 1.6284 - val_mean_absolute_error: 0.9510\n",
            "Epoch 93/100\n",
            "18/18 [==============================] - 0s 4ms/step - loss: 0.4160 - mean_absolute_error: 0.4211 - val_loss: 2.4351 - val_mean_absolute_error: 1.2474\n",
            "Epoch 94/100\n",
            "18/18 [==============================] - 0s 4ms/step - loss: 0.4201 - mean_absolute_error: 0.4205 - val_loss: 1.6942 - val_mean_absolute_error: 1.1086\n",
            "Epoch 95/100\n",
            "18/18 [==============================] - 0s 3ms/step - loss: 0.4209 - mean_absolute_error: 0.3898 - val_loss: 1.4087 - val_mean_absolute_error: 0.9434\n",
            "Epoch 96/100\n",
            "18/18 [==============================] - 0s 3ms/step - loss: 0.3333 - mean_absolute_error: 0.4039 - val_loss: 1.5506 - val_mean_absolute_error: 0.9923\n",
            "Epoch 97/100\n",
            "18/18 [==============================] - 0s 4ms/step - loss: 0.2338 - mean_absolute_error: 0.3091 - val_loss: 2.0110 - val_mean_absolute_error: 1.1178\n",
            "Epoch 98/100\n",
            "18/18 [==============================] - 0s 4ms/step - loss: 0.3771 - mean_absolute_error: 0.4024 - val_loss: 1.4861 - val_mean_absolute_error: 0.9767\n",
            "Epoch 99/100\n",
            "18/18 [==============================] - 0s 3ms/step - loss: 0.4505 - mean_absolute_error: 0.3820 - val_loss: 1.8276 - val_mean_absolute_error: 1.0578\n",
            "Epoch 100/100\n",
            "18/18 [==============================] - 0s 4ms/step - loss: 0.1731 - mean_absolute_error: 0.2748 - val_loss: 1.6017 - val_mean_absolute_error: 1.0204\n"
          ]
        }
      ]
    },
    {
      "cell_type": "code",
      "source": [
        "mae_history = history.history['val_mean_absolute_error']\n",
        "accuracy= np.mean(mae_history)\n",
        "accuracy"
      ],
      "metadata": {
        "id": "i_mRL-sMd8_C",
        "colab": {
          "base_uri": "https://localhost:8080/"
        },
        "outputId": "5633f546-6522-4e12-ab8f-0e7765ac48fd"
      },
      "execution_count": 20,
      "outputs": [
        {
          "output_type": "execute_result",
          "data": {
            "text/plain": [
              "2.0040707105398177"
            ]
          },
          "metadata": {},
          "execution_count": 20
        }
      ]
    },
    {
      "cell_type": "code",
      "source": [
        "mse_history = history.history['val_loss']"
      ],
      "metadata": {
        "id": "TghrxcY-ek0B"
      },
      "execution_count": 21,
      "outputs": []
    },
    {
      "cell_type": "code",
      "source": [
        "# 3. Confrontar en una gráfica de épocas en el eje de abcisas contra pérdida (MSE) en\n",
        "# el eje de ordenadas\n",
        "import matplotlib.pyplot as plt\n",
        "\n",
        "plt.plot(range(1, len(mse_history) + 1), mse_history)\n",
        "plt.xlabel('Epochs')\n",
        "plt.ylabel('Validación MSE')\n",
        "plt.show()"
      ],
      "metadata": {
        "id": "gcfWuM20hopF",
        "colab": {
          "base_uri": "https://localhost:8080/",
          "height": 279
        },
        "outputId": "f9fc0806-e169-49ec-c892-392d5475a5eb"
      },
      "execution_count": 22,
      "outputs": [
        {
          "output_type": "display_data",
          "data": {
            "text/plain": [
              "<Figure size 432x288 with 1 Axes>"
            ],
            "image/png": "[encoded data removed]"
          },
          "metadata": {
            "needs_background": "light"
          }
        }
      ]
    },
    {
      "cell_type": "code",
      "source": [
        "import matplotlib.pyplot as plt\n",
        "\n",
        "loss = history.history['loss']\n",
        "val_loss = history.history['val_loss']\n",
        "\n",
        "epochs = range(1, len(loss) + 1)\n",
        "\n",
        "plt.plot(epochs, loss, 'bo', label='Pérdida del entreno')\n",
        "plt.plot(epochs, val_loss, 'b', label='Pérdida de la validación')\n",
        "plt.title('Perdidas del entreno y la validación')\n",
        "plt.xlabel('Épocas')\n",
        "plt.ylabel('Pérdida')\n",
        "plt.legend()\n",
        "\n",
        "plt.show()"
      ],
      "metadata": {
        "id": "DNuqDK1Zhq1X",
        "colab": {
          "base_uri": "https://localhost:8080/",
          "height": 297
        },
        "outputId": "17b6fdab-114b-4638-de1f-ef5478a9231d"
      },
      "execution_count": 23,
      "outputs": [
        {
          "output_type": "display_data",
          "data": {
            "text/plain": [
              "<Figure size 432x288 with 1 Axes>"
            ],
            "image/png": "[encoded data removed]"
          },
          "metadata": {
            "needs_background": "light"
          }
        }
      ]
    },
    {
      "cell_type": "code",
      "source": [
        "# 4. Confrontar en una gráfica de épocas en el eje de abcisas contra la métrica de \n",
        "# error absoluto medio (MAE) \n",
        "import matplotlib.pyplot as plt\n",
        "\n",
        "plt.plot(range(1, len(mae_history) + 1), mae_history)\n",
        "plt.xlabel('Epochs')\n",
        "plt.ylabel('Validación MAE')\n",
        "plt.show()"
      ],
      "metadata": {
        "id": "mClz2sAGhsra",
        "colab": {
          "base_uri": "https://localhost:8080/",
          "height": 279
        },
        "outputId": "241f6777-4398-495a-cb49-3c08b064c259"
      },
      "execution_count": 24,
      "outputs": [
        {
          "output_type": "display_data",
          "data": {
            "text/plain": [
              "<Figure size 432x288 with 1 Axes>"
            ],
            "image/png": "[encoded data removed]"
          },
          "metadata": {
            "needs_background": "light"
          }
        }
      ]
    },
    {
      "cell_type": "code",
      "source": [
        "import matplotlib.pyplot as plt\n",
        "\n",
        "loss = history.history['mean_absolute_error']\n",
        "val_loss = history.history['val_mean_absolute_error']\n",
        "\n",
        "epochs = range(1, len(loss) + 1)\n",
        "\n",
        "plt.plot(epochs, loss, 'bo', label='Pérdida del entreno')\n",
        "plt.plot(epochs, val_loss, 'b', label='Pérdida de la validación')\n",
        "plt.title('Perdidas del entreno y la validación')\n",
        "plt.xlabel('Épocas')\n",
        "plt.ylabel('Pérdida')\n",
        "plt.legend()\n",
        "\n",
        "plt.show()"
      ],
      "metadata": {
        "id": "njh5NgIDhutt",
        "colab": {
          "base_uri": "https://localhost:8080/",
          "height": 297
        },
        "outputId": "7a64d5bd-c2db-4bf3-f71d-ee1b8f5e7af5"
      },
      "execution_count": 25,
      "outputs": [
        {
          "output_type": "display_data",
          "data": {
            "text/plain": [
              "<Figure size 432x288 with 1 Axes>"
            ],
            "image/png": "[encoded data removed]"
          },
          "metadata": {
            "needs_background": "light"
          }
        }
      ]
    },
    {
      "cell_type": "code",
      "source": [
        "# 5. Entrenar de nuevo el modelo el número de épocas adecuado para evitar overfitting\n",
        "mymodel2 = build_model()\n",
        "history2 = mymodel2.fit(partial_train_data, partial_train_targets,\n",
        "            validation_data=(partial_eval_train_data, partial_eval_train_targets),\n",
        "                        epochs=20, batch_size=1)"
      ],
      "metadata": {
        "id": "jfLmuPaUhwhV",
        "colab": {
          "base_uri": "https://localhost:8080/"
        },
        "outputId": "676b284f-574e-4baa-9432-79b614acd492"
      },
      "execution_count": 26,
      "outputs": [
        {
          "output_type": "stream",
          "name": "stdout",
          "text": [
            "Epoch 1/20\n",
            "141/141 [==============================] - 1s 3ms/step - loss: 224.4523 - mean_absolute_error: 12.8009 - val_loss: 86.9571 - val_mean_absolute_error: 7.1507\n",
            "Epoch 2/20\n",
            "141/141 [==============================] - 0s 2ms/step - loss: 95.7981 - mean_absolute_error: 6.7080 - val_loss: 51.3310 - val_mean_absolute_error: 5.6116\n",
            "Epoch 3/20\n",
            "141/141 [==============================] - 0s 2ms/step - loss: 50.4039 - mean_absolute_error: 4.7078 - val_loss: 31.7588 - val_mean_absolute_error: 4.5590\n",
            "Epoch 4/20\n",
            "141/141 [==============================] - 0s 2ms/step - loss: 23.2293 - mean_absolute_error: 3.2178 - val_loss: 19.7434 - val_mean_absolute_error: 3.5727\n",
            "Epoch 5/20\n",
            "141/141 [==============================] - 0s 2ms/step - loss: 12.8470 - mean_absolute_error: 2.5044 - val_loss: 14.8688 - val_mean_absolute_error: 3.1330\n",
            "Epoch 6/20\n",
            "141/141 [==============================] - 0s 2ms/step - loss: 7.7664 - mean_absolute_error: 2.0367 - val_loss: 9.9963 - val_mean_absolute_error: 2.6122\n",
            "Epoch 7/20\n",
            "141/141 [==============================] - 0s 2ms/step - loss: 6.5534 - mean_absolute_error: 1.7967 - val_loss: 8.1394 - val_mean_absolute_error: 2.2893\n",
            "Epoch 8/20\n",
            "141/141 [==============================] - 0s 2ms/step - loss: 5.0217 - mean_absolute_error: 1.5773 - val_loss: 7.7568 - val_mean_absolute_error: 2.1899\n",
            "Epoch 9/20\n",
            "141/141 [==============================] - 0s 2ms/step - loss: 4.2038 - mean_absolute_error: 1.5062 - val_loss: 7.4901 - val_mean_absolute_error: 2.1432\n",
            "Epoch 10/20\n",
            "141/141 [==============================] - 0s 2ms/step - loss: 3.4197 - mean_absolute_error: 1.3820 - val_loss: 5.0224 - val_mean_absolute_error: 1.7155\n",
            "Epoch 11/20\n",
            "141/141 [==============================] - 0s 2ms/step - loss: 2.7674 - mean_absolute_error: 1.2141 - val_loss: 5.3118 - val_mean_absolute_error: 1.9104\n",
            "Epoch 12/20\n",
            "141/141 [==============================] - 0s 2ms/step - loss: 2.2873 - mean_absolute_error: 1.1124 - val_loss: 4.0028 - val_mean_absolute_error: 1.6592\n",
            "Epoch 13/20\n",
            "141/141 [==============================] - 0s 2ms/step - loss: 2.3899 - mean_absolute_error: 1.0760 - val_loss: 3.5966 - val_mean_absolute_error: 1.4585\n",
            "Epoch 14/20\n",
            "141/141 [==============================] - 0s 2ms/step - loss: 1.9972 - mean_absolute_error: 1.0158 - val_loss: 3.3434 - val_mean_absolute_error: 1.2957\n",
            "Epoch 15/20\n",
            "141/141 [==============================] - 0s 2ms/step - loss: 1.5503 - mean_absolute_error: 0.9154 - val_loss: 3.4813 - val_mean_absolute_error: 1.3220\n",
            "Epoch 16/20\n",
            "141/141 [==============================] - 0s 2ms/step - loss: 1.8246 - mean_absolute_error: 0.9059 - val_loss: 2.9708 - val_mean_absolute_error: 1.2652\n",
            "Epoch 17/20\n",
            "141/141 [==============================] - 0s 2ms/step - loss: 1.3607 - mean_absolute_error: 0.8275 - val_loss: 2.9605 - val_mean_absolute_error: 1.2513\n",
            "Epoch 18/20\n",
            "141/141 [==============================] - 0s 2ms/step - loss: 1.3559 - mean_absolute_error: 0.8594 - val_loss: 3.4712 - val_mean_absolute_error: 1.4326\n",
            "Epoch 19/20\n",
            "141/141 [==============================] - 0s 2ms/step - loss: 1.3005 - mean_absolute_error: 0.7678 - val_loss: 2.5882 - val_mean_absolute_error: 1.2879\n",
            "Epoch 20/20\n",
            "141/141 [==============================] - 0s 2ms/step - loss: 1.2506 - mean_absolute_error: 0.7545 - val_loss: 2.5102 - val_mean_absolute_error: 1.2084\n"
          ]
        }
      ]
    },
    {
      "cell_type": "code",
      "source": [
        "mae_history2 = history2.history['val_mean_absolute_error']\n",
        "mse_history2 = history2.history['val_loss']\n",
        "\n",
        "import matplotlib.pyplot as plt\n",
        "\n",
        "plt.plot(range(1, len(mse_history2) + 1), mse_history2)\n",
        "plt.xlabel('Epochs')\n",
        "plt.ylabel('Validación MSE')\n",
        "plt.show()"
      ],
      "metadata": {
        "id": "gU22Ja5mh0T9",
        "colab": {
          "base_uri": "https://localhost:8080/",
          "height": 279
        },
        "outputId": "3bbfbef5-ca79-4d41-b86e-d83690d783c4"
      },
      "execution_count": 27,
      "outputs": [
        {
          "output_type": "display_data",
          "data": {
            "text/plain": [
              "<Figure size 432x288 with 1 Axes>"
            ],
            "image/png": "[encoded data removed]"
          },
          "metadata": {
            "needs_background": "light"
          }
        }
      ]
    },
    {
      "cell_type": "code",
      "source": [
        "import matplotlib.pyplot as plt\n",
        "\n",
        "loss = history2.history['loss']\n",
        "val_loss = history2.history['val_loss']\n",
        "\n",
        "epochs = range(1, len(loss) + 1)\n",
        "\n",
        "plt.plot(epochs, loss, 'bo', label='Pérdida del entreno')\n",
        "plt.plot(epochs, val_loss, 'b', label='Pérdida de la validación')\n",
        "plt.title('Perdidas del entreno y la validación')\n",
        "plt.xlabel('Épocas')\n",
        "plt.ylabel('Pérdida')\n",
        "plt.legend()\n",
        "\n",
        "plt.show()"
      ],
      "metadata": {
        "colab": {
          "base_uri": "https://localhost:8080/",
          "height": 297
        },
        "id": "fndDkin2zg-2",
        "outputId": "5d63e984-626b-4686-eef1-f06c76c28684"
      },
      "execution_count": 28,
      "outputs": [
        {
          "output_type": "display_data",
          "data": {
            "text/plain": [
              "<Figure size 432x288 with 1 Axes>"
            ],
            "image/png": "[encoded data removed]"
          },
          "metadata": {
            "needs_background": "light"
          }
        }
      ]
    },
    {
      "cell_type": "code",
      "source": [
        "\n",
        "import matplotlib.pyplot as plt\n",
        "\n",
        "plt.plot(range(1, len(mae_history2) + 1), mae_history2)\n",
        "plt.xlabel('Epochs')\n",
        "plt.ylabel('Validación MAE')\n",
        "plt.show()"
      ],
      "metadata": {
        "colab": {
          "base_uri": "https://localhost:8080/",
          "height": 279
        },
        "id": "T7EKvl0ozS_z",
        "outputId": "9f59151e-65c2-4be2-c2da-1bceac9f95c0"
      },
      "execution_count": 29,
      "outputs": [
        {
          "output_type": "display_data",
          "data": {
            "text/plain": [
              "<Figure size 432x288 with 1 Axes>"
            ],
            "image/png": "[encoded data removed]"
          },
          "metadata": {
            "needs_background": "light"
          }
        }
      ]
    },
    {
      "cell_type": "code",
      "source": [
        "import matplotlib.pyplot as plt\n",
        "\n",
        "loss = history2.history['mean_absolute_error']\n",
        "val_loss = history2.history['val_mean_absolute_error']\n",
        "\n",
        "epochs = range(1, len(loss) + 1)\n",
        "\n",
        "plt.plot(epochs, loss, 'bo', label='Pérdida del entreno')\n",
        "plt.plot(epochs, val_loss, 'b', label='Pérdida de la validación')\n",
        "plt.title('Perdidas del entreno y la validación')\n",
        "plt.xlabel('Épocas')\n",
        "plt.ylabel('Pérdida')\n",
        "plt.legend()\n",
        "\n",
        "plt.show()"
      ],
      "metadata": {
        "colab": {
          "base_uri": "https://localhost:8080/",
          "height": 297
        },
        "id": "r3YsiMvFzrEM",
        "outputId": "a5d35619-02cd-4dcc-e65e-683d116e993d"
      },
      "execution_count": 30,
      "outputs": [
        {
          "output_type": "display_data",
          "data": {
            "text/plain": [
              "<Figure size 432x288 with 1 Axes>"
            ],
            "image/png": "[encoded data removed]"
          },
          "metadata": {
            "needs_background": "light"
          }
        }
      ]
    },
    {
      "cell_type": "code",
      "source": [
        "import numpy as np\n",
        "\n",
        "# k= 4 particiones\n",
        "k = 4\n",
        "num_val_samples = len(train_data) // k # 404//4=101\n",
        "print(\"num_val_samples\", num_val_samples)\n",
        "num_epochs = 100\n",
        "all_scores = []\n",
        "for i in range(k):\n",
        "    print('processing fold #', i)\n",
        "    # Preparamos la validación de los datos: datos de la partición #k\n",
        "    print(\"Uso para validar el siguiente rango de datos de entrenamiento -> [\",(i * num_val_samples),\":\",((i + 1) * num_val_samples),\"]\")\n",
        "    val_data = train_data[i * num_val_samples: (i + 1) * num_val_samples]\n",
        "    val_targets = train_targets[i * num_val_samples: (i + 1) * num_val_samples]\n",
        "\n",
        "    # Preparamos los datos de entrenamiento: Datos de las demás particiones\n",
        "    print(\"Uso para entrenar el siguiente rango de datos de entrenamiento -> [0:\",(i * num_val_samples),\"]U[\",(i + 1) * num_val_samples,\":\",len(train_data),\"]\")\n",
        "    partial_train_data = np.concatenate(\n",
        "        [train_data[:i * num_val_samples],\n",
        "         train_data[(i + 1) * num_val_samples:]],\n",
        "        axis=0)\n",
        "    partial_train_targets = np.concatenate(\n",
        "        [train_targets[:i * num_val_samples],\n",
        "         train_targets[(i + 1) * num_val_samples:]],\n",
        "        axis=0)\n",
        "\n",
        "    # Construcción del modelo Keras (ya compilado)\n",
        "    model = build_model()\n",
        "    # Entrenando el modelo (en modo silencioso, verbose=0)\n",
        "    model.fit(partial_train_data, partial_train_targets,\n",
        "              epochs=num_epochs, batch_size=1, verbose=0)\n",
        "    # Evalua el modelo sobre los datos de validación\n",
        "    val_mse, val_mae = model.evaluate(val_data, val_targets, verbose=0)\n",
        "    all_scores.append(val_mae)"
      ],
      "metadata": {
        "colab": {
          "base_uri": "https://localhost:8080/"
        },
        "id": "DOW7NSVl1enn",
        "outputId": "2fe47702-9c83-4a58-b06d-fc0654a0f833"
      },
      "execution_count": 31,
      "outputs": [
        {
          "output_type": "stream",
          "name": "stdout",
          "text": [
            "num_val_samples 47\n",
            "processing fold # 0\n",
            "Uso para validar el siguiente rango de datos de entrenamiento -> [ 0 : 47 ]\n",
            "Uso para entrenar el siguiente rango de datos de entrenamiento -> [0: 0 ]U[ 47 : 189 ]\n",
            "processing fold # 1\n",
            "Uso para validar el siguiente rango de datos de entrenamiento -> [ 47 : 94 ]\n",
            "Uso para entrenar el siguiente rango de datos de entrenamiento -> [0: 47 ]U[ 94 : 189 ]\n",
            "processing fold # 2\n",
            "Uso para validar el siguiente rango de datos de entrenamiento -> [ 94 : 141 ]\n",
            "Uso para entrenar el siguiente rango de datos de entrenamiento -> [0: 94 ]U[ 141 : 189 ]\n",
            "processing fold # 3\n",
            "Uso para validar el siguiente rango de datos de entrenamiento -> [ 141 : 188 ]\n",
            "Uso para entrenar el siguiente rango de datos de entrenamiento -> [0: 141 ]U[ 188 : 189 ]\n"
          ]
        },
        {
          "output_type": "stream",
          "name": "stderr",
          "text": [
            "WARNING:tensorflow:5 out of the last 947 calls to <function Model.make_test_function.<locals>.test_function at 0x7f5f23201790> triggered tf.function retracing. Tracing is expensive and the excessive number of tracings could be due to (1) creating @tf.function repeatedly in a loop, (2) passing tensors with different shapes, (3) passing Python objects instead of tensors. For (1), please define your @tf.function outside of the loop. For (2), @tf.function has reduce_retracing=True option that can avoid unnecessary retracing. For (3), please refer to https://www.tensorflow.org/guide/function#controlling_retracing and https://www.tensorflow.org/api_docs/python/tf/function for  more details.\n"
          ]
        }
      ]
    },
    {
      "cell_type": "code",
      "source": [
        "all_scores"
      ],
      "metadata": {
        "colab": {
          "base_uri": "https://localhost:8080/"
        },
        "id": "QrWdQ8qE1jn7",
        "outputId": "6d13fea0-54bd-4a14-d4db-1d94af91260c"
      },
      "execution_count": 32,
      "outputs": [
        {
          "output_type": "execute_result",
          "data": {
            "text/plain": [
              "[1.339657187461853, 0.9493018388748169, 0.7898162007331848, 0.8493392467498779]"
            ]
          },
          "metadata": {},
          "execution_count": 32
        }
      ]
    },
    {
      "cell_type": "code",
      "source": [
        "np.mean(all_scores)"
      ],
      "metadata": {
        "colab": {
          "base_uri": "https://localhost:8080/"
        },
        "id": "QAnoweCw1mx0",
        "outputId": "cdfb17ac-46d5-4ae9-93a9-7549ae4c35fc"
      },
      "execution_count": 33,
      "outputs": [
        {
          "output_type": "execute_result",
          "data": {
            "text/plain": [
              "0.9820286184549332"
            ]
          },
          "metadata": {},
          "execution_count": 33
        }
      ]
    },
    {
      "cell_type": "code",
      "source": [
        "from keras import backend as K\n",
        "\n",
        "# Some memory clean-up\n",
        "K.clear_session()"
      ],
      "metadata": {
        "id": "UhEyRn811p7c"
      },
      "execution_count": 34,
      "outputs": []
    },
    {
      "cell_type": "code",
      "source": [
        "num_epochs = 50\n",
        "all_mae_histories = []\n",
        "for i in range(k):\n",
        "    print('processing fold #', i)\n",
        "    # Preparamos la validación de los datos: datos de la partición # k\n",
        "    print(\"Uso para validar el siguiente rango de datos de entrenamiento -> [\",(i * num_val_samples),\":\",((i + 1) * num_val_samples),\"]\")\n",
        "    val_data = train_data[i * num_val_samples: (i + 1) * num_val_samples]\n",
        "    val_targets = train_targets[i * num_val_samples: (i + 1) * num_val_samples]\n",
        "\n",
        "    # Preparamos los datos de entrenamiento: Datos de todas la demás particiones\n",
        "    print(\"Uso para entrenar el siguiente rango de datos de entrenamiento -> [0:\",(i * num_val_samples),\"]U[\",(i + 1) * num_val_samples,\":\",len(train_data),\"]\")\n",
        "    partial_train_data = np.concatenate(\n",
        "        [train_data[:i * num_val_samples],\n",
        "         train_data[(i + 1) * num_val_samples:]],\n",
        "        axis=0)\n",
        "    partial_train_targets = np.concatenate(\n",
        "        [train_targets[:i * num_val_samples],\n",
        "         train_targets[(i + 1) * num_val_samples:]],\n",
        "        axis=0)\n",
        "\n",
        "    # Construcción del modelo Keras (ya compilado)\n",
        "    model = build_model()\n",
        "    # Entrenando el modelo (en modo silencioso, verbose=0)\n",
        "    history = model.fit(partial_train_data, partial_train_targets,\n",
        "                        validation_data=(val_data, val_targets),\n",
        "                        epochs=num_epochs, batch_size=1, verbose=0)\n",
        "    mae_history = history.history['val_mean_absolute_error']\n",
        "    all_mae_histories.append(mae_history)"
      ],
      "metadata": {
        "colab": {
          "base_uri": "https://localhost:8080/"
        },
        "id": "KwJ0e6iK1qz1",
        "outputId": "b5563fba-ac25-4352-a952-b2bbde2c04ab"
      },
      "execution_count": 35,
      "outputs": [
        {
          "output_type": "stream",
          "name": "stdout",
          "text": [
            "processing fold # 0\n",
            "Uso para validar el siguiente rango de datos de entrenamiento -> [ 0 : 47 ]\n",
            "Uso para entrenar el siguiente rango de datos de entrenamiento -> [0: 0 ]U[ 47 : 189 ]\n"
          ]
        },
        {
          "output_type": "stream",
          "name": "stderr",
          "text": [
            "WARNING:tensorflow:6 out of the last 949 calls to <function Model.make_test_function.<locals>.test_function at 0x7f5f23119dc0> triggered tf.function retracing. Tracing is expensive and the excessive number of tracings could be due to (1) creating @tf.function repeatedly in a loop, (2) passing tensors with different shapes, (3) passing Python objects instead of tensors. For (1), please define your @tf.function outside of the loop. For (2), @tf.function has reduce_retracing=True option that can avoid unnecessary retracing. For (3), please refer to https://www.tensorflow.org/guide/function#controlling_retracing and https://www.tensorflow.org/api_docs/python/tf/function for  more details.\n"
          ]
        },
        {
          "output_type": "stream",
          "name": "stdout",
          "text": [
            "processing fold # 1\n",
            "Uso para validar el siguiente rango de datos de entrenamiento -> [ 47 : 94 ]\n",
            "Uso para entrenar el siguiente rango de datos de entrenamiento -> [0: 47 ]U[ 94 : 189 ]\n",
            "processing fold # 2\n",
            "Uso para validar el siguiente rango de datos de entrenamiento -> [ 94 : 141 ]\n",
            "Uso para entrenar el siguiente rango de datos de entrenamiento -> [0: 94 ]U[ 141 : 189 ]\n",
            "processing fold # 3\n",
            "Uso para validar el siguiente rango de datos de entrenamiento -> [ 141 : 188 ]\n",
            "Uso para entrenar el siguiente rango de datos de entrenamiento -> [0: 141 ]U[ 188 : 189 ]\n"
          ]
        }
      ]
    },
    {
      "cell_type": "code",
      "source": [
        "average_mae_history = [\n",
        "    np.mean([x[i] for x in all_mae_histories]) for i in range(num_epochs)]"
      ],
      "metadata": {
        "id": "enAXuhkG1yQW"
      },
      "execution_count": 36,
      "outputs": []
    },
    {
      "cell_type": "code",
      "source": [
        "import matplotlib.pyplot as plt\n",
        "\n",
        "plt.plot(range(1, len(average_mae_history) + 1), average_mae_history)\n",
        "plt.xlabel('Epochs')\n",
        "plt.ylabel('Validación MAE')\n",
        "plt.show()"
      ],
      "metadata": {
        "colab": {
          "base_uri": "https://localhost:8080/",
          "height": 279
        },
        "id": "e-dHg8A913Cx",
        "outputId": "3667ace2-502e-40c8-bcaa-4062886de52d"
      },
      "execution_count": 37,
      "outputs": [
        {
          "output_type": "display_data",
          "data": {
            "text/plain": [
              "<Figure size 432x288 with 1 Axes>"
            ],
            "image/png": "[encoded data removed]"
          },
          "metadata": {
            "needs_background": "light"
          }
        }
      ]
    },
    {
      "cell_type": "code",
      "source": [
        "def smooth_curve(points, factor=0.9):\n",
        "  smoothed_points = []\n",
        "  for point in points:\n",
        "    if smoothed_points:\n",
        "      previous = smoothed_points[-1]\n",
        "      smoothed_points.append(previous * factor + point * (1 - factor))\n",
        "    else:\n",
        "      smoothed_points.append(point)\n",
        "  return smoothed_points\n",
        "\n",
        "smooth_mae_history = smooth_curve(average_mae_history[10:])\n",
        "\n",
        "plt.plot(range(1, len(smooth_mae_history) + 1), smooth_mae_history)\n",
        "plt.xlabel('Repeticiones')\n",
        "plt.ylabel('MAE de validación')\n",
        "plt.show()"
      ],
      "metadata": {
        "colab": {
          "base_uri": "https://localhost:8080/",
          "height": 279
        },
        "id": "B5whK5Pl15tk",
        "outputId": "f4ddab91-569a-4ecd-c915-e88480af119d"
      },
      "execution_count": 38,
      "outputs": [
        {
          "output_type": "display_data",
          "data": {
            "text/plain": [
              "<Figure size 432x288 with 1 Axes>"
            ],
            "image/png": "[encoded data removed]"
          },
          "metadata": {
            "needs_background": "light"
          }
        }
      ]
    },
    {
      "cell_type": "code",
      "source": [
        "# Obtenemos un modelo compilado nuevo\n",
        "model = build_model()\n",
        "# Lo entrenamos en todos los datos.\n",
        "model.fit(train_data, train_targets,\n",
        "          epochs=80, batch_size=16, verbose=0)\n",
        "test_mse_score, test_mae_score = model.evaluate(test_data, test_targets)"
      ],
      "metadata": {
        "colab": {
          "base_uri": "https://localhost:8080/"
        },
        "id": "QFV8KTez19H0",
        "outputId": "fd889a18-299c-4573-e297-37f1686d563b"
      },
      "execution_count": 39,
      "outputs": [
        {
          "output_type": "stream",
          "name": "stdout",
          "text": [
            "2/2 [==============================] - 0s 6ms/step - loss: 2.2824 - mean_absolute_error: 1.1231\n"
          ]
        }
      ]
    },
    {
      "cell_type": "code",
      "source": [
        "test_mae_score"
      ],
      "metadata": {
        "colab": {
          "base_uri": "https://localhost:8080/"
        },
        "id": "KjOJs-zd194k",
        "outputId": "2a56984c-2d32-4064-90cc-20a78fbf5c03"
      },
      "execution_count": 40,
      "outputs": [
        {
          "output_type": "execute_result",
          "data": {
            "text/plain": [
              "1.1231145858764648"
            ]
          },
          "metadata": {},
          "execution_count": 40
        }
      ]
    }
  ]
}